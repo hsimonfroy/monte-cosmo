{
 "cells": [
  {
   "cell_type": "code",
   "execution_count": 4,
   "metadata": {},
   "outputs": [
    {
     "name": "stdout",
     "output_type": "stream",
     "text": [
      "feynmangpu04.cluster.local\n",
      "gpu\n",
      "/feynman/work/dphp/adematti/cosmodesiconda/20230918-1.0.0/conda/lib/python3.10/site-packages/jax/__init__.py\n",
      "/feynman/home/dphp/hs276503/.local/lib/python3.10/site-packages/jaxpm/__init__.py\n",
      "/feynman/home/dphp/hs276503/.local/lib/python3.10/site-packages/numpyro/__init__.py\n",
      "/feynman/home/dphp/hs276503/.local/lib/python3.10/site-packages/haiku/__init__.py\n"
     ]
    }
   ],
   "source": [
    "!hostname\n",
    "!python -c \"import jax; print(jax.default_backend())\"\n",
    "import jax; print(jax.__file__)\n",
    "import jaxpm; print(jaxpm.__file__)\n",
    "import numpyro; print(numpyro.__file__)\n",
    "import haiku; print(haiku.__file__)\n",
    "# import diffrax; print(diffrax.__file__)"
   ]
  },
  {
   "cell_type": "code",
   "execution_count": 2,
   "metadata": {},
   "outputs": [
    {
     "name": "stdout",
     "output_type": "stream",
     "text": [
      "Defaulting to user installation because normal site-packages is not writeable\n",
      "Requirement already satisfied: diffrax in /feynman/work/dphp/hs276503/.local/lib/python3.10/site-packages (0.4.1)\n",
      "Collecting jax>=0.4.13 (from diffrax)\n",
      "  Obtaining dependency information for jax>=0.4.13 from https://files.pythonhosted.org/packages/e2/91/f79afe4818b08f5809e0125723e4c0adea65062f278a25847649b17ec6ea/jax-0.4.19-py3-none-any.whl.metadata\n",
      "  Using cached jax-0.4.19-py3-none-any.whl.metadata (23 kB)\n",
      "Requirement already satisfied: equinox>=0.10.11 in /feynman/work/dphp/hs276503/.local/lib/python3.10/site-packages (from diffrax) (0.11.1)\n",
      "Requirement already satisfied: jaxtyping>=0.2.20 in /feynman/work/dphp/hs276503/.local/lib/python3.10/site-packages (from equinox>=0.10.11->diffrax) (0.2.23)\n",
      "Requirement already satisfied: typing-extensions>=4.5.0 in /feynman/work/dphp/adematti/cosmodesiconda/20230918-1.0.0/conda/lib/python3.10/site-packages (from equinox>=0.10.11->diffrax) (4.7.1)\n",
      "Requirement already satisfied: ml-dtypes>=0.2.0 in /feynman/work/dphp/adematti/cosmodesiconda/20230918-1.0.0/conda/lib/python3.10/site-packages (from jax>=0.4.13->diffrax) (0.2.0)\n",
      "Requirement already satisfied: numpy>=1.22 in /feynman/work/dphp/adematti/cosmodesiconda/20230918-1.0.0/conda/lib/python3.10/site-packages (from jax>=0.4.13->diffrax) (1.24.4)\n",
      "Requirement already satisfied: opt-einsum in /feynman/work/dphp/adematti/cosmodesiconda/20230918-1.0.0/conda/lib/python3.10/site-packages (from jax>=0.4.13->diffrax) (3.3.0)\n",
      "Requirement already satisfied: scipy>=1.9 in /feynman/work/dphp/adematti/cosmodesiconda/20230918-1.0.0/conda/lib/python3.10/site-packages (from jax>=0.4.13->diffrax) (1.11.2)\n",
      "Requirement already satisfied: typeguard<3,>=2.13.3 in /feynman/work/dphp/hs276503/.local/lib/python3.10/site-packages (from jaxtyping>=0.2.20->equinox>=0.10.11->diffrax) (2.13.3)\n",
      "Using cached jax-0.4.19-py3-none-any.whl (1.7 MB)\n",
      "Installing collected packages: jax\n",
      "\u001b[31mERROR: pip's dependency resolver does not currently take into account all the packages that are installed. This behaviour is the source of the following dependency conflicts.\n",
      "numpyro 0.13.2 requires jaxlib>=0.4.14, but you have jaxlib 0.4.2+cuda11.cudnn82 which is incompatible.\u001b[0m\u001b[31m\n",
      "\u001b[0mSuccessfully installed jax-0.4.19\n"
     ]
    }
   ],
   "source": [
    "!pip install diffrax"
   ]
  },
  {
   "cell_type": "code",
   "execution_count": 5,
   "metadata": {},
   "outputs": [],
   "source": [
    "import os\n",
    "os.environ['XLA_PYTHON_CLIENT_MEM_FRACTION']='.95'\n",
    "\n",
    "import matplotlib.pyplot as plt\n",
    "\n",
    "import h5py\n",
    "import jax\n",
    "import jax.numpy as jnp\n",
    "import jax_cosmo as jc\n",
    "from jax_cosmo.scipy.integrate import simps\n",
    "import astropy.units as u\n",
    "import numpy as np\n",
    "# from bpcosmo.pm import get_density_planes\n",
    "from jaxpm.lensing import convergence_Born\n",
    "import jax\n",
    "import jax.numpy as jnp\n",
    "\n",
    "import jax_cosmo as jc\n",
    "\n",
    "import numpyro\n",
    "import numpyro.distributions as dist\n",
    "\n",
    "from jax.experimental.ode import odeint\n",
    "from jaxpm.pm import lpt, make_ode_fn\n",
    "from jaxpm.kernels import fftk\n",
    "from jaxpm.lensing import density_plane\n",
    "import haiku as hk\n",
    "\n",
    "from jaxpm.painting import cic_paint, cic_read, cic_paint_2d\n",
    "from jaxpm.kernels import gradient_kernel, laplace_kernel, longrange_kernel\n",
    "from jaxpm.nn import NeuralSplineFourierFilter\n",
    "from jaxpm.utils import gaussian_smoothing, power_spectrum\n",
    "\n",
    "# import diffrax\n",
    "# from diffrax import diffeqsolve, ODETerm, Dopri5, LeapfrogMidpoint, PIDController, SaveAt\n",
    "\n",
    "import numpyro\n",
    "import numpyro.distributions as dist"
   ]
  },
  {
   "cell_type": "code",
   "execution_count": null,
   "metadata": {},
   "outputs": [],
   "source": [
    "# Reading the DC2 tomographic bins into redshift distribution objects\n",
    "with h5py.File(\"shear_photoz_stack.hdf5\") as f:\n",
    "    group = f[\"n_of_z\"]\n",
    "    # Read the z grid\n",
    "    source = group[\"source\"]\n",
    "    z_shear = source['z'][::]\n",
    "    # Read the true n(z)\n",
    "    nz_shear = [jc.redshift.kde_nz(z_shear,\n",
    "                                   source[f\"bin_{i}\"][:],\n",
    "                                   bw=0.01, zmax=2.5) for i in range(4)]\n",
    "\n",
    "\n",
    "# Loads some correction factors to improve the resolution of the simulation\n",
    "import pickle\n",
    "params = pickle.load( open( \"camels_25_64_pkloss.params\", \"rb\" ) )\n",
    "\n",
    "model = hk.without_apply_rng(\n",
    "    hk.transform(lambda x, a: NeuralSplineFourierFilter(n_knots=16,\n",
    "                                                        latent_size=32)(x, a)))"
   ]
  },
  {
   "cell_type": "markdown",
   "metadata": {},
   "source": [
    "## Initial conditions "
   ]
  },
  {
   "cell_type": "code",
   "execution_count": 15,
   "metadata": {},
   "outputs": [],
   "source": [
    "def linear_field(mesh_shape, box_size, pk):\n",
    "  \"\"\"\n",
    "    Generate initial conditions.\n",
    "    \"\"\"\n",
    "  kvec = fftk(mesh_shape)\n",
    "  kmesh = sum((kk / box_size[i] * mesh_shape[i])**2 for i, kk in enumerate(kvec))**0.5\n",
    "  pkmesh = pk(kmesh) * (mesh_shape[0] * mesh_shape[1] * mesh_shape[2]) / (\n",
    "    box_size[0] * box_size[1] * box_size[2])\n",
    "\n",
    "  # field = numpyro.sample(\n",
    "  #     'initial_conditions',\n",
    "  #     dist.Normal(jnp.zeros(mesh_shape), jnp.ones(mesh_shape)))\n",
    "  field = jax.random.normal(jax.random.PRNGKey(42), mesh_shape)\n",
    "\n",
    "  field = jnp.fft.rfftn(field) * pkmesh**0.5\n",
    "  field = jnp.fft.irfftn(field)\n",
    "  return field"
   ]
  },
  {
   "cell_type": "code",
   "execution_count": 37,
   "metadata": {},
   "outputs": [
    {
     "name": "stderr",
     "output_type": "stream",
     "text": [
      "2023-10-25 18:35:31.498933: E external/org_tensorflow/tensorflow/compiler/xla/stream_executor/cuda/cuda_gpu_executor.cc:789] failed to record completion event; therefore, failed to create inter-stream dependency\n",
      "2023-10-25 18:35:31.499027: E external/org_tensorflow/tensorflow/compiler/xla/stream_executor/cuda/cuda_driver.cc:1180] failed to enqueue async memcpy from host to device: CUDA_ERROR_ILLEGAL_ADDRESS: an illegal memory access was encountered; GPU dst: 0x7ff580001700; host src: 0x7ffee6e00000; size: 12=0xc\n",
      "2023-10-25 18:35:31.499053: E external/org_tensorflow/tensorflow/compiler/xla/stream_executor/stream.cc:336] Error recording event in stream: Error recording CUDA event: CUDA_ERROR_ILLEGAL_ADDRESS: an illegal memory access was encountered; not marking stream as bad, as the Event object may be at fault. Monitor for further errors.\n",
      "2023-10-25 18:35:31.499080: E external/org_tensorflow/tensorflow/compiler/xla/stream_executor/cuda/cuda_driver.cc:615] unable to add host callback: CUDA_ERROR_ILLEGAL_ADDRESS: an illegal memory access was encountered\n",
      "2023-10-25 18:35:31.499335: E external/org_tensorflow/tensorflow/compiler/xla/stream_executor/cuda/cuda_driver.cc:1033] could not wait stream on event: CUDA_ERROR_ILLEGAL_ADDRESS: an illegal memory access was encountered\n",
      "2023-10-25 18:35:31.499348: E external/org_tensorflow/tensorflow/compiler/xla/stream_executor/stream.cc:1120] Error waiting for event in stream: error recording waiting for CUDA event on stream 0x5555581eaf00; not marking stream as bad, as the Event object may be at fault. Monitor for further errors.\n",
      "2023-10-25 18:35:31.499410: E external/org_tensorflow/tensorflow/compiler/xla/pjrt/pjrt_stream_executor_client.cc:2389] Execution of replica 0 failed: INTERNAL: Failed to execute XLA Runtime executable: run time error: custom call 'xla.gpu.func.launch' failed: Failed to launch CUDA kernel: reduce_7 with block dimensions: 1x1x1 and grid dimensions: 1x1x1: CUDA_ERROR_ILLEGAL_ADDRESS: an illegal memory access was encountered.\n"
     ]
    },
    {
     "ename": "ValueError",
     "evalue": "INTERNAL: Failed to execute XLA Runtime executable: run time error: custom call 'xla.gpu.func.launch' failed: Failed to launch CUDA kernel: reduce_7 with block dimensions: 1x1x1 and grid dimensions: 1x1x1: CUDA_ERROR_ILLEGAL_ADDRESS: an illegal memory access was encountered.",
     "output_type": "error",
     "traceback": [
      "\u001b[0;31m---------------------------------------------------------------------------\u001b[0m",
      "\u001b[0;31mValueError\u001b[0m                                Traceback (most recent call last)",
      "\u001b[1;32m/local/home/hs276503/Documents/workspace/monte-cosmo/test/infer_PM.ipynb Cell 7\u001b[0m line \u001b[0;36m5\n\u001b[1;32m      <a href='vscode-notebook-cell:/local/home/hs276503/Documents/workspace/monte-cosmo/test/infer_PM.ipynb#W6sZmlsZQ%3D%3D?line=2'>3</a>\u001b[0m box_size \u001b[39m=\u001b[39m np\u001b[39m.\u001b[39marray([box_length, box_length, box_length])  \u001b[39m# In Mpc/h\u001b[39;00m\n\u001b[1;32m      <a href='vscode-notebook-cell:/local/home/hs276503/Documents/workspace/monte-cosmo/test/infer_PM.ipynb#W6sZmlsZQ%3D%3D?line=3'>4</a>\u001b[0m mesh_size \u001b[39m=\u001b[39m [mesh_length, mesh_length, mesh_length]\n\u001b[0;32m----> <a href='vscode-notebook-cell:/local/home/hs276503/Documents/workspace/monte-cosmo/test/infer_PM.ipynb#W6sZmlsZQ%3D%3D?line=4'>5</a>\u001b[0m k_nyquist \u001b[39m=\u001b[39m \u001b[39m1\u001b[39m\u001b[39m/\u001b[39m\u001b[39m2\u001b[39m \u001b[39m*\u001b[39m jnp\u001b[39m.\u001b[39;49mmin(mesh_size \u001b[39m/\u001b[39;49m box_size)\n\u001b[1;32m      <a href='vscode-notebook-cell:/local/home/hs276503/Documents/workspace/monte-cosmo/test/infer_PM.ipynb#W6sZmlsZQ%3D%3D?line=5'>6</a>\u001b[0m delta_k \u001b[39m=\u001b[39m jnp\u001b[39m.\u001b[39mmin(\u001b[39m1\u001b[39m \u001b[39m/\u001b[39m box_size)\n\u001b[1;32m      <a href='vscode-notebook-cell:/local/home/hs276503/Documents/workspace/monte-cosmo/test/infer_PM.ipynb#W6sZmlsZQ%3D%3D?line=6'>7</a>\u001b[0m \u001b[39mprint\u001b[39m(\u001b[39mf\u001b[39m\u001b[39m\"\u001b[39m\u001b[39m{\u001b[39;00mk_nyquist\u001b[39m=:\u001b[39;00m\u001b[39m.5f\u001b[39m\u001b[39m}\u001b[39;00m\u001b[39m h/Mpc, \u001b[39m\u001b[39m{\u001b[39;00mdelta_k\u001b[39m=:\u001b[39;00m\u001b[39m.5f\u001b[39m\u001b[39m}\u001b[39;00m\u001b[39m h/Mpc\u001b[39m\u001b[39m\"\u001b[39m)\n",
      "File \u001b[0;32m/feynman/work/dphp/adematti/cosmodesiconda/20230918-1.0.0/conda/lib/python3.10/site-packages/jax/_src/numpy/reductions.py:267\u001b[0m, in \u001b[0;36mmin\u001b[0;34m(a, axis, out, keepdims, initial, where)\u001b[0m\n\u001b[1;32m    263\u001b[0m \u001b[39m@_wraps\u001b[39m(np\u001b[39m.\u001b[39mmin, skip_params\u001b[39m=\u001b[39m[\u001b[39m'\u001b[39m\u001b[39mout\u001b[39m\u001b[39m'\u001b[39m])\n\u001b[1;32m    264\u001b[0m \u001b[39mdef\u001b[39;00m \u001b[39mmin\u001b[39m(a: ArrayLike, axis: Axis \u001b[39m=\u001b[39m \u001b[39mNone\u001b[39;00m, out: \u001b[39mNone\u001b[39;00m \u001b[39m=\u001b[39m \u001b[39mNone\u001b[39;00m,\n\u001b[1;32m    265\u001b[0m         keepdims: \u001b[39mbool\u001b[39m \u001b[39m=\u001b[39m \u001b[39mFalse\u001b[39;00m, initial: Optional[ArrayLike] \u001b[39m=\u001b[39m \u001b[39mNone\u001b[39;00m,\n\u001b[1;32m    266\u001b[0m         where: Optional[ArrayLike] \u001b[39m=\u001b[39m \u001b[39mNone\u001b[39;00m) \u001b[39m-\u001b[39m\u001b[39m>\u001b[39m Array:\n\u001b[0;32m--> 267\u001b[0m   \u001b[39mreturn\u001b[39;00m _reduce_min(a, axis\u001b[39m=\u001b[39;49m_ensure_optional_axes(axis), out\u001b[39m=\u001b[39;49mout,\n\u001b[1;32m    268\u001b[0m                      keepdims\u001b[39m=\u001b[39;49mkeepdims, initial\u001b[39m=\u001b[39;49minitial, where\u001b[39m=\u001b[39;49mwhere)\n",
      "\u001b[0;31mValueError\u001b[0m: INTERNAL: Failed to execute XLA Runtime executable: run time error: custom call 'xla.gpu.func.launch' failed: Failed to launch CUDA kernel: reduce_7 with block dimensions: 1x1x1 and grid dimensions: 1x1x1: CUDA_ERROR_ILLEGAL_ADDRESS: an illegal memory access was encountered."
     ]
    }
   ],
   "source": [
    "box_length = 1000 # 100\n",
    "mesh_length = 200 # 32\n",
    "box_size = np.array([box_length, box_length, box_length])  # In Mpc/h\n",
    "mesh_size = [mesh_length, mesh_length, mesh_length]\n",
    "k_nyquist = 1/2 * jnp.min(mesh_size / box_size)\n",
    "delta_k = jnp.min(1 / box_size)\n",
    "print(f\"{k_nyquist=:.5f} h/Mpc, {delta_k=:.5f} h/Mpc\")\n",
    "\n",
    "# Create a small function to generate the matter power spectrum\n",
    "Omega_c, sigma8 = 0.25, 0.8\n",
    "cosmology = jc.Planck15(Omega_c=Omega_c, sigma8=sigma8)\n",
    "k = jnp.logspace(-4, 1, 256)\n",
    "pk = jc.power.linear_matter_power(cosmology, k)\n",
    "pk_fn = lambda x: jc.scipy.interpolate.interp(x.reshape([-1]), k, pk).reshape(x.shape)\n",
    "\n",
    "# sample initial conditions and compute power spectrum\n",
    "initial_conditions = linear_field(mesh_size, box_size, pk_fn)\n",
    "pk_init_sim = power_spectrum(initial_conditions, kmin=0.0, dk=0.1, boxsize=box_size) "
   ]
  },
  {
   "cell_type": "code",
   "execution_count": 35,
   "metadata": {},
   "outputs": [
    {
     "data": {
      "image/png": "[encoded data removed]",
      "text/plain": [
       "<Figure size 640x480 with 1 Axes>"
      ]
     },
     "metadata": {},
     "output_type": "display_data"
    }
   ],
   "source": [
    "plt.loglog(pk_init_sim[0], pk_init_sim[1], label=\"sim\")\n",
    "plt.loglog(pk_init_sim[0], pk_fn(pk_init_sim[0]), label=\"theo\")\n",
    "plt.grid(), plt.legend(), plt.xlabel(\"k (h/Mpc)\"), plt.ylabel(\"P(k)\");"
   ]
  },
  {
   "cell_type": "code",
   "execution_count": null,
   "metadata": {},
   "outputs": [],
   "source": [
    "import numpy as np\n",
    "import matplotlib.pyplot as plt\n",
    "\n",
    "data = np.random.rand(3,4,5)\n",
    "xx, yy, zz = np.indices(data.shape)\n",
    "col = data.flatten()\n",
    "\n",
    "# 3D Plot\n",
    "fig = plt.figure()\n",
    "ax3D = fig.add_subplot(projection='3d')\n",
    "cm = plt.colormaps['brg']\n",
    "p3d = ax3D.scatter(xx, yy, zz, c=col, cmap=cm)\n",
    "plt.colorbar(p3d)\n",
    "\n",
    "plt.show()"
   ]
  },
  {
   "cell_type": "markdown",
   "metadata": {},
   "source": [
    "## Inference"
   ]
  }
 ],
 "metadata": {
  "kernelspec": {
   "display_name": "Python 3 (ipykernel)",
   "language": "python",
   "name": "python3"
  },
  "language_info": {
   "codemirror_mode": {
    "name": "ipython",
    "version": 3
   },
   "file_extension": ".py",
   "mimetype": "text/x-python",
   "name": "python",
   "nbconvert_exporter": "python",
   "pygments_lexer": "ipython3",
   "version": "3.10.12"
  }
 },
 "nbformat": 4,
 "nbformat_minor": 2
}
