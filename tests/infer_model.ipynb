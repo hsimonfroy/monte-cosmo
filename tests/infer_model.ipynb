{
 "cells": [
  {
   "cell_type": "markdown",
   "metadata": {},
   "source": [
    "# Model Inference\n",
    "Infer from a cosmological model via MCMC samplers. "
   ]
  },
  {
   "cell_type": "code",
   "execution_count": 1,
   "metadata": {},
   "outputs": [
    {
     "name": "stdout",
     "output_type": "stream",
     "text": [
      "feynmangpu04.cluster.local\n"
     ]
    },
    {
     "name": "stderr",
     "output_type": "stream",
     "text": [
      "/feynman/work/dphp/hs276503/envs/montenvtest3/lib/python3.12/pty.py:95: RuntimeWarning: os.fork() was called. os.fork() is incompatible with multithreaded code, and JAX is multithreaded, so this will likely lead to a deadlock.\n",
      "  pid, fd = os.forkpty()\n"
     ]
    }
   ],
   "source": [
    "import os; os.environ['XLA_PYTHON_CLIENT_MEM_FRACTION']='.5' # NOTE: jax preallocates GPU (default 75%)\n",
    "import matplotlib.pyplot as plt\n",
    "import numpy as np\n",
    "from jax import numpy as jnp, random as jr, config as jconfig, jit, vmap, grad, debug, tree\n",
    "# jconfig.update(\"jax_enable_x64\", True)\n",
    "\n",
    "from functools import partial\n",
    "from getdist import plots\n",
    "from numpyro import infer\n",
    "\n",
    "from montecosmo.model import FieldLevelModel, default_config\n",
    "from montecosmo.utils import pdump, pload\n",
    "from montecosmo.mcbench import sample_and_save\n",
    "from montecosmo.script import from_id, get_mcmc, get_init_mcmc\n",
    "\n",
    "# import mlflow\n",
    "# mlflow.set_tracking_uri(uri=\"http://127.0.0.1:8081\")\n",
    "# mlflow.set_experiment(\"infer\")\n",
    "# !jupyter nbconvert --to script ./src/montecosmo/tests/infer_model.ipynb/\n",
    "\n",
    "%matplotlib inline\n",
    "%load_ext autoreload\n",
    "%autoreload 2\n",
    "!hostname"
   ]
  },
  {
   "cell_type": "markdown",
   "metadata": {},
   "source": [
    "## Config and fiduc"
   ]
  },
  {
   "cell_type": "code",
   "execution_count": 2,
   "metadata": {},
   "outputs": [
    {
     "name": "stdout",
     "output_type": "stream",
     "text": [
      "SLURM_ARRAY_TASK_ID: 217001\n",
      "save path: /feynman/home/dphp/hs276503/scratch/pickles/m32_b160.0_al0.5_ao0.5_lo1_pc7_obfield_norsdb/sNUTS_nc4_ns64_mt10_ta0.65_noss\n"
     ]
    }
   ],
   "source": [
    "################## TO SET #######################\n",
    "# task_id = int(os.environ['SLURM_ARRAY_TASK_ID'])\n",
    "task_id = 215001\n",
    "print(\"SLURM_ARRAY_TASK_ID:\", task_id)\n",
    "model, mcmc_config, save_dir, save_path = from_id(task_id)\n",
    "os.makedirs(save_dir, exist_ok=True)\n",
    "print(\"save path:\", save_path)\n",
    "\n",
    "# import sys\n",
    "# tempstdout, tempstderr = sys.stdout, sys.stderr\n",
    "# sys.stdout = sys.stderr = open(save_path+'.out', 'a')\n",
    "# job_id = int(os.environ['SLURM_ARRAY_JOB_ID'])\n",
    "# print(\"SLURM_ARRAY_JOB_ID:\", job_id)\n",
    "# print(\"SLURM_ARRAY_TASK_ID:\", task_id)\n",
    "# print(\"jax_enable_x64:\", jconfig.read(\"jax_enable_x64\"))"
   ]
  },
  {
   "cell_type": "code",
   "execution_count": 3,
   "metadata": {},
   "outputs": [
    {
     "name": "stdout",
     "output_type": "stream",
     "text": [
      "# CONFIG\n",
      "{'a_lpt': 0.5,\n",
      " 'a_obs': 0.5,\n",
      " 'box_shape': array([160., 160., 160.]),\n",
      " 'gxy_density': 0.001,\n",
      " 'latents': {'Omega_m': {'group': 'cosmo',\n",
      "                         'high': 1.0,\n",
      "                         'label': '{\\\\Omega}_m',\n",
      "                         'loc': 0.3111,\n",
      "                         'low': 0.05,\n",
      "                         'scale': 0.2,\n",
      "                         'scale_est': 0.06},\n",
      "             'b1': {'group': 'bias',\n",
      "                    'label': '{b}_1',\n",
      "                    'loc': 1.0,\n",
      "                    'scale': 0.5},\n",
      "             'b2': {'group': 'bias',\n",
      "                    'label': '{b}_2',\n",
      "                    'loc': 0.0,\n",
      "                    'scale': 2.0},\n",
      "             'bn2': {'group': 'bias',\n",
      "                     'label': '{b}_{\\\\nabla^2}',\n",
      "                     'loc': 0.0,\n",
      "                     'scale': 2.0},\n",
      "             'bs2': {'group': 'bias',\n",
      "                     'label': '{b}_{s^2}',\n",
      "                     'loc': 0.0,\n",
      "                     'scale': 2.0},\n",
      "             'init_mesh': {'group': 'init',\n",
      "                           'label': '{\\\\delta}_L'},\n",
      "             'sigma8': {'group': 'cosmo',\n",
      "                        'label': '{\\\\sigma}_8',\n",
      "                        'loc': 0.8102,\n",
      "                        'low': 0.0,\n",
      "                        'scale': 0.2,\n",
      "                        'scale_est': 0.04}},\n",
      " 'los': None,\n",
      " 'lpt_order': 1,\n",
      " 'mesh_shape': array([32, 32, 32]),\n",
      " 'nbody_steps': 5,\n",
      " 'obs': 'field',\n",
      " 'precond': 7,\n",
      " 'snapshots': None}\n",
      "\n",
      "# INFOS\n",
      "cell_shape:     [5.0, 5.0, 5.0] Mpc/h\n",
      "k_funda:        0.03927 h/Mpc\n",
      "k_nyquist:      0.62832 h/Mpc\n",
      "mean_gxy_count: 0.125 gxy/cell\n",
      "\n",
      "{'sampler': 'NUTS', 'target_accept_prob': 0.65, 'n_samples': 64, 'max_tree_depth': 10, 'n_runs': 15, 'n_chains': 4, 'mm': 1}\n",
      "Loading truth from /feynman/home/dphp/hs276503/scratch/pickles/m32_b160.0_al0.5_ao0.5_lo1_pc7_obfield_norsdb/\n",
      "no bias\n",
      "No fiducial spectral power mesh stored. Will use linear spectral power mesh computed at location of cosmology prior.\n"
     ]
    },
    {
     "name": "stderr",
     "output_type": "stream",
     "text": [
      "/feynman/work/dphp/hs276503/envs/montenvtest3/lib/python3.12/site-packages/jax/_src/numpy/array_methods.py:66: UserWarning: Explicitly requested dtype <class 'jax.numpy.int64'> requested in astype is not available, and will be truncated to dtype int32. To enable more dtypes, set the jax_enable_x64 configuration option or the JAX_ENABLE_X64 shell environment variable. See https://github.com/google/jax#current-gotchas for more.\n",
      "  return lax_numpy.astype(arr, dtype)\n",
      "/feynman/work/dphp/hs276503/envs/montenvtest3/lib/python3.12/site-packages/jax/_src/numpy/array_methods.py:66: UserWarning: Explicitly requested dtype <class 'jax.numpy.int64'> requested in astype is not available, and will be truncated to dtype int32. To enable more dtypes, set the jax_enable_x64 configuration option or the JAX_ENABLE_X64 shell environment variable. See https://github.com/google/jax#current-gotchas for more.\n",
      "  return lax_numpy.astype(arr, dtype)\n",
      "/feynman/work/dphp/hs276503/envs/montenvtest3/lib/python3.12/site-packages/jax/_src/numpy/array_methods.py:66: UserWarning: Explicitly requested dtype <class 'jax.numpy.int64'> requested in astype is not available, and will be truncated to dtype int32. To enable more dtypes, set the jax_enable_x64 configuration option or the JAX_ENABLE_X64 shell environment variable. See https://github.com/google/jax#current-gotchas for more.\n",
      "  return lax_numpy.astype(arr, dtype)\n"
     ]
    },
    {
     "name": "stdout",
     "output_type": "stream",
     "text": [
      "No fiducial spectral power mesh stored. Will use linear spectral power mesh computed at location of cosmology prior.\n"
     ]
    },
    {
     "name": "stderr",
     "output_type": "stream",
     "text": [
      "/feynman/work/dphp/hs276503/envs/montenvtest3/lib/python3.12/site-packages/jax/_src/numpy/array_methods.py:66: UserWarning: Explicitly requested dtype <class 'jax.numpy.int64'> requested in astype is not available, and will be truncated to dtype int32. To enable more dtypes, set the jax_enable_x64 configuration option or the JAX_ENABLE_X64 shell environment variable. See https://github.com/google/jax#current-gotchas for more.\n",
      "  return lax_numpy.astype(arr, dtype)\n",
      "/feynman/work/dphp/hs276503/envs/montenvtest3/lib/python3.12/site-packages/jax/_src/numpy/array_methods.py:66: UserWarning: Explicitly requested dtype <class 'jax.numpy.int64'> requested in astype is not available, and will be truncated to dtype int32. To enable more dtypes, set the jax_enable_x64 configuration option or the JAX_ENABLE_X64 shell environment variable. See https://github.com/google/jax#current-gotchas for more.\n",
      "  return lax_numpy.astype(arr, dtype)\n"
     ]
    },
    {
     "data": {
      "image/svg+xml": [
       "<?xml version=\"1.0\" encoding=\"UTF-8\" standalone=\"no\"?>\n",
       "<!DOCTYPE svg PUBLIC \"-//W3C//DTD SVG 1.1//EN\"\n",
       " \"http://www.w3.org/Graphics/SVG/1.1/DTD/svg11.dtd\">\n",
       "<!-- Generated by graphviz version 2.40.1 (0)\n",
       " -->\n",
       "<!-- Title: %3 Pages: 1 -->\n",
       "<svg width=\"703pt\" height=\"116pt\"\n",
       " viewBox=\"0.00 0.00 703.49 116.00\" xmlns=\"http://www.w3.org/2000/svg\" xmlns:xlink=\"http://www.w3.org/1999/xlink\">\n",
       "<g id=\"graph0\" class=\"graph\" transform=\"scale(1 1) rotate(0) translate(4 112)\">\n",
       "<title>%3</title>\n",
       "<polygon fill=\"#ffffff\" stroke=\"transparent\" points=\"-4,4 -4,-112 699.489,-112 699.489,4 -4,4\"/>\n",
       "<!-- Omega_m_ -->\n",
       "<g id=\"node1\" class=\"node\">\n",
       "<title>Omega_m_</title>\n",
       "<ellipse fill=\"#ffffff\" stroke=\"#000000\" cx=\"62.3945\" cy=\"-90\" rx=\"62.2891\" ry=\"18\"/>\n",
       "<text text-anchor=\"middle\" x=\"62.3945\" y=\"-86.3\" font-family=\"Times,serif\" font-size=\"14.00\" fill=\"#000000\">Omega_m_</text>\n",
       "</g>\n",
       "<!-- obs -->\n",
       "<g id=\"node8\" class=\"node\">\n",
       "<title>obs</title>\n",
       "<ellipse fill=\"#c0c0c0\" stroke=\"#000000\" cx=\"360.3945\" cy=\"-18\" rx=\"27\" ry=\"18\"/>\n",
       "<text text-anchor=\"middle\" x=\"360.3945\" y=\"-14.3\" font-family=\"Times,serif\" font-size=\"14.00\" fill=\"#000000\">obs</text>\n",
       "</g>\n",
       "<!-- Omega_m_&#45;&gt;obs -->\n",
       "<g id=\"edge1\" class=\"edge\">\n",
       "<title>Omega_m_&#45;&gt;obs</title>\n",
       "<path fill=\"none\" stroke=\"#000000\" d=\"M109.627,-78.117C117.879,-76.0623 126.3841,-73.9582 134.3945,-72 201.6508,-55.5584 280.308,-36.8908 324.8486,-26.3722\"/>\n",
       "<polygon fill=\"#000000\" stroke=\"#000000\" points=\"325.6858,-29.7708 334.6145,-24.0674 324.0779,-22.958 325.6858,-29.7708\"/>\n",
       "</g>\n",
       "<!-- sigma8_ -->\n",
       "<g id=\"node2\" class=\"node\">\n",
       "<title>sigma8_</title>\n",
       "<ellipse fill=\"#ffffff\" stroke=\"#000000\" cx=\"192.3945\" cy=\"-90\" rx=\"49.2915\" ry=\"18\"/>\n",
       "<text text-anchor=\"middle\" x=\"192.3945\" y=\"-86.3\" font-family=\"Times,serif\" font-size=\"14.00\" fill=\"#000000\">sigma8_</text>\n",
       "</g>\n",
       "<!-- sigma8_&#45;&gt;obs -->\n",
       "<g id=\"edge2\" class=\"edge\">\n",
       "<title>sigma8_&#45;&gt;obs</title>\n",
       "<path fill=\"none\" stroke=\"#000000\" d=\"M224.7866,-76.1177C254.5124,-63.378 298.3162,-44.605 328.0326,-31.8694\"/>\n",
       "<polygon fill=\"#000000\" stroke=\"#000000\" points=\"329.7168,-34.9555 337.5296,-27.7992 326.9594,-28.5215 329.7168,-34.9555\"/>\n",
       "</g>\n",
       "<!-- b1_ -->\n",
       "<g id=\"node3\" class=\"node\">\n",
       "<title>b1_</title>\n",
       "<ellipse fill=\"#c0c0c0\" stroke=\"#000000\" cx=\"287.3945\" cy=\"-90\" rx=\"27.0966\" ry=\"18\"/>\n",
       "<text text-anchor=\"middle\" x=\"287.3945\" y=\"-86.3\" font-family=\"Times,serif\" font-size=\"14.00\" fill=\"#000000\">b1_</text>\n",
       "</g>\n",
       "<!-- b1_&#45;&gt;obs -->\n",
       "<g id=\"edge3\" class=\"edge\">\n",
       "<title>b1_&#45;&gt;obs</title>\n",
       "<path fill=\"none\" stroke=\"#000000\" d=\"M302.8759,-74.7307C312.9414,-64.803 326.2419,-51.6847 337.5174,-40.5637\"/>\n",
       "<polygon fill=\"#000000\" stroke=\"#000000\" points=\"340.2734,-42.7614 344.9354,-33.2473 335.3579,-37.7776 340.2734,-42.7614\"/>\n",
       "</g>\n",
       "<!-- b2_ -->\n",
       "<g id=\"node4\" class=\"node\">\n",
       "<title>b2_</title>\n",
       "<ellipse fill=\"#c0c0c0\" stroke=\"#000000\" cx=\"360.3945\" cy=\"-90\" rx=\"27.0966\" ry=\"18\"/>\n",
       "<text text-anchor=\"middle\" x=\"360.3945\" y=\"-86.3\" font-family=\"Times,serif\" font-size=\"14.00\" fill=\"#000000\">b2_</text>\n",
       "</g>\n",
       "<!-- b2_&#45;&gt;obs -->\n",
       "<g id=\"edge4\" class=\"edge\">\n",
       "<title>b2_&#45;&gt;obs</title>\n",
       "<path fill=\"none\" stroke=\"#000000\" d=\"M360.3945,-71.8314C360.3945,-64.131 360.3945,-54.9743 360.3945,-46.4166\"/>\n",
       "<polygon fill=\"#000000\" stroke=\"#000000\" points=\"363.8946,-46.4132 360.3945,-36.4133 356.8946,-46.4133 363.8946,-46.4132\"/>\n",
       "</g>\n",
       "<!-- bs2_ -->\n",
       "<g id=\"node5\" class=\"node\">\n",
       "<title>bs2_</title>\n",
       "<ellipse fill=\"#c0c0c0\" stroke=\"#000000\" cx=\"438.3945\" cy=\"-90\" rx=\"32.4942\" ry=\"18\"/>\n",
       "<text text-anchor=\"middle\" x=\"438.3945\" y=\"-86.3\" font-family=\"Times,serif\" font-size=\"14.00\" fill=\"#000000\">bs2_</text>\n",
       "</g>\n",
       "<!-- bs2_&#45;&gt;obs -->\n",
       "<g id=\"edge5\" class=\"edge\">\n",
       "<title>bs2_&#45;&gt;obs</title>\n",
       "<path fill=\"none\" stroke=\"#000000\" d=\"M421.4696,-74.3771C410.4433,-64.1989 395.9066,-50.7805 383.7815,-39.5881\"/>\n",
       "<polygon fill=\"#000000\" stroke=\"#000000\" points=\"385.945,-36.8219 376.223,-32.6109 381.197,-41.9656 385.945,-36.8219\"/>\n",
       "</g>\n",
       "<!-- bn2_ -->\n",
       "<g id=\"node6\" class=\"node\">\n",
       "<title>bn2_</title>\n",
       "<ellipse fill=\"#c0c0c0\" stroke=\"#000000\" cx=\"522.3945\" cy=\"-90\" rx=\"33.2948\" ry=\"18\"/>\n",
       "<text text-anchor=\"middle\" x=\"522.3945\" y=\"-86.3\" font-family=\"Times,serif\" font-size=\"14.00\" fill=\"#000000\">bn2_</text>\n",
       "</g>\n",
       "<!-- bn2_&#45;&gt;obs -->\n",
       "<g id=\"edge6\" class=\"edge\">\n",
       "<title>bn2_&#45;&gt;obs</title>\n",
       "<path fill=\"none\" stroke=\"#000000\" d=\"M496.7251,-78.5914C468.4677,-66.0326 423.0014,-45.8253 392.4301,-32.2381\"/>\n",
       "<polygon fill=\"#000000\" stroke=\"#000000\" points=\"393.6281,-28.9404 383.0684,-28.0773 390.785,-35.3371 393.6281,-28.9404\"/>\n",
       "</g>\n",
       "<!-- init_mesh_ -->\n",
       "<g id=\"node7\" class=\"node\">\n",
       "<title>init_mesh_</title>\n",
       "<ellipse fill=\"#ffffff\" stroke=\"#000000\" cx=\"634.3945\" cy=\"-90\" rx=\"61.1893\" ry=\"18\"/>\n",
       "<text text-anchor=\"middle\" x=\"634.3945\" y=\"-86.3\" font-family=\"Times,serif\" font-size=\"14.00\" fill=\"#000000\">init_mesh_</text>\n",
       "</g>\n",
       "<!-- init_mesh_&#45;&gt;obs -->\n",
       "<g id=\"edge7\" class=\"edge\">\n",
       "<title>init_mesh_&#45;&gt;obs</title>\n",
       "<path fill=\"none\" stroke=\"#000000\" d=\"M588.533,-77.9488C534.2015,-63.6719 444.8708,-40.1982 395.6588,-27.2665\"/>\n",
       "<polygon fill=\"#000000\" stroke=\"#000000\" points=\"396.3546,-23.8306 385.7934,-24.6742 394.5756,-30.6008 396.3546,-23.8306\"/>\n",
       "</g>\n",
       "</g>\n",
       "</svg>\n"
      ],
      "text/plain": [
       "<graphviz.graphs.Digraph at 0x7fff9808d0d0>"
      ]
     },
     "metadata": {},
     "output_type": "display_data"
    },
    {
     "name": "stderr",
     "output_type": "stream",
     "text": [
      "2025-02-08 01:46:27.778347: W external/xla/xla/service/gpu/nvptx_compiler.cc:742] The NVIDIA driver's CUDA version is 11.5 which is older than the ptxas CUDA version (11.8.89). Because the driver is older than the ptxas version, XLA is disabling parallel compilation, which may slow down compilation. You should update your NVIDIA driver or use the NVIDIA-provided CUDA forward compatibility packages.\n"
     ]
    }
   ],
   "source": [
    "print(model)\n",
    "print(mcmc_config)\n",
    "# model.render()\n",
    "model.prior_mode = 'prior' ###############\n",
    "\n",
    "\n",
    "if not os.path.exists(save_dir+\"truth.p\"):\n",
    "    # Predict and save fiducial\n",
    "    truth = {'Omega_m': 0.31, \n",
    "            'sigma8': 0.81, \n",
    "            'b1': 1.,\n",
    "            'b2':0., \n",
    "            'bs2':0., \n",
    "            'bn2': 0.}\n",
    "    \n",
    "    if model.prior_loc['b1'] == 0:\n",
    "        truth['b1'] = 0.\n",
    "\n",
    "    model.reset()\n",
    "    truth = model.predict(samples=truth, hide_base=False, hide_samp=False, frombase=True)\n",
    "    \n",
    "    print(f\"Saving model and truth at {save_dir}\")\n",
    "    model.save(save_dir+\"model.p\")    \n",
    "    pdump(truth, save_dir+\"truth.p\")\n",
    "else:\n",
    "    print(f\"Loading truth from {save_dir}\")\n",
    "    truth = pload(save_dir+\"truth.p\")\n",
    "\n",
    "model.reset()\n",
    "if model.prior_loc['b1'] == 0:\n",
    "    print('no bias')\n",
    "    model.condition({'obs': truth['obs'], 'b1': truth['b1'], 'b2': truth['b2'], 'bs2': truth['bs2'], 'bn2': truth['bn2']}, frombase=True)\n",
    "    # model.condition({'obs': truth['obs'], 'bn2': truth['bn2']}, frombase=True)\n",
    "else:\n",
    "    model.condition({'obs': truth['obs']})\n",
    "model.block()\n",
    "model.render()\n",
    "model.delta_obs = truth['obs'] - 1"
   ]
  },
  {
   "cell_type": "markdown",
   "metadata": {},
   "source": [
    "## Run"
   ]
  },
  {
   "cell_type": "markdown",
   "metadata": {},
   "source": [
    "### NUTS, HMC"
   ]
  },
  {
   "cell_type": "code",
   "execution_count": 4,
   "metadata": {},
   "outputs": [
    {
     "name": "stderr",
     "output_type": "stream",
     "text": [
      "/feynman/work/dphp/hs276503/envs/montenvtest3/lib/python3.12/site-packages/jax/_src/numpy/array_methods.py:66: UserWarning: Explicitly requested dtype <class 'jax.numpy.int64'> requested in astype is not available, and will be truncated to dtype int32. To enable more dtypes, set the jax_enable_x64 configuration option or the JAX_ENABLE_X64 shell environment variable. See https://github.com/google/jax#current-gotchas for more.\n",
      "  return lax_numpy.astype(arr, dtype)\n"
     ]
    },
    {
     "name": "stdout",
     "output_type": "stream",
     "text": [
      "No fiducial spectral power mesh stored. Will use linear spectral power mesh computed at location of cosmology prior.\n"
     ]
    },
    {
     "name": "stderr",
     "output_type": "stream",
     "text": [
      "/feynman/work/dphp/hs276503/envs/montenvtest3/lib/python3.12/site-packages/jax/_src/numpy/array_methods.py:66: UserWarning: Explicitly requested dtype <class 'jax.numpy.int64'> requested in astype is not available, and will be truncated to dtype int32. To enable more dtypes, set the jax_enable_x64 configuration option or the JAX_ENABLE_X64 shell environment variable. See https://github.com/google/jax#current-gotchas for more.\n",
      "  return lax_numpy.astype(arr, dtype)\n",
      "/feynman/work/dphp/hs276503/envs/montenvtest3/lib/python3.12/site-packages/jax/_src/numpy/array_methods.py:66: UserWarning: Explicitly requested dtype <class 'jax.numpy.int64'> requested in astype is not available, and will be truncated to dtype int32. To enable more dtypes, set the jax_enable_x64 configuration option or the JAX_ENABLE_X64 shell environment variable. See https://github.com/google/jax#current-gotchas for more.\n",
      "  return lax_numpy.astype(arr, dtype)\n"
     ]
    },
    {
     "name": "stdout",
     "output_type": "stream",
     "text": [
      "# Loading init_last_state\n",
      "No fiducial spectral power mesh stored. Will use linear spectral power mesh computed at location of cosmology prior.\n"
     ]
    },
    {
     "name": "stderr",
     "output_type": "stream",
     "text": [
      "/feynman/work/dphp/hs276503/envs/montenvtest3/lib/python3.12/site-packages/jax/_src/numpy/array_methods.py:66: UserWarning: Explicitly requested dtype <class 'jax.numpy.int64'> requested in astype is not available, and will be truncated to dtype int32. To enable more dtypes, set the jax_enable_x64 configuration option or the JAX_ENABLE_X64 shell environment variable. See https://github.com/google/jax#current-gotchas for more.\n",
      "  return lax_numpy.astype(arr, dtype)\n",
      "/feynman/work/dphp/hs276503/envs/montenvtest3/lib/python3.12/site-packages/jax/_src/numpy/array_methods.py:66: UserWarning: Explicitly requested dtype <class 'jax.numpy.int64'> requested in astype is not available, and will be truncated to dtype int32. To enable more dtypes, set the jax_enable_x64 configuration option or the JAX_ENABLE_X64 shell environment variable. See https://github.com/google/jax#current-gotchas for more.\n",
      "  return lax_numpy.astype(arr, dtype)\n"
     ]
    },
    {
     "name": "stdout",
     "output_type": "stream",
     "text": [
      "No fiducial spectral power mesh stored. Will use linear spectral power mesh computed at location of cosmology prior.\n"
     ]
    },
    {
     "name": "stderr",
     "output_type": "stream",
     "text": [
      "/feynman/work/dphp/hs276503/envs/montenvtest3/lib/python3.12/site-packages/jax/_src/numpy/array_methods.py:66: UserWarning: Explicitly requested dtype <class 'jax.numpy.int64'> requested in astype is not available, and will be truncated to dtype int32. To enable more dtypes, set the jax_enable_x64 configuration option or the JAX_ENABLE_X64 shell environment variable. See https://github.com/google/jax#current-gotchas for more.\n",
      "  return lax_numpy.astype(arr, dtype)\n",
      "/feynman/work/dphp/hs276503/envs/montenvtest3/lib/python3.12/site-packages/jax/_src/numpy/array_methods.py:66: UserWarning: Explicitly requested dtype <class 'jax.numpy.int64'> requested in astype is not available, and will be truncated to dtype int32. To enable more dtypes, set the jax_enable_x64 configuration option or the JAX_ENABLE_X64 shell environment variable. See https://github.com/google/jax#current-gotchas for more.\n",
      "  return lax_numpy.astype(arr, dtype)\n"
     ]
    },
    {
     "name": "stdout",
     "output_type": "stream",
     "text": [
      "dict_keys(['init_mesh_']) dict_keys(['Omega_m_', 'b1_', 'b2_', 'bn2_', 'bs2_', 'init_mesh_', 'sigma8_'])\n",
      "No fiducial spectral power mesh stored. Will use linear spectral power mesh computed at location of cosmology prior.\n"
     ]
    },
    {
     "name": "stderr",
     "output_type": "stream",
     "text": [
      "/feynman/work/dphp/hs276503/envs/montenvtest3/lib/python3.12/site-packages/jax/_src/numpy/array_methods.py:66: UserWarning: Explicitly requested dtype <class 'jax.numpy.int64'> requested in astype is not available, and will be truncated to dtype int32. To enable more dtypes, set the jax_enable_x64 configuration option or the JAX_ENABLE_X64 shell environment variable. See https://github.com/google/jax#current-gotchas for more.\n",
      "  return lax_numpy.astype(arr, dtype)\n",
      "/feynman/work/dphp/hs276503/envs/montenvtest3/lib/python3.12/site-packages/jax/_src/numpy/array_methods.py:66: UserWarning: Explicitly requested dtype <class 'jax.numpy.int64'> requested in astype is not available, and will be truncated to dtype int32. To enable more dtypes, set the jax_enable_x64 configuration option or the JAX_ENABLE_X64 shell environment variable. See https://github.com/google/jax#current-gotchas for more.\n",
      "  return lax_numpy.astype(arr, dtype)\n"
     ]
    },
    {
     "name": "stdout",
     "output_type": "stream",
     "text": [
      "No fiducial spectral power mesh stored. Will use linear spectral power mesh computed at location of cosmology prior.\n"
     ]
    },
    {
     "name": "stderr",
     "output_type": "stream",
     "text": [
      "/feynman/work/dphp/hs276503/envs/montenvtest3/lib/python3.12/site-packages/jax/_src/numpy/array_methods.py:66: UserWarning: Explicitly requested dtype <class 'jax.numpy.int64'> requested in astype is not available, and will be truncated to dtype int32. To enable more dtypes, set the jax_enable_x64 configuration option or the JAX_ENABLE_X64 shell environment variable. See https://github.com/google/jax#current-gotchas for more.\n",
      "  return lax_numpy.astype(arr, dtype)\n",
      "/feynman/work/dphp/hs276503/envs/montenvtest3/lib/python3.12/site-packages/jax/_src/numpy/array_methods.py:66: UserWarning: Explicitly requested dtype <class 'jax.numpy.int64'> requested in astype is not available, and will be truncated to dtype int32. To enable more dtypes, set the jax_enable_x64 configuration option or the JAX_ENABLE_X64 shell environment variable. See https://github.com/google/jax#current-gotchas for more.\n",
      "  return lax_numpy.astype(arr, dtype)\n"
     ]
    },
    {
     "name": "stdout",
     "output_type": "stream",
     "text": [
      "MSEs: [5.3202095 5.3200073 5.2640076 5.229848 ] [5.3202095 5.3200073 5.2640076 5.229848 ]\n",
      "no bias\n",
      "dict_keys(['Omega_m_', 'sigma8_', 'init_mesh_'])\n",
      "no bias\n"
     ]
    },
    {
     "data": {
      "image/png": "[encoded data removed]",
      "text/plain": [
       "<Figure size 1200x400 with 3 Axes>"
      ]
     },
     "metadata": {},
     "output_type": "display_data"
    }
   ],
   "source": [
    "continue_run = False\n",
    "if continue_run:\n",
    "    pass\n",
    "else:\n",
    "    model.reset()\n",
    "    model.condition({'obs': truth['obs']} | model.prior_loc, frombase=True)\n",
    "    model.block()\n",
    "\n",
    "    mcmc = get_init_mcmc(model.model, mcmc_config['n_chains'])    \n",
    "    init_params_ = jit(vmap(model.init_model))(jr.split(jr.key(45), mcmc.num_chains))\n",
    "    # init_params_ = model.predict(45, samples=mcmc.num_chains, hide_samp=False)\n",
    "    \n",
    "    if not os.path.exists(save_path + \"_init_last_state.p\"):\n",
    "        print(\"# Warmupping...\")\n",
    "        init_mesh_ = {k: init_params_[k] for k in ['init_mesh_']} # NOTE: !!!!!!!\n",
    "        mcmc = sample_and_save(mcmc, save_path+'_init', 0, 0, extra_fields=['num_steps'], init_params=init_mesh_)\n",
    "        ils = mcmc.last_state.z\n",
    "    else:\n",
    "        print(\"# Loading init_last_state\")\n",
    "        ils = pload(save_path + \"_init_last_state.p\").z\n",
    "    \n",
    "    # ils = {k: jnp.broadcast_to(v, (mcmc_config['n_chains'], *jnp.shape(v))) for k, v in truth.items()}\n",
    "    # ils = {k+'_': ils[k+'_'] for k in ['Omega_m','sigma8','b1','b2','bs2','bn2','init_mesh']}\n",
    "\n",
    "\n",
    "    ################\n",
    "    from montecosmo.plot import plot_pow, plot_powtranscoh, plot_coh\n",
    "    mesh0 = jnp.fft.irfftn(truth['init_mesh'])\n",
    "    kptcs__ = vmap(lambda x: model.powtranscoh(mesh0, model.reparam(x, fourier=False)['init_mesh']))(init_params_)\n",
    "    kptcs_ = vmap(lambda x: model.powtranscoh(mesh0, model.reparam(x, fourier=False)['init_mesh']))(init_params_ | ils)\n",
    "    kpk0 = model.spectrum(mesh0)\n",
    "    kptc_obs = model.powtranscoh(mesh0, truth['obs'] - 1)\n",
    "    kpkobs = model.spectrum(truth['obs']-1)\n",
    "    \n",
    "    print(ils.keys(), init_params_.keys())\n",
    "\n",
    "    mse__ = jnp.mean((vmap(lambda x: model.reparam(x, fourier=False))(init_params_)['init_mesh']  - mesh0)**2, axis=(1,2,3))\n",
    "    mse_ = jnp.mean((vmap(lambda x: model.reparam(x, fourier=False))(init_params_ | ils)['init_mesh']  - mesh0)**2, axis=(1,2,3))\n",
    "    print(\"MSEs:\", mse_, mse_)\n",
    "\n",
    "    prob = 0.95\n",
    "    plt.figure(figsize=(12, 4))\n",
    "    plot_powtranscoh(*jnp.median(jnp.stack(kptcs__), 1), label='init')\n",
    "    plot_powtranscoh(*kptcs__, fill=prob)\n",
    "    plot_powtranscoh(*jnp.median(jnp.stack(kptcs_), 1), label='warm')\n",
    "    plot_powtranscoh(*kptcs_, fill=prob)\n",
    "    plt.subplot(131)\n",
    "    plot_pow(*kpk0, 'k', label='true')\n",
    "    plot_pow(*kpkobs, ':', c='grey', label='obs')\n",
    "    plt.legend()\n",
    "    plt.subplot(133)\n",
    "    plot_coh(kptc_obs[0], kptc_obs[-1], ':', c='grey', label='obs')\n",
    "    plt.tight_layout()\n",
    "    plt.savefig(save_dir+f'init_glin_{task_id}.png')\n",
    "    # plt.savefig(f'init_glin_{task_id}.png')\n",
    "    ################    \n",
    "    \n",
    "    if model.prior_loc['b1'] == 0:\n",
    "        print('no bias')\n",
    "        init_params_ = {k:v for k,v in init_params_.items() if k in ['Omega_m_', 'sigma8_']} | ils\n",
    "        # init_params_ = {k:v for k,v in init_params_.items() if k in ['Omega_m_', 'sigma8_','b1_','b2_','bs2_']} | ils\n",
    "    else:\n",
    "        init_params_ |= ils\n",
    "        # init_params_ |= mcmc.last_state.z\n",
    "    print(init_params_.keys())\n",
    "\n",
    "model.reset()\n",
    "if model.prior_loc['b1'] == 0:\n",
    "    print('no bias')\n",
    "    model.condition({'obs': truth['obs'], 'b1': truth['b1'], 'b2': truth['b2'], 'bs2': truth['bs2'], 'bn2': truth['bn2']}, frombase=True)\n",
    "    # model.condition({'obs': truth['obs'], 'bn2': truth['bn2']}, frombase=True)\n",
    "else:\n",
    "    model.condition({'obs': truth['obs']})\n",
    "model.block()"
   ]
  },
  {
   "cell_type": "code",
   "execution_count": null,
   "metadata": {},
   "outputs": [
    {
     "name": "stdout",
     "output_type": "stream",
     "text": [
      "\n",
      "run 0/15 (warmup)\n"
     ]
    },
    {
     "name": "stdout",
     "output_type": "stream",
     "text": [
      "No fiducial spectral power mesh stored. Will use linear spectral power mesh computed at location of cosmology prior.\n"
     ]
    },
    {
     "name": "stderr",
     "output_type": "stream",
     "text": [
      "/feynman/work/dphp/hs276503/envs/montenvtest3/lib/python3.12/site-packages/jax/_src/numpy/array_methods.py:66: UserWarning: Explicitly requested dtype <class 'jax.numpy.int64'> requested in astype is not available, and will be truncated to dtype int32. To enable more dtypes, set the jax_enable_x64 configuration option or the JAX_ENABLE_X64 shell environment variable. See https://github.com/google/jax#current-gotchas for more.\n",
      "  return lax_numpy.astype(arr, dtype)\n",
      "/feynman/work/dphp/hs276503/envs/montenvtest3/lib/python3.12/site-packages/jax/_src/numpy/array_methods.py:66: UserWarning: Explicitly requested dtype <class 'jax.numpy.int64'> requested in astype is not available, and will be truncated to dtype int32. To enable more dtypes, set the jax_enable_x64 configuration option or the JAX_ENABLE_X64 shell environment variable. See https://github.com/google/jax#current-gotchas for more.\n",
      "  return lax_numpy.astype(arr, dtype)\n"
     ]
    },
    {
     "name": "stdout",
     "output_type": "stream",
     "text": [
      "No fiducial spectral power mesh stored. Will use linear spectral power mesh computed at location of cosmology prior.\n"
     ]
    },
    {
     "name": "stderr",
     "output_type": "stream",
     "text": [
      "/feynman/work/dphp/hs276503/envs/montenvtest3/lib/python3.12/site-packages/jax/_src/numpy/array_methods.py:66: UserWarning: Explicitly requested dtype <class 'jax.numpy.int64'> requested in astype is not available, and will be truncated to dtype int32. To enable more dtypes, set the jax_enable_x64 configuration option or the JAX_ENABLE_X64 shell environment variable. See https://github.com/google/jax#current-gotchas for more.\n",
      "  return lax_numpy.astype(arr, dtype)\n",
      "/feynman/work/dphp/hs276503/envs/montenvtest3/lib/python3.12/site-packages/jax/_src/numpy/array_methods.py:66: UserWarning: Explicitly requested dtype <class 'jax.numpy.int64'> requested in astype is not available, and will be truncated to dtype int32. To enable more dtypes, set the jax_enable_x64 configuration option or the JAX_ENABLE_X64 shell environment variable. See https://github.com/google/jax#current-gotchas for more.\n",
      "  return lax_numpy.astype(arr, dtype)\n"
     ]
    },
    {
     "name": "stdout",
     "output_type": "stream",
     "text": [
      "No fiducial spectral power mesh stored. Will use linear spectral power mesh computed at location of cosmology prior.\n"
     ]
    },
    {
     "name": "stderr",
     "output_type": "stream",
     "text": [
      "/feynman/work/dphp/hs276503/envs/montenvtest3/lib/python3.12/site-packages/jax/_src/numpy/array_methods.py:66: UserWarning: Explicitly requested dtype <class 'jax.numpy.int64'> requested in astype is not available, and will be truncated to dtype int32. To enable more dtypes, set the jax_enable_x64 configuration option or the JAX_ENABLE_X64 shell environment variable. See https://github.com/google/jax#current-gotchas for more.\n",
      "  return lax_numpy.astype(arr, dtype)\n",
      "/feynman/work/dphp/hs276503/envs/montenvtest3/lib/python3.12/site-packages/jax/_src/numpy/array_methods.py:66: UserWarning: Explicitly requested dtype <class 'jax.numpy.int64'> requested in astype is not available, and will be truncated to dtype int32. To enable more dtypes, set the jax_enable_x64 configuration option or the JAX_ENABLE_X64 shell environment variable. See https://github.com/google/jax#current-gotchas for more.\n",
      "  return lax_numpy.astype(arr, dtype)\n",
      "  0%|          | 0/64 [00:00<?, ?it/s]/feynman/work/dphp/hs276503/envs/montenvtest3/lib/python3.12/site-packages/jax/_src/numpy/array_methods.py:66: UserWarning: Explicitly requested dtype <class 'jax.numpy.int64'> requested in astype is not available, and will be truncated to dtype int32. To enable more dtypes, set the jax_enable_x64 configuration option or the JAX_ENABLE_X64 shell environment variable. See https://github.com/google/jax#current-gotchas for more.\n",
      "  return lax_numpy.astype(arr, dtype)\n"
     ]
    },
    {
     "name": "stdout",
     "output_type": "stream",
     "text": [
      "No fiducial spectral power mesh stored. Will use linear spectral power mesh computed at location of cosmology prior.\n"
     ]
    },
    {
     "name": "stderr",
     "output_type": "stream",
     "text": [
      "/feynman/work/dphp/hs276503/envs/montenvtest3/lib/python3.12/site-packages/jax/_src/numpy/array_methods.py:66: UserWarning: Explicitly requested dtype <class 'jax.numpy.int64'> requested in astype is not available, and will be truncated to dtype int32. To enable more dtypes, set the jax_enable_x64 configuration option or the JAX_ENABLE_X64 shell environment variable. See https://github.com/google/jax#current-gotchas for more.\n",
      "  return lax_numpy.astype(arr, dtype)\n",
      "warmup: 100%|██████████| 64/64 [04:37<00:00,  4.34s/it]\n"
     ]
    },
    {
     "name": "stdout",
     "output_type": "stream",
     "text": [
      "mean_acc_prob: [0.60532105 0.5501997  0.27287793 0.5767577 ] \n",
      "ss: [0.05 0.05 0.05 0.05] \n",
      "mm_sqrt: {('Omega_m_', 'init_mesh_', 'sigma8_'): Array([[2.9627774, 0.9128857, 1.6227142, ..., 1.0299382, 1.0582743,\n",
      "        3.134947 ],\n",
      "       [2.4961817, 1.0449622, 1.3615553, ..., 1.042175 , 0.9003304,\n",
      "        3.9323285],\n",
      "       [9.2735405, 1.8633034, 3.9379005, ..., 1.9645598, 1.3061264,\n",
      "        1.8159566],\n",
      "       [3.201896 , 1.0938468, 1.8880725, ..., 1.1921959, 1.0810128,\n",
      "        2.2524283]], dtype=float32)}\n",
      "\n",
      "run 1/15\n"
     ]
    },
    {
     "name": "stderr",
     "output_type": "stream",
     "text": [
      "sample: 100%|██████████| 64/64 [04:06<00:00,  3.86s/it]\n"
     ]
    },
    {
     "name": "stdout",
     "output_type": "stream",
     "text": [
      "\n",
      "run 2/15\n"
     ]
    },
    {
     "name": "stderr",
     "output_type": "stream",
     "text": [
      "sample: 100%|██████████| 64/64 [04:05<00:00,  3.84s/it]\n"
     ]
    },
    {
     "name": "stdout",
     "output_type": "stream",
     "text": [
      "\n",
      "run 3/15\n"
     ]
    },
    {
     "name": "stderr",
     "output_type": "stream",
     "text": [
      "sample: 100%|██████████| 64/64 [04:08<00:00,  3.88s/it]\n"
     ]
    },
    {
     "name": "stdout",
     "output_type": "stream",
     "text": [
      "\n",
      "run 4/15\n"
     ]
    },
    {
     "name": "stderr",
     "output_type": "stream",
     "text": [
      "sample: 100%|██████████| 64/64 [04:07<00:00,  3.86s/it]\n"
     ]
    },
    {
     "name": "stdout",
     "output_type": "stream",
     "text": [
      "\n",
      "run 5/15\n"
     ]
    },
    {
     "name": "stderr",
     "output_type": "stream",
     "text": [
      "sample: 100%|██████████| 64/64 [04:07<00:00,  3.87s/it]\n"
     ]
    },
    {
     "name": "stdout",
     "output_type": "stream",
     "text": [
      "\n",
      "run 6/15\n"
     ]
    },
    {
     "name": "stderr",
     "output_type": "stream",
     "text": [
      "sample: 100%|██████████| 64/64 [04:07<00:00,  3.86s/it]\n"
     ]
    },
    {
     "name": "stdout",
     "output_type": "stream",
     "text": [
      "\n",
      "run 7/15\n"
     ]
    },
    {
     "name": "stderr",
     "output_type": "stream",
     "text": [
      "sample: 100%|██████████| 64/64 [04:57<00:00,  4.65s/it]\n"
     ]
    },
    {
     "name": "stdout",
     "output_type": "stream",
     "text": [
      "\n",
      "run 8/15\n"
     ]
    },
    {
     "name": "stderr",
     "output_type": "stream",
     "text": [
      "sample: 100%|██████████| 64/64 [05:34<00:00,  5.23s/it]\n"
     ]
    },
    {
     "name": "stdout",
     "output_type": "stream",
     "text": [
      "\n",
      "run 9/15\n"
     ]
    },
    {
     "name": "stderr",
     "output_type": "stream",
     "text": [
      "sample:  28%|██▊       | 18/64 [01:34<03:59,  5.20s/it]"
     ]
    }
   ],
   "source": [
    "from tqdm import tqdm\n",
    "if mcmc_config['sampler'] in ['NUTS', 'HMC']:\n",
    "    mcmc = get_mcmc(model.model, mcmc_config)\n",
    "    if continue_run:\n",
    "        print(f\"{jnp.result_type(True)=}\") # HACK: why is it working?!!\n",
    "        mcmc.num_warmup = 0\n",
    "        mcmc.post_warmup_state = pload(save_path + \"_last_state.p\")\n",
    "        start = 3 ###############\n",
    "        end = start + mcmc_config['n_runs'] - 1\n",
    "        mcmc_runned = sample_and_save(mcmc, save_path, start, end, rng=44, extra_fields=['num_steps'])\n",
    "\n",
    "    else:\n",
    "        # mcmc_runned = sample_and_save(mcmc, save_path, 0, mcmc_config['n_runs'], extra_fields=['num_steps'], init_params=init_params_)\n",
    "        mcmc_runned = sample_and_save(mcmc, save_path, 0, 15, extra_fields=['num_steps'], init_params=init_params_)\n",
    "\n",
    "elif mcmc_config['sampler'] == 'NUTSWG':\n",
    "    from montecosmo.samplers import nutswg_init, get_nutswg_warm, get_nutswg_run\n",
    "    n_samples, n_runs, n_chains = mcmc_config['n_samples'], mcmc_config['n_runs'], mcmc_config['n_chains']\n",
    "\n",
    "    step_fn, init_fn, conf, init_state_fn = nutswg_init(model.logpdf)\n",
    "\n",
    "    # warmup_fn = jit(vmap(get_nutswg_warm(model.logpdf, conf, mcmc_config['n_samples'], progress_bar=False)))\n",
    "    # state = jit(vmap(init_state_fn))(init_params_)\n",
    "\n",
    "    # samples, infos, state, conf = warmup_fn(jr.split(jr.key(43), n_chains), state)\n",
    "    # print(\"conf:\", conf,\n",
    "    #         \"\\n\\ninfos:\", infos, '\\n#################\\n')\n",
    "    # jnp.savez(save_path+f\"_{0}.npz\", **samples | {k:infos[k] for k in ['n_evals']})\n",
    "    # pdump(state, save_path+f\"_last_state.p\")\n",
    "    # pdump(conf, save_path+'_conf.p'), pdump(tree.map(jnp.mean, infos), save_path+'_infos.p')\n",
    "\n",
    "    conf = pload(save_path+'_conf.p')\n",
    "    state = pload(save_path+'_last_state.p')\n",
    "    \n",
    "    run_fn = jit(vmap(get_nutswg_run(model.logpdf, step_fn, init_fn, n_samples, progress_bar=False)))\n",
    "    start = 1 ######\n",
    "    end = start + n_runs - 1\n",
    "    key = jr.key(42)\n",
    "    for i_run in tqdm(range(start, end+1)):\n",
    "        print(f\"run {i_run}/{end}\")\n",
    "        key, run_key = jr.split(key, 2)\n",
    "        samples, infos, state = run_fn(jr.split(run_key, n_chains), state, conf)\n",
    "        print(\"infos:\", tree.map(lambda x: jnp.mean(x, 1), infos))\n",
    "        jnp.savez(save_path+f\"_{i_run}.npz\", **samples | {k:infos[k] for k in ['n_evals']})\n",
    "        pdump(state, save_path+f\"_last_state.p\")\n",
    "\n",
    "elif mcmc_config['sampler'] == 'MCLMC':\n",
    "    from montecosmo.samplers import get_mclmc_warmup, get_mclmc_run\n",
    "\n",
    "    config = None\n",
    "    # config = {'L':256., 'step_size': 2.,} # 256, 2 for 32^3\n",
    "    # config = {'L':193, 'step_size': 45,} # 64^3\n",
    "    # config = {'L':550, 'step_size': 30,} # 64^3 norsdb fOc a=.5\n",
    "    # config = {'L':500, 'step_size': 10,} # 64^3 norsdb\n",
    "    # config = {'L':450, 'step_size': 3,} # 64^3 a=.5\n",
    "    # config = {'L':350, 'step_size': 3,} # 64^3 a=.5\n",
    "    config = {'L':150, 'step_size': 3.5,} # 64, 128^3 a=.5\n",
    "\n",
    "    warmup_fn = jit(vmap(get_mclmc_warmup(model.logpdf, n_samples=4096, config=config)))\n",
    "    state, config = warmup_fn(jr.split(jr.key(43), mcmc_config['n_chains']), init_params_)\n",
    "    print(config)\n",
    "    pdump(state, save_path+f\"_last_state.p\")\n",
    "    pdump(config, save_path+f\"_conf.p\")\n",
    "\n",
    "    # state = pload(save_path+f\"_last_state.p\")\n",
    "    # config = pload(save_path+f\"_conf.p\")\n",
    "    n_samples, n_runs, n_chains = mcmc_config['n_samples'], mcmc_config['n_runs'], mcmc_config['n_chains']\n",
    "\n",
    "    thinning = 128\n",
    "    run_fn = jit(vmap(get_mclmc_run(model.logpdf, n_samples, thinning=thinning, progress_bar=False)))\n",
    "\n",
    "    start = 1 ######\n",
    "    end = start + n_runs - 1\n",
    "    key = jr.key(42)\n",
    "    for i_run in tqdm(range(start, n_runs + start)):\n",
    "        print(f\"run {i_run}/{n_runs}\")\n",
    "        key, run_key = jr.split(key, 2)\n",
    "        state, samples, info = run_fn(jr.split(run_key, n_chains), state, config)\n",
    "        \n",
    "        info = tree.map(lambda x: jnp.mean(x**2, 1), info)\n",
    "        print(info, \"\\nmean square energy fluctuation per dim:\", info.energy_change / model.mesh_shape.astype(float).prod(), '\\n')\n",
    "\n",
    "        jnp.savez(save_path+f\"_{i_run}.npz\", **samples)\n",
    "        pdump(state, save_path+f\"_last_state.p\")"
   ]
  },
  {
   "cell_type": "code",
   "execution_count": null,
   "metadata": {},
   "outputs": [],
   "source": []
  }
 ],
 "metadata": {
  "kernelspec": {
   "display_name": "Python 3 (ipykernel)",
   "language": "python",
   "name": "python3"
  }
 },
 "nbformat": 4,
 "nbformat_minor": 2
}
