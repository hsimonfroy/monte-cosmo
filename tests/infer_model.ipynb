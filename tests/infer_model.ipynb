{
 "cells": [
  {
   "cell_type": "markdown",
   "metadata": {},
   "source": [
    "# Model Inference\n",
    "Infer from a cosmological model via MCMC samplers. "
   ]
  },
  {
   "cell_type": "code",
   "execution_count": 1,
   "metadata": {},
   "outputs": [],
   "source": [
    "import os; os.environ['XLA_PYTHON_CLIENT_MEM_FRACTION']='.66' # NOTE: jax preallocates GPU (default 75%)\n",
    "import matplotlib.pyplot as plt\n",
    "import numpy as np\n",
    "from jax import numpy as jnp, random as jr, jit, vmap, grad, debug, tree\n",
    "import jax; jax.config.update(\"jax_enable_x64\", True)\n",
    "\n",
    "from functools import partial\n",
    "from getdist import plots\n",
    "from numpyro import infer\n",
    "\n",
    "from montecosmo.model import FieldLevelModel, default_config\n",
    "from montecosmo.utils import pdump, pload\n",
    "from montecosmo.mcbench import sample_and_save\n",
    "from montecosmo.script import from_id, get_mcmc, get_init_mcmc\n",
    "\n",
    "# import mlflow\n",
    "# mlflow.set_tracking_uri(uri=\"http://127.0.0.1:8081\")\n",
    "# mlflow.set_experiment(\"infer\")\n",
    "# !jupyter nbconvert --to script ./src/montecosmo/tests/infer_model.ipynb\n",
    "\n",
    "%matplotlib inline\n",
    "%load_ext autoreload\n",
    "%autoreload 2"
   ]
  },
  {
   "cell_type": "markdown",
   "metadata": {},
   "source": [
    "## Config and fiduc"
   ]
  },
  {
   "cell_type": "code",
   "execution_count": 2,
   "metadata": {},
   "outputs": [
    {
     "name": "stdout",
     "output_type": "stream",
     "text": [
      "SLURM_ARRAY_TASK_ID: 4030\n"
     ]
    }
   ],
   "source": [
    "################## TO SET #######################\n",
    "# task_id = int(os.environ['SLURM_ARRAY_TASK_ID'])\n",
    "task_id = 4030\n",
    "print(\"SLURM_ARRAY_TASK_ID:\", task_id)\n",
    "model, mcmc_config, save_dir, save_path = from_id(task_id)\n",
    "os.makedirs(save_dir, exist_ok=True)\n",
    "\n",
    "# import sys\n",
    "# tempstdout, tempstderr = sys.stdout, sys.stderr\n",
    "# sys.stdout = sys.stderr = open(save_path+'.out', 'a')\n",
    "# job_id = int(os.environ['SLURM_ARRAY_JOB_ID'])\n",
    "# print(\"SLURM_ARRAY_JOB_ID:\", job_id)\n",
    "# print(\"SLURM_ARRAY_TASK_ID:\", task_id)"
   ]
  },
  {
   "cell_type": "code",
   "execution_count": 3,
   "metadata": {},
   "outputs": [
    {
     "name": "stdout",
     "output_type": "stream",
     "text": [
      "# CONFIG\n",
      "{'a_lpt': 0.5,\n",
      " 'a_obs': 0.5,\n",
      " 'box_shape': array([640., 640., 640.]),\n",
      " 'gxy_density': 0.001,\n",
      " 'latents': {'Omega_m': {'group': 'cosmo',\n",
      "                         'high': 1.0,\n",
      "                         'label': '{\\\\Omega}_m',\n",
      "                         'loc': 0.3111,\n",
      "                         'low': 0.05,\n",
      "                         'scale': 0.2},\n",
      "             'b1': {'group': 'bias',\n",
      "                    'label': '{b}_1',\n",
      "                    'loc': 1.0,\n",
      "                    'scale': 0.5},\n",
      "             'b2': {'group': 'bias',\n",
      "                    'label': '{b}_2',\n",
      "                    'loc': 0.0,\n",
      "                    'scale': 2.0},\n",
      "             'bn2': {'group': 'bias',\n",
      "                     'label': '{b}_{\\\\nabla^2}',\n",
      "                     'loc': 0.0,\n",
      "                     'scale': 2.0},\n",
      "             'bs2': {'group': 'bias',\n",
      "                     'label': '{b}_{s^2}',\n",
      "                     'loc': 0.0,\n",
      "                     'scale': 2.0},\n",
      "             'init_mesh': {'group': 'init',\n",
      "                           'label': '{\\\\delta}_L'},\n",
      "             'sigma8': {'group': 'cosmo',\n",
      "                        'label': '{\\\\sigma}_8',\n",
      "                        'loc': 0.8102,\n",
      "                        'low': 0.0,\n",
      "                        'scale': 0.2}},\n",
      " 'lpt_order': 0,\n",
      " 'mesh_shape': array([128, 128, 128]),\n",
      " 'nbody_steps': 5,\n",
      " 'obs': 'field',\n",
      " 'precond': 3,\n",
      " 'snapshots': None}\n",
      "\n",
      "# INFOS\n",
      "cell_shape:     [5.0, 5.0, 5.0] Mpc/h\n",
      "k_funda:        0.00982 h/Mpc\n",
      "k_nyquist:      0.62832 h/Mpc\n",
      "mean_gxy_count: 0.125 gxy/cell\n",
      "\n",
      "{'sampler': 'NUTS', 'target_accept_prob': 0.65, 'n_samples': 64, 'max_tree_depth': 10, 'n_runs': 1, 'n_chains': 2}\n"
     ]
    },
    {
     "name": "stderr",
     "output_type": "stream",
     "text": [
      "2025-01-28 10:49:32.389106: W external/xla/xla/service/gpu/nvptx_compiler.cc:742] The NVIDIA driver's CUDA version is 11.5 which is older than the ptxas CUDA version (11.8.89). Because the driver is older than the ptxas version, XLA is disabling parallel compilation, which may slow down compilation. You should update your NVIDIA driver or use the NVIDIA-provided CUDA forward compatibility packages.\n"
     ]
    },
    {
     "name": "stdout",
     "output_type": "stream",
     "text": [
      "Saving model and truth at /feynman/home/dphp/hs276503/scratch/pickles/m128_b640.0_al0.5_ao0.5_lo0_pc3_obfield/\n"
     ]
    }
   ],
   "source": [
    "print(model)\n",
    "print(mcmc_config)\n",
    "# model.render()\n",
    "\n",
    "if not os.path.exists(save_dir+\"truth.p\") or True:\n",
    "    # Predict and save fiducial\n",
    "    truth = {'Omega_m': 0.31, \n",
    "            'sigma8': 0.81, \n",
    "            'b1': 1., \n",
    "            'b2':0., \n",
    "            'bs2':0., \n",
    "            'bn2': 0.}\n",
    "\n",
    "    model.reset()\n",
    "    truth = model.predict(samples=truth, hide_base=False, hide_samp=False, frombase=True)\n",
    "    \n",
    "    print(f\"Saving model and truth at {save_dir}\")\n",
    "    model.save(save_dir)    \n",
    "    pdump(truth, save_dir+\"truth.p\")\n",
    "else:\n",
    "    print(f\"Loading truth from {save_dir}\")\n",
    "    truth = pload(save_dir+\"truth.p\")\n",
    "\n",
    "model.condition({'obs': truth['obs']})\n",
    "model.delta_obs = truth['obs'] - 1\n",
    "model.block()\n",
    "# model.render()"
   ]
  },
  {
   "cell_type": "markdown",
   "metadata": {},
   "source": [
    "## Run"
   ]
  },
  {
   "cell_type": "markdown",
   "metadata": {},
   "source": [
    "### NUTS, HMC"
   ]
  },
  {
   "cell_type": "code",
   "execution_count": null,
   "metadata": {},
   "outputs": [
    {
     "name": "stdout",
     "output_type": "stream",
     "text": [
      "# Warmupping...\n",
      "\n",
      "run 0/0 (warmup)\n"
     ]
    },
    {
     "name": "stderr",
     "output_type": "stream",
     "text": [
      "warmup:   3%|▎         | 1/32 [05:05<2:38:03, 305.93s/it]"
     ]
    }
   ],
   "source": [
    "continue_run = False\n",
    "if continue_run:\n",
    "    model.reset()\n",
    "    model.condition({'obs': truth['obs']})\n",
    "    model.block()\n",
    "    mcmc = get_mcmc(model.model, mcmc_config)\n",
    "\n",
    "    state = pload(save_path + \"_last_state.p\")\n",
    "    mcmc.num_warmup = 0\n",
    "    mcmc.post_warmup_state = state\n",
    "    init_params_ = None\n",
    "else:\n",
    "    model.reset()\n",
    "    model.condition({'obs': truth['obs']} | model.prior_loc, frombase=True)\n",
    "    model.block()\n",
    "\n",
    "    mcmc = get_init_mcmc(model.model, mcmc_config['n_chains'])    \n",
    "    print(\"# Warmupping...\")\n",
    "    init_params_ = jit(vmap(model.init_model))(jr.split(jr.key(45), mcmc.num_chains))\n",
    "    # init_params_ = model.predict(45, samples=mcmc.num_chains, hide_samp=False)\n",
    "\n",
    "\n",
    "    init_mesh_ = {k: init_params_[k] for k in ['init_mesh_']} # NOTE: !!!!!!!\n",
    "    mcmc = sample_and_save(mcmc, save_path+'_init', 0, 0, extra_fields=['num_steps'], init_params=init_mesh_)\n",
    "    ils = mcmc.last_state.z\n",
    "    \n",
    "    # ils = pload(save_path + \"_init_last_state.p\").z\n",
    "    # ils = {k: jnp.broadcast_to(v, (mcmc_config['n_chains'], *jnp.shape(v))) for k, v in truth.items()}\n",
    "    # ils = {k+'_': ils[k+'_'] for k in ['Omega_m','sigma8','b1','b2','bs2','bn2','init_mesh']}\n",
    "\n",
    "\n",
    "    ################\n",
    "    from montecosmo.plot import plot_pow, plot_powtranscoh, plot_coh\n",
    "    mesh0 = jnp.fft.irfftn(truth['init_mesh'])\n",
    "    kptcs__ = vmap(lambda x: model.powtranscoh(mesh0, model.reparam(x, fourier=False)['init_mesh']))(init_params_)\n",
    "    kptcs_ = vmap(lambda x: model.powtranscoh(mesh0, model.reparam(x, fourier=False)['init_mesh']))(init_params_ | ils)\n",
    "    kpk0 = model.spectrum(mesh0)\n",
    "    kptc_obs = model.powtranscoh(mesh0, truth['obs'] - 1)\n",
    "    kpkobs = model.spectrum(truth['obs']-1)\n",
    "    \n",
    "    print(ils.keys(), init_params_.keys())\n",
    "\n",
    "    mse__ = jnp.mean((vmap(lambda x: model.reparam(x, fourier=False))(init_params_)['init_mesh']  - mesh0)**2, axis=(1,2,3))\n",
    "    mse_ = jnp.mean((vmap(lambda x: model.reparam(x, fourier=False))(init_params_ | ils)['init_mesh']  - mesh0)**2, axis=(1,2,3))\n",
    "    print(\"MSEs:\", mse_, mse_)\n",
    "\n",
    "    prob = 0.95\n",
    "    plt.figure(figsize=(12, 4))\n",
    "    plot_powtranscoh(*jnp.median(jnp.stack(kptcs__), 1), label='init')\n",
    "    plot_powtranscoh(*kptcs__, fill=prob)\n",
    "    plot_powtranscoh(*jnp.median(jnp.stack(kptcs_), 1), label='warm')\n",
    "    plot_powtranscoh(*kptcs_, fill=prob)\n",
    "    plt.subplot(131)\n",
    "    plot_pow(*kpk0, 'k', label='true')\n",
    "    plot_pow(*kpkobs, ':', c='grey', label='obs')\n",
    "    plt.legend()\n",
    "    plt.subplot(133)\n",
    "    plot_coh(kptc_obs[0], kptc_obs[-1], ':', c='grey', label='obs')\n",
    "    plt.tight_layout()\n",
    "    # plt.savefig(save_dir+f'initpk_{task_id}.png')\n",
    "    plt.savefig(f'init_glin_{task_id}.png')\n",
    "\n",
    "    last_state = pload(save_path + \"_init_last_state.p\")\n",
    "    print(\"mean_acc_prob:\", last_state.mean_accept_prob, \n",
    "        \"\\nss:\", last_state.adapt_state.step_size, \n",
    "        \"\\nmm_sqrt:\", last_state.adapt_state.mass_matrix_sqrt)\n",
    "    ################\n",
    "    \n",
    "    init_params_ |= ils\n",
    "    # init_params_ |= mcmc.last_state.z\n",
    "    print(init_params_.keys())\n",
    "    model.reset()\n",
    "    model.condition({'obs': truth['obs']})\n",
    "    model.block()"
   ]
  },
  {
   "cell_type": "code",
   "execution_count": 6,
   "metadata": {},
   "outputs": [
    {
     "name": "stdout",
     "output_type": "stream",
     "text": [
      "run 1/1\n"
     ]
    },
    {
     "name": "stderr",
     "output_type": "stream",
     "text": [
      "/feynman/work/dphp/hs276503/envs/montenvtest3/lib/python3.12/site-packages/jax/_src/numpy/array_methods.py:66: UserWarning: Explicitly requested dtype <class 'jax.numpy.int64'> requested in astype is not available, and will be truncated to dtype int32. To enable more dtypes, set the jax_enable_x64 configuration option or the JAX_ENABLE_X64 shell environment variable. See https://github.com/google/jax#current-gotchas for more.\n",
      "  return lax_numpy.astype(arr, dtype)\n",
      "/feynman/work/dphp/hs276503/envs/montenvtest3/lib/python3.12/site-packages/jax/_src/numpy/array_methods.py:66: UserWarning: Explicitly requested dtype <class 'jax.numpy.int64'> requested in astype is not available, and will be truncated to dtype int32. To enable more dtypes, set the jax_enable_x64 configuration option or the JAX_ENABLE_X64 shell environment variable. See https://github.com/google/jax#current-gotchas for more.\n",
      "  return lax_numpy.astype(arr, dtype)\n",
      "/feynman/work/dphp/hs276503/envs/montenvtest3/lib/python3.12/site-packages/jax/_src/numpy/array_methods.py:66: UserWarning: Explicitly requested dtype <class 'jax.numpy.int64'> requested in astype is not available, and will be truncated to dtype int32. To enable more dtypes, set the jax_enable_x64 configuration option or the JAX_ENABLE_X64 shell environment variable. See https://github.com/google/jax#current-gotchas for more.\n",
      "  return lax_numpy.astype(arr, dtype)\n",
      "/feynman/work/dphp/hs276503/envs/montenvtest3/lib/python3.12/site-packages/jax/_src/numpy/array_methods.py:66: UserWarning: Explicitly requested dtype <class 'jax.numpy.int64'> requested in astype is not available, and will be truncated to dtype int32. To enable more dtypes, set the jax_enable_x64 configuration option or the JAX_ENABLE_X64 shell environment variable. See https://github.com/google/jax#current-gotchas for more.\n",
      "  return lax_numpy.astype(arr, dtype)\n",
      "/feynman/work/dphp/hs276503/envs/montenvtest3/lib/python3.12/site-packages/jax/_src/numpy/array_methods.py:66: UserWarning: Explicitly requested dtype <class 'jax.numpy.int64'> requested in astype is not available, and will be truncated to dtype int32. To enable more dtypes, set the jax_enable_x64 configuration option or the JAX_ENABLE_X64 shell environment variable. See https://github.com/google/jax#current-gotchas for more.\n",
      "  return lax_numpy.astype(arr, dtype)\n"
     ]
    },
    {
     "data": {
      "text/plain": [
       "MCLMCAdaptationState(L=Array([3.1170946e+01, 2.0377252e+02, 1.8635909e+02, 9.3546687e-06],      dtype=float32), step_size=Array([3.3468649e-01, 5.9294987e+00, 4.4638515e+00, 6.8132016e-05],      dtype=float32))"
      ]
     },
     "execution_count": 6,
     "metadata": {},
     "output_type": "execute_result"
    }
   ],
   "source": [
    "from montecosmo.samplers import get_mclmc_run\n",
    "\n",
    "n_samples, n_runs, n_chains = 8192, 1, 4\n",
    "# config = {'L':100, 'step_size': 10,}\n",
    "config = None\n",
    "run_fn = jit(vmap(get_mclmc_run(model.logpdf, n_samples, config=config)))\n",
    "key = jr.key(42)\n",
    "thinning = 1\n",
    "state = init_params_\n",
    "\n",
    "for i_run in range(1, n_runs+1):\n",
    "    print(f\"run {i_run}/{n_runs}\")\n",
    "    key, run_key = jr.split(key, 2)\n",
    "    # state, samples, infos = run_fn(jr.split(run_key, n_chains), state)\n",
    "    out = run_fn(jr.split(run_key, n_chains), state)\n",
    "    # samples, infos, last_state, config = out\n",
    "    \n",
    "    # samples = tree.map(lambda x: x[:,::thinning], samples)\n",
    "    # infos = tree.map(lambda x: thinning * x[:,::thinning], infos)\n",
    "    # pdump(samples | infos, save_path+f\"_{i_run}.p\")\n",
    "    # pdump(state, save_path+f\"_last_state.p\")\n",
    "out[1]"
   ]
  },
  {
   "cell_type": "code",
   "execution_count": 7,
   "metadata": {},
   "outputs": [
    {
     "name": "stdout",
     "output_type": "stream",
     "text": [
      "run 1/1\n"
     ]
    },
    {
     "name": "stderr",
     "output_type": "stream",
     "text": [
      "/feynman/work/dphp/hs276503/envs/montenvtest3/lib/python3.12/site-packages/jax/_src/numpy/array_methods.py:66: UserWarning: Explicitly requested dtype <class 'jax.numpy.int64'> requested in astype is not available, and will be truncated to dtype int32. To enable more dtypes, set the jax_enable_x64 configuration option or the JAX_ENABLE_X64 shell environment variable. See https://github.com/google/jax#current-gotchas for more.\n",
      "  return lax_numpy.astype(arr, dtype)\n",
      "/feynman/work/dphp/hs276503/envs/montenvtest3/lib/python3.12/site-packages/jax/_src/numpy/array_methods.py:66: UserWarning: Explicitly requested dtype <class 'jax.numpy.int64'> requested in astype is not available, and will be truncated to dtype int32. To enable more dtypes, set the jax_enable_x64 configuration option or the JAX_ENABLE_X64 shell environment variable. See https://github.com/google/jax#current-gotchas for more.\n",
      "  return lax_numpy.astype(arr, dtype)\n",
      "/feynman/work/dphp/hs276503/envs/montenvtest3/lib/python3.12/site-packages/jax/_src/numpy/array_methods.py:66: UserWarning: Explicitly requested dtype <class 'jax.numpy.int64'> requested in astype is not available, and will be truncated to dtype int32. To enable more dtypes, set the jax_enable_x64 configuration option or the JAX_ENABLE_X64 shell environment variable. See https://github.com/google/jax#current-gotchas for more.\n",
      "  return lax_numpy.astype(arr, dtype)\n",
      "/feynman/work/dphp/hs276503/envs/montenvtest3/lib/python3.12/site-packages/jax/_src/numpy/array_methods.py:66: UserWarning: Explicitly requested dtype <class 'jax.numpy.int64'> requested in astype is not available, and will be truncated to dtype int32. To enable more dtypes, set the jax_enable_x64 configuration option or the JAX_ENABLE_X64 shell environment variable. See https://github.com/google/jax#current-gotchas for more.\n",
      "  return lax_numpy.astype(arr, dtype)\n",
      "/feynman/work/dphp/hs276503/envs/montenvtest3/lib/python3.12/site-packages/jax/_src/numpy/array_methods.py:66: UserWarning: Explicitly requested dtype <class 'jax.numpy.int64'> requested in astype is not available, and will be truncated to dtype int32. To enable more dtypes, set the jax_enable_x64 configuration option or the JAX_ENABLE_X64 shell environment variable. See https://github.com/google/jax#current-gotchas for more.\n",
      "  return lax_numpy.astype(arr, dtype)\n"
     ]
    },
    {
     "data": {
      "text/plain": [
       "MCLMCAdaptationState(L=Array([1.1439590e+01, 1.4566362e+02, 1.5917834e+02, 3.4869756e-03],      dtype=float32), step_size=Array([2.4258757e-01, 4.2281013e+00, 5.0456338e+00, 8.3046267e-05],      dtype=float32))"
      ]
     },
     "execution_count": 7,
     "metadata": {},
     "output_type": "execute_result"
    }
   ],
   "source": [
    "from montecosmo.samplers import get_mclmc_run\n",
    "\n",
    "n_samples, n_runs, n_chains = 4096, 1, 4\n",
    "# config = {'L':100, 'step_size': 10,}\n",
    "config = None\n",
    "run_fn = jit(vmap(get_mclmc_run(model.logpdf, n_samples, config=config)))\n",
    "key = jr.key(42)\n",
    "thinning = 1\n",
    "state = init_params_\n",
    "\n",
    "for i_run in range(1, n_runs+1):\n",
    "    print(f\"run {i_run}/{n_runs}\")\n",
    "    key, run_key = jr.split(key, 2)\n",
    "    # state, samples, infos = run_fn(jr.split(run_key, n_chains), state)\n",
    "    out = run_fn(jr.split(run_key, n_chains), state)\n",
    "    # samples, infos, last_state, config = out\n",
    "    \n",
    "    # samples = tree.map(lambda x: x[:,::thinning], samples)\n",
    "    # infos = tree.map(lambda x: thinning * x[:,::thinning], infos)\n",
    "    # pdump(samples | infos, save_path+f\"_{i_run}.p\")\n",
    "    # pdump(state, save_path+f\"_last_state.p\")\n",
    "out[1]"
   ]
  },
  {
   "cell_type": "code",
   "execution_count": 8,
   "metadata": {},
   "outputs": [
    {
     "name": "stdout",
     "output_type": "stream",
     "text": [
      "run 1/1\n"
     ]
    },
    {
     "name": "stderr",
     "output_type": "stream",
     "text": [
      "/feynman/work/dphp/hs276503/envs/montenvtest3/lib/python3.12/site-packages/jax/_src/numpy/array_methods.py:66: UserWarning: Explicitly requested dtype <class 'jax.numpy.int64'> requested in astype is not available, and will be truncated to dtype int32. To enable more dtypes, set the jax_enable_x64 configuration option or the JAX_ENABLE_X64 shell environment variable. See https://github.com/google/jax#current-gotchas for more.\n",
      "  return lax_numpy.astype(arr, dtype)\n",
      "/feynman/work/dphp/hs276503/envs/montenvtest3/lib/python3.12/site-packages/jax/_src/numpy/array_methods.py:66: UserWarning: Explicitly requested dtype <class 'jax.numpy.int64'> requested in astype is not available, and will be truncated to dtype int32. To enable more dtypes, set the jax_enable_x64 configuration option or the JAX_ENABLE_X64 shell environment variable. See https://github.com/google/jax#current-gotchas for more.\n",
      "  return lax_numpy.astype(arr, dtype)\n",
      "/feynman/work/dphp/hs276503/envs/montenvtest3/lib/python3.12/site-packages/jax/_src/numpy/array_methods.py:66: UserWarning: Explicitly requested dtype <class 'jax.numpy.int64'> requested in astype is not available, and will be truncated to dtype int32. To enable more dtypes, set the jax_enable_x64 configuration option or the JAX_ENABLE_X64 shell environment variable. See https://github.com/google/jax#current-gotchas for more.\n",
      "  return lax_numpy.astype(arr, dtype)\n",
      "/feynman/work/dphp/hs276503/envs/montenvtest3/lib/python3.12/site-packages/jax/_src/numpy/array_methods.py:66: UserWarning: Explicitly requested dtype <class 'jax.numpy.int64'> requested in astype is not available, and will be truncated to dtype int32. To enable more dtypes, set the jax_enable_x64 configuration option or the JAX_ENABLE_X64 shell environment variable. See https://github.com/google/jax#current-gotchas for more.\n",
      "  return lax_numpy.astype(arr, dtype)\n",
      "/feynman/work/dphp/hs276503/envs/montenvtest3/lib/python3.12/site-packages/jax/_src/numpy/array_methods.py:66: UserWarning: Explicitly requested dtype <class 'jax.numpy.int64'> requested in astype is not available, and will be truncated to dtype int32. To enable more dtypes, set the jax_enable_x64 configuration option or the JAX_ENABLE_X64 shell environment variable. See https://github.com/google/jax#current-gotchas for more.\n",
      "  return lax_numpy.astype(arr, dtype)\n"
     ]
    },
    {
     "data": {
      "text/plain": [
       "MCLMCAdaptationState(L=Array([4.4882641e+00, 7.1768051e+01, 8.3806877e+01, 1.2227942e-05],      dtype=float32), step_size=Array([1.9017173e-01, 3.2720368e+00, 3.9201205e+00, 7.0605063e-05],      dtype=float32))"
      ]
     },
     "execution_count": 8,
     "metadata": {},
     "output_type": "execute_result"
    }
   ],
   "source": [
    "from montecosmo.samplers import get_mclmc_run\n",
    "\n",
    "n_samples, n_runs, n_chains = 2048, 1, 4\n",
    "# config = {'L':100, 'step_size': 10,}\n",
    "config = None\n",
    "run_fn = jit(vmap(get_mclmc_run(model.logpdf, n_samples, config=config)))\n",
    "key = jr.key(42)\n",
    "thinning = 1\n",
    "state = init_params_\n",
    "\n",
    "for i_run in range(1, n_runs+1):\n",
    "    print(f\"run {i_run}/{n_runs}\")\n",
    "    key, run_key = jr.split(key, 2)\n",
    "    # state, samples, infos = run_fn(jr.split(run_key, n_chains), state)\n",
    "    out = run_fn(jr.split(run_key, n_chains), state)\n",
    "    # samples, infos, last_state, config = out\n",
    "    \n",
    "    # samples = tree.map(lambda x: x[:,::thinning], samples)\n",
    "    # infos = tree.map(lambda x: thinning * x[:,::thinning], infos)\n",
    "    # pdump(samples | infos, save_path+f\"_{i_run}.p\")\n",
    "    # pdump(state, save_path+f\"_last_state.p\")\n",
    "out[1]"
   ]
  },
  {
   "cell_type": "code",
   "execution_count": 9,
   "metadata": {},
   "outputs": [
    {
     "name": "stdout",
     "output_type": "stream",
     "text": [
      "run 1/1\n"
     ]
    },
    {
     "name": "stderr",
     "output_type": "stream",
     "text": [
      "/feynman/work/dphp/hs276503/envs/montenvtest3/lib/python3.12/site-packages/jax/_src/numpy/array_methods.py:66: UserWarning: Explicitly requested dtype <class 'jax.numpy.int64'> requested in astype is not available, and will be truncated to dtype int32. To enable more dtypes, set the jax_enable_x64 configuration option or the JAX_ENABLE_X64 shell environment variable. See https://github.com/google/jax#current-gotchas for more.\n",
      "  return lax_numpy.astype(arr, dtype)\n",
      "/feynman/work/dphp/hs276503/envs/montenvtest3/lib/python3.12/site-packages/jax/_src/numpy/array_methods.py:66: UserWarning: Explicitly requested dtype <class 'jax.numpy.int64'> requested in astype is not available, and will be truncated to dtype int32. To enable more dtypes, set the jax_enable_x64 configuration option or the JAX_ENABLE_X64 shell environment variable. See https://github.com/google/jax#current-gotchas for more.\n",
      "  return lax_numpy.astype(arr, dtype)\n",
      "/feynman/work/dphp/hs276503/envs/montenvtest3/lib/python3.12/site-packages/jax/_src/numpy/array_methods.py:66: UserWarning: Explicitly requested dtype <class 'jax.numpy.int64'> requested in astype is not available, and will be truncated to dtype int32. To enable more dtypes, set the jax_enable_x64 configuration option or the JAX_ENABLE_X64 shell environment variable. See https://github.com/google/jax#current-gotchas for more.\n",
      "  return lax_numpy.astype(arr, dtype)\n",
      "/feynman/work/dphp/hs276503/envs/montenvtest3/lib/python3.12/site-packages/jax/_src/numpy/array_methods.py:66: UserWarning: Explicitly requested dtype <class 'jax.numpy.int64'> requested in astype is not available, and will be truncated to dtype int32. To enable more dtypes, set the jax_enable_x64 configuration option or the JAX_ENABLE_X64 shell environment variable. See https://github.com/google/jax#current-gotchas for more.\n",
      "  return lax_numpy.astype(arr, dtype)\n",
      "/feynman/work/dphp/hs276503/envs/montenvtest3/lib/python3.12/site-packages/jax/_src/numpy/array_methods.py:66: UserWarning: Explicitly requested dtype <class 'jax.numpy.int64'> requested in astype is not available, and will be truncated to dtype int32. To enable more dtypes, set the jax_enable_x64 configuration option or the JAX_ENABLE_X64 shell environment variable. See https://github.com/google/jax#current-gotchas for more.\n",
      "  return lax_numpy.astype(arr, dtype)\n"
     ]
    },
    {
     "data": {
      "text/plain": [
       "MCLMCAdaptationState(L=Array([1.9648592e+00, 3.1837847e+01, 3.8086933e+01, 3.1467047e-05],      dtype=float32), step_size=Array([1.6699293e-01, 2.7761035e+00, 3.3545036e+00, 1.5801183e-04],      dtype=float32))"
      ]
     },
     "execution_count": 9,
     "metadata": {},
     "output_type": "execute_result"
    }
   ],
   "source": [
    "from montecosmo.samplers import get_mclmc_run\n",
    "\n",
    "n_samples, n_runs, n_chains = 1024, 1, 4\n",
    "# config = {'L':100, 'step_size': 10,}\n",
    "config = None\n",
    "run_fn = jit(vmap(get_mclmc_run(model.logpdf, n_samples, config=config)))\n",
    "key = jr.key(42)\n",
    "thinning = 1\n",
    "state = init_params_\n",
    "\n",
    "for i_run in range(1, n_runs+1):\n",
    "    print(f\"run {i_run}/{n_runs}\")\n",
    "    key, run_key = jr.split(key, 2)\n",
    "    # state, samples, infos = run_fn(jr.split(run_key, n_chains), state)\n",
    "    out = run_fn(jr.split(run_key, n_chains), state)\n",
    "    # samples, infos, last_state, config = out\n",
    "    \n",
    "    # samples = tree.map(lambda x: x[:,::thinning], samples)\n",
    "    # infos = tree.map(lambda x: thinning * x[:,::thinning], infos)\n",
    "    # pdump(samples | infos, save_path+f\"_{i_run}.p\")\n",
    "    # pdump(state, save_path+f\"_last_state.p\")\n",
    "out[1]"
   ]
  },
  {
   "cell_type": "code",
   "execution_count": 10,
   "metadata": {},
   "outputs": [
    {
     "name": "stdout",
     "output_type": "stream",
     "text": [
      "run 1/1\n"
     ]
    },
    {
     "name": "stderr",
     "output_type": "stream",
     "text": [
      "/feynman/work/dphp/hs276503/envs/montenvtest3/lib/python3.12/site-packages/jax/_src/numpy/array_methods.py:66: UserWarning: Explicitly requested dtype <class 'jax.numpy.int64'> requested in astype is not available, and will be truncated to dtype int32. To enable more dtypes, set the jax_enable_x64 configuration option or the JAX_ENABLE_X64 shell environment variable. See https://github.com/google/jax#current-gotchas for more.\n",
      "  return lax_numpy.astype(arr, dtype)\n",
      "/feynman/work/dphp/hs276503/envs/montenvtest3/lib/python3.12/site-packages/jax/_src/numpy/array_methods.py:66: UserWarning: Explicitly requested dtype <class 'jax.numpy.int64'> requested in astype is not available, and will be truncated to dtype int32. To enable more dtypes, set the jax_enable_x64 configuration option or the JAX_ENABLE_X64 shell environment variable. See https://github.com/google/jax#current-gotchas for more.\n",
      "  return lax_numpy.astype(arr, dtype)\n",
      "/feynman/work/dphp/hs276503/envs/montenvtest3/lib/python3.12/site-packages/jax/_src/numpy/array_methods.py:66: UserWarning: Explicitly requested dtype <class 'jax.numpy.int64'> requested in astype is not available, and will be truncated to dtype int32. To enable more dtypes, set the jax_enable_x64 configuration option or the JAX_ENABLE_X64 shell environment variable. See https://github.com/google/jax#current-gotchas for more.\n",
      "  return lax_numpy.astype(arr, dtype)\n",
      "/feynman/work/dphp/hs276503/envs/montenvtest3/lib/python3.12/site-packages/jax/_src/numpy/array_methods.py:66: UserWarning: Explicitly requested dtype <class 'jax.numpy.int64'> requested in astype is not available, and will be truncated to dtype int32. To enable more dtypes, set the jax_enable_x64 configuration option or the JAX_ENABLE_X64 shell environment variable. See https://github.com/google/jax#current-gotchas for more.\n",
      "  return lax_numpy.astype(arr, dtype)\n",
      "/feynman/work/dphp/hs276503/envs/montenvtest3/lib/python3.12/site-packages/jax/_src/numpy/array_methods.py:66: UserWarning: Explicitly requested dtype <class 'jax.numpy.int64'> requested in astype is not available, and will be truncated to dtype int32. To enable more dtypes, set the jax_enable_x64 configuration option or the JAX_ENABLE_X64 shell environment variable. See https://github.com/google/jax#current-gotchas for more.\n",
      "  return lax_numpy.astype(arr, dtype)\n"
     ]
    },
    {
     "data": {
      "text/plain": [
       "MCLMCAdaptationState(L=Array([9.8105466e-01, 1.3893316e+01, 1.6499535e+01, 6.4159743e-05],      dtype=float32), step_size=Array([1.6948898e-01, 2.4527292e+00, 2.9146953e+00, 2.7389315e-04],      dtype=float32))"
      ]
     },
     "execution_count": 10,
     "metadata": {},
     "output_type": "execute_result"
    }
   ],
   "source": [
    "from montecosmo.samplers import get_mclmc_run\n",
    "\n",
    "n_samples, n_runs, n_chains = 512, 1, 4\n",
    "# config = {'L':100, 'step_size': 10,}\n",
    "config = None\n",
    "run_fn = jit(vmap(get_mclmc_run(model.logpdf, n_samples, config=config)))\n",
    "key = jr.key(42)\n",
    "thinning = 1\n",
    "state = init_params_\n",
    "\n",
    "for i_run in range(1, n_runs+1):\n",
    "    print(f\"run {i_run}/{n_runs}\")\n",
    "    key, run_key = jr.split(key, 2)\n",
    "    # state, samples, infos = run_fn(jr.split(run_key, n_chains), state)\n",
    "    out = run_fn(jr.split(run_key, n_chains), state)\n",
    "    # samples, infos, last_state, config = out\n",
    "    \n",
    "    # samples = tree.map(lambda x: x[:,::thinning], samples)\n",
    "    # infos = tree.map(lambda x: thinning * x[:,::thinning], infos)\n",
    "    # pdump(samples | infos, save_path+f\"_{i_run}.p\")\n",
    "    # pdump(state, save_path+f\"_last_state.p\")\n",
    "out[1]"
   ]
  },
  {
   "cell_type": "code",
   "execution_count": null,
   "metadata": {},
   "outputs": [
    {
     "data": {
      "text/plain": [
       "MCLMCAdaptationState(L=Array([153.19612, 150.34024, 161.03941, 156.01747], dtype=float32), step_size=Array([6.7926793, 6.644535 , 7.1602764, 6.9185805], dtype=float32))"
      ]
     },
     "metadata": {},
     "output_type": "display_data"
    }
   ],
   "source": [
    "out[1]"
   ]
  },
  {
   "cell_type": "code",
   "execution_count": 10,
   "metadata": {},
   "outputs": [
    {
     "data": {
      "text/plain": [
       "MCLMCAdaptationState(L=Array([ 66.60176, 112.361  ,  73.65142,  76.31224], dtype=float32), step_size=Array([5.783938 , 9.876004 , 6.4047756, 6.6390414], dtype=float32))"
      ]
     },
     "execution_count": 10,
     "metadata": {},
     "output_type": "execute_result"
    }
   ],
   "source": [
    "config"
   ]
  },
  {
   "cell_type": "code",
   "execution_count": 9,
   "metadata": {},
   "outputs": [
    {
     "name": "stdout",
     "output_type": "stream",
     "text": [
      "\n",
      "                mean       std    median      5.0%     95.0%     n_eff     r_hat\n",
      "  Omega_m_      1.70      2.80      1.51     -2.02      6.72      2.98      3.37\n",
      "   sigma8_    -17.25     14.05    -12.85    -39.58     -2.80      5.82      2.46\n",
      "       b1_      9.15      9.03      6.73     -0.68     24.67      4.14      3.12\n",
      "       b2_     17.55     24.24      6.04    -12.81     54.73      3.10      3.82\n",
      "      bs2_     -0.03      1.52     -0.38     -2.18      2.04      6.95      2.01\n",
      "      bn2_     -0.63      1.23     -0.29     -2.69      0.97      2.63      2.38\n",
      "\n"
     ]
    },
    {
     "data": {
      "image/png": "[encoded data removed]",
      "text/plain": [
       "<Figure size 1200x400 with 2 Axes>"
      ]
     },
     "metadata": {},
     "output_type": "display_data"
    }
   ],
   "source": [
    "from montecosmo.mcbench import Chains\n",
    "chains = Chains(samples, model.groups|model.groups_, model.labels)\n",
    "# chains = model.reparam_chains(chains[['cosmo_','bias_']])\n",
    "chains[['cosmo_','bias_']].print_summary()\n",
    "plt.figure(figsize=(12, 4))\n",
    "chains.plot(['cosmo_','bias_'])"
   ]
  },
  {
   "cell_type": "code",
   "execution_count": null,
   "metadata": {},
   "outputs": [],
   "source": [
    "if mcmc_config['sampler'] != 'NUTSwG':\n",
    "    mcmc = get_mcmc(model.model, mcmc_config)\n",
    "    mcmc_runned = sample_and_save(mcmc, save_path, 0, mcmc_config['n_runs'], extra_fields=['num_steps'], init_params=init_params_)\n",
    "\n",
    "else:\n",
    "    from montecosmo.samplers import nutswg_init, get_nutswg_warm, get_nutswg_run\n",
    "\n",
    "    step_fn, init_fn, conf, init_state_fn = nutswg_init(model.logpdf)\n",
    "    warmup_fn = jit(vmap(get_nutswg_warm(model.logpdf, conf, mcmc_config['n_samples'])))\n",
    "    state = jit(vmap(init_state_fn))(init_params_)\n",
    "    # last_state = pload(save_dir+\"NUTSGibbs/HMCGibbs_ns256_x_nc8_laststate32.p\")\n",
    "\n",
    "\n",
    "    samples, infos, state, config = warmup_fn(jr.split(jr.key(43), mcmc_config['n_chains']), state)\n",
    "    print(\"conf:\", conf,\n",
    "            \"infos:\", infos, '\\n#################\\n')\n",
    "    jnp.savez(save_path+f\"_{0}.npz\", **samples | {k:infos[k] for k in ['n_evals']})\n",
    "    pdump(state, save_path+f\"_last_state.p\")\n",
    "    pdump(conf, save_path+'_conf.p'), pdump(tree.map(jnp.mean, infos), save_path+'_infos.p')\n",
    "\n",
    "    run_fn = jit(vmap(get_nutswg_run(model.logpdf, step_fn, init_fn, mcmc_config['n_samples'])))\n",
    "    start = 1\n",
    "    end = start + mcmc_config['n_runs']-1\n",
    "    key = jr.key(42)\n",
    "    for i_run in range(start, end+1):\n",
    "        print(f\"run {i_run}/{end}\")\n",
    "        key, run_key = jr.split(key, 2)\n",
    "        samples, infos, state, _ = run_fn(jr.split(run_key, mcmc_config['n_chains']), state, conf=conf)\n",
    "        print(\"infos:\", infos)\n",
    "        jnp.savez(save_path+f\"_{i_run}.npz\", **samples | {k:infos[k] for k in ['n_evals']})\n",
    "        pdump(state, save_path+f\"_last_state.p\")"
   ]
  }
 ],
 "metadata": {
  "kernelspec": {
   "display_name": "Python 3 (ipykernel)",
   "language": "python",
   "name": "python3"
  },
  "language_info": {
   "codemirror_mode": {
    "name": "ipython",
    "version": 3
   },
   "file_extension": ".py",
   "mimetype": "text/x-python",
   "name": "python",
   "nbconvert_exporter": "python",
   "pygments_lexer": "ipython3",
   "version": "3.12.3"
  }
 },
 "nbformat": 4,
 "nbformat_minor": 2
}
