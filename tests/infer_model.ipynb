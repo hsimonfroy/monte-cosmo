{
 "cells": [
  {
   "cell_type": "markdown",
   "metadata": {},
   "source": [
    "# Model Inference\n",
    "Infer from a cosmological model via MCMC samplers. "
   ]
  },
  {
   "cell_type": "code",
   "execution_count": 6,
   "metadata": {},
   "outputs": [
    {
     "name": "stdout",
     "output_type": "stream",
     "text": [
      "The autoreload extension is already loaded. To reload it, use:\n",
      "  %reload_ext autoreload\n"
     ]
    }
   ],
   "source": [
    "import os; os.environ['XLA_PYTHON_CLIENT_MEM_FRACTION']='1.' # NOTE: jax preallocates GPU (default 75%)\n",
    "import matplotlib.pyplot as plt\n",
    "import numpy as np\n",
    "from jax import numpy as jnp, random as jr, jit, vmap, grad, debug, tree\n",
    "\n",
    "from functools import partial\n",
    "from getdist import plots\n",
    "from numpyro import infer\n",
    "\n",
    "%matplotlib inline\n",
    "%load_ext autoreload\n",
    "%autoreload 2\n",
    "\n",
    "from montecosmo.model import FieldLevelModel, default_config\n",
    "from montecosmo.utils import pdump, pload\n",
    "from montecosmo.mcbench import sample_and_save\n",
    "\n",
    "# import mlflow\n",
    "# mlflow.set_tracking_uri(uri=\"http://127.0.0.1:8081\")\n",
    "# mlflow.set_experiment(\"infer\")\n",
    "# !jupyter nbconvert --to script ./src/montecosmo/tests/infer_model.ipynb"
   ]
  },
  {
   "cell_type": "markdown",
   "metadata": {},
   "source": [
    "## Config and fiduc"
   ]
  },
  {
   "cell_type": "code",
   "execution_count": 2,
   "metadata": {},
   "outputs": [],
   "source": [
    "def get_save_dir(**kwargs):\n",
    "    # dir = os.path.expanduser(\"~/scratch/pickles/\")\n",
    "    dir = os.path.expanduser(\"/lustre/fsn1/projects/rech/fvg/uvs19wt/pickles/\")\n",
    "\n",
    "    dir += f\"m{kwargs['mesh_shape'][0]:d}_b{kwargs['box_shape'][0]:.1f}\"\n",
    "    dir += f\"_al{kwargs['a_lpt']:.1f}_ao{kwargs['a_obs']:.1f}_lo{kwargs['lpt_order']:d}_pc{kwargs['precond']:d}_ob{kwargs['obs']}/\"\n",
    "    return dir\n",
    "\n",
    "def from_id(id):\n",
    "    args = ParseSlurmId(id)\n",
    "    config = {\n",
    "          'mesh_shape':3 * (args.mesh_length,),\n",
    "          'box_shape':3 * (args.box_length if args.box_length is not None else 5 * args.mesh_length,), \n",
    "          'a_lpt':args.a_obs if args.lpt_order > 0 else args.a_lpt,\n",
    "          'a_obs':args.a_obs,\n",
    "          'lpt_order':1 if args.lpt_order==1 else 2, # 2lpt + pm for 0\n",
    "          'precond':args.precond,\n",
    "          'obs':args.obs\n",
    "          }\n",
    "    save_dir = get_save_dir(**config)\n",
    "    model = FieldLevelModel(**default_config | config)\n",
    "    \n",
    "    mcmc_config = {\n",
    "        'sampler':\"NUTS\",\n",
    "        'target_accept_prob':args.target_accept_prob,\n",
    "        'n_samples':64,\n",
    "        'max_tree_depth':10,\n",
    "        'n_runs':10,\n",
    "        'n_chains':8\n",
    "    }\n",
    "    save_path = save_dir \n",
    "    save_path += f\"s{mcmc_config['sampler']}_nc{mcmc_config['n_chains']:d}_ns{mcmc_config['n_samples']:d}\"\n",
    "    save_path += f\"_mt{mcmc_config['max_tree_depth']:d}_ta{mcmc_config['target_accept_prob']}\"\n",
    "\n",
    "    return model, mcmc_config, save_dir, save_path\n",
    "\n",
    "class ParseSlurmId():\n",
    "    def __init__(self, id):\n",
    "        self.id = str(id)\n",
    "\n",
    "        dic = {}\n",
    "        dic['mesh_length'] = [2,4,8,16,32,64,128]\n",
    "        dic['lpt_order'] = [0,1,2]\n",
    "        dic['precond'] = [0,1,2,3]\n",
    "        dic['target_accept_prob'] = [0.65, 0.8]\n",
    "\n",
    "        dic['box_length'] = [None]\n",
    "        dic['a_lpt'] = [0.1]\n",
    "        dic['a_obs'] = [0.5]\n",
    "        dic['obs'] = ['mesh']\n",
    "        \n",
    "        for i, (k, v) in enumerate(dic.items()):\n",
    "            if i < len(self.id):\n",
    "                setattr(self, k, v[int(self.id[i])])\n",
    "            else:\n",
    "                setattr(self, k, v[0])"
   ]
  },
  {
   "cell_type": "code",
   "execution_count": 3,
   "metadata": {},
   "outputs": [
    {
     "name": "stdout",
     "output_type": "stream",
     "text": [
      "SLURM_ARRAY_TASK_ID: 1120\n"
     ]
    }
   ],
   "source": [
    "################## TO SET #######################\n",
    "# task_id = int(os.environ['SLURM_ARRAY_TASK_ID'])\n",
    "task_id = 1120\n",
    "print(\"SLURM_ARRAY_TASK_ID:\", task_id)\n",
    "model, mcmc_config, save_dir, save_path = from_id(task_id)\n",
    "# os.makedirs(save_dir, exist_ok=True)\n",
    "\n",
    "# import sys\n",
    "# tempstdout, tempstderr = sys.stdout, sys.stderr\n",
    "# sys.stdout = sys.stderr = open(save_path+'.out', 'a')\n",
    "# sys.stdout, sys.stderr = tempstdout, tempstderr"
   ]
  },
  {
   "cell_type": "code",
   "execution_count": null,
   "metadata": {},
   "outputs": [],
   "source": [
    "print(model)\n",
    "print(mcmc_config)\n",
    "# model.render()\n",
    "\n",
    "if not os.path.exists(save_dir+\"truth.p\"):\n",
    "    # Predict and save fiducial\n",
    "    truth = {'Omega_m': 0.31, \n",
    "            'sigma8': 0.81, \n",
    "            'b1': 1., \n",
    "            'b2':0., \n",
    "            'bs2':0., \n",
    "            'bn2': 0.}\n",
    "\n",
    "    model.reset()\n",
    "    truth = model.predict(samples=truth, hide_base=False, hide_samp=False, frombase=True)\n",
    "    \n",
    "    print(f\"Saving model and truth at {save_dir}\")\n",
    "    model.save(save_dir)    \n",
    "    pdump(truth, save_dir+\"truth.p\")\n",
    "else:\n",
    "    print(f\"Loading truth from {save_dir}\")\n",
    "    truth = pload(save_dir+\"truth.p\")\n",
    "\n",
    "model.condition({'obs': truth['obs']})\n",
    "model.obs_meshk = truth['obs']\n",
    "model.block()\n",
    "# model.render()"
   ]
  },
  {
   "cell_type": "markdown",
   "metadata": {},
   "source": [
    "## Run"
   ]
  },
  {
   "cell_type": "markdown",
   "metadata": {},
   "source": [
    "### NUTS, HMC"
   ]
  },
  {
   "cell_type": "code",
   "execution_count": null,
   "metadata": {},
   "outputs": [],
   "source": [
    "def get_mcmc(model, config):\n",
    "    n_samples = config['n_samples']\n",
    "    n_chains = config['n_chains']\n",
    "    max_tree_depth = config['max_tree_depth']\n",
    "    target_accept_prob = config['target_accept_prob']\n",
    "    name = config['sampler']\n",
    "    \n",
    "    if name == \"NUTS\":\n",
    "        kernel = infer.NUTS(\n",
    "            model=model,\n",
    "            # init_strategy=numpyro.infer.init_to_value(values=fiduc_params)\n",
    "            step_size=1e-5, \n",
    "            max_tree_depth=max_tree_depth,\n",
    "            target_accept_prob=target_accept_prob,)\n",
    "        \n",
    "    elif name == \"HMC\":\n",
    "        kernel = infer.HMC(\n",
    "            model=model,\n",
    "            # init_strategy=numpyro.infer.init_to_value(values=fiduc_params),\n",
    "            step_size=1e-5, \n",
    "            # Rule of thumb (2**max_tree_depth-1)*step_size_NUTS/(2 to 4), compare with default 2pi.\n",
    "            trajectory_length= 1023 * 1e-3 / 4, \n",
    "            target_accept_prob=target_accept_prob,)\n",
    "\n",
    "    mcmc = infer.MCMC(\n",
    "        sampler=kernel,\n",
    "        num_warmup=n_samples,\n",
    "        num_samples=n_samples, # for each run\n",
    "        num_chains=n_chains,\n",
    "        chain_method=\"vectorized\",\n",
    "        progress_bar=True,)\n",
    "    \n",
    "    return mcmc\n",
    "\n",
    "# print(\"mean_acc_prob:\", last_state.mean_accept_prob, \"\\nss:\", last_state.adapt_state.step_size)\n",
    "# invmm = list(last_state.adapt_state.inverse_mass_matrix.values())[0][0]\n",
    "# invmm.min(),invmm.max(),invmm.mean(),invmm.std()\n",
    "\n",
    "# Init params\n",
    "# init_model = model.copy()\n",
    "# init_model.partial(temp=1e-2)\n",
    "# init_params_ = init_model.predict(samples=n_chains)"
   ]
  },
  {
   "cell_type": "code",
   "execution_count": null,
   "metadata": {},
   "outputs": [],
   "source": [
    "continue_run = False\n",
    "if continue_run:\n",
    "    model.reset()\n",
    "    model.condition({'obs': truth['obs']})\n",
    "    model.block()\n",
    "    mcmc = get_mcmc(model.model, mcmc_config)\n",
    "\n",
    "    last_state = pload(save_path + \"_last_state.p\")\n",
    "    mcmc.num_warmup = 0\n",
    "    mcmc.post_warmup_state = last_state\n",
    "    init_params_ = None\n",
    "else:\n",
    "    model.reset()\n",
    "    model.condition({'obs': truth['obs']} | model.prior_loc, frombase=True)\n",
    "    model.block()\n",
    "    mcmc = get_mcmc(model.model, mcmc_config)\n",
    "    \n",
    "    print(\"Init params\")\n",
    "    init_params_ = jit(vmap(model.init_model))(jr.split(jr.key(43), mcmc_config['n_chains']))\n",
    "    init_mesh_ = {k: init_params_[k] for k in ['init_mesh_']} # NOTE: !!!!!!!\n",
    "    mcmc = sample_and_save(mcmc, save_path+'_init', 0, 0, extra_fields=['num_steps'], init_params=init_mesh_)\n",
    "    \n",
    "    print(\"mean_acc_prob:\", mcmc.last_state.mean_accept_prob, \"\\nss:\", mcmc.last_state.adapt_state.step_size)\n",
    "    init_params_ |= mcmc.last_state.z\n",
    "    print(init_params_.keys())\n",
    "\n",
    "    model.reset()\n",
    "    model.condition({'obs': truth['obs']})\n",
    "    model.block()\n",
    "    mcmc = get_mcmc(model.model, mcmc_config)"
   ]
  },
  {
   "cell_type": "code",
   "execution_count": null,
   "metadata": {},
   "outputs": [],
   "source": [
    "mcmc_runned = sample_and_save(mcmc, save_path, 0, mcmc_config['n_runs'], extra_fields=['num_steps'], init_params=init_params_)"
   ]
  },
  {
   "cell_type": "code",
   "execution_count": null,
   "metadata": {},
   "outputs": [],
   "source": [
    "# model.reset()\n",
    "# model.condition({'obs': truth['obs']})\n",
    "# model.block()\n",
    "# mcmc = get_mcmc(model.model, mcmc_config)\n",
    "# init_params_ = {k+'_': jnp.broadcast_to(truth[k+'_'], (mcmc_config['n_chains'], *jnp.shape(truth[k+'_']))) for k in ['Omega_m','sigma8','b1','b2','bs2','bn2','init_mesh']}\n",
    "\n",
    "# mcmc_runned = sample_and_save(mcmc, mcmc_config['n_runs'], save_path, extra_fields=['num_steps'], init_params=init_params_)"
   ]
  }
 ],
 "metadata": {
  "kernelspec": {
   "display_name": "Python 3 (ipykernel)",
   "language": "python",
   "name": "python3"
  },
  "language_info": {
   "codemirror_mode": {
    "name": "ipython",
    "version": 3
   },
   "file_extension": ".py",
   "mimetype": "text/x-python",
   "name": "python",
   "nbconvert_exporter": "python",
   "pygments_lexer": "ipython3",
   "version": "3.12.3"
  }
 },
 "nbformat": 4,
 "nbformat_minor": 2
}
