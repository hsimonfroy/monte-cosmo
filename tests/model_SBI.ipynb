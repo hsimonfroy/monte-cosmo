{
 "cells": [
  {
   "cell_type": "markdown",
   "metadata": {},
   "source": [
    "# Model validation"
   ]
  },
  {
   "cell_type": "code",
   "execution_count": 55,
   "metadata": {},
   "outputs": [
    {
     "name": "stdout",
     "output_type": "stream",
     "text": [
      "gpu [cuda(id=0)]\n",
      "The autoreload extension is already loaded. To reload it, use:\n",
      "  %reload_ext autoreload\n"
     ]
    }
   ],
   "source": [
    "!python -c \"import jax; print(jax.default_backend(), jax.devices())\"\n",
    "import os; os.environ['XLA_PYTHON_CLIENT_MEM_FRACTION']='.99' # NOTE: jax preallocates GPU (default 75%)\n",
    "\n",
    "import matplotlib.pyplot as plt\n",
    "import numpy as np\n",
    "import jax.numpy as jnp\n",
    "import jax.random as jr\n",
    "from jax import jit, vmap, grad, debug, lax, flatten_util\n",
    "from jax.tree_util import tree_map\n",
    "\n",
    "import numpyro\n",
    "from numpyro.handlers import seed, condition, trace\n",
    "from functools import partial\n",
    "from getdist import plots, MCSamples\n",
    "\n",
    "%matplotlib inline\n",
    "%load_ext autoreload \n",
    "%autoreload 2\n",
    "\n",
    "import mlflow\n",
    "mlflow.set_tracking_uri(uri=\"http://127.0.0.1:8080\")\n",
    "mlflow.set_experiment(\"Model SBI\")\n",
    "from montecosmo.utils import pickle_dump, pickle_load, get_vlim, theme_switch\n",
    "save_dir = os.path.expanduser(\"~/scratch/pickles/\")"
   ]
  },
  {
   "cell_type": "markdown",
   "metadata": {},
   "source": [
    "## Train"
   ]
  },
  {
   "cell_type": "markdown",
   "metadata": {},
   "source": [
    "### Import"
   ]
  },
  {
   "cell_type": "code",
   "execution_count": 2,
   "metadata": {},
   "outputs": [
    {
     "name": "stdout",
     "output_type": "stream",
     "text": [
      "# CONFIG\n",
      "{'mesh_size': array([16, 16, 16]), 'box_size': array([640., 640., 640.]), 'a_lpt': 0.5, 'a_obs': 0.5, 'galaxy_density': 0.001, 'trace_reparam': False, 'trace_meshes': False, 'prior_config': {'Omega_c': ['{\\\\Omega}_c', 0.25, 0.1], 'sigma8': ['{\\\\sigma}_8', 0.831, 0.14], 'b1': ['{b}_1', 1, 0.5], 'b2': ['{b}_2', 0, 0.5], 'bs2': ['{b}_{s^2}', 0, 0.5], 'bn2': ['{b}_{\\\\nabla^2}', 0, 0.5]}, 'lik_config': {'obs_std': 0.1}}\n",
      "\n",
      "# INFOS\n",
      "cell_size:        [40.0, 40.0, 40.0] Mpc/h\n",
      "delta_k:          0.00982 h/Mpc\n",
      "k_nyquist:        0.07854 h/Mpc\n",
      "mean_gxy_density: 64.000 gxy/cell\n",
      "\n"
     ]
    }
   ],
   "source": [
    "from montecosmo.models import pmrsd_model, prior_model, get_logp_fn, get_score_fn, get_simulator, get_pk_fn, get_param_fn, get_noise_fn\n",
    "from montecosmo.models import print_config, condition_on_config_mean, default_config as config\n",
    "# Build and render model\n",
    "config.update(a_lpt=0.5, mesh_size=16*np.ones(3, dtype=int))\n",
    "model = partial(pmrsd_model, **config)\n",
    "config['lik_config']['obs_std'] = 0.1\n",
    "print_config(model)\n",
    "simulator = jit(vmap(get_simulator(model)))"
   ]
  },
  {
   "cell_type": "markdown",
   "metadata": {},
   "source": [
    "### Simulate"
   ]
  },
  {
   "cell_type": "code",
   "execution_count": 3,
   "metadata": {},
   "outputs": [
    {
     "name": "stderr",
     "output_type": "stream",
     "text": [
      "/feynman/work/dphp/hs276503/miniforge3/envs/montecosmoenv/lib/python3.11/site-packages/jax/_src/numpy/array_methods.py:66: UserWarning: Explicitly requested dtype <class 'jax.numpy.int64'> requested in astype is not available, and will be truncated to dtype int32. To enable more dtypes, set the jax_enable_x64 configuration option or the JAX_ENABLE_X64 shell environment variable. See https://github.com/google/jax#current-gotchas for more.\n",
      "  return lax_numpy.astype(arr, dtype)\n"
     ]
    }
   ],
   "source": [
    "n_simus = 10_000\n",
    "simus = simulator(rng_seed=jnp.arange(n_simus))\n",
    "pickle_dump(simus, \"simus.p\")"
   ]
  },
  {
   "cell_type": "code",
   "execution_count": 89,
   "metadata": {},
   "outputs": [
    {
     "data": {
      "text/plain": [
       "{'Omega_c_': Tensor(shape=(), dtype=float32),\n",
       " 'b1_': Tensor(shape=(), dtype=float32),\n",
       " 'b2_': Tensor(shape=(), dtype=float32),\n",
       " 'bn2_': Tensor(shape=(), dtype=float32),\n",
       " 'bs2_': Tensor(shape=(), dtype=float32),\n",
       " 'init_mesh_': Tensor(shape=(16, 16, 16), dtype=float32),\n",
       " 'obs_mesh': Tensor(shape=(16, 16, 16), dtype=float32),\n",
       " 'sigma8_': Tensor(shape=(), dtype=float32)}"
      ]
     },
     "execution_count": 89,
     "metadata": {},
     "output_type": "execute_result"
    }
   ],
   "source": [
    "from jax import eval_shape, tree_util, ShapeDtypeStruct\n",
    "fiduc_params = get_simulator(condition_on_config_mean(model))(rng_seed=0)\n",
    "\n",
    "shape_dtype_struct = eval_shape(lambda x:x, fiduc_params)\n",
    "\n",
    "\n",
    "# feature_dict_fn = lambda x: tfds.features.Tensor(shape=jnp.shape(x), dtype=type(x))\n",
    "# feature_dict = tree_util.tree_map(feature_dict_fn, fiduc_params)\n",
    "\n",
    "feature_dict_fn = lambda x: tfds.features.Tensor(shape=x.shape, dtype=x.dtype)\n",
    "feature_dict = tree_util.tree_map(feature_dict_fn, shape_dtype_struct)\n",
    "feature_dict"
   ]
  },
  {
   "cell_type": "code",
   "execution_count": 103,
   "metadata": {},
   "outputs": [
    {
     "name": "stdout",
     "output_type": "stream",
     "text": [
      "# CONFIG\n",
      "{'mesh_size': array([16, 16, 16]), 'box_size': array([640., 640., 640.]), 'a_lpt': 0.5, 'a_obs': 0.5, 'galaxy_density': 0.001, 'trace_reparam': False, 'trace_meshes': False, 'prior_config': {'Omega_c': ['{\\\\Omega}_c', 0.25, 0.1], 'sigma8': ['{\\\\sigma}_8', 0.831, 0.14], 'b1': ['{b}_1', 1, 0.5], 'b2': ['{b}_2', 0, 0.5], 'bs2': ['{b}_{s^2}', 0, 0.5], 'bn2': ['{b}_{\\\\nabla^2}', 0, 0.5]}, 'lik_config': {'obs_std': 0.1}}\n",
      "\n",
      "# INFOS\n",
      "cell_size:        [40.0, 40.0, 40.0] Mpc/h\n",
      "delta_k:          0.00982 h/Mpc\n",
      "k_nyquist:        0.07854 h/Mpc\n",
      "mean_gxy_density: 64.000 gxy/cell\n",
      "\n"
     ]
    },
    {
     "name": "stderr",
     "output_type": "stream",
     "text": [
      "/feynman/work/dphp/hs276503/miniforge3/envs/montecosmoenv/lib/python3.11/site-packages/jax/_src/numpy/array_methods.py:66: UserWarning: Explicitly requested dtype <class 'jax.numpy.int64'> requested in astype is not available, and will be truncated to dtype int32. To enable more dtypes, set the jax_enable_x64 configuration option or the JAX_ENABLE_X64 shell environment variable. See https://github.com/google/jax#current-gotchas for more.\n",
      "  return lax_numpy.astype(arr, dtype)\n"
     ]
    }
   ],
   "source": [
    "import tensorflow_datasets as tfds\n",
    "import montecosmo.mydataset\n",
    "ds = tfds.load(\"mydataset\")"
   ]
  },
  {
   "cell_type": "markdown",
   "metadata": {},
   "source": [
    "## Inference"
   ]
  },
  {
   "cell_type": "code",
   "execution_count": null,
   "metadata": {},
   "outputs": [],
   "source": [
    "# Get fiducial parameters\n",
    "fiduc_params = get_simulator(condition_on_config_mean(partial(model, trace_reparam=True)))(rng_seed=0)\n",
    "\n",
    "# Condition model on observables\n",
    "obs_names = ['obs_mesh']\n",
    "# obs_names = ['obs_mesh','Omega_c_','sigma8_','b1_','b2_','bs_','bnl_']\n",
    "obs_params = {name: fiduc_params[name] for name in obs_names}\n",
    "observed_model = condition(model, obs_params)\n",
    "\n",
    "# Get and vectorize relevant functionals\n",
    "logp_fn = get_logp_fn(observed_model)\n",
    "score_fn = get_score_fn(observed_model)\n",
    "pk_fn = get_pk_fn(**config)\n",
    "param_fn = get_param_fn(**config)\n",
    "pk_vfn = jit(vmap(pk_fn))\n",
    "param_vfn = jit(vmap(param_fn))"
   ]
  }
 ],
 "metadata": {
  "kernelspec": {
   "display_name": "Python 3 (ipykernel)",
   "language": "python",
   "name": "python3"
  },
  "language_info": {
   "codemirror_mode": {
    "name": "ipython",
    "version": 3
   },
   "file_extension": ".py",
   "mimetype": "text/x-python",
   "name": "python",
   "nbconvert_exporter": "python",
   "pygments_lexer": "ipython3",
   "version": "3.11.6"
  }
 },
 "nbformat": 4,
 "nbformat_minor": 2
}
