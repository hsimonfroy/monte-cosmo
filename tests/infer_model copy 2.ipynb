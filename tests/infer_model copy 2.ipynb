{
 "cells": [
  {
   "cell_type": "markdown",
   "metadata": {},
   "source": [
    "# Model Inference\n",
    "Infer from a cosmological model via MCMC samplers. "
   ]
  },
  {
   "cell_type": "code",
   "execution_count": 1,
   "metadata": {},
   "outputs": [
    {
     "name": "stdout",
     "output_type": "stream",
     "text": [
      "feynmangpu02.cluster.local\n"
     ]
    },
    {
     "name": "stderr",
     "output_type": "stream",
     "text": [
      "/feynman/work/dphp/hs276503/envs/montenvtest3/lib/python3.12/pty.py:95: RuntimeWarning: os.fork() was called. os.fork() is incompatible with multithreaded code, and JAX is multithreaded, so this will likely lead to a deadlock.\n",
      "  pid, fd = os.forkpty()\n"
     ]
    }
   ],
   "source": [
    "import os; os.environ['XLA_PYTHON_CLIENT_MEM_FRACTION']='1.' # NOTE: jax preallocates GPU (default 75%)\n",
    "import matplotlib.pyplot as plt\n",
    "import numpy as np\n",
    "from jax import numpy as jnp, random as jr, config as jconfig, jit, vmap, grad, debug, tree\n",
    "jconfig.update(\"jax_enable_x64\", True)\n",
    "\n",
    "from functools import partial\n",
    "from getdist import plots\n",
    "from numpyro import infer\n",
    "\n",
    "from montecosmo.model import FieldLevelModel, default_config\n",
    "from montecosmo.utils import pdump, pload\n",
    "from montecosmo.mcbench import sample_and_save\n",
    "from montecosmo.script import from_id, get_mcmc, get_init_mcmc, get_sqrt_diag_cov_from_numpyro\n",
    "\n",
    "# import mlflow\n",
    "# mlflow.set_tracking_uri(uri=\"http://127.0.0.1:8081\")\n",
    "# mlflow.set_experiment(\"infer\")\n",
    "# !jupyter nbconvert --to script ./src/montecosmo/tests/infer_model.ipynb/\n",
    "\n",
    "%matplotlib inline\n",
    "%load_ext autoreload\n",
    "%autoreload 2\n",
    "!hostname"
   ]
  },
  {
   "cell_type": "markdown",
   "metadata": {},
   "source": [
    "## Config and fiduc"
   ]
  },
  {
   "cell_type": "code",
   "execution_count": 2,
   "metadata": {},
   "outputs": [
    {
     "name": "stdout",
     "output_type": "stream",
     "text": [
      "SLURM_ARRAY_TASK_ID: 2111230\n",
      "save path: /feynman/home/dphp/hs276503/scratch/pickles/m32_b160.0_ao0.5_evlpt_lo1_pckaiser_obfield_nob/sMCLMC_nc4_ns64_nomm\n"
     ]
    }
   ],
   "source": [
    "################## TO SET #######################\n",
    "# task_id = int(os.environ['SLURM_ARRAY_TASK_ID'])\n",
    "# m, ev, lo, rsdb, pc, samp, mm\n",
    "task_id = 2111230\n",
    "print(\"SLURM_ARRAY_TASK_ID:\", task_id)\n",
    "model, mcmc_config, save_dir, save_path = from_id(task_id)\n",
    "os.makedirs(save_dir, exist_ok=True)\n",
    "print(\"save path:\", save_path)\n",
    "\n",
    "# import sys\n",
    "# tempstdout, tempstderr = sys.stdout, sys.stderr\n",
    "# sys.stdout = sys.stderr = open(save_path+'.out', 'a')\n",
    "# job_id = int(os.environ['SLURM_ARRAY_JOB_ID'])\n",
    "# print(\"SLURM_ARRAY_JOB_ID:\", job_id)\n",
    "# print(\"SLURM_ARRAY_TASK_ID:\", task_id)\n",
    "# print(\"jax_enable_x64:\", jconfig.read(\"jax_enable_x64\"))"
   ]
  },
  {
   "cell_type": "code",
   "execution_count": 3,
   "metadata": {},
   "outputs": [
    {
     "name": "stdout",
     "output_type": "stream",
     "text": [
      "# CONFIG\n",
      "{'a_obs': 0.5,\n",
      " 'box_shape': array([160., 160., 160.]),\n",
      " 'evolution': 'lpt',\n",
      " 'gxy_density': 0.001,\n",
      " 'latents': {'Omega_m': {'group': 'cosmo',\n",
      "                         'high': 1.0,\n",
      "                         'label': '{\\\\Omega}_m',\n",
      "                         'loc': 0.3111,\n",
      "                         'loc_fid': 0.3111,\n",
      "                         'low': 0.05,\n",
      "                         'scale': 0.5,\n",
      "                         'scale_fid': 0.06},\n",
      "             'b1': {'group': 'bias',\n",
      "                    'label': '{b}_1',\n",
      "                    'loc': 1.0,\n",
      "                    'loc_fid': 1.0,\n",
      "                    'scale': 0.5,\n",
      "                    'scale_fid': 0.5},\n",
      "             'b2': {'group': 'bias',\n",
      "                    'label': '{b}_2',\n",
      "                    'loc': 0.0,\n",
      "                    'loc_fid': 0.0,\n",
      "                    'scale': 2.0,\n",
      "                    'scale_fid': 2.0},\n",
      "             'bn2': {'group': 'bias',\n",
      "                     'label': '{b}_{\\\\nabla^2}',\n",
      "                     'loc': 0.0,\n",
      "                     'loc_fid': 0.0,\n",
      "                     'scale': 2.0,\n",
      "                     'scale_fid': 2.0},\n",
      "             'bs2': {'group': 'bias',\n",
      "                     'label': '{b}_{s^2}',\n",
      "                     'loc': 0.0,\n",
      "                     'loc_fid': 0.0,\n",
      "                     'scale': 2.0,\n",
      "                     'scale_fid': 2.0},\n",
      "             'init_mesh': {'group': 'init',\n",
      "                           'label': '{\\\\delta}_L'},\n",
      "             'sigma8': {'group': 'cosmo',\n",
      "                        'high': inf,\n",
      "                        'label': '{\\\\sigma}_8',\n",
      "                        'loc': 0.8102,\n",
      "                        'loc_fid': 0.8102,\n",
      "                        'low': 0.0,\n",
      "                        'scale': 0.5,\n",
      "                        'scale_fid': 0.04}},\n",
      " 'los': array([0., 0., 1.]),\n",
      " 'lpt_order': 1,\n",
      " 'mesh_shape': array([32, 32, 32]),\n",
      " 'nbody_snapshots': None,\n",
      " 'nbody_steps': 5,\n",
      " 'obs': 'field',\n",
      " 'poles': (0,\n",
      "           2,\n",
      "           4),\n",
      " 'precond': 'kaiser'}\n",
      "\n",
      "# INFOS\n",
      "cell_shape:     [5.0, 5.0, 5.0] Mpc/h\n",
      "k_funda:        0.03927 h/Mpc\n",
      "k_nyquist:      0.62832 h/Mpc\n",
      "mean_gxy_count: 0.125 gxy/cell\n",
      "\n",
      "{'sampler': 'MCLMC', 'target_accept_prob': 0.65, 'n_samples': 64, 'max_tree_depth': 10, 'n_runs': 15, 'n_chains': 4, 'mm': 0}\n",
      "Loading truth from /feynman/home/dphp/hs276503/scratch/pickles/m32_b160.0_ao0.5_evlpt_lo1_pckaiser_obfield_nob/\n"
     ]
    },
    {
     "name": "stdout",
     "output_type": "stream",
     "text": [
      "no bias\n"
     ]
    },
    {
     "data": {
      "image/svg+xml": [
       "<?xml version=\"1.0\" encoding=\"UTF-8\" standalone=\"no\"?>\n",
       "<!DOCTYPE svg PUBLIC \"-//W3C//DTD SVG 1.1//EN\"\n",
       " \"http://www.w3.org/Graphics/SVG/1.1/DTD/svg11.dtd\">\n",
       "<!-- Generated by graphviz version 2.40.1 (0)\n",
       " -->\n",
       "<!-- Title: %3 Pages: 1 -->\n",
       "<svg width=\"703pt\" height=\"116pt\"\n",
       " viewBox=\"0.00 0.00 703.49 116.00\" xmlns=\"http://www.w3.org/2000/svg\" xmlns:xlink=\"http://www.w3.org/1999/xlink\">\n",
       "<g id=\"graph0\" class=\"graph\" transform=\"scale(1 1) rotate(0) translate(4 112)\">\n",
       "<title>%3</title>\n",
       "<polygon fill=\"#ffffff\" stroke=\"transparent\" points=\"-4,4 -4,-112 699.489,-112 699.489,4 -4,4\"/>\n",
       "<!-- Omega_m_ -->\n",
       "<g id=\"node1\" class=\"node\">\n",
       "<title>Omega_m_</title>\n",
       "<ellipse fill=\"#ffffff\" stroke=\"#000000\" cx=\"62.3945\" cy=\"-90\" rx=\"62.2891\" ry=\"18\"/>\n",
       "<text text-anchor=\"middle\" x=\"62.3945\" y=\"-86.3\" font-family=\"Times,serif\" font-size=\"14.00\" fill=\"#000000\">Omega_m_</text>\n",
       "</g>\n",
       "<!-- obs -->\n",
       "<g id=\"node8\" class=\"node\">\n",
       "<title>obs</title>\n",
       "<ellipse fill=\"#c0c0c0\" stroke=\"#000000\" cx=\"360.3945\" cy=\"-18\" rx=\"27\" ry=\"18\"/>\n",
       "<text text-anchor=\"middle\" x=\"360.3945\" y=\"-14.3\" font-family=\"Times,serif\" font-size=\"14.00\" fill=\"#000000\">obs</text>\n",
       "</g>\n",
       "<!-- Omega_m_&#45;&gt;obs -->\n",
       "<g id=\"edge1\" class=\"edge\">\n",
       "<title>Omega_m_&#45;&gt;obs</title>\n",
       "<path fill=\"none\" stroke=\"#000000\" d=\"M109.627,-78.117C117.879,-76.0623 126.3841,-73.9582 134.3945,-72 201.6508,-55.5584 280.308,-36.8908 324.8486,-26.3722\"/>\n",
       "<polygon fill=\"#000000\" stroke=\"#000000\" points=\"325.6858,-29.7708 334.6145,-24.0674 324.0779,-22.958 325.6858,-29.7708\"/>\n",
       "</g>\n",
       "<!-- sigma8_ -->\n",
       "<g id=\"node2\" class=\"node\">\n",
       "<title>sigma8_</title>\n",
       "<ellipse fill=\"#ffffff\" stroke=\"#000000\" cx=\"192.3945\" cy=\"-90\" rx=\"49.2915\" ry=\"18\"/>\n",
       "<text text-anchor=\"middle\" x=\"192.3945\" y=\"-86.3\" font-family=\"Times,serif\" font-size=\"14.00\" fill=\"#000000\">sigma8_</text>\n",
       "</g>\n",
       "<!-- sigma8_&#45;&gt;obs -->\n",
       "<g id=\"edge2\" class=\"edge\">\n",
       "<title>sigma8_&#45;&gt;obs</title>\n",
       "<path fill=\"none\" stroke=\"#000000\" d=\"M224.7866,-76.1177C254.5124,-63.378 298.3162,-44.605 328.0326,-31.8694\"/>\n",
       "<polygon fill=\"#000000\" stroke=\"#000000\" points=\"329.7168,-34.9555 337.5296,-27.7992 326.9594,-28.5215 329.7168,-34.9555\"/>\n",
       "</g>\n",
       "<!-- b1_ -->\n",
       "<g id=\"node3\" class=\"node\">\n",
       "<title>b1_</title>\n",
       "<ellipse fill=\"#c0c0c0\" stroke=\"#000000\" cx=\"287.3945\" cy=\"-90\" rx=\"27.0966\" ry=\"18\"/>\n",
       "<text text-anchor=\"middle\" x=\"287.3945\" y=\"-86.3\" font-family=\"Times,serif\" font-size=\"14.00\" fill=\"#000000\">b1_</text>\n",
       "</g>\n",
       "<!-- b1_&#45;&gt;obs -->\n",
       "<g id=\"edge3\" class=\"edge\">\n",
       "<title>b1_&#45;&gt;obs</title>\n",
       "<path fill=\"none\" stroke=\"#000000\" d=\"M302.8759,-74.7307C312.9414,-64.803 326.2419,-51.6847 337.5174,-40.5637\"/>\n",
       "<polygon fill=\"#000000\" stroke=\"#000000\" points=\"340.2734,-42.7614 344.9354,-33.2473 335.3579,-37.7776 340.2734,-42.7614\"/>\n",
       "</g>\n",
       "<!-- b2_ -->\n",
       "<g id=\"node4\" class=\"node\">\n",
       "<title>b2_</title>\n",
       "<ellipse fill=\"#c0c0c0\" stroke=\"#000000\" cx=\"360.3945\" cy=\"-90\" rx=\"27.0966\" ry=\"18\"/>\n",
       "<text text-anchor=\"middle\" x=\"360.3945\" y=\"-86.3\" font-family=\"Times,serif\" font-size=\"14.00\" fill=\"#000000\">b2_</text>\n",
       "</g>\n",
       "<!-- b2_&#45;&gt;obs -->\n",
       "<g id=\"edge4\" class=\"edge\">\n",
       "<title>b2_&#45;&gt;obs</title>\n",
       "<path fill=\"none\" stroke=\"#000000\" d=\"M360.3945,-71.8314C360.3945,-64.131 360.3945,-54.9743 360.3945,-46.4166\"/>\n",
       "<polygon fill=\"#000000\" stroke=\"#000000\" points=\"363.8946,-46.4132 360.3945,-36.4133 356.8946,-46.4133 363.8946,-46.4132\"/>\n",
       "</g>\n",
       "<!-- bs2_ -->\n",
       "<g id=\"node5\" class=\"node\">\n",
       "<title>bs2_</title>\n",
       "<ellipse fill=\"#c0c0c0\" stroke=\"#000000\" cx=\"438.3945\" cy=\"-90\" rx=\"32.4942\" ry=\"18\"/>\n",
       "<text text-anchor=\"middle\" x=\"438.3945\" y=\"-86.3\" font-family=\"Times,serif\" font-size=\"14.00\" fill=\"#000000\">bs2_</text>\n",
       "</g>\n",
       "<!-- bs2_&#45;&gt;obs -->\n",
       "<g id=\"edge5\" class=\"edge\">\n",
       "<title>bs2_&#45;&gt;obs</title>\n",
       "<path fill=\"none\" stroke=\"#000000\" d=\"M421.4696,-74.3771C410.4433,-64.1989 395.9066,-50.7805 383.7815,-39.5881\"/>\n",
       "<polygon fill=\"#000000\" stroke=\"#000000\" points=\"385.945,-36.8219 376.223,-32.6109 381.197,-41.9656 385.945,-36.8219\"/>\n",
       "</g>\n",
       "<!-- bn2_ -->\n",
       "<g id=\"node6\" class=\"node\">\n",
       "<title>bn2_</title>\n",
       "<ellipse fill=\"#c0c0c0\" stroke=\"#000000\" cx=\"522.3945\" cy=\"-90\" rx=\"33.2948\" ry=\"18\"/>\n",
       "<text text-anchor=\"middle\" x=\"522.3945\" y=\"-86.3\" font-family=\"Times,serif\" font-size=\"14.00\" fill=\"#000000\">bn2_</text>\n",
       "</g>\n",
       "<!-- bn2_&#45;&gt;obs -->\n",
       "<g id=\"edge6\" class=\"edge\">\n",
       "<title>bn2_&#45;&gt;obs</title>\n",
       "<path fill=\"none\" stroke=\"#000000\" d=\"M496.7251,-78.5914C468.4677,-66.0326 423.0014,-45.8253 392.4301,-32.2381\"/>\n",
       "<polygon fill=\"#000000\" stroke=\"#000000\" points=\"393.6281,-28.9404 383.0684,-28.0773 390.785,-35.3371 393.6281,-28.9404\"/>\n",
       "</g>\n",
       "<!-- init_mesh_ -->\n",
       "<g id=\"node7\" class=\"node\">\n",
       "<title>init_mesh_</title>\n",
       "<ellipse fill=\"#ffffff\" stroke=\"#000000\" cx=\"634.3945\" cy=\"-90\" rx=\"61.1893\" ry=\"18\"/>\n",
       "<text text-anchor=\"middle\" x=\"634.3945\" y=\"-86.3\" font-family=\"Times,serif\" font-size=\"14.00\" fill=\"#000000\">init_mesh_</text>\n",
       "</g>\n",
       "<!-- init_mesh_&#45;&gt;obs -->\n",
       "<g id=\"edge7\" class=\"edge\">\n",
       "<title>init_mesh_&#45;&gt;obs</title>\n",
       "<path fill=\"none\" stroke=\"#000000\" d=\"M588.533,-77.9488C534.2015,-63.6719 444.8708,-40.1982 395.6588,-27.2665\"/>\n",
       "<polygon fill=\"#000000\" stroke=\"#000000\" points=\"396.3546,-23.8306 385.7934,-24.6742 394.5756,-30.6008 396.3546,-23.8306\"/>\n",
       "</g>\n",
       "</g>\n",
       "</svg>\n"
      ],
      "text/plain": [
       "<graphviz.graphs.Digraph at 0x7fff919d03b0>"
      ]
     },
     "metadata": {},
     "output_type": "display_data"
    }
   ],
   "source": [
    "print(model)\n",
    "print(mcmc_config)\n",
    "# model.render()\n",
    "# model.prior_mode = 'prior' ###############\n",
    "\n",
    "if not os.path.exists(save_dir+\"truth.p\"):\n",
    "    # Predict and save fiducial\n",
    "    truth = {'Omega_m': 0.31, \n",
    "            'sigma8': 0.81, \n",
    "            'b1': 1.,\n",
    "            'b2':0., \n",
    "            'bs2':0., \n",
    "            'bn2': 0.}\n",
    "    \n",
    "    if model.loc_fid['b1'] == 0:\n",
    "        truth['b1'] = 0.\n",
    "\n",
    "    model.reset()\n",
    "    truth = model.predict(samples=truth, hide_base=False, hide_samp=False, frombase=True)\n",
    "    \n",
    "    print(f\"Saving model and truth at {save_dir}\")\n",
    "    model.save(save_dir+\"model.p\")    \n",
    "    pdump(truth, save_dir+\"truth.p\")\n",
    "else:\n",
    "    print(f\"Loading truth from {save_dir}\")\n",
    "    truth = pload(save_dir+\"truth.p\")\n",
    "\n",
    "model.reset()\n",
    "if model.loc_fid['b1'] == 0:\n",
    "    print('no bias')\n",
    "    model.condition({'obs': truth['obs'], 'b1': truth['b1'], 'b2': truth['b2'], 'bs2': truth['bs2'], 'bn2': truth['bn2']}, frombase=True)\n",
    "    # model.condition({'obs': truth['obs'], 'bn2': truth['bn2']}, frombase=True)\n",
    "else:\n",
    "    model.condition({'obs': truth['obs']})\n",
    "model.block()\n",
    "model.render()"
   ]
  },
  {
   "cell_type": "markdown",
   "metadata": {},
   "source": [
    "## Run"
   ]
  },
  {
   "cell_type": "markdown",
   "metadata": {},
   "source": [
    "### NUTS, HMC"
   ]
  },
  {
   "cell_type": "code",
   "execution_count": 4,
   "metadata": {},
   "outputs": [
    {
     "name": "stdout",
     "output_type": "stream",
     "text": [
      "# Loading init_last_state\n",
      "dict_keys(['init_mesh_']) dict_keys(['Omega_m_', 'b1_', 'b2_', 'bn2_', 'bs2_', 'init_mesh_', 'sigma8_'])\n",
      "MSEs: [4.29059106 4.31118426 4.29816904 4.33823995] [4.29059106 4.31118426 4.29816904 4.33823995]\n",
      "no bias\n",
      "dict_keys(['Omega_m_', 'sigma8_', 'init_mesh_'])\n",
      "{'Omega_m_': Array([1., 1., 1., 1.], dtype=float64), 'sigma8_': Array([1., 1., 1., 1.], dtype=float64), 'init_mesh_': Array([[[[1.05577234, 0.78862748, 1.02284209, ..., 1.00798959,\n",
      "          0.90702868, 1.07464231],\n",
      "         [0.82689448, 0.74798706, 0.82271953, ..., 1.0951692 ,\n",
      "          1.06101079, 0.94044179],\n",
      "         [0.89103609, 0.97720844, 0.92455164, ..., 1.2177895 ,\n",
      "          0.97022496, 1.23183718],\n",
      "         ...,\n",
      "         [0.92405888, 1.00429817, 0.93495739, ..., 0.96809277,\n",
      "          1.11123051, 1.04911127],\n",
      "         [0.99269759, 0.6870307 , 0.90083454, ..., 1.27684393,\n",
      "          1.03581417, 1.23981452],\n",
      "         [0.90143917, 0.87666977, 0.95894779, ..., 1.17841115,\n",
      "          1.02761476, 1.14006998]],\n",
      "\n",
      "        [[0.64870834, 0.75724789, 0.77661112, ..., 0.93134747,\n",
      "          1.12456631, 1.20445008],\n",
      "         [0.89324156, 0.78523525, 0.88652284, ..., 1.28171554,\n",
      "          1.04007574, 1.06754025],\n",
      "         [0.83394877, 0.99074613, 0.77340449, ..., 0.95470719,\n",
      "          1.26987858, 1.24167343],\n",
      "         ...,\n",
      "         [1.02117715, 0.69499259, 0.82090732, ..., 1.16202224,\n",
      "          1.3637487 , 1.06787413],\n",
      "         [0.77176233, 0.82789014, 0.86821126, ..., 1.13698575,\n",
      "          1.27329035, 1.20094882],\n",
      "         [1.05863107, 0.89321257, 1.01655986, ..., 1.06342997,\n",
      "          1.12576632, 1.18829914]],\n",
      "\n",
      "        [[0.78311247, 0.87956501, 0.81989532, ..., 0.98075626,\n",
      "          1.17682748, 1.1770203 ],\n",
      "         [0.72299421, 1.06653328, 1.00886982, ..., 0.98112122,\n",
      "          1.15683287, 1.11259708],\n",
      "         [0.90600751, 0.76202393, 0.92470343, ..., 1.16074004,\n",
      "          1.21410546, 1.05839151],\n",
      "         ...,\n",
      "         [0.94683484, 0.90682708, 0.92983518, ..., 0.98769067,\n",
      "          0.77088919, 0.95162272],\n",
      "         [1.05228673, 0.84792469, 1.10230458, ..., 1.065327  ,\n",
      "          1.25714463, 0.96678264],\n",
      "         [0.97953446, 0.87495332, 1.02349566, ..., 1.37364863,\n",
      "          1.21086731, 1.22080504]],\n",
      "\n",
      "        ...,\n",
      "\n",
      "        [[0.95040836, 0.94127773, 0.93342713, ..., 0.95511852,\n",
      "          1.09905265, 1.12057171],\n",
      "         [0.82484471, 0.8424534 , 0.96435438, ..., 1.14735802,\n",
      "          1.03208316, 1.2341235 ],\n",
      "         [0.9709013 , 0.9856705 , 0.94181923, ..., 1.35042414,\n",
      "          1.12308311, 1.08208171],\n",
      "         ...,\n",
      "         [1.18002596, 0.85685305, 1.0108195 , ..., 1.04351364,\n",
      "          1.08692671, 1.18996205],\n",
      "         [0.92442096, 0.90274874, 0.98641722, ..., 1.00077935,\n",
      "          0.91694528, 1.09815545],\n",
      "         [1.00869903, 0.76792053, 0.90852905, ..., 1.19599048,\n",
      "          1.28025124, 1.02847786]],\n",
      "\n",
      "        [[0.85936389, 1.05185918, 1.02767059, ..., 1.08685093,\n",
      "          1.09299928, 1.12240155],\n",
      "         [0.93551178, 0.77425287, 0.84556973, ..., 1.24329029,\n",
      "          0.98951032, 0.99427975],\n",
      "         [0.80184758, 0.94901385, 0.95936276, ..., 1.10871972,\n",
      "          1.03863626, 1.18030779],\n",
      "         ...,\n",
      "         [0.92319814, 1.05238103, 0.92756282, ..., 1.05387297,\n",
      "          1.20351388, 0.92879943],\n",
      "         [1.10406385, 0.94597317, 0.96221   , ..., 1.0770237 ,\n",
      "          1.1100841 , 1.00393598],\n",
      "         [0.96149127, 1.11003831, 0.93422076, ..., 1.19548034,\n",
      "          1.22433604, 1.0424943 ]],\n",
      "\n",
      "        [[1.07677491, 0.71932724, 0.88740278, ..., 0.83932944,\n",
      "          1.16298798, 1.22079074],\n",
      "         [0.82922333, 0.81218437, 0.99383661, ..., 1.04400545,\n",
      "          1.04958675, 1.20063837],\n",
      "         [0.95187761, 0.76082048, 1.08586737, ..., 1.03586829,\n",
      "          1.011954  , 1.04879921],\n",
      "         ...,\n",
      "         [1.06362467, 0.86455118, 0.92498832, ..., 1.18735712,\n",
      "          1.12507079, 1.10129384],\n",
      "         [1.04135585, 0.76612196, 0.88136369, ..., 1.05690871,\n",
      "          0.85701844, 1.0875918 ],\n",
      "         [0.94274938, 0.90199791, 0.7155314 , ..., 1.13074868,\n",
      "          1.07468513, 1.2856737 ]]],\n",
      "\n",
      "\n",
      "       [[[0.87433408, 0.62756545, 0.68276057, ..., 1.26235501,\n",
      "          1.21849292, 1.06693457],\n",
      "         [0.66786012, 0.61729058, 0.83681923, ..., 1.04952516,\n",
      "          1.15601143, 1.16432785],\n",
      "         [0.95635018, 0.91671205, 0.82687966, ..., 0.92285233,\n",
      "          1.08207361, 0.99588225],\n",
      "         ...,\n",
      "         [0.83847345, 0.99340493, 1.01491254, ..., 1.00750023,\n",
      "          1.2276256 , 0.8866672 ],\n",
      "         [0.93630103, 0.78242978, 0.92464519, ..., 1.21415961,\n",
      "          0.94303586, 1.04714636],\n",
      "         [1.03438817, 0.64770766, 0.85029869, ..., 1.14597583,\n",
      "          1.25703677, 1.22731552]],\n",
      "\n",
      "        [[0.69911604, 0.77903112, 0.94389886, ..., 1.20758018,\n",
      "          1.07528672, 1.00672395],\n",
      "         [1.01341177, 0.72965083, 0.85688176, ..., 1.19866971,\n",
      "          1.00784595, 1.1955808 ],\n",
      "         [0.94223152, 0.76701951, 0.82265379, ..., 1.34563616,\n",
      "          1.05714243, 1.05364169],\n",
      "         ...,\n",
      "         [1.00755115, 0.66879682, 1.01683011, ..., 1.0492478 ,\n",
      "          0.89557148, 1.22751409],\n",
      "         [1.07704954, 0.93750513, 0.79961396, ..., 0.96413987,\n",
      "          1.08118646, 1.02881363],\n",
      "         [1.09478106, 0.6961944 , 0.90064626, ..., 1.15475094,\n",
      "          1.34091165, 1.17630064]],\n",
      "\n",
      "        [[0.80714879, 0.94043679, 0.92624544, ..., 1.11814381,\n",
      "          0.95068152, 1.03150045],\n",
      "         [0.90959373, 0.70263006, 0.99149325, ..., 0.96923281,\n",
      "          1.20074898, 1.01624361],\n",
      "         [0.91924067, 0.94825003, 0.91274387, ..., 1.05432512,\n",
      "          1.06313526, 0.94537102],\n",
      "         ...,\n",
      "         [0.93346526, 0.97397672, 0.91353367, ..., 1.15604342,\n",
      "          1.07730919, 1.30684112],\n",
      "         [0.97886855, 0.83452197, 0.94275244, ..., 1.10928564,\n",
      "          0.94655046, 1.07301953],\n",
      "         [1.23777027, 0.75118854, 1.01331172, ..., 1.27297485,\n",
      "          1.16154587, 1.14266878]],\n",
      "\n",
      "        ...,\n",
      "\n",
      "        [[0.94326021, 0.79349336, 1.07273612, ..., 1.1240783 ,\n",
      "          1.2092511 , 1.32449659],\n",
      "         [0.8746953 , 0.91412056, 0.97181057, ..., 1.3177267 ,\n",
      "          1.10410689, 1.03996516],\n",
      "         [0.97414844, 0.87225484, 0.94622187, ..., 1.01439642,\n",
      "          1.21722022, 0.96271194],\n",
      "         ...,\n",
      "         [0.87084493, 1.00102983, 0.97416289, ..., 0.9125353 ,\n",
      "          1.0138474 , 1.17478371],\n",
      "         [0.99587376, 0.99124956, 1.03930475, ..., 0.99747858,\n",
      "          0.99153784, 1.08590904],\n",
      "         [0.99347981, 0.83158741, 0.96671559, ..., 1.11628356,\n",
      "          0.96788653, 1.02061276]],\n",
      "\n",
      "        [[1.06583827, 0.91181568, 0.8666277 , ..., 1.12211231,\n",
      "          1.12194189, 1.10410695],\n",
      "         [0.88002628, 0.79664719, 0.92513374, ..., 1.15739029,\n",
      "          1.1550912 , 0.96000423],\n",
      "         [0.89588242, 0.79213675, 0.68770993, ..., 1.19066115,\n",
      "          1.24724519, 1.14713979],\n",
      "         ...,\n",
      "         [0.81044919, 0.86311362, 0.94131505, ..., 0.9376262 ,\n",
      "          1.15743947, 1.00208245],\n",
      "         [1.15506326, 0.80965304, 0.6921524 , ..., 0.95098022,\n",
      "          1.05734702, 0.77749416],\n",
      "         [0.83522378, 0.83704866, 0.82601745, ..., 1.06776193,\n",
      "          1.11531292, 1.20899896]],\n",
      "\n",
      "        [[0.97430224, 0.80789782, 0.86564678, ..., 1.14701147,\n",
      "          1.29469849, 0.88108878],\n",
      "         [0.82833309, 0.80082678, 0.88310352, ..., 1.10433835,\n",
      "          1.08417399, 1.15347246],\n",
      "         [0.89946521, 0.79913116, 0.77722695, ..., 1.10076042,\n",
      "          0.94237044, 0.92024499],\n",
      "         ...,\n",
      "         [1.02530984, 0.81385565, 1.0449422 , ..., 1.07630932,\n",
      "          1.20605078, 1.36040925],\n",
      "         [0.98330587, 0.91358902, 0.83431044, ..., 1.36074693,\n",
      "          1.06409318, 1.22179218],\n",
      "         [1.00540348, 0.7927616 , 0.76195736, ..., 1.07253147,\n",
      "          1.17788617, 1.06251051]]],\n",
      "\n",
      "\n",
      "       [[[1.12662397, 0.74815724, 0.69984705, ..., 1.20654072,\n",
      "          1.19636715, 1.1120713 ],\n",
      "         [0.70660067, 0.87447198, 0.64536277, ..., 1.33432327,\n",
      "          1.24100158, 1.26912868],\n",
      "         [1.01544264, 0.82396169, 0.82892073, ..., 1.15316305,\n",
      "          1.22975417, 1.07478452],\n",
      "         ...,\n",
      "         [1.11857888, 1.11722862, 0.73510824, ..., 1.18751497,\n",
      "          1.00864035, 1.06876313],\n",
      "         [1.05255915, 0.80687129, 0.89868298, ..., 1.04254716,\n",
      "          1.04431949, 1.2004847 ],\n",
      "         [0.9785254 , 0.59536941, 0.82684031, ..., 1.09508921,\n",
      "          0.91697418, 1.00723079]],\n",
      "\n",
      "        [[0.61032851, 0.80423335, 0.71687626, ..., 1.25328737,\n",
      "          1.10676746, 1.21823362],\n",
      "         [0.75105033, 0.69104401, 0.66311128, ..., 0.92129929,\n",
      "          0.93596253, 0.95545243],\n",
      "         [0.80327232, 0.78820886, 0.89992468, ..., 1.11874813,\n",
      "          0.99842657, 1.10929624],\n",
      "         ...,\n",
      "         [1.15593257, 0.83391352, 0.97138247, ..., 1.08760386,\n",
      "          0.96236507, 1.24233219],\n",
      "         [1.10770059, 0.85684458, 0.9141591 , ..., 1.04176373,\n",
      "          1.06411815, 1.09014029],\n",
      "         [0.90780037, 0.73167463, 1.00232596, ..., 1.1057252 ,\n",
      "          0.93499506, 1.10491532]],\n",
      "\n",
      "        [[0.85414006, 0.73477971, 0.99378785, ..., 1.30257202,\n",
      "          1.1906945 , 1.081082  ],\n",
      "         [0.95881567, 0.69996309, 1.04341223, ..., 1.12403334,\n",
      "          1.16301906, 1.2091854 ],\n",
      "         [0.82802083, 0.95474901, 1.03990043, ..., 1.18853094,\n",
      "          1.0373023 , 1.2017685 ],\n",
      "         ...,\n",
      "         [1.01603936, 1.0567751 , 0.90341809, ..., 0.94830321,\n",
      "          1.56558467, 1.10167677],\n",
      "         [1.03544785, 0.95095905, 0.93204951, ..., 1.0693462 ,\n",
      "          1.17782299, 1.23193665],\n",
      "         [1.04946032, 0.92639693, 1.05328443, ..., 1.17705376,\n",
      "          1.43921087, 1.12866682]],\n",
      "\n",
      "        ...,\n",
      "\n",
      "        [[0.95825189, 0.99004992, 0.71796546, ..., 1.22098637,\n",
      "          0.83420197, 0.94983594],\n",
      "         [0.86469478, 0.93102921, 0.89673289, ..., 1.0092176 ,\n",
      "          1.10031725, 1.1697452 ],\n",
      "         [0.98387382, 0.87685137, 0.88415195, ..., 1.14162713,\n",
      "          0.94290589, 1.09979359],\n",
      "         ...,\n",
      "         [0.75474107, 0.87509353, 0.96782819, ..., 1.13629002,\n",
      "          1.11919472, 1.03566322],\n",
      "         [0.9044222 , 0.95504493, 1.08994978, ..., 1.44198065,\n",
      "          1.04012309, 1.05421874],\n",
      "         [0.99658915, 0.95024666, 0.85476766, ..., 1.36085847,\n",
      "          1.06891989, 1.19726911]],\n",
      "\n",
      "        [[1.15444595, 1.12239058, 0.82005447, ..., 1.29766574,\n",
      "          0.95069692, 0.95985546],\n",
      "         [1.02827506, 1.01045086, 0.82567384, ..., 1.13058684,\n",
      "          1.03664744, 0.91890524],\n",
      "         [0.82756392, 0.71251018, 0.85214459, ..., 1.1109032 ,\n",
      "          1.19727605, 1.2376802 ],\n",
      "         ...,\n",
      "         [1.21738591, 0.89032765, 1.01239766, ..., 1.20712663,\n",
      "          0.89598537, 1.2115945 ],\n",
      "         [1.03553858, 0.72764575, 0.89839223, ..., 1.17371699,\n",
      "          1.04298811, 0.96944063],\n",
      "         [0.93405932, 0.9114696 , 0.90024057, ..., 1.10487621,\n",
      "          1.029274  , 1.15296632]],\n",
      "\n",
      "        [[1.0206311 , 0.75753024, 0.71771078, ..., 1.47394453,\n",
      "          1.19045813, 1.30882537],\n",
      "         [0.76533687, 0.95880639, 0.83670598, ..., 0.95651546,\n",
      "          1.30980322, 1.05183468],\n",
      "         [0.74187355, 0.83038985, 0.89417636, ..., 1.09685449,\n",
      "          1.1854251 , 1.14352918],\n",
      "         ...,\n",
      "         [0.90160639, 0.99699757, 0.92993574, ..., 1.0103576 ,\n",
      "          1.15786695, 1.04397742],\n",
      "         [1.12648785, 0.80316502, 0.82927129, ..., 1.2115211 ,\n",
      "          1.25156396, 0.90655817],\n",
      "         [1.24627641, 1.05619186, 1.04066161, ..., 1.31503169,\n",
      "          0.90652285, 1.10460753]]],\n",
      "\n",
      "\n",
      "       [[[1.12713937, 0.61866581, 0.8206745 , ..., 1.23122533,\n",
      "          0.99499205, 1.05346272],\n",
      "         [0.80235648, 0.93575517, 0.88434353, ..., 1.22767698,\n",
      "          1.01250469, 1.19447699],\n",
      "         [0.86485388, 0.91906144, 0.961894  , ..., 1.03866238,\n",
      "          0.98631318, 0.96257357],\n",
      "         ...,\n",
      "         [1.12568128, 0.94841391, 0.91916222, ..., 1.06247155,\n",
      "          1.33207949, 0.93563568],\n",
      "         [0.96829955, 0.75581212, 0.94588751, ..., 1.08331137,\n",
      "          1.07155072, 0.84544606],\n",
      "         [1.1178425 , 0.81137251, 0.87986995, ..., 0.97384042,\n",
      "          0.92905367, 1.14591154]],\n",
      "\n",
      "        [[0.86818281, 0.57286859, 0.80640508, ..., 1.1503932 ,\n",
      "          1.21993761, 1.19789905],\n",
      "         [0.84295936, 0.72957057, 0.7527208 , ..., 1.00516841,\n",
      "          1.09626335, 1.02238381],\n",
      "         [0.83397459, 0.80754017, 0.82666655, ..., 1.29263975,\n",
      "          1.18142972, 1.04991948],\n",
      "         ...,\n",
      "         [0.99004511, 1.06000933, 1.06470831, ..., 1.02149442,\n",
      "          0.94042918, 1.1156675 ],\n",
      "         [1.185804  , 0.91114368, 0.97626695, ..., 1.09582626,\n",
      "          0.89957606, 1.01813148],\n",
      "         [0.98899448, 0.86403449, 0.79608839, ..., 1.21683697,\n",
      "          1.35746004, 0.90371235]],\n",
      "\n",
      "        [[0.94893142, 0.95142769, 0.93760893, ..., 1.01648828,\n",
      "          1.32652525, 1.0468003 ],\n",
      "         [0.74655664, 0.9771367 , 0.76800432, ..., 1.35151894,\n",
      "          1.10893313, 1.00192261],\n",
      "         [0.84349879, 1.05890943, 0.90396641, ..., 1.00221687,\n",
      "          0.93908681, 1.35674937],\n",
      "         ...,\n",
      "         [0.82579657, 0.84647456, 0.90547039, ..., 1.16602248,\n",
      "          1.01394498, 0.95153363],\n",
      "         [0.99447642, 0.78490621, 0.85307876, ..., 1.01253762,\n",
      "          0.84024951, 1.04944413],\n",
      "         [0.92162995, 0.73933613, 1.07893193, ..., 0.99175132,\n",
      "          1.00868983, 1.21017906]],\n",
      "\n",
      "        ...,\n",
      "\n",
      "        [[0.95188525, 0.91042267, 0.89612664, ..., 1.11205312,\n",
      "          1.26798065, 0.92873571],\n",
      "         [0.82181286, 0.81388335, 0.88905552, ..., 0.96800178,\n",
      "          0.90822391, 1.00883653],\n",
      "         [0.86694336, 0.8496244 , 0.85914064, ..., 1.21246575,\n",
      "          0.79158124, 0.92095412],\n",
      "         ...,\n",
      "         [1.10841334, 1.025964  , 1.1058301 , ..., 1.30444229,\n",
      "          1.13647702, 1.16218366],\n",
      "         [1.16285804, 0.82950401, 1.0997474 , ..., 1.05895208,\n",
      "          0.92346169, 0.9576498 ],\n",
      "         [0.94184868, 1.04986601, 1.04134398, ..., 1.27941075,\n",
      "          1.15984441, 1.03874552]],\n",
      "\n",
      "        [[1.190166  , 1.12501112, 1.26978768, ..., 1.04143628,\n",
      "          0.89474352, 1.01298627],\n",
      "         [0.86389194, 0.80283262, 0.88907314, ..., 1.20911164,\n",
      "          0.87808032, 1.05568567],\n",
      "         [1.04280118, 0.90076587, 0.99361031, ..., 1.11453574,\n",
      "          0.96462986, 0.93381628],\n",
      "         ...,\n",
      "         [1.11034354, 0.89976337, 0.95630793, ..., 1.2404204 ,\n",
      "          0.93521446, 1.1442808 ],\n",
      "         [0.9598797 , 0.91720304, 0.93698465, ..., 1.12721847,\n",
      "          1.20177249, 1.14447837],\n",
      "         [0.88253953, 0.76361684, 0.88864671, ..., 1.18031994,\n",
      "          1.00996331, 1.15165369]],\n",
      "\n",
      "        [[0.89007689, 0.84804861, 0.69121112, ..., 1.269817  ,\n",
      "          1.14157368, 1.24709908],\n",
      "         [0.68944096, 0.61244415, 0.89045925, ..., 0.92964026,\n",
      "          1.15316114, 1.14901411],\n",
      "         [0.89571817, 0.81146977, 0.91831359, ..., 0.97940408,\n",
      "          1.30320565, 0.8876319 ],\n",
      "         ...,\n",
      "         [0.99591244, 0.97151725, 0.95063012, ..., 0.97865471,\n",
      "          0.97377437, 1.00379191],\n",
      "         [1.31994991, 0.86080408, 0.80696698, ..., 1.10416469,\n",
      "          1.07624253, 0.92934914],\n",
      "         [0.9357058 , 0.66893927, 0.97038139, ..., 1.04852324,\n",
      "          1.13647255, 1.06061867]]]], dtype=float64)}\n",
      "no bias\n"
     ]
    },
    {
     "data": {
      "image/png": "[encoded data removed]",
      "text/plain": [
       "<Figure size 1200x400 with 3 Axes>"
      ]
     },
     "metadata": {},
     "output_type": "display_data"
    }
   ],
   "source": [
    "continue_run = False\n",
    "if continue_run:\n",
    "    pass\n",
    "else:\n",
    "    model.reset()\n",
    "    model.condition({'obs': truth['obs']} | model.loc_fid, frombase=True)\n",
    "    model.block()\n",
    "\n",
    "    mcmc = get_init_mcmc(model.model, mcmc_config['n_chains'])    \n",
    "    init_params_ = jit(vmap(partial(model.init_model, delta_obs=truth['obs']-1)))(jr.split(jr.key(45), mcmc.num_chains))\n",
    "    # init_params_ = model.predict(45, samples=mcmc.num_chains, hide_samp=False)\n",
    "    \n",
    "    if not os.path.exists(save_path + \"_init_last_state.p\"):\n",
    "        print(\"# Warmupping...\")\n",
    "        init_mesh_ = {k: init_params_[k] for k in ['init_mesh_']} # NOTE: !!!!!!!\n",
    "        mcmc = sample_and_save(mcmc, save_path+'_init', 0, 0, extra_fields=['num_steps'], init_params=init_mesh_)\n",
    "        ils = mcmc.last_state.z\n",
    "    else:\n",
    "        print(\"# Loading init_last_state\")\n",
    "        ils = pload(save_path + \"_init_last_state.p\").z\n",
    "    \n",
    "    # ils = {k: jnp.broadcast_to(v, (mcmc_config['n_chains'], *jnp.shape(v))) for k, v in truth.items()}\n",
    "    # ils = {k+'_': ils[k+'_'] for k in ['Omega_m','sigma8','b1','b2','bs2','bn2','init_mesh']}\n",
    "\n",
    "    ################\n",
    "    from montecosmo.plot import plot_pow, plot_powtranscoh, plot_coh\n",
    "    mesh0 = jnp.fft.irfftn(truth['init_mesh'])\n",
    "    kptcs__ = vmap(lambda x: model.powtranscoh(mesh0, model.reparam(x, fourier=False)['init_mesh']))(init_params_)\n",
    "    kptcs_ = vmap(lambda x: model.powtranscoh(mesh0, model.reparam(x, fourier=False)['init_mesh']))(init_params_ | ils)\n",
    "    kpk0 = model.spectrum(mesh0)\n",
    "    kptc_obs = model.powtranscoh(mesh0, truth['obs'] - 1)\n",
    "    kpkobs = model.spectrum(truth['obs']-1)\n",
    "    \n",
    "    print(ils.keys(), init_params_.keys())\n",
    "\n",
    "    mse__ = jnp.mean((vmap(lambda x: model.reparam(x, fourier=False))(init_params_)['init_mesh']  - mesh0)**2, axis=(1,2,3))\n",
    "    mse_ = jnp.mean((vmap(lambda x: model.reparam(x, fourier=False))(init_params_ | ils)['init_mesh']  - mesh0)**2, axis=(1,2,3))\n",
    "    print(\"MSEs:\", mse_, mse_)\n",
    "\n",
    "    prob = 0.95\n",
    "    plt.figure(figsize=(12, 4))\n",
    "    plot_powtranscoh(*jnp.median(jnp.stack(kptcs__), 1), label='init')\n",
    "    plot_powtranscoh(*kptcs__, fill=prob)\n",
    "    plot_powtranscoh(*jnp.median(jnp.stack(kptcs_), 1), label='warm')\n",
    "    plot_powtranscoh(*kptcs_, fill=prob)\n",
    "    plt.subplot(131)\n",
    "    plot_pow(*kpk0, 'k', label='true')\n",
    "    plot_pow(*kpkobs, ':', c='grey', label='obs')\n",
    "    plt.legend()\n",
    "    plt.subplot(133)\n",
    "    plot_coh(kptc_obs[0], kptc_obs[-1], ':', c='grey', label='obs')\n",
    "    plt.tight_layout()\n",
    "    plt.savefig(save_dir+f'init_glin_{task_id}.png')\n",
    "    # plt.savefig(f'init_glin_{task_id}.png')\n",
    "    ################    \n",
    "    \n",
    "    if model.loc_fid['b1'] == 0:\n",
    "        print('no bias')\n",
    "        init_params_ = {k:v for k,v in init_params_.items() if k in ['Omega_m_', 'sigma8_']} | ils\n",
    "        # init_params_ = {k:v for k,v in init_params_.items() if k in ['Omega_m_', 'sigma8_','b1_','b2_','bs2_']} | ils\n",
    "    else:\n",
    "        init_params_ |= ils\n",
    "        # init_params_ |= mcmc.last_state.z\n",
    "    print(init_params_.keys())\n",
    "\n",
    "    sqrt_diag_cov = get_sqrt_diag_cov_from_numpyro(pload(save_path + \"_init_last_state.p\"), init_params_)\n",
    "    print(sqrt_diag_cov)\n",
    "\n",
    "model.reset()\n",
    "if model.loc_fid['b1'] == 0:\n",
    "    print('no bias')\n",
    "    model.condition({'obs': truth['obs'], 'b1': truth['b1'], 'b2': truth['b2'], 'bs2': truth['bs2'], 'bn2': truth['bn2']}, frombase=True)\n",
    "    # model.condition({'obs': truth['obs'], 'bn2': truth['bn2']}, frombase=True)\n",
    "else:\n",
    "    model.condition({'obs': truth['obs']})\n",
    "model.block()"
   ]
  },
  {
   "cell_type": "code",
   "execution_count": 5,
   "metadata": {},
   "outputs": [
    {
     "data": {
      "text/plain": [
       "<matplotlib.colorbar.Colorbar at 0x7ff576133710>"
      ]
     },
     "execution_count": 5,
     "metadata": {},
     "output_type": "execute_result"
    },
    {
     "data": {
      "image/png": "[encoded data removed]",
      "text/plain": [
       "<Figure size 1500x300 with 8 Axes>"
      ]
     },
     "metadata": {},
     "output_type": "display_data"
    }
   ],
   "source": [
    "from montecosmo.plot import plot_mesh\n",
    "from montecosmo.bricks import lin_power_mesh, Planck18\n",
    "from montecosmo.utils import rg2cgh, cgh2rg\n",
    "cosmo = Planck18()\n",
    "scale, transfer = model._precond_scale_and_transfer(cosmo)\n",
    "scale = rg2cgh(scale, amp=True)\n",
    "sli = None\n",
    "\n",
    "plt.figure(figsize=(15, 3), layout='constrained')\n",
    "\n",
    "est_scale = vmap(partial(rg2cgh, amp=True))(sqrt_diag_cov['init_mesh_'])\n",
    "est_scale_mean, est_scale_std = est_scale.mean(0), est_scale.std(0)\n",
    "plt.subplot(141)\n",
    "plot_mesh(est_scale_mean, model.box_shape, sli=sli)\n",
    "plt.title('estimated scale mean')\n",
    "plt.colorbar()\n",
    "\n",
    "plt.subplot(142)\n",
    "plot_mesh(est_scale_std, model.box_shape, sli=sli)\n",
    "plt.title('estimated scale std')\n",
    "plt.colorbar()\n",
    "\n",
    "plt.subplot(143)\n",
    "plot_mesh(scale, model.box_shape, sli=sli)\n",
    "plt.title('scale')\n",
    "plt.colorbar()\n",
    "\n",
    "plt.subplot(144)\n",
    "plot_mesh(scale / est_scale_mean, model.box_shape, sli=sli)\n",
    "plt.title('scale / estimated scale mean')\n",
    "plt.colorbar()"
   ]
  },
  {
   "cell_type": "code",
   "execution_count": 6,
   "metadata": {},
   "outputs": [
    {
     "name": "stdout",
     "output_type": "stream",
     "text": [
      "MCLMCAdaptationState(L=Array([700, 700, 700, 700], dtype=int64, weak_type=True), step_size=Array([35, 35, 35, 35], dtype=int64, weak_type=True), sqrt_diag_cov=Array([1., 1., 1., 1.], dtype=float64, weak_type=True))\n"
     ]
    },
    {
     "name": "stderr",
     "output_type": "stream",
     "text": [
      "  0%|          | 0/15 [00:00<?, ?it/s]"
     ]
    },
    {
     "name": "stdout",
     "output_type": "stream",
     "text": [
      "run 1/15\n"
     ]
    },
    {
     "name": "stderr",
     "output_type": "stream",
     "text": [
      "  7%|▋         | 1/15 [05:55<1:22:50, 355.01s/it]"
     ]
    },
    {
     "name": "stdout",
     "output_type": "stream",
     "text": [
      "MCLMCInfo(logdensity=Array([1.68394150e+10, 1.68395627e+10, 1.68413467e+10, 1.68391607e+10],      dtype=float64), kinetic_change=Array([1391.51081219, 1108.56273644, 1287.66946366, 1111.93373498],      dtype=float64), energy_change=Array([9.25374722, 2.29174881, 5.74984543, 2.39977698], dtype=float64)) \n",
      "mean square energy fluctation per dim: {'mse_per_dim': Array([2.82401954e-04, 6.99386232e-05, 1.75471357e-04, 7.32353813e-05],      dtype=float64)} \n",
      "\n",
      "run 2/15\n"
     ]
    },
    {
     "name": "stderr",
     "output_type": "stream",
     "text": [
      " 13%|█▎        | 2/15 [10:15<1:04:53, 299.52s/it]"
     ]
    },
    {
     "name": "stdout",
     "output_type": "stream",
     "text": [
      "MCLMCInfo(logdensity=Array([1.68384957e+10, 1.68433019e+10, 1.68385905e+10, 1.68403102e+10],      dtype=float64), kinetic_change=Array([1269.8279364 , 1271.17699525, 1166.27344328, 1061.44840322],      dtype=float64), energy_change=Array([ 2.64968527,  4.15091705, 22.10351095,  5.03275197], dtype=float64)) \n",
      "mean square energy fluctation per dim: {'mse_per_dim': Array([8.08619773e-05, 1.26675935e-04, 6.74545622e-04, 1.53587401e-04],      dtype=float64)} \n",
      "\n",
      "run 3/15\n"
     ]
    },
    {
     "name": "stderr",
     "output_type": "stream",
     "text": [
      " 20%|██        | 3/15 [14:35<56:16, 281.38s/it]  "
     ]
    },
    {
     "name": "stdout",
     "output_type": "stream",
     "text": [
      "MCLMCInfo(logdensity=Array([1.68396112e+10, 1.68402749e+10, 1.68384843e+10, 1.68373816e+10],      dtype=float64), kinetic_change=Array([1095.8933751 , 1276.40853778, 1339.95344754, 1364.45385436],      dtype=float64), energy_change=Array([ 6.59204078, 25.91119836, 19.95344579, 13.5493341 ], dtype=float64)) \n",
      "mean square energy fluctation per dim: {'mse_per_dim': Array([0.00020117, 0.00079075, 0.00060893, 0.00041349], dtype=float64)} \n",
      "\n",
      "run 4/15\n"
     ]
    },
    {
     "name": "stderr",
     "output_type": "stream",
     "text": [
      " 27%|██▋       | 4/15 [18:56<50:05, 273.21s/it]"
     ]
    },
    {
     "name": "stdout",
     "output_type": "stream",
     "text": [
      "MCLMCInfo(logdensity=Array([1.68403826e+10, 1.68420114e+10, 1.68400439e+10, 1.68403094e+10],      dtype=float64), kinetic_change=Array([1216.46122932, 1372.47118103, 1150.32485923, 1450.72599283],      dtype=float64), energy_change=Array([46.15758705, 11.90674193,  3.55770699, 40.80694459], dtype=float64)) \n",
      "mean square energy fluctation per dim: {'mse_per_dim': Array([0.00140862, 0.00036336, 0.00010857, 0.00124533], dtype=float64)} \n",
      "\n",
      "run 5/15\n"
     ]
    },
    {
     "name": "stderr",
     "output_type": "stream",
     "text": [
      " 33%|███▎      | 5/15 [23:15<44:43, 268.37s/it]"
     ]
    },
    {
     "name": "stdout",
     "output_type": "stream",
     "text": [
      "MCLMCInfo(logdensity=Array([1.68419332e+10, 1.68424430e+10, 1.68382713e+10, 1.68393864e+10],      dtype=float64), kinetic_change=Array([1232.02233647, 1152.71082706, 1148.41494555, 1026.31370703],      dtype=float64), energy_change=Array([ 6.66675692, 24.49723748, 25.27939636,  5.34115914], dtype=float64)) \n",
      "mean square energy fluctation per dim: {'mse_per_dim': Array([0.00020345, 0.0007476 , 0.00077147, 0.000163  ], dtype=float64)} \n",
      "\n",
      "run 6/15\n"
     ]
    },
    {
     "name": "stderr",
     "output_type": "stream",
     "text": [
      " 40%|████      | 6/15 [27:36<39:51, 265.75s/it]"
     ]
    },
    {
     "name": "stdout",
     "output_type": "stream",
     "text": [
      "MCLMCInfo(logdensity=Array([1.68406437e+10, 1.68416012e+10, 1.68393926e+10, 1.68397322e+10],      dtype=float64), kinetic_change=Array([1058.19883274, 1138.54365253, 1182.90464867, 1272.17569055],      dtype=float64), energy_change=Array([ 3.11597639,  4.89829947,  4.5016942 , 11.83898317], dtype=float64)) \n",
      "mean square energy fluctation per dim: {'mse_per_dim': Array([9.50920528e-05, 1.49484237e-04, 1.37380804e-04, 3.61297094e-04],      dtype=float64)} \n",
      "\n",
      "run 7/15\n"
     ]
    },
    {
     "name": "stderr",
     "output_type": "stream",
     "text": [
      " 47%|████▋     | 7/15 [31:56<35:10, 263.79s/it]"
     ]
    },
    {
     "name": "stdout",
     "output_type": "stream",
     "text": [
      "MCLMCInfo(logdensity=Array([1.68385185e+10, 1.68372696e+10, 1.68388019e+10, 1.68404063e+10],      dtype=float64), kinetic_change=Array([1156.64274513, 1252.6032111 , 1180.39811177, 1205.56271702],      dtype=float64), energy_change=Array([7.43612589, 9.60144282, 3.87710849, 1.7063338 ], dtype=float64)) \n",
      "mean square energy fluctation per dim: {'mse_per_dim': Array([2.26932553e-04, 2.93012781e-04, 1.18319961e-04, 5.20731749e-05],      dtype=float64)} \n",
      "\n",
      "run 8/15\n"
     ]
    },
    {
     "name": "stderr",
     "output_type": "stream",
     "text": [
      " 53%|█████▎    | 8/15 [36:17<30:39, 262.81s/it]"
     ]
    },
    {
     "name": "stdout",
     "output_type": "stream",
     "text": [
      "MCLMCInfo(logdensity=Array([1.68436289e+10, 1.68388749e+10, 1.68390498e+10, 1.68370213e+10],      dtype=float64), kinetic_change=Array([1324.41048593, 1095.37733766, 1245.86133544, 1295.4971492 ],      dtype=float64), energy_change=Array([ 9.49373208,  4.85581558,  6.83581236, 18.0225963 ], dtype=float64)) \n",
      "mean square energy fluctation per dim: {'mse_per_dim': Array([0.00028973, 0.00014819, 0.00020861, 0.00055001], dtype=float64)} \n",
      "\n",
      "run 9/15\n"
     ]
    },
    {
     "name": "stderr",
     "output_type": "stream",
     "text": [
      " 60%|██████    | 9/15 [40:36<26:11, 261.86s/it]"
     ]
    },
    {
     "name": "stdout",
     "output_type": "stream",
     "text": [
      "MCLMCInfo(logdensity=Array([1.68409673e+10, 1.68380272e+10, 1.68409342e+10, 1.68397193e+10],      dtype=float64), kinetic_change=Array([1307.22746387, 1411.61560716, 1316.89875039, 1435.35320508],      dtype=float64), energy_change=Array([ 4.99219482, 47.32570162,  9.03519664, 54.42355934], dtype=float64)) \n",
      "mean square energy fluctation per dim: {'mse_per_dim': Array([0.00015235, 0.00144427, 0.00027573, 0.00166088], dtype=float64)} \n",
      "\n",
      "run 10/15\n"
     ]
    },
    {
     "name": "stderr",
     "output_type": "stream",
     "text": [
      " 67%|██████▋   | 10/15 [44:57<21:47, 261.50s/it]"
     ]
    },
    {
     "name": "stdout",
     "output_type": "stream",
     "text": [
      "MCLMCInfo(logdensity=Array([1.68375286e+10, 1.68401618e+10, 1.68391001e+10, 1.68374604e+10],      dtype=float64), kinetic_change=Array([1338.24417838, 1086.13469809, 1221.40576068, 1192.51746958],      dtype=float64), energy_change=Array([11.09559962,  4.77519941,  3.50050338, 29.84302759], dtype=float64)) \n",
      "mean square energy fluctation per dim: {'mse_per_dim': Array([0.00033861, 0.00014573, 0.00010683, 0.00091074], dtype=float64)} \n",
      "\n",
      "run 11/15\n"
     ]
    },
    {
     "name": "stderr",
     "output_type": "stream",
     "text": [
      " 73%|███████▎  | 11/15 [49:17<17:23, 260.98s/it]"
     ]
    },
    {
     "name": "stdout",
     "output_type": "stream",
     "text": [
      "MCLMCInfo(logdensity=Array([1.68378383e+10, 1.68415192e+10, 1.68399888e+10, 1.68401922e+10],      dtype=float64), kinetic_change=Array([1298.63697314, 1597.73247948, 1363.19977552, 1189.56738106],      dtype=float64), energy_change=Array([ 14.91327293, 306.12312344,   2.60794702,   4.64795604], dtype=float64)) \n",
      "mean square energy fluctation per dim: {'mse_per_dim': Array([4.55116972e-04, 9.34213634e-03, 7.95882269e-05, 1.41844362e-04],      dtype=float64)} \n",
      "\n",
      "run 12/15\n"
     ]
    },
    {
     "name": "stderr",
     "output_type": "stream",
     "text": [
      " 80%|████████  | 12/15 [53:38<13:02, 260.89s/it]"
     ]
    },
    {
     "name": "stdout",
     "output_type": "stream",
     "text": [
      "MCLMCInfo(logdensity=Array([1.68388884e+10, 1.68393869e+10, 1.68368738e+10, 1.68396758e+10],      dtype=float64), kinetic_change=Array([1522.30322268, 1206.20912127, 1371.23592867, 1266.49532   ],      dtype=float64), energy_change=Array([45.99127414, 11.09888188,  7.89506087,  2.57056733], dtype=float64)) \n",
      "mean square energy fluctation per dim: {'mse_per_dim': Array([1.40354230e-03, 3.38710995e-04, 2.40938137e-04, 7.84474892e-05],      dtype=float64)} \n",
      "\n",
      "run 13/15\n"
     ]
    },
    {
     "name": "stderr",
     "output_type": "stream",
     "text": [
      " 87%|████████▋ | 13/15 [57:57<08:41, 260.55s/it]"
     ]
    },
    {
     "name": "stdout",
     "output_type": "stream",
     "text": [
      "MCLMCInfo(logdensity=Array([1.68412809e+10, 1.68409194e+10, 1.68412407e+10, 1.68400139e+10],      dtype=float64), kinetic_change=Array([1227.15408298, 1158.03445344, 1382.38536685, 1111.1071826 ],      dtype=float64), energy_change=Array([ 4.87676904, 11.24966431, 12.64614672, 15.91395215], dtype=float64)) \n",
      "mean square energy fluctation per dim: {'mse_per_dim': Array([0.00014883, 0.00034331, 0.00038593, 0.00048566], dtype=float64)} \n",
      "\n",
      "run 14/15\n"
     ]
    },
    {
     "name": "stderr",
     "output_type": "stream",
     "text": [
      " 93%|█████████▎| 14/15 [1:02:18<04:20, 260.60s/it]"
     ]
    },
    {
     "name": "stdout",
     "output_type": "stream",
     "text": [
      "MCLMCInfo(logdensity=Array([1.68346221e+10, 1.68369432e+10, 1.68433034e+10, 1.68377346e+10],      dtype=float64), kinetic_change=Array([1372.575151  , 1356.23844318, 1203.72674682, 1083.46851104],      dtype=float64), energy_change=Array([7.12558088, 4.07610444, 1.90185703, 9.17461298], dtype=float64)) \n",
      "mean square energy fluctation per dim: {'mse_per_dim': Array([2.17455471e-04, 1.24392836e-04, 5.80400706e-05, 2.79986968e-04],      dtype=float64)} \n",
      "\n",
      "run 15/15\n"
     ]
    },
    {
     "name": "stderr",
     "output_type": "stream",
     "text": [
      "100%|██████████| 15/15 [1:06:38<00:00, 266.55s/it]"
     ]
    },
    {
     "name": "stdout",
     "output_type": "stream",
     "text": [
      "MCLMCInfo(logdensity=Array([1.68379209e+10, 1.68419763e+10, 1.68390234e+10, 1.68390096e+10],      dtype=float64), kinetic_change=Array([1331.95796665, 1215.36271165, 1217.15556231, 1090.48746238],      dtype=float64), energy_change=Array([16.19750839, 14.93062579,  5.93193526,  7.30144685], dtype=float64)) \n",
      "mean square energy fluctation per dim: {'mse_per_dim': Array([0.00049431, 0.00045565, 0.00018103, 0.00022282], dtype=float64)} \n",
      "\n"
     ]
    },
    {
     "name": "stderr",
     "output_type": "stream",
     "text": [
      "\n"
     ]
    }
   ],
   "source": [
    "from tqdm import tqdm\n",
    "if mcmc_config['sampler'] in ['NUTS', 'HMC']:\n",
    "    mcmc = get_mcmc(model.model, mcmc_config)\n",
    "    if continue_run:\n",
    "        print(f\"{jnp.result_type(True)=}\") # HACK: why is it working?!!\n",
    "        mcmc.num_warmup = 0\n",
    "        mcmc.post_warmup_state = pload(save_path + \"_last_state.p\")\n",
    "        start = 3 ###############\n",
    "        end = start + mcmc_config['n_runs'] - 1\n",
    "        mcmc_runned = sample_and_save(mcmc, save_path, start, end, rng=44, extra_fields=['num_steps'])\n",
    "\n",
    "    else:\n",
    "        mcmc_runned = sample_and_save(mcmc, save_path, 0, mcmc_config['n_runs'], extra_fields=['num_steps'], init_params=init_params_)\n",
    "\n",
    "elif mcmc_config['sampler'] == 'NUTSWG':\n",
    "    from montecosmo.samplers import nutswg_init, get_nutswg_warm, get_nutswg_run\n",
    "    n_samples, n_runs, n_chains = mcmc_config['n_samples'], mcmc_config['n_runs'], mcmc_config['n_chains']\n",
    "\n",
    "    step_fn, init_fn, conf, init_state_fn = nutswg_init(model.logpdf)\n",
    "\n",
    "    # warmup_fn = jit(vmap(get_nutswg_warm(model.logpdf, conf, mcmc_config['n_samples'], progress_bar=False)))\n",
    "    # state = jit(vmap(init_state_fn))(init_params_)\n",
    "\n",
    "    # samples, infos, state, conf = warmup_fn(jr.split(jr.key(43), n_chains), state)\n",
    "    # print(\"conf:\", conf,\n",
    "    #         \"\\n\\ninfos:\", infos, '\\n#################\\n')\n",
    "    # jnp.savez(save_path+f\"_{0}.npz\", **samples | {k:infos[k] for k in ['n_evals']})\n",
    "    # pdump(state, save_path+f\"_last_state.p\")\n",
    "    # pdump(conf, save_path+'_conf.p'), pdump(tree.map(jnp.mean, infos), save_path+'_infos.p')\n",
    "\n",
    "    conf = pload(save_path+'_conf.p')\n",
    "    state = pload(save_path+'_last_state.p')\n",
    "    \n",
    "    run_fn = jit(vmap(get_nutswg_run(model.logpdf, step_fn, init_fn, n_samples, progress_bar=False)))\n",
    "    start = 1 ######\n",
    "    end = start + n_runs - 1\n",
    "    key = jr.key(42)\n",
    "    for i_run in tqdm(range(start, end+1)):\n",
    "        print(f\"run {i_run}/{end}\")\n",
    "        key, run_key = jr.split(key, 2)\n",
    "        samples, infos, state = run_fn(jr.split(run_key, n_chains), state, conf)\n",
    "        print(\"infos:\", tree.map(lambda x: jnp.mean(x, 1), infos))\n",
    "        jnp.savez(save_path+f\"_{i_run}.npz\", **samples | {k:infos[k] for k in ['n_evals']})\n",
    "        pdump(state, save_path+f\"_last_state.p\")\n",
    "\n",
    "elif mcmc_config['sampler'] == 'MCLMC':\n",
    "    from montecosmo.samplers import get_mclmc_warmup, get_mclmc_run\n",
    "    from jax.flatten_util import ravel_pytree\n",
    "\n",
    "    config = None\n",
    "    # config = {'L':193, 'step_size': 45,} # 64^3\n",
    "    # config = {'L':500, 'step_size': 10,} # 64^3 norsdb\n",
    "    # config = {'L':350, 'step_size': 3,} # 64^3 a=.5\n",
    "    if mcmc_config['mm']:\n",
    "        sdc = ravel_pytree(tree.map(lambda x:x.mean(0), sqrt_diag_cov))[0]\n",
    "    else:\n",
    "        sdc = 1.\n",
    "    config = {'L':700, 'step_size':35, 'sqrt_diag_cov':sdc} # 64, 128^3 a=.5\n",
    "\n",
    "    warmup_fn = jit(vmap(get_mclmc_warmup(model.logpdf, n_samples=4096, config=config)))\n",
    "    state, config = warmup_fn(jr.split(jr.key(43), mcmc_config['n_chains']), init_params_)\n",
    "    print(config)\n",
    "    pdump(state, save_path+f\"_last_state.p\")\n",
    "    pdump(config, save_path+f\"_conf.p\")\n",
    "\n",
    "    # state = pload(save_path+f\"_last_state.p\")\n",
    "    # config = pload(save_path+f\"_conf.p\")\n",
    "    n_samples, n_runs, n_chains = mcmc_config['n_samples'], mcmc_config['n_runs'], mcmc_config['n_chains']\n",
    "\n",
    "    thinning = 64\n",
    "    run_fn = jit(vmap(get_mclmc_run(model.logpdf, n_samples, thinning=thinning, progress_bar=False)))\n",
    "\n",
    "    start = 1 ######\n",
    "    end = start + n_runs - 1\n",
    "    key = jr.key(42)\n",
    "    for i_run in tqdm(range(start, n_runs + start)):\n",
    "        print(f\"run {i_run}/{n_runs}\")\n",
    "        key, run_key = jr.split(key, 2)\n",
    "        state, samples, info = run_fn(jr.split(run_key, n_chains), state, config)\n",
    "        \n",
    "        info = tree.map(lambda x: jnp.mean(x**2, 1), info)\n",
    "        mse_per_dim = {'mse_per_dim': info.energy_change / model.mesh_shape.astype(float).prod()}\n",
    "        print(info, \"\\nmean square energy fluctation per dim:\", mse_per_dim, '\\n')\n",
    "        pdump(info, save_path+f\"_info.p\")\n",
    "\n",
    "        jnp.savez(save_path+f\"_{i_run}.npz\", **samples)\n",
    "        pdump(state, save_path+f\"_last_state.p\")"
   ]
  },
  {
   "cell_type": "code",
   "execution_count": null,
   "metadata": {},
   "outputs": [],
   "source": [
    "pdump(info, save_path+f\"_info.p\")\n",
    "!scancel 5281377"
   ]
  },
  {
   "cell_type": "code",
   "execution_count": 5,
   "metadata": {},
   "outputs": [
    {
     "data": {
      "text/plain": [
       "1600.0"
      ]
     },
     "execution_count": 5,
     "metadata": {},
     "output_type": "execute_result"
    }
   ],
   "source": [
    "1/5 * 2e2 * 40"
   ]
  }
 ],
 "metadata": {
  "kernelspec": {
   "display_name": "Python 3 (ipykernel)",
   "language": "python",
   "name": "python3"
  },
  "language_info": {
   "codemirror_mode": {
    "name": "ipython",
    "version": 3
   },
   "file_extension": ".py",
   "mimetype": "text/x-python",
   "name": "python",
   "nbconvert_exporter": "python",
   "pygments_lexer": "ipython3",
   "version": "3.12.3"
  }
 },
 "nbformat": 4,
 "nbformat_minor": 2
}
