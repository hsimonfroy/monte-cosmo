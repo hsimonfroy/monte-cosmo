{
 "cells": [
  {
   "cell_type": "markdown",
   "metadata": {},
   "source": [
    "# Model annealing\n",
    "Infer a cosmological model via Continuous Tempering Langevin. "
   ]
  },
  {
   "cell_type": "code",
   "execution_count": 23,
   "metadata": {},
   "outputs": [
    {
     "name": "stdout",
     "output_type": "stream",
     "text": [
      "feynmangpu04.cluster.local\n",
      "gpu [cuda(id=0)]\n",
      "The autoreload extension is already loaded. To reload it, use:\n",
      "  %reload_ext autoreload\n"
     ]
    }
   ],
   "source": [
    "!hostname\n",
    "!python -c \"import jax; print(jax.default_backend(), jax.devices())\"\n",
    "# !nvidia-smi\n",
    "# numpyro.set_platform(\"gpu\")\n",
    "\n",
    "import os\n",
    "os.environ['XLA_PYTHON_CLIENT_MEM_FRACTION']='.33' # NOTE: jax preallocates GPU (default 75%)\n",
    "\n",
    "import matplotlib.pyplot as plt\n",
    "import numpy as np\n",
    "import jax.numpy as jnp\n",
    "from jax import random, jit, vmap, grad\n",
    "\n",
    "import numpyro\n",
    "from numpyro.handlers import seed, condition, trace\n",
    "from functools import partial\n",
    "\n",
    "%matplotlib inline\n",
    "%load_ext autoreload \n",
    "%autoreload 2\n",
    "\n",
    "import mlflow\n",
    "mlflow.set_tracking_uri(uri=\"http://127.0.0.1:8080\")\n",
    "mlflow.set_experiment(\"Continuous Tempering Langevin\");\n",
    "# mlflow.end_run()\n",
    "# mlflow.start_run(run_name=\"Zee\")\n",
    "# mlflow.log_params({\"ho\":2, \"ha\":np.array([2,3])})\n",
    "# mlflow.log_metrics({\"ho\":2, \"ha\":3}, step=1)"
   ]
  },
  {
   "cell_type": "markdown",
   "metadata": {},
   "source": [
    "# Import and simulate fiducial"
   ]
  },
  {
   "cell_type": "code",
   "execution_count": 27,
   "metadata": {},
   "outputs": [],
   "source": [
    "def get_simulator(model, cond_params={}):\n",
    "    \"\"\"\n",
    "    Return a simulator that samples from a model, conditioned on some parameters.\n",
    "    \"\"\"\n",
    "    def sample_model(model, cond_params, rng_seed=0, model_kwargs={}):\n",
    "        cond_model = condition(model, cond_params) # NOTE: Only condition on random sites\n",
    "        cond_trace = trace(seed(cond_model, rng_seed=rng_seed)).get_trace(**model_kwargs)\n",
    "        params = {name: cond_trace[name]['value'] for name in cond_trace.keys()}\n",
    "        return params\n",
    "\n",
    "    vsample_model = vmap(partial(sample_model, model, cond_params), in_axes=(0,None))\n",
    "\n",
    "    @partial(jit, static_argnames=('batch_size'))\n",
    "    def simulator(batch_size=1, rng_key=random.PRNGKey(0), model_kwargs={}): # TODO add doc\n",
    "        keys = random.split(rng_key, batch_size)\n",
    "        return vsample_model(keys, model_kwargs)\n",
    "\n",
    "    return simulator\n",
    "\n",
    "\n",
    "from numpyro.infer.util import log_density\n",
    "def get_logp_fn(model, cond_params={}):\n",
    "    \"\"\"\n",
    "    Return the log probabilty function of a model, conditioned on some parameters.\n",
    "    \"\"\"\n",
    "    def logp_model(model, cond_params, params, model_kwargs={}):\n",
    "        cond_model = condition(model, cond_params)\n",
    "        logp = log_density(model=cond_model, \n",
    "                    model_args=(), \n",
    "                    model_kwargs=model_kwargs, \n",
    "                    params=params)[0]\n",
    "        return logp\n",
    "    \n",
    "    vlogp_model = vmap(partial(logp_model, model, cond_params), in_axes=(0,None))\n",
    "\n",
    "    @jit\n",
    "    def logp_fn(params, model_kwargs={}): # TODO: add doc\n",
    "        return vlogp_model(params, model_kwargs)\n",
    "    \n",
    "    return logp_fn"
   ]
  },
  {
   "cell_type": "code",
   "execution_count": 30,
   "metadata": {},
   "outputs": [
    {
     "name": "stdout",
     "output_type": "stream",
     "text": [
      "model_config={'mesh_size': array([16, 16, 16]), 'box_size': array([640, 640, 640]), 'scale_factor_lpt': 0.5, 'scale_factor_obs': 0.5, 'galaxy_density': 0.001, 'trace_reparam': True, 'trace_deterministic': False}\n",
      "Fiducial Cosmological parameters: \n",
      "    h:        0.6774 \n",
      "    Omega_b:  0.0486 \n",
      "    Omega_c:  [0.25 0.25 0.25 0.25 0.25] \n",
      "    Omega_k:  0.0 \n",
      "    w0:       -1.0 \n",
      "    wa:       0.0 \n",
      "    n:        0.9667 \n",
      "    sigma8:   [0.831 0.831 0.831 0.831 0.831]\n"
     ]
    }
   ],
   "source": [
    "from montecosmo.models import pmrsd_model, model_config\n",
    "model_config['scale_factor_lpt'] = 0.5\n",
    "model_config['scale_factor_obs'] = 0.5\n",
    "model_config['mesh_size'] = 16*np.array([1,1,1])\n",
    "print(f\"{model_config=}\")\n",
    "\n",
    "model = partial(pmrsd_model, **model_config)\n",
    "\n",
    "# Cosmological parameters\n",
    "cosmo_names = ['Omega_c', 'sigma8']\n",
    "cosmo_labels = [r'\\Omega_c', r'\\sigma_8']\n",
    "cond_params = {var_name+\"_base\": 0. for var_name in cosmo_names}\n",
    "\n",
    "fiducial_simulator = get_simulator(model, cond_params)\n",
    "fiducial_params = fiducial_simulator(batch_size=5)\n",
    "fiducial_cosmo_params = {name: fiducial_params[name] for name in cosmo_names}\n",
    "\n",
    "# Check cosmology\n",
    "from jax_cosmo import Planck15\n",
    "fiducial_cosmology = Planck15(**fiducial_cosmo_params)\n",
    "print(f\"Fiducial {fiducial_cosmology}\")\n",
    "\n",
    "# Condition model\n",
    "obs_names = ['obs_mesh'] # NOTE: Only condition on random sites\n",
    "obs_params = {name: fiducial_params[name][0] for name in obs_names}\n",
    "observed_model = condition(model, obs_params)  \n",
    "\n",
    "# Parameters to initialize samplers on\n",
    "init_names = ['Omega_c_base', 'sigma8_base', 'init_mesh_base'] # NOTE: Only init on random sites\n",
    "init_params = {name: fiducial_params[name] for name in init_names}"
   ]
  },
  {
   "cell_type": "code",
   "execution_count": 31,
   "metadata": {},
   "outputs": [
    {
     "data": {
      "text/plain": [
       "(Array(-20167.176, dtype=float32),\n",
       " Array([-20167.176, -20203.193, -20166.049, -20127.39 , -20186.682],      dtype=float32))"
      ]
     },
     "execution_count": 31,
     "metadata": {},
     "output_type": "execute_result"
    }
   ],
   "source": [
    "from numpyro.infer.util import log_density\n",
    "\n",
    "params = {name: fiducial_params[name][0] for name in fiducial_params.keys()}\n",
    "logp_unvec = log_density(model=observed_model, \n",
    "                            model_args=(), \n",
    "                            model_kwargs={}, \n",
    "                            params=params)[0]\n",
    "\n",
    "logp_fn = get_logp_fn(observed_model)\n",
    "logp_vec = logp_fn(fiducial_params)\n",
    "\n",
    "logp_unvec, logp_vec"
   ]
  },
  {
   "cell_type": "code",
   "execution_count": 18,
   "metadata": {},
   "outputs": [],
   "source": [
    "def get_simulator(model, cond_params={}):\n",
    "    \"\"\"\n",
    "    Return a simulator that samples from a model conditioned on some parameters.\n",
    "    \"\"\"\n",
    "    def sample_model(model, cond_params, rng_seed=0, model_kwargs={}):\n",
    "        if len(model_kwargs)==0:\n",
    "            model_kwargs = {}\n",
    "        cond_model = condition(model, cond_params) # NOTE: Only condition on random sites\n",
    "        cond_trace = trace(seed(cond_model, rng_seed=rng_seed)).get_trace(**model_kwargs)\n",
    "        params = {name: cond_trace[name]['value'] for name in cond_trace.keys()}\n",
    "        return params\n",
    "\n",
    "    vsample_model = vmap(partial(sample_model, model, cond_params), in_axes=(None,0))\n",
    "    vvsample_model = vmap(vsample_model, in_axes=(0,None))\n",
    "\n",
    "    @partial(jit, static_argnames=('batch_size'))\n",
    "    def simulator(batch_size=1, rng_key=random.PRNGKey(0), model_kwargs={}):\n",
    "        \"\"\"\n",
    "        Sample batches from model. If they are both strict greater than one, \n",
    "        batch size would be left-most dimension, and model arguments size the second left-most.\n",
    "        \"\"\"\n",
    "        squeeze_axis = []\n",
    "        if batch_size==1:\n",
    "            squeeze_axis.append(0)\n",
    "        if len(model_kwargs)==0:\n",
    "            model_kwargs = jnp.array([[]]) # for vmap, because jnp.array([{}]) is not valid\n",
    "            squeeze_axis.append(1)\n",
    "        keys = random.split(rng_key, batch_size)\n",
    "        params = vvsample_model(keys, model_kwargs)\n",
    "        return {name: params[name].squeeze(axis=squeeze_axis) for name in params.keys()}\n",
    "\n",
    "    return simulator\n",
    "\n",
    "\n",
    "from numpyro.infer.util import log_density\n",
    "def get_logp_fn(model, cond_params={}):\n",
    "\n",
    "    def logp_model(model, cond_params, params, model_kwargs={}):\n",
    "        if len(model_kwargs)==0:\n",
    "            model_kwargs = {}\n",
    "        cond_model = condition(model, cond_params)\n",
    "        logp = log_density(model=cond_model, \n",
    "                    model_args=(), \n",
    "                    model_kwargs=model_kwargs, \n",
    "                    params=params)[0]\n",
    "        return logp\n",
    "    \n",
    "    vlogp_model = vmap(partial(logp_model, model, cond_params), in_axes=(None,0))\n",
    "    vvlogp_model = vmap(vlogp_model, in_axes=(0,None))\n",
    "\n",
    "    @jit\n",
    "    def logp_fn(params, model_kwargs={}):\n",
    "        \"\"\"\n",
    "        Sample batches from model.\n",
    "        If strictly greater than one, batch size would be left-most dimension, and model arguments length the second left-most.\n",
    "        \"\"\"\n",
    "        params = {name: jnp.expand_dims(params[name],0) for name in params.keys()}\n",
    "        squeeze_axis = [0]\n",
    "        if len(model_kwargs)==0:\n",
    "            model_kwargs = jnp.array([[]]) # for vmap, because jnp.array([{}]) is not valid\n",
    "            squeeze_axis.append(1)\n",
    "        logp = vvlogp_model(params, model_kwargs)\n",
    "        return logp\n",
    "        # return logp.squeeze(squeeze_axis)\n",
    "    \n",
    "    return logp_fn"
   ]
  },
  {
   "cell_type": "code",
   "execution_count": 61,
   "metadata": {},
   "outputs": [
    {
     "data": {
      "text/plain": [
       "[<matplotlib.lines.Line2D at 0x7ffb27bf00d0>]"
      ]
     },
     "execution_count": 61,
     "metadata": {},
     "output_type": "execute_result"
    },
    {
     "data": {
      "image/png": "[encoded data removed]",
      "text/plain": [
       "<Figure size 640x480 with 1 Axes>"
      ]
     },
     "metadata": {},
     "output_type": "display_data"
    }
   ],
   "source": [
    "import numpyro.distributions as dist\n",
    "\n",
    "def test():\n",
    "    a = numpyro.sample('a', dist.Uniform(low=-1,high=1))\n",
    "    # a = numpyro.sample('a', dist.Normal(loc=0, scale=1))\n",
    "    return a\n",
    "\n",
    "logp_fn = get_logp_fn(test)\n",
    "x = jnp.linspace(-10,10,100)\n",
    "plt.plot(x, jnp.exp(logp_fn({'a':x})))"
   ]
  }
 ],
 "metadata": {
  "kernelspec": {
   "display_name": "Python 3 (ipykernel)",
   "language": "python",
   "name": "python3"
  },
  "language_info": {
   "codemirror_mode": {
    "name": "ipython",
    "version": 3
   },
   "file_extension": ".py",
   "mimetype": "text/x-python",
   "name": "python",
   "nbconvert_exporter": "python",
   "pygments_lexer": "ipython3",
   "version": "3.11.6"
  }
 },
 "nbformat": 4,
 "nbformat_minor": 2
}
