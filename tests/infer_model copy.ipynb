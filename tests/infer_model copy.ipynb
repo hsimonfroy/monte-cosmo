{
 "cells": [
  {
   "cell_type": "markdown",
   "metadata": {},
   "source": [
    "# Model Inference\n",
    "Infer from a cosmological model via MCMC samplers. "
   ]
  },
  {
   "cell_type": "code",
   "execution_count": 1,
   "metadata": {},
   "outputs": [
    {
     "name": "stdout",
     "output_type": "stream",
     "text": [
      "feynmangpu04.cluster.local\n"
     ]
    },
    {
     "name": "stderr",
     "output_type": "stream",
     "text": [
      "/feynman/work/dphp/hs276503/envs/montenvtest3/lib/python3.12/pty.py:95: RuntimeWarning: os.fork() was called. os.fork() is incompatible with multithreaded code, and JAX is multithreaded, so this will likely lead to a deadlock.\n",
      "  pid, fd = os.forkpty()\n"
     ]
    }
   ],
   "source": [
    "import os; os.environ['XLA_PYTHON_CLIENT_MEM_FRACTION']='0.66' # NOTE: jax preallocates GPU (default 75%)\n",
    "import matplotlib.pyplot as plt\n",
    "import numpy as np\n",
    "from jax import numpy as jnp, random as jr, config as jconfig, jit, vmap, grad, debug, tree\n",
    "jconfig.update(\"jax_enable_x64\", True)\n",
    "\n",
    "from functools import partial\n",
    "from getdist import plots\n",
    "from numpyro import infer\n",
    "\n",
    "from montecosmo.model import FieldLevelModel, default_config\n",
    "from montecosmo.utils import pdump, pload\n",
    "from montecosmo.mcbench import sample_and_save\n",
    "from montecosmo.script import from_id, get_mcmc, get_init_mcmc, get_sqrt_diag_cov_from_numpyro\n",
    "\n",
    "# import mlflow\n",
    "# mlflow.set_tracking_uri(uri=\"http://127.0.0.1:8081\")\n",
    "# mlflow.set_experiment(\"infer\")\n",
    "# !jupyter nbconvert --to script ./src/montecosmo/tests/infer_model.ipynb/\n",
    "\n",
    "%matplotlib inline\n",
    "%load_ext autoreload\n",
    "%autoreload 2\n",
    "!hostname"
   ]
  },
  {
   "cell_type": "markdown",
   "metadata": {},
   "source": [
    "## Config and fiduc"
   ]
  },
  {
   "cell_type": "code",
   "execution_count": 2,
   "metadata": {},
   "outputs": [
    {
     "name": "stdout",
     "output_type": "stream",
     "text": [
      "SLURM_ARRAY_TASK_ID: 2002230\n",
      "save path: /feynman/home/dphp/hs276503/scratch/pickles/m32_b160.0_ao0.5_evkaiser_lo1_pckaiser_obfield/sMCLMC_nc4_ns64_nomm\n"
     ]
    }
   ],
   "source": [
    "################## TO SET #######################\n",
    "# task_id = int(os.environ['SLURM_ARRAY_TASK_ID'])\n",
    "# m, ev, lo, rsdb, pc, samp, mm\n",
    "task_id = 2002230\n",
    "print(\"SLURM_ARRAY_TASK_ID:\", task_id)\n",
    "model, mcmc_config, save_dir, save_path = from_id(task_id)\n",
    "os.makedirs(save_dir, exist_ok=True)\n",
    "print(\"save path:\", save_path)\n",
    "\n",
    "# import sys\n",
    "# tempstdout, tempstderr = sys.stdout, sys.stderr\n",
    "# sys.stdout = sys.stderr = open(save_path+'.out', 'a')\n",
    "# job_id = int(os.environ['SLURM_ARRAY_JOB_ID'])\n",
    "# print(\"SLURM_ARRAY_JOB_ID:\", job_id)\n",
    "# print(\"SLURM_ARRAY_TASK_ID:\", task_id)\n",
    "# print(\"jax_enable_x64:\", jconfig.read(\"jax_enable_x64\"))"
   ]
  },
  {
   "cell_type": "code",
   "execution_count": 3,
   "metadata": {},
   "outputs": [
    {
     "name": "stdout",
     "output_type": "stream",
     "text": [
      "# CONFIG\n",
      "{'a_obs': 0.5,\n",
      " 'box_shape': array([160., 160., 160.]),\n",
      " 'evolution': 'kaiser',\n",
      " 'gxy_density': 0.001,\n",
      " 'latents': {'Omega_m': {'group': 'cosmo',\n",
      "                         'high': 1.0,\n",
      "                         'label': '{\\\\Omega}_m',\n",
      "                         'loc': 0.3111,\n",
      "                         'loc_fid': 0.3111,\n",
      "                         'low': 0.05,\n",
      "                         'scale': 0.5,\n",
      "                         'scale_fid': 0.06},\n",
      "             'b1': {'group': 'bias',\n",
      "                    'label': '{b}_1',\n",
      "                    'loc': 1.0,\n",
      "                    'loc_fid': 1.0,\n",
      "                    'scale': 0.5,\n",
      "                    'scale_fid': 0.5},\n",
      "             'b2': {'group': 'bias',\n",
      "                    'label': '{b}_2',\n",
      "                    'loc': 0.0,\n",
      "                    'loc_fid': 0.0,\n",
      "                    'scale': 2.0,\n",
      "                    'scale_fid': 2.0},\n",
      "             'bn2': {'group': 'bias',\n",
      "                     'label': '{b}_{\\\\nabla^2}',\n",
      "                     'loc': 0.0,\n",
      "                     'loc_fid': 0.0,\n",
      "                     'scale': 2.0,\n",
      "                     'scale_fid': 2.0},\n",
      "             'bs2': {'group': 'bias',\n",
      "                     'label': '{b}_{s^2}',\n",
      "                     'loc': 0.0,\n",
      "                     'loc_fid': 0.0,\n",
      "                     'scale': 2.0,\n",
      "                     'scale_fid': 2.0},\n",
      "             'init_mesh': {'group': 'init',\n",
      "                           'label': '{\\\\delta}_L'},\n",
      "             'sigma8': {'group': 'cosmo',\n",
      "                        'high': inf,\n",
      "                        'label': '{\\\\sigma}_8',\n",
      "                        'loc': 0.8102,\n",
      "                        'loc_fid': 0.8102,\n",
      "                        'low': 0.0,\n",
      "                        'scale': 0.5,\n",
      "                        'scale_fid': 0.04}},\n",
      " 'los': array([0., 0., 1.]),\n",
      " 'lpt_order': 1,\n",
      " 'mesh_shape': array([32, 32, 32]),\n",
      " 'nbody_snapshots': None,\n",
      " 'nbody_steps': 5,\n",
      " 'obs': 'field',\n",
      " 'poles': (0,\n",
      "           2,\n",
      "           4),\n",
      " 'precond': 'kaiser'}\n",
      "\n",
      "# INFOS\n",
      "cell_shape:     [5.0, 5.0, 5.0] Mpc/h\n",
      "k_funda:        0.03927 h/Mpc\n",
      "k_nyquist:      0.62832 h/Mpc\n",
      "mean_gxy_count: 0.125 gxy/cell\n",
      "\n",
      "{'sampler': 'MCLMC', 'target_accept_prob': 0.65, 'n_samples': 64, 'max_tree_depth': 10, 'n_runs': 15, 'n_chains': 4, 'mm': 0}\n"
     ]
    },
    {
     "name": "stderr",
     "output_type": "stream",
     "text": [
      "2025-02-11 23:38:27.802870: W external/xla/xla/service/gpu/nvptx_compiler.cc:742] The NVIDIA driver's CUDA version is 11.5 which is older than the ptxas CUDA version (11.8.89). Because the driver is older than the ptxas version, XLA is disabling parallel compilation, which may slow down compilation. You should update your NVIDIA driver or use the NVIDIA-provided CUDA forward compatibility packages.\n"
     ]
    },
    {
     "name": "stdout",
     "output_type": "stream",
     "text": [
      "####### truncnorm Omega_m\n",
      "####### truncnorm sigma8\n",
      "####### norm b1\n",
      "####### norm b2\n",
      "####### norm bs2\n",
      "####### norm bn2\n",
      "Saving model and truth at /feynman/home/dphp/hs276503/scratch/pickles/m32_b160.0_ao0.5_evkaiser_lo1_pckaiser_obfield/\n",
      "####### truncnorm Omega_m\n",
      "####### truncnorm sigma8\n",
      "####### norm b1\n",
      "####### norm b2\n",
      "####### norm bs2\n",
      "####### norm bn2\n",
      "####### truncnorm Omega_m\n",
      "####### truncnorm sigma8\n",
      "####### norm b1\n",
      "####### norm b2\n",
      "####### norm bs2\n",
      "####### norm bn2\n"
     ]
    },
    {
     "data": {
      "image/svg+xml": [
       "<?xml version=\"1.0\" encoding=\"UTF-8\" standalone=\"no\"?>\n",
       "<!DOCTYPE svg PUBLIC \"-//W3C//DTD SVG 1.1//EN\"\n",
       " \"http://www.w3.org/Graphics/SVG/1.1/DTD/svg11.dtd\">\n",
       "<!-- Generated by graphviz version 2.40.1 (0)\n",
       " -->\n",
       "<!-- Title: %3 Pages: 1 -->\n",
       "<svg width=\"703pt\" height=\"116pt\"\n",
       " viewBox=\"0.00 0.00 702.54 116.00\" xmlns=\"http://www.w3.org/2000/svg\" xmlns:xlink=\"http://www.w3.org/1999/xlink\">\n",
       "<g id=\"graph0\" class=\"graph\" transform=\"scale(1 1) rotate(0) translate(4 112)\">\n",
       "<title>%3</title>\n",
       "<polygon fill=\"#ffffff\" stroke=\"transparent\" points=\"-4,4 -4,-112 698.5415,-112 698.5415,4 -4,4\"/>\n",
       "<!-- Omega_m_ -->\n",
       "<g id=\"node1\" class=\"node\">\n",
       "<title>Omega_m_</title>\n",
       "<ellipse fill=\"#ffffff\" stroke=\"#000000\" cx=\"62.3945\" cy=\"-90\" rx=\"62.2891\" ry=\"18\"/>\n",
       "<text text-anchor=\"middle\" x=\"62.3945\" y=\"-86.3\" font-family=\"Times,serif\" font-size=\"14.00\" fill=\"#000000\">Omega_m_</text>\n",
       "</g>\n",
       "<!-- obs -->\n",
       "<g id=\"node8\" class=\"node\">\n",
       "<title>obs</title>\n",
       "<ellipse fill=\"#c0c0c0\" stroke=\"#000000\" cx=\"239.3945\" cy=\"-18\" rx=\"27\" ry=\"18\"/>\n",
       "<text text-anchor=\"middle\" x=\"239.3945\" y=\"-14.3\" font-family=\"Times,serif\" font-size=\"14.00\" fill=\"#000000\">obs</text>\n",
       "</g>\n",
       "<!-- Omega_m_&#45;&gt;obs -->\n",
       "<g id=\"edge1\" class=\"edge\">\n",
       "<title>Omega_m_&#45;&gt;obs</title>\n",
       "<path fill=\"none\" stroke=\"#000000\" d=\"M98.6402,-75.256C130.3997,-62.3368 176.1472,-43.7277 206.7782,-31.2676\"/>\n",
       "<polygon fill=\"#000000\" stroke=\"#000000\" points=\"208.2112,-34.4633 216.1553,-27.4532 205.5736,-27.9792 208.2112,-34.4633\"/>\n",
       "</g>\n",
       "<!-- sigma8_ -->\n",
       "<g id=\"node2\" class=\"node\">\n",
       "<title>sigma8_</title>\n",
       "<ellipse fill=\"#ffffff\" stroke=\"#000000\" cx=\"192.3945\" cy=\"-90\" rx=\"49.2915\" ry=\"18\"/>\n",
       "<text text-anchor=\"middle\" x=\"192.3945\" y=\"-86.3\" font-family=\"Times,serif\" font-size=\"14.00\" fill=\"#000000\">sigma8_</text>\n",
       "</g>\n",
       "<!-- sigma8_&#45;&gt;obs -->\n",
       "<g id=\"edge2\" class=\"edge\">\n",
       "<title>sigma8_&#45;&gt;obs</title>\n",
       "<path fill=\"none\" stroke=\"#000000\" d=\"M204.0124,-72.2022C209.7567,-63.4025 216.7863,-52.6338 223.0618,-43.0202\"/>\n",
       "<polygon fill=\"#000000\" stroke=\"#000000\" points=\"226.0191,-44.8928 228.5545,-34.6058 220.1574,-41.0664 226.0191,-44.8928\"/>\n",
       "</g>\n",
       "<!-- b1_ -->\n",
       "<g id=\"node3\" class=\"node\">\n",
       "<title>b1_</title>\n",
       "<ellipse fill=\"#ffffff\" stroke=\"#000000\" cx=\"287.3945\" cy=\"-90\" rx=\"27.0966\" ry=\"18\"/>\n",
       "<text text-anchor=\"middle\" x=\"287.3945\" y=\"-86.3\" font-family=\"Times,serif\" font-size=\"14.00\" fill=\"#000000\">b1_</text>\n",
       "</g>\n",
       "<!-- b1_&#45;&gt;obs -->\n",
       "<g id=\"edge3\" class=\"edge\">\n",
       "<title>b1_&#45;&gt;obs</title>\n",
       "<path fill=\"none\" stroke=\"#000000\" d=\"M276.2617,-73.3008C270.264,-64.3043 262.7443,-53.0247 256.0631,-43.0029\"/>\n",
       "<polygon fill=\"#000000\" stroke=\"#000000\" points=\"258.9261,-40.9877 250.4669,-34.6087 253.1018,-44.8706 258.9261,-40.9877\"/>\n",
       "</g>\n",
       "<!-- b2_ -->\n",
       "<g id=\"node4\" class=\"node\">\n",
       "<title>b2_</title>\n",
       "<ellipse fill=\"#ffffff\" stroke=\"#000000\" cx=\"499.3945\" cy=\"-90\" rx=\"27.0966\" ry=\"18\"/>\n",
       "<text text-anchor=\"middle\" x=\"499.3945\" y=\"-86.3\" font-family=\"Times,serif\" font-size=\"14.00\" fill=\"#000000\">b2_</text>\n",
       "</g>\n",
       "<!-- bs2_ -->\n",
       "<g id=\"node5\" class=\"node\">\n",
       "<title>bs2_</title>\n",
       "<ellipse fill=\"#ffffff\" stroke=\"#000000\" cx=\"577.3945\" cy=\"-90\" rx=\"32.4942\" ry=\"18\"/>\n",
       "<text text-anchor=\"middle\" x=\"577.3945\" y=\"-86.3\" font-family=\"Times,serif\" font-size=\"14.00\" fill=\"#000000\">bs2_</text>\n",
       "</g>\n",
       "<!-- bn2_ -->\n",
       "<g id=\"node6\" class=\"node\">\n",
       "<title>bn2_</title>\n",
       "<ellipse fill=\"#ffffff\" stroke=\"#000000\" cx=\"661.3945\" cy=\"-90\" rx=\"33.2948\" ry=\"18\"/>\n",
       "<text text-anchor=\"middle\" x=\"661.3945\" y=\"-86.3\" font-family=\"Times,serif\" font-size=\"14.00\" fill=\"#000000\">bn2_</text>\n",
       "</g>\n",
       "<!-- init_mesh_ -->\n",
       "<g id=\"node7\" class=\"node\">\n",
       "<title>init_mesh_</title>\n",
       "<ellipse fill=\"#ffffff\" stroke=\"#000000\" cx=\"393.3945\" cy=\"-90\" rx=\"61.1893\" ry=\"18\"/>\n",
       "<text text-anchor=\"middle\" x=\"393.3945\" y=\"-86.3\" font-family=\"Times,serif\" font-size=\"14.00\" fill=\"#000000\">init_mesh_</text>\n",
       "</g>\n",
       "<!-- init_mesh_&#45;&gt;obs -->\n",
       "<g id=\"edge4\" class=\"edge\">\n",
       "<title>init_mesh_&#45;&gt;obs</title>\n",
       "<path fill=\"none\" stroke=\"#000000\" d=\"M360.735,-74.7307C334.1565,-62.3043 296.8859,-44.8791 270.6839,-32.6288\"/>\n",
       "<polygon fill=\"#000000\" stroke=\"#000000\" points=\"272.1128,-29.4333 261.5716,-28.3685 269.1481,-35.7745 272.1128,-29.4333\"/>\n",
       "</g>\n",
       "</g>\n",
       "</svg>\n"
      ],
      "text/plain": [
       "<graphviz.graphs.Digraph at 0x7fff8021a150>"
      ]
     },
     "metadata": {},
     "output_type": "display_data"
    }
   ],
   "source": [
    "print(model)\n",
    "print(mcmc_config)\n",
    "# model.render()\n",
    "# model.prior_mode = 'prior' ###############\n",
    "\n",
    "if not os.path.exists(save_dir+\"truth.p\"):\n",
    "    # Predict and save fiducial\n",
    "    truth = {'Omega_m': 0.31, \n",
    "            'sigma8': 0.81, \n",
    "            'b1': 1.,\n",
    "            'b2':0., \n",
    "            'bs2':0., \n",
    "            'bn2': 0.}\n",
    "    \n",
    "    if model.loc_fid['b1'] == 0:\n",
    "        truth['b1'] = 0.\n",
    "\n",
    "    model.reset()\n",
    "    truth = model.predict(samples=truth, hide_base=False, hide_samp=False, frombase=True)\n",
    "    \n",
    "    print(f\"Saving model and truth at {save_dir}\")\n",
    "    model.save(save_dir+\"model.p\")    \n",
    "    pdump(truth, save_dir+\"truth.p\")\n",
    "else:\n",
    "    print(f\"Loading truth from {save_dir}\")\n",
    "    truth = pload(save_dir+\"truth.p\")\n",
    "\n",
    "model.reset()\n",
    "if model.loc_fid['b1'] == 0:\n",
    "    print('no bias')\n",
    "    model.condition({'obs': truth['obs'], 'b1': truth['b1'], 'b2': truth['b2'], 'bs2': truth['bs2'], 'bn2': truth['bn2']}, frombase=True)\n",
    "    # model.condition({'obs': truth['obs'], 'bn2': truth['bn2']}, frombase=True)\n",
    "else:\n",
    "    model.condition({'obs': truth['obs']})\n",
    "model.block()\n",
    "model.render()"
   ]
  },
  {
   "cell_type": "markdown",
   "metadata": {},
   "source": [
    "## Run"
   ]
  },
  {
   "cell_type": "markdown",
   "metadata": {},
   "source": [
    "### NUTS, HMC"
   ]
  },
  {
   "cell_type": "code",
   "execution_count": 4,
   "metadata": {},
   "outputs": [
    {
     "name": "stdout",
     "output_type": "stream",
     "text": [
      "# Warmupping...\n",
      "\n",
      "run 0/0 (warmup)\n",
      "####### truncnorm Omega_m\n",
      "####### truncnorm sigma8\n",
      "####### norm b1\n",
      "####### norm b2\n",
      "####### norm bs2\n",
      "####### norm bn2\n",
      "####### truncnorm Omega_m\n",
      "####### truncnorm sigma8\n",
      "####### norm b1\n",
      "####### norm b2\n",
      "####### norm bs2\n",
      "####### norm bn2\n",
      "####### truncnorm Omega_m\n",
      "####### truncnorm sigma8\n",
      "####### norm b1\n",
      "####### norm b2\n",
      "####### norm bs2\n",
      "####### norm bn2\n"
     ]
    },
    {
     "name": "stderr",
     "output_type": "stream",
     "text": [
      "  0%|          | 0/128 [00:00<?, ?it/s]"
     ]
    },
    {
     "name": "stdout",
     "output_type": "stream",
     "text": [
      "####### truncnorm Omega_m\n",
      "####### truncnorm sigma8\n",
      "####### norm b1\n",
      "####### norm b2\n",
      "####### norm bs2\n",
      "####### norm bn2\n"
     ]
    },
    {
     "name": "stderr",
     "output_type": "stream",
     "text": [
      "warmup: 100%|██████████| 128/128 [02:02<00:00,  1.04it/s]\n"
     ]
    },
    {
     "name": "stdout",
     "output_type": "stream",
     "text": [
      "mean_acc_prob: [0.65863454 0.65960263 0.65682823 0.65805507] \n",
      "ss: [0.15100038 0.20228315 0.16272248 0.16719692] \n",
      "mm_sqrt: {('init_mesh_',): Array([[1.02212152, 1.05085514, 1.04446121, ..., 1.25444711, 1.10277546,\n",
      "        0.90961586],\n",
      "       [0.98523015, 0.92422583, 1.05476145, ..., 0.90968028, 1.05602697,\n",
      "        1.04456066],\n",
      "       [0.98246786, 0.98736381, 1.45175442, ..., 1.10742012, 1.06678606,\n",
      "        1.21006326],\n",
      "       [0.9879096 , 1.06253669, 1.12935695, ..., 1.05112771, 0.97313302,\n",
      "        1.28847997]], dtype=float64)}\n",
      "dict_keys(['init_mesh_']) dict_keys(['Omega_m_', 'b1_', 'b2_', 'bn2_', 'bs2_', 'init_mesh_', 'sigma8_'])\n",
      "MSEs: [2.66010106 2.61293703 2.63295539 2.62027298] [2.66010106 2.61293703 2.63295539 2.62027298]\n",
      "dict_keys(['Omega_m_', 'b1_', 'b2_', 'bn2_', 'bs2_', 'init_mesh_', 'sigma8_'])\n",
      "{'Omega_m_': Array([1., 1., 1., 1.], dtype=float64), 'b1_': Array([1., 1., 1., 1.], dtype=float64, weak_type=True), 'b2_': Array([1., 1., 1., 1.], dtype=float64, weak_type=True), 'bn2_': Array([1., 1., 1., 1.], dtype=float64, weak_type=True), 'bs2_': Array([1., 1., 1., 1.], dtype=float64, weak_type=True), 'init_mesh_': Array([[[[0.97835725, 0.95160595, 0.95743144, ..., 1.04890258,\n",
      "          0.6895257 , 0.95804454],\n",
      "         [0.87064895, 0.93619952, 0.95436466, ..., 0.88237612,\n",
      "          0.96256942, 0.94381564],\n",
      "         [1.06742471, 0.86721394, 1.15387988, ..., 0.90960933,\n",
      "          0.87388802, 0.93381588],\n",
      "         ...,\n",
      "         [0.87359107, 1.00438625, 1.02792517, ..., 0.69188407,\n",
      "          0.97586898, 1.00973693],\n",
      "         [1.04354277, 0.88751934, 0.96622311, ..., 1.03828787,\n",
      "          0.92042976, 1.09016031],\n",
      "         [0.91973869, 0.81268904, 0.94552004, ..., 1.00327478,\n",
      "          1.0843845 , 0.96182237]],\n",
      "\n",
      "        [[0.91067031, 1.11344364, 0.97270251, ..., 0.915341  ,\n",
      "          1.12501933, 0.95734337],\n",
      "         [0.89036833, 1.04143036, 1.01645337, ..., 1.33072891,\n",
      "          0.95600385, 0.98269234],\n",
      "         [0.829305  , 1.08670882, 0.96324201, ..., 1.07011979,\n",
      "          0.98014522, 1.10003478],\n",
      "         ...,\n",
      "         [0.9250281 , 0.99061523, 0.69777006, ..., 1.0217655 ,\n",
      "          1.13012268, 0.98028623],\n",
      "         [0.80484279, 0.86730421, 0.84722883, ..., 1.0008681 ,\n",
      "          1.21413294, 0.96274356],\n",
      "         [0.82176477, 1.03611525, 0.77525216, ..., 0.92192718,\n",
      "          0.9727886 , 0.84674968]],\n",
      "\n",
      "        [[0.85553782, 0.86304213, 0.81617612, ..., 1.04807795,\n",
      "          0.90130116, 1.12609867],\n",
      "         [1.00617787, 0.8346553 , 0.75439696, ..., 0.88502209,\n",
      "          1.09091555, 0.99390228],\n",
      "         [0.8763107 , 0.93895443, 0.93187134, ..., 0.90751732,\n",
      "          0.8642258 , 0.93065919],\n",
      "         ...,\n",
      "         [0.96768889, 1.03307832, 1.21084117, ..., 0.84938685,\n",
      "          0.8052305 , 1.04972108],\n",
      "         [1.02825475, 0.94733016, 1.04289826, ..., 0.90229554,\n",
      "          0.96354199, 0.99243753],\n",
      "         [0.96483219, 1.30196668, 0.99870998, ..., 1.08329427,\n",
      "          0.94110885, 1.11860694]],\n",
      "\n",
      "        ...,\n",
      "\n",
      "        [[0.93348525, 0.91646901, 1.1769173 , ..., 0.8203209 ,\n",
      "          1.00927629, 1.13908357],\n",
      "         [1.27117758, 1.03519498, 0.86885123, ..., 0.91468722,\n",
      "          1.05495779, 0.89434848],\n",
      "         [0.98991445, 0.70891134, 0.88001633, ..., 1.07583069,\n",
      "          0.99406227, 0.93369978],\n",
      "         ...,\n",
      "         [1.11542734, 0.76543653, 0.93723727, ..., 0.92941245,\n",
      "          1.28439428, 0.83482387],\n",
      "         [1.12640082, 0.89366449, 0.99629034, ..., 0.8995797 ,\n",
      "          1.22365836, 1.00877033],\n",
      "         [1.02603895, 0.98249154, 1.10757667, ..., 1.04251482,\n",
      "          0.85025502, 0.94507082]],\n",
      "\n",
      "        [[0.85934306, 0.91872121, 0.94473137, ..., 0.85512796,\n",
      "          0.75252659, 1.03248254],\n",
      "         [1.22767524, 1.07046112, 1.09836161, ..., 1.03949327,\n",
      "          0.86097136, 0.88771615],\n",
      "         [0.90415378, 1.03643053, 1.05693439, ..., 0.78430896,\n",
      "          0.96037605, 0.81394158],\n",
      "         ...,\n",
      "         [0.89497357, 1.31878595, 0.89780797, ..., 1.0924036 ,\n",
      "          0.99217032, 0.87755613],\n",
      "         [0.9589029 , 1.01037344, 1.10565298, ..., 0.97066261,\n",
      "          1.0124155 , 0.90545001],\n",
      "         [0.91718382, 0.9510125 , 0.75597336, ..., 0.91267784,\n",
      "          0.91833041, 0.97475274]],\n",
      "\n",
      "        [[1.01790406, 0.85895634, 1.00379006, ..., 0.95323897,\n",
      "          1.00635556, 0.91011855],\n",
      "         [1.19362492, 1.08438568, 0.95041726, ..., 0.95429128,\n",
      "          0.8924181 , 0.80417516],\n",
      "         [1.13915021, 0.84758393, 0.9078517 , ..., 0.93021602,\n",
      "          0.84934869, 0.96261985],\n",
      "         ...,\n",
      "         [0.96614749, 0.79229648, 1.034038  , ..., 0.98557559,\n",
      "          0.87531121, 1.04317601],\n",
      "         [1.00214763, 0.89621826, 1.08288728, ..., 0.78973838,\n",
      "          0.82872366, 0.85029547],\n",
      "         [1.00722959, 0.9805826 , 1.22948456, ..., 0.79716394,\n",
      "          0.90680291, 1.09936517]]],\n",
      "\n",
      "\n",
      "       [[[1.01499127, 1.08198664, 0.94808168, ..., 0.83844367,\n",
      "          1.08143685, 0.77938556],\n",
      "         [1.12505663, 0.6324097 , 1.10338637, ..., 1.02278208,\n",
      "          1.30047917, 0.7769093 ],\n",
      "         [1.07287783, 1.03857973, 0.92626364, ..., 0.87128259,\n",
      "          0.83966604, 1.05567885],\n",
      "         ...,\n",
      "         [0.7727589 , 0.9328031 , 0.99593199, ..., 0.7955619 ,\n",
      "          0.85095324, 0.81907777],\n",
      "         [1.04362753, 0.84486748, 1.07004167, ..., 1.16192793,\n",
      "          1.01704517, 0.88434499],\n",
      "         [0.98055791, 1.01533791, 1.09398742, ..., 1.14807804,\n",
      "          0.9344784 , 1.02030084]],\n",
      "\n",
      "        [[0.93849862, 1.04419063, 1.12979737, ..., 1.03633252,\n",
      "          0.99075269, 1.00489317],\n",
      "         [0.90252836, 1.01144593, 0.77719127, ..., 0.93028617,\n",
      "          1.10440131, 1.10045387],\n",
      "         [0.89185713, 0.94332478, 1.15316607, ..., 1.08747315,\n",
      "          0.88961586, 0.92342099],\n",
      "         ...,\n",
      "         [0.98247207, 0.85098414, 0.79530417, ..., 0.77643451,\n",
      "          0.78070476, 0.88122291],\n",
      "         [1.19862042, 0.93453323, 1.10430359, ..., 0.65912219,\n",
      "          1.1071084 , 0.99409662],\n",
      "         [1.27807983, 0.9056278 , 0.88614253, ..., 1.06836785,\n",
      "          0.95118112, 1.14185414]],\n",
      "\n",
      "        [[1.26234747, 0.94527178, 0.8729671 , ..., 1.1638655 ,\n",
      "          0.86626261, 0.97082059],\n",
      "         [0.78121406, 0.94646819, 1.06688228, ..., 0.92420659,\n",
      "          0.86910898, 1.04193162],\n",
      "         [0.7373287 , 1.15503085, 0.91463844, ..., 1.00653609,\n",
      "          0.8761225 , 0.84688461],\n",
      "         ...,\n",
      "         [1.03520222, 1.20859972, 0.88195494, ..., 0.86941551,\n",
      "          0.894692  , 1.09423139],\n",
      "         [1.02489394, 0.89721795, 0.91825831, ..., 0.82207672,\n",
      "          0.68352288, 1.07038423],\n",
      "         [1.09710931, 1.02021205, 0.85282691, ..., 1.10578113,\n",
      "          0.79736168, 1.04031967]],\n",
      "\n",
      "        ...,\n",
      "\n",
      "        [[1.02531946, 0.83637129, 1.01480319, ..., 0.91444782,\n",
      "          1.01178264, 1.10793642],\n",
      "         [0.9815037 , 1.10429543, 1.20797269, ..., 1.04209424,\n",
      "          0.82172886, 0.96024289],\n",
      "         [0.80732924, 0.9419315 , 1.05494844, ..., 0.89754577,\n",
      "          0.99108644, 1.10223149],\n",
      "         ...,\n",
      "         [1.02369366, 1.13615066, 1.00754258, ..., 0.99559153,\n",
      "          1.03647187, 0.82493215],\n",
      "         [0.88339823, 1.10750754, 1.15542618, ..., 1.00447256,\n",
      "          1.03832169, 0.89244528],\n",
      "         [0.81402791, 0.90114856, 0.91511692, ..., 0.87226905,\n",
      "          0.77648656, 0.7391043 ]],\n",
      "\n",
      "        [[1.15539878, 1.08135274, 0.88785696, ..., 0.81285197,\n",
      "          0.84497183, 1.14819834],\n",
      "         [1.02635153, 1.02917988, 1.03950721, ..., 0.91021773,\n",
      "          0.9628205 , 0.97204775],\n",
      "         [1.1435078 , 0.86412401, 1.04500681, ..., 1.10088536,\n",
      "          1.09511426, 0.93149124],\n",
      "         ...,\n",
      "         [0.78268194, 1.0378703 , 0.96585985, ..., 0.94911643,\n",
      "          1.14364002, 1.0117389 ],\n",
      "         [0.98366326, 1.06219535, 0.82962882, ..., 0.92895222,\n",
      "          0.97937435, 1.05451922],\n",
      "         [0.98394215, 0.82084518, 1.12567361, ..., 0.90553329,\n",
      "          0.92728128, 0.98845968]],\n",
      "\n",
      "        [[1.0393055 , 0.75725648, 0.97193512, ..., 1.12459432,\n",
      "          1.07553383, 0.83842897],\n",
      "         [0.98897791, 0.82881177, 0.77182562, ..., 0.87813087,\n",
      "          1.13885616, 0.8669739 ],\n",
      "         [0.88270932, 0.80611338, 0.76445895, ..., 1.09668557,\n",
      "          0.92003221, 0.9047655 ],\n",
      "         ...,\n",
      "         [1.09375428, 0.9801823 , 1.00984603, ..., 1.20500996,\n",
      "          1.03621461, 1.0613744 ],\n",
      "         [1.38024067, 0.9675104 , 0.99909847, ..., 1.06148966,\n",
      "          1.0136688 , 0.985444  ],\n",
      "         [0.97491973, 1.08966999, 0.79908304, ..., 1.09928733,\n",
      "          0.94694551, 0.95734029]]],\n",
      "\n",
      "\n",
      "       [[[1.017845  , 1.01279791, 0.68882173, ..., 0.94128168,\n",
      "          0.86493836, 1.02917432],\n",
      "         [0.82832844, 0.88338194, 1.08947456, ..., 0.92782973,\n",
      "          1.0398704 , 1.02373786],\n",
      "         [1.17666837, 0.91868345, 1.22326816, ..., 1.07832086,\n",
      "          1.12400414, 1.03885006],\n",
      "         ...,\n",
      "         [1.14236088, 0.91432178, 1.12167356, ..., 1.09702938,\n",
      "          0.75496528, 0.96588343],\n",
      "         [1.17273855, 1.17461081, 0.78086938, ..., 0.8801619 ,\n",
      "          1.18884855, 0.88222036],\n",
      "         [0.86128261, 0.87783826, 1.07972971, ..., 0.84498829,\n",
      "          0.6757586 , 1.11355842]],\n",
      "\n",
      "        [[0.85605603, 0.90119589, 0.87827169, ..., 1.18232526,\n",
      "          0.83162116, 1.15644378],\n",
      "         [1.09973395, 0.69079831, 0.76202321, ..., 0.96539033,\n",
      "          0.89431715, 0.73761746],\n",
      "         [0.78001067, 0.94952932, 0.78548381, ..., 1.04687494,\n",
      "          1.07373823, 0.8228749 ],\n",
      "         ...,\n",
      "         [1.09379791, 1.18083799, 0.91527363, ..., 1.19855446,\n",
      "          1.02701088, 1.18240434],\n",
      "         [1.00591909, 1.15512081, 1.0392771 , ..., 0.94250553,\n",
      "          0.96851978, 0.82823378],\n",
      "         [0.77031204, 0.81102197, 0.82666101, ..., 0.8938726 ,\n",
      "          0.84120915, 1.05718226]],\n",
      "\n",
      "        [[1.0081563 , 0.77425464, 0.94978578, ..., 1.17641826,\n",
      "          0.93370852, 0.87614009],\n",
      "         [1.0315507 , 1.15212206, 0.80930582, ..., 1.13271857,\n",
      "          0.92327625, 1.10090542],\n",
      "         [0.88698555, 0.83377231, 0.71496567, ..., 0.92455787,\n",
      "          1.01038126, 0.95172042],\n",
      "         ...,\n",
      "         [1.03960456, 0.98333237, 0.90404174, ..., 0.761673  ,\n",
      "          1.09154342, 0.91291701],\n",
      "         [0.8622019 , 1.14899854, 0.9734587 , ..., 0.774709  ,\n",
      "          0.94849203, 1.16645321],\n",
      "         [0.92126539, 1.19106839, 1.01181083, ..., 0.75318697,\n",
      "          0.98674043, 0.98138262]],\n",
      "\n",
      "        ...,\n",
      "\n",
      "        [[0.99595146, 0.7932588 , 0.76283206, ..., 1.13671796,\n",
      "          0.67657224, 0.93173221],\n",
      "         [0.97299042, 0.86503472, 0.85648334, ..., 0.82316405,\n",
      "          0.81959857, 0.97003339],\n",
      "         [0.89314168, 0.97842251, 0.9656345 , ..., 1.0253016 ,\n",
      "          0.9333433 , 0.8322584 ],\n",
      "         ...,\n",
      "         [1.11054843, 0.87623716, 0.85706449, ..., 1.04566572,\n",
      "          0.83591912, 0.85071606],\n",
      "         [1.08500278, 0.71097937, 1.21288548, ..., 1.27206163,\n",
      "          1.03338184, 0.86842685],\n",
      "         [0.91159386, 1.06107864, 1.12717851, ..., 0.97389616,\n",
      "          0.99587167, 0.78329907]],\n",
      "\n",
      "        [[1.23457   , 0.88235299, 1.13345549, ..., 1.22549317,\n",
      "          0.87435278, 0.85444637],\n",
      "         [1.05757137, 0.92417614, 1.08273418, ..., 1.09911248,\n",
      "          0.90952993, 0.96196124],\n",
      "         [0.91438384, 0.60471431, 0.95663321, ..., 0.95003064,\n",
      "          0.98654488, 1.01687442],\n",
      "         ...,\n",
      "         [0.9606421 , 0.90701023, 1.03187362, ..., 0.88575149,\n",
      "          0.92041322, 1.08955075],\n",
      "         [1.2367209 , 0.85100721, 0.88387731, ..., 0.85443557,\n",
      "          0.92660473, 1.06797315],\n",
      "         [1.02586542, 1.14111286, 1.04677985, ..., 1.02724186,\n",
      "          0.86190999, 1.03477144]],\n",
      "\n",
      "        [[1.06358315, 1.02657905, 1.10263587, ..., 0.92697505,\n",
      "          0.93335325, 1.2368229 ],\n",
      "         [0.92186298, 0.94202312, 0.99527188, ..., 0.89600363,\n",
      "          1.1095611 , 0.93434949],\n",
      "         [0.87009185, 0.81298836, 0.94995443, ..., 0.85347592,\n",
      "          0.88619424, 0.8649583 ],\n",
      "         ...,\n",
      "         [0.95139966, 0.89156188, 1.07787279, ..., 0.88198041,\n",
      "          0.92034007, 0.90065966],\n",
      "         [1.09246159, 0.85658409, 0.89798581, ..., 1.02064365,\n",
      "          0.95809431, 0.82486179],\n",
      "         [1.20567633, 0.76920296, 1.0311178 , ..., 0.90299967,\n",
      "          0.93739507, 0.82640308]]],\n",
      "\n",
      "\n",
      "       [[[1.01223836, 0.94114398, 0.88545964, ..., 1.22607987,\n",
      "          0.83758999, 0.84224401],\n",
      "         [1.14931382, 0.9151791 , 0.75856591, ..., 1.00730673,\n",
      "          1.20717233, 0.91883377],\n",
      "         [0.99641535, 0.81594376, 1.05252074, ..., 0.84995973,\n",
      "          1.13843035, 0.84187333],\n",
      "         ...,\n",
      "         [1.09757651, 1.40887127, 1.02967386, ..., 0.96330622,\n",
      "          0.96118601, 1.01570935],\n",
      "         [1.02714771, 0.88502667, 0.81648532, ..., 0.86164913,\n",
      "          0.93910459, 0.83380246],\n",
      "         [1.00142305, 0.9274177 , 0.81257683, ..., 0.77858816,\n",
      "          1.09958386, 0.97228351]],\n",
      "\n",
      "        [[0.9534357 , 0.92841628, 0.93348534, ..., 0.94368184,\n",
      "          1.04492306, 1.12354863],\n",
      "         [0.84993646, 0.80908002, 1.00533083, ..., 0.84469064,\n",
      "          1.05932969, 1.03831742],\n",
      "         [0.91233163, 0.98789277, 1.18077916, ..., 0.94045801,\n",
      "          0.78937758, 1.25300933],\n",
      "         ...,\n",
      "         [1.03807956, 1.0535606 , 0.94866382, ..., 0.7985391 ,\n",
      "          0.74524299, 0.89413052],\n",
      "         [1.25492122, 1.0553006 , 1.33315578, ..., 0.9294973 ,\n",
      "          0.88222701, 0.95178222],\n",
      "         [0.88904848, 1.16632257, 0.96759764, ..., 1.11603254,\n",
      "          1.10182168, 1.06976189]],\n",
      "\n",
      "        [[0.94266727, 0.88318977, 0.91799371, ..., 0.9130305 ,\n",
      "          0.91282623, 0.88191034],\n",
      "         [0.79484929, 0.83023168, 0.88840043, ..., 1.07614786,\n",
      "          1.10618018, 0.89263722],\n",
      "         [1.11058434, 0.86533433, 0.8663316 , ..., 0.91211167,\n",
      "          0.69026068, 0.96777659],\n",
      "         ...,\n",
      "         [0.75870774, 1.01230402, 0.85476926, ..., 0.99511763,\n",
      "          0.7842467 , 0.77012485],\n",
      "         [1.02701666, 0.95793242, 0.98299165, ..., 0.96835772,\n",
      "          0.76724505, 1.17647545],\n",
      "         [1.02228821, 0.99757394, 0.81259879, ..., 0.67973507,\n",
      "          0.88509696, 0.91701167]],\n",
      "\n",
      "        ...,\n",
      "\n",
      "        [[0.89667015, 0.82214693, 1.00446239, ..., 0.80354916,\n",
      "          1.0799792 , 1.00076001],\n",
      "         [0.85084503, 0.8786321 , 0.94582889, ..., 0.94889388,\n",
      "          0.73150374, 0.9735435 ],\n",
      "         [0.98168637, 0.93388057, 0.97325559, ..., 0.92548351,\n",
      "          0.78052642, 1.00803689],\n",
      "         ...,\n",
      "         [1.00172332, 0.94819992, 0.94584607, ..., 0.99777851,\n",
      "          1.38458102, 0.80418716],\n",
      "         [1.12247688, 0.90144296, 0.89656613, ..., 0.71088852,\n",
      "          1.05799284, 0.86852575],\n",
      "         [0.91047663, 0.97494292, 0.98733184, ..., 0.86459328,\n",
      "          0.99577331, 0.82089587]],\n",
      "\n",
      "        [[0.94037484, 1.14615365, 0.89216026, ..., 1.07915503,\n",
      "          0.78134647, 1.04106757],\n",
      "         [0.91732677, 1.47684401, 1.01875325, ..., 1.15466796,\n",
      "          0.97457516, 1.18071777],\n",
      "         [0.87465946, 1.03552324, 0.80874451, ..., 0.99697929,\n",
      "          0.85113567, 1.1092467 ],\n",
      "         ...,\n",
      "         [0.83491692, 1.06255294, 0.99174586, ..., 0.96782422,\n",
      "          1.04936756, 1.15179096],\n",
      "         [0.79753744, 0.82174808, 0.79922208, ..., 0.94173534,\n",
      "          0.98313382, 1.02084233],\n",
      "         [1.03523157, 1.03476581, 0.85195379, ..., 1.31089704,\n",
      "          1.10078487, 0.80025853]],\n",
      "\n",
      "        [[0.93358045, 0.97808787, 0.85947037, ..., 1.00708372,\n",
      "          1.18680198, 0.95835377],\n",
      "         [0.87363953, 1.22469446, 0.92340678, ..., 0.84561319,\n",
      "          0.85809207, 1.03855727],\n",
      "         [0.79571566, 0.97092612, 1.20885072, ..., 0.99367946,\n",
      "          1.13944808, 0.91317802],\n",
      "         ...,\n",
      "         [1.05473039, 1.0212438 , 1.06491798, ..., 0.98600194,\n",
      "          0.76395512, 0.86316432],\n",
      "         [1.04272908, 0.94046232, 1.22793351, ..., 0.89286177,\n",
      "          0.74912464, 0.83802078],\n",
      "         [1.06071085, 0.87368054, 1.00852086, ..., 0.95135918,\n",
      "          1.02760874, 0.7761083 ]]]], dtype=float64), 'sigma8_': Array([1., 1., 1., 1.], dtype=float64)}\n"
     ]
    },
    {
     "data": {
      "image/png": "[encoded data removed]",
      "text/plain": [
       "<Figure size 1200x400 with 3 Axes>"
      ]
     },
     "metadata": {},
     "output_type": "display_data"
    }
   ],
   "source": [
    "continue_run = False\n",
    "if continue_run:\n",
    "    pass\n",
    "else:\n",
    "    model.reset()\n",
    "    model.condition({'obs': truth['obs']} | model.loc_fid, frombase=True)\n",
    "    model.block()\n",
    "\n",
    "    mcmc = get_init_mcmc(model.model, mcmc_config['n_chains'])    \n",
    "    init_params_ = jit(vmap(partial(model.init_model, delta_obs=truth['obs']-1)))(jr.split(jr.key(45), mcmc.num_chains))\n",
    "    # init_params_ = model.predict(45, samples=mcmc.num_chains, hide_samp=False)\n",
    "    \n",
    "    if not os.path.exists(save_path + \"_init_last_state.p\") or True:\n",
    "        print(\"# Warmupping...\")\n",
    "        init_mesh_ = {k: init_params_[k] for k in ['init_mesh_']} # NOTE: !!!!!!!\n",
    "        mcmc = sample_and_save(mcmc, save_path+'_init', 0, 0, extra_fields=['num_steps'], init_params=init_mesh_)\n",
    "        ils = mcmc.last_state.z\n",
    "    else:\n",
    "        print(\"# Loading init_last_state\")\n",
    "        ils = pload(save_path + \"_init_last_state.p\").z\n",
    "    \n",
    "    # ils = {k: jnp.broadcast_to(v, (mcmc_config['n_chains'], *jnp.shape(v))) for k, v in truth.items()}\n",
    "    # ils = {k+'_': ils[k+'_'] for k in ['Omega_m','sigma8','b1','b2','bs2','bn2','init_mesh']}\n",
    "\n",
    "    ################\n",
    "    from montecosmo.plot import plot_pow, plot_powtranscoh, plot_coh\n",
    "    mesh0 = jnp.fft.irfftn(truth['init_mesh'])\n",
    "    kptcs__ = vmap(lambda x: model.powtranscoh(mesh0, model.reparam(x, fourier=False)['init_mesh']))(init_params_)\n",
    "    kptcs_ = vmap(lambda x: model.powtranscoh(mesh0, model.reparam(x, fourier=False)['init_mesh']))(init_params_ | ils)\n",
    "    kpk0 = model.spectrum(mesh0)\n",
    "    kptc_obs = model.powtranscoh(mesh0, truth['obs'] - 1)\n",
    "    kpkobs = model.spectrum(truth['obs']-1)\n",
    "    \n",
    "    print(ils.keys(), init_params_.keys())\n",
    "\n",
    "    mse__ = jnp.mean((vmap(lambda x: model.reparam(x, fourier=False))(init_params_)['init_mesh']  - mesh0)**2, axis=(1,2,3))\n",
    "    mse_ = jnp.mean((vmap(lambda x: model.reparam(x, fourier=False))(init_params_ | ils)['init_mesh']  - mesh0)**2, axis=(1,2,3))\n",
    "    print(\"MSEs:\", mse_, mse_)\n",
    "\n",
    "    prob = 0.95\n",
    "    plt.figure(figsize=(12, 4))\n",
    "    plot_powtranscoh(*jnp.median(jnp.stack(kptcs__), 1), label='init')\n",
    "    plot_powtranscoh(*kptcs__, fill=prob)\n",
    "    plot_powtranscoh(*jnp.median(jnp.stack(kptcs_), 1), label='warm')\n",
    "    plot_powtranscoh(*kptcs_, fill=prob)\n",
    "    plt.subplot(131)\n",
    "    plot_pow(*kpk0, 'k', label='true')\n",
    "    plot_pow(*kpkobs, ':', c='grey', label='obs')\n",
    "    plt.legend()\n",
    "    plt.subplot(133)\n",
    "    plot_coh(kptc_obs[0], kptc_obs[-1], ':', c='grey', label='obs')\n",
    "    plt.tight_layout()\n",
    "    plt.savefig(save_dir+f'init_glin_{task_id}.png')\n",
    "    # plt.savefig(f'init_glin_{task_id}.png')\n",
    "    ################    \n",
    "    \n",
    "    if model.loc_fid['b1'] == 0:\n",
    "        print('no bias')\n",
    "        init_params_ = {k:v for k,v in init_params_.items() if k in ['Omega_m_', 'sigma8_']} | ils\n",
    "        # init_params_ = {k:v for k,v in init_params_.items() if k in ['Omega_m_', 'sigma8_','b1_','b2_','bs2_']} | ils\n",
    "    else:\n",
    "        init_params_ |= ils\n",
    "        # init_params_ |= mcmc.last_state.z\n",
    "    print(init_params_.keys())\n",
    "\n",
    "    sqrt_diag_cov = get_sqrt_diag_cov_from_numpyro(pload(save_path + \"_init_last_state.p\"), init_params_)\n",
    "    print(sqrt_diag_cov)\n",
    "\n",
    "model.reset()\n",
    "if model.loc_fid['b1'] == 0:\n",
    "    print('no bias')\n",
    "    model.condition({'obs': truth['obs'], 'b1': truth['b1'], 'b2': truth['b2'], 'bs2': truth['bs2'], 'bn2': truth['bn2']}, frombase=True)\n",
    "    # model.condition({'obs': truth['obs'], 'bn2': truth['bn2']}, frombase=True)\n",
    "else:\n",
    "    model.condition({'obs': truth['obs']})\n",
    "model.block()"
   ]
  },
  {
   "cell_type": "code",
   "execution_count": 6,
   "metadata": {},
   "outputs": [
    {
     "data": {
      "text/plain": [
       "<matplotlib.colorbar.Colorbar at 0x7ff7aeac2060>"
      ]
     },
     "execution_count": 6,
     "metadata": {},
     "output_type": "execute_result"
    },
    {
     "data": {
      "image/png": "[encoded data removed]",
      "text/plain": [
       "<Figure size 1500x300 with 8 Axes>"
      ]
     },
     "metadata": {},
     "output_type": "display_data"
    }
   ],
   "source": [
    "from montecosmo.plot import plot_mesh\n",
    "from montecosmo.bricks import lin_power_mesh, Planck18\n",
    "from montecosmo.utils import rg2cgh, cgh2rg\n",
    "cosmo = Planck18()\n",
    "scale, transfer = model.precond_scale_and_transfer(cosmo)\n",
    "scale = rg2cgh(scale, amp=True)\n",
    "sli = 10\n",
    "\n",
    "plt.figure(figsize=(15, 3), layout='constrained')\n",
    "\n",
    "est_scale = vmap(partial(rg2cgh, amp=True))(sqrt_diag_cov['init_mesh_'])\n",
    "est_scale_mean, est_scale_std = est_scale.mean(0), est_scale.std(0)\n",
    "plt.subplot(141)\n",
    "plot_mesh(est_scale_mean, model.box_shape, sli=sli)\n",
    "plt.title('estimated scale mean')\n",
    "plt.colorbar()\n",
    "\n",
    "plt.subplot(142)\n",
    "plot_mesh(est_scale_std, model.box_shape, sli=sli)\n",
    "plt.title('estimated scale std')\n",
    "plt.colorbar()\n",
    "\n",
    "plt.subplot(143)\n",
    "plot_mesh(scale, model.box_shape, sli=sli)\n",
    "plt.title('scale')\n",
    "plt.colorbar()\n",
    "\n",
    "plt.subplot(144)\n",
    "plot_mesh(scale / est_scale_mean, model.box_shape, sli=sli)\n",
    "plt.title('scale / estimated scale mean')\n",
    "plt.colorbar()"
   ]
  },
  {
   "cell_type": "code",
   "execution_count": null,
   "metadata": {},
   "outputs": [],
   "source": []
  },
  {
   "cell_type": "code",
   "execution_count": 5,
   "metadata": {},
   "outputs": [
    {
     "name": "stdout",
     "output_type": "stream",
     "text": [
      "########### detrunc\n",
      "####### truncnorm Omega_m\n",
      "####### truncnorm sigma8\n",
      "########### detrunc\n",
      "####### truncnorm b1\n",
      "####### truncnorm b2\n",
      "####### truncnorm bs2\n",
      "####### truncnorm bn2\n",
      "No fiducial spectral power mesh stored. Will use linear spectral power mesh computed at location of cosmology prior.\n",
      "MCLMCAdaptationState(L=Array([700, 700, 700, 700], dtype=int64, weak_type=True), step_size=Array([40, 40, 40, 40], dtype=int64, weak_type=True), sqrt_diag_cov=Array([1., 1., 1., 1.], dtype=float64, weak_type=True))\n"
     ]
    },
    {
     "name": "stderr",
     "output_type": "stream",
     "text": [
      "  0%|          | 0/15 [00:00<?, ?it/s]"
     ]
    },
    {
     "name": "stdout",
     "output_type": "stream",
     "text": [
      "run 1/15\n",
      "########### detrunc\n",
      "####### truncnorm Omega_m\n",
      "####### truncnorm sigma8\n",
      "########### detrunc\n",
      "####### truncnorm b1\n",
      "####### truncnorm b2\n",
      "####### truncnorm bs2\n",
      "####### truncnorm bn2\n",
      "No fiducial spectral power mesh stored. Will use linear spectral power mesh computed at location of cosmology prior.\n",
      "########### detrunc\n",
      "####### truncnorm Omega_m\n",
      "####### truncnorm sigma8\n",
      "########### detrunc\n",
      "####### truncnorm b1\n",
      "####### truncnorm b2\n",
      "####### truncnorm bs2\n",
      "####### truncnorm bn2\n",
      "No fiducial spectral power mesh stored. Will use linear spectral power mesh computed at location of cosmology prior.\n"
     ]
    },
    {
     "name": "stderr",
     "output_type": "stream",
     "text": [
      "  7%|▋         | 1/15 [05:58<1:23:45, 358.94s/it]"
     ]
    },
    {
     "name": "stdout",
     "output_type": "stream",
     "text": [
      "MCLMCInfo(logdensity=Array([1.65721212e+10, 1.65707359e+10, 1.65730883e+10, 1.65740658e+10],      dtype=float64), kinetic_change=Array([1812.94524939, 1468.20120413, 1530.86712953, 1479.47481846],      dtype=float64), energy_change=Array([0.89195734, 1.44951774, 1.09462342, 0.99864676], dtype=float64)) \n",
      "mean square energy fluctation per dim: [2.72203779e-05 4.42357708e-05 3.34052556e-05 3.04762805e-05] \n",
      "\n",
      "run 2/15\n"
     ]
    },
    {
     "name": "stderr",
     "output_type": "stream",
     "text": [
      " 13%|█▎        | 2/15 [10:28<1:06:19, 306.09s/it]"
     ]
    },
    {
     "name": "stdout",
     "output_type": "stream",
     "text": [
      "MCLMCInfo(logdensity=Array([1.65723560e+10, 1.65723136e+10, 1.65712387e+10, 1.65737159e+10],      dtype=float64), kinetic_change=Array([1897.27713427, 1517.12251127, 1692.35637384, 1440.34595566],      dtype=float64), energy_change=Array([1.19373425, 0.89410521, 1.04120668, 1.08577535], dtype=float64)) \n",
      "mean square energy fluctation per dim: [3.64298781e-05 2.72859257e-05 3.17751061e-05 3.31352342e-05] \n",
      "\n",
      "run 3/15\n"
     ]
    },
    {
     "name": "stderr",
     "output_type": "stream",
     "text": [
      " 20%|██        | 3/15 [14:51<57:20, 286.74s/it]  "
     ]
    },
    {
     "name": "stdout",
     "output_type": "stream",
     "text": [
      "MCLMCInfo(logdensity=Array([1.65726107e+10, 1.65709110e+10, 1.65727652e+10, 1.65705723e+10],      dtype=float64), kinetic_change=Array([1397.43659751, 1482.77788772, 1692.21034432, 1588.59764688],      dtype=float64), energy_change=Array([3.94065458, 0.89110861, 0.88973484, 0.90647079], dtype=float64)) \n",
      "mean square energy fluctation per dim: [1.20259234e-04 2.71944768e-05 2.71525524e-05 2.76632933e-05] \n",
      "\n",
      "run 4/15\n"
     ]
    },
    {
     "name": "stderr",
     "output_type": "stream",
     "text": [
      " 27%|██▋       | 4/15 [19:15<50:56, 277.85s/it]"
     ]
    },
    {
     "name": "stdout",
     "output_type": "stream",
     "text": [
      "MCLMCInfo(logdensity=Array([1.65725374e+10, 1.65730681e+10, 1.65713783e+10, 1.65691401e+10],      dtype=float64), kinetic_change=Array([1402.28538396, 1488.0330652 , 1515.74691936, 1538.841934  ],      dtype=float64), energy_change=Array([0.97471212, 0.87262947, 3.48020679, 1.17768589], dtype=float64)) \n",
      "mean square energy fluctation per dim: [2.97458532e-05 2.66305381e-05 1.06207483e-04 3.59401212e-05] \n",
      "\n",
      "run 5/15\n"
     ]
    },
    {
     "name": "stderr",
     "output_type": "stream",
     "text": [
      " 33%|███▎      | 5/15 [23:39<45:27, 272.76s/it]"
     ]
    },
    {
     "name": "stdout",
     "output_type": "stream",
     "text": [
      "MCLMCInfo(logdensity=Array([1.65742573e+10, 1.65747280e+10, 1.65680481e+10, 1.65719550e+10],      dtype=float64), kinetic_change=Array([1480.03283796, 1542.27449752, 1443.53339425, 1351.82257551],      dtype=float64), energy_change=Array([0.97578886, 0.91190452, 7.47592621, 1.01768867], dtype=float64)) \n",
      "mean square energy fluctation per dim: [2.97787128e-05 2.78291174e-05 2.28147162e-04 3.10573934e-05] \n",
      "\n",
      "run 6/15\n"
     ]
    },
    {
     "name": "stderr",
     "output_type": "stream",
     "text": [
      " 40%|████      | 6/15 [28:03<40:28, 269.86s/it]"
     ]
    },
    {
     "name": "stdout",
     "output_type": "stream",
     "text": [
      "MCLMCInfo(logdensity=Array([1.65709678e+10, 1.65729676e+10, 1.65721470e+10, 1.65730946e+10],      dtype=float64), kinetic_change=Array([1475.28325137, 1516.76848139, 1438.45638441, 1461.07240364],      dtype=float64), energy_change=Array([0.93447584, 6.62284813, 0.91419901, 1.35736256], dtype=float64)) \n",
      "mean square energy fluctation per dim: [2.85179395e-05 2.02113285e-04 2.78991396e-05 4.14234180e-05] \n",
      "\n",
      "run 7/15\n"
     ]
    },
    {
     "name": "stderr",
     "output_type": "stream",
     "text": [
      " 47%|████▋     | 7/15 [32:27<35:42, 267.85s/it]"
     ]
    },
    {
     "name": "stdout",
     "output_type": "stream",
     "text": [
      "MCLMCInfo(logdensity=Array([1.65704084e+10, 1.65729501e+10, 1.65698853e+10, 1.65722261e+10],      dtype=float64), kinetic_change=Array([1591.95722143, 1457.13250233, 1580.13570487, 1655.18607723],      dtype=float64), energy_change=Array([1.12933568, 1.19587684, 0.96179081, 2.11019622], dtype=float64)) \n",
      "mean square energy fluctation per dim: [3.44645899e-05 3.64952648e-05 2.93515262e-05 6.43980780e-05] \n",
      "\n",
      "run 8/15\n"
     ]
    },
    {
     "name": "stderr",
     "output_type": "stream",
     "text": [
      " 53%|█████▎    | 8/15 [36:51<31:06, 266.70s/it]"
     ]
    },
    {
     "name": "stdout",
     "output_type": "stream",
     "text": [
      "MCLMCInfo(logdensity=Array([1.65740038e+10, 1.65701880e+10, 1.65712704e+10, 1.65700602e+10],      dtype=float64), kinetic_change=Array([1674.15377872, 1451.23194117, 1613.42870458, 1653.14251864],      dtype=float64), energy_change=Array([1.53334346, 1.01052423, 4.42584876, 0.88359391], dtype=float64)) \n",
      "mean square energy fluctation per dim: [4.67939287e-05 3.08387521e-05 1.35066185e-04 2.69651462e-05] \n",
      "\n",
      "run 9/15\n"
     ]
    },
    {
     "name": "stderr",
     "output_type": "stream",
     "text": [
      " 60%|██████    | 9/15 [41:15<26:34, 265.76s/it]"
     ]
    },
    {
     "name": "stdout",
     "output_type": "stream",
     "text": [
      "MCLMCInfo(logdensity=Array([1.65710368e+10, 1.65717610e+10, 1.65711920e+10, 1.65709162e+10],      dtype=float64), kinetic_change=Array([1581.10247043, 1860.30756419, 1522.49135561, 1701.16087877],      dtype=float64), energy_change=Array([0.90869148, 4.98587313, 0.98432351, 0.94723863], dtype=float64)) \n",
      "mean square energy fluctation per dim: [2.77310631e-05 1.52156773e-04 3.00391697e-05 2.89074289e-05] \n",
      "\n",
      "run 10/15\n"
     ]
    },
    {
     "name": "stderr",
     "output_type": "stream",
     "text": [
      " 67%|██████▋   | 10/15 [45:39<22:06, 265.28s/it]"
     ]
    },
    {
     "name": "stdout",
     "output_type": "stream",
     "text": [
      "MCLMCInfo(logdensity=Array([1.65712181e+10, 1.65687297e+10, 1.65722110e+10, 1.65707751e+10],      dtype=float64), kinetic_change=Array([1498.47487826, 1437.82653245, 1546.68768864, 1486.68419659],      dtype=float64), energy_change=Array([1.03068132, 1.66228621, 1.32051397, 1.65649432], dtype=float64)) \n",
      "mean square energy fluctation per dim: [3.14538976e-05 5.07289493e-05 4.02988882e-05 5.05521949e-05] \n",
      "\n",
      "run 11/15\n"
     ]
    },
    {
     "name": "stderr",
     "output_type": "stream",
     "text": [
      " 73%|███████▎  | 11/15 [50:03<17:39, 264.80s/it]"
     ]
    },
    {
     "name": "stdout",
     "output_type": "stream",
     "text": [
      "MCLMCInfo(logdensity=Array([1.65709741e+10, 1.65703684e+10, 1.65731123e+10, 1.65719862e+10],      dtype=float64), kinetic_change=Array([1352.9522273 , 1627.95900314, 1796.19123676, 1594.23388288],      dtype=float64), energy_change=Array([0.92062368, 1.652667  , 1.28728375, 2.30034085], dtype=float64)) \n",
      "mean square energy fluctation per dim: [2.80952052e-05 5.04353943e-05 3.92847824e-05 7.02008315e-05] \n",
      "\n",
      "run 12/15\n"
     ]
    },
    {
     "name": "stderr",
     "output_type": "stream",
     "text": [
      " 80%|████████  | 12/15 [54:27<13:14, 264.72s/it]"
     ]
    },
    {
     "name": "stdout",
     "output_type": "stream",
     "text": [
      "MCLMCInfo(logdensity=Array([1.65713352e+10, 1.65704690e+10, 1.65711564e+10, 1.65702831e+10],      dtype=float64), kinetic_change=Array([1731.4962435 , 1492.73932026, 1832.58918489, 1393.43575319],      dtype=float64), energy_change=Array([0.94637616, 1.30726735, 0.91179254, 1.23919766], dtype=float64)) \n",
      "mean square energy fluctation per dim: [2.88811085e-05 3.98946336e-05 2.78257001e-05 3.78173113e-05] \n",
      "\n",
      "run 13/15\n"
     ]
    },
    {
     "name": "stderr",
     "output_type": "stream",
     "text": [
      " 87%|████████▋ | 13/15 [58:53<08:49, 264.81s/it]"
     ]
    },
    {
     "name": "stdout",
     "output_type": "stream",
     "text": [
      "MCLMCInfo(logdensity=Array([1.65711318e+10, 1.65703734e+10, 1.65733521e+10, 1.65713777e+10],      dtype=float64), kinetic_change=Array([1445.09185555, 1383.90962544, 1683.97903235, 1600.22823013],      dtype=float64), energy_change=Array([1.02714706, 2.92441157, 0.94319223, 0.96454742], dtype=float64)) \n",
      "mean square energy fluctation per dim: [3.13460408e-05 8.92459587e-05 2.87839426e-05 2.94356514e-05] \n",
      "\n",
      "run 14/15\n"
     ]
    },
    {
     "name": "stderr",
     "output_type": "stream",
     "text": [
      " 93%|█████████▎| 14/15 [1:03:17<04:24, 264.74s/it]"
     ]
    },
    {
     "name": "stdout",
     "output_type": "stream",
     "text": [
      "MCLMCInfo(logdensity=Array([1.65692215e+10, 1.65736884e+10, 1.65708645e+10, 1.65694057e+10],      dtype=float64), kinetic_change=Array([1656.52844085, 1612.34372934, 1495.32009857, 1579.12047695],      dtype=float64), energy_change=Array([0.95787801, 0.94633732, 0.91762229, 0.90366333], dtype=float64)) \n",
      "mean square energy fluctation per dim: [2.92321169e-05 2.88799232e-05 2.80036099e-05 2.75776162e-05] \n",
      "\n",
      "run 15/15\n"
     ]
    },
    {
     "name": "stderr",
     "output_type": "stream",
     "text": [
      "100%|██████████| 15/15 [1:07:41<00:00, 270.75s/it]"
     ]
    },
    {
     "name": "stdout",
     "output_type": "stream",
     "text": [
      "MCLMCInfo(logdensity=Array([1.65696418e+10, 1.65714413e+10, 1.65706170e+10, 1.65706992e+10],      dtype=float64), kinetic_change=Array([1511.35254931, 1626.55309692, 1454.99148041, 1389.73965589],      dtype=float64), energy_change=Array([0.93464877, 1.17030553, 1.54527231, 0.97354827], dtype=float64)) \n",
      "mean square energy fluctation per dim: [2.85232170e-05 3.57148904e-05 4.71579685e-05 2.97103355e-05] \n",
      "\n"
     ]
    },
    {
     "name": "stderr",
     "output_type": "stream",
     "text": [
      "\n"
     ]
    }
   ],
   "source": [
    "from tqdm import tqdm\n",
    "if mcmc_config['sampler'] in ['NUTS', 'HMC']:\n",
    "    mcmc = get_mcmc(model.model, mcmc_config)\n",
    "    if continue_run:\n",
    "        print(f\"{jnp.result_type(True)=}\") # HACK: why is it working?!!\n",
    "        mcmc.num_warmup = 0\n",
    "        mcmc.post_warmup_state = pload(save_path + \"_last_state.p\")\n",
    "        start = 3 ###############\n",
    "        end = start + mcmc_config['n_runs'] - 1\n",
    "        mcmc_runned = sample_and_save(mcmc, save_path, start, end, rng=44, extra_fields=['num_steps'])\n",
    "\n",
    "    else:\n",
    "        mcmc_runned = sample_and_save(mcmc, save_path, 0, mcmc_config['n_runs'], extra_fields=['num_steps'], init_params=init_params_)\n",
    "\n",
    "elif mcmc_config['sampler'] == 'NUTSWG':\n",
    "    from montecosmo.samplers import nutswg_init, get_nutswg_warm, get_nutswg_run\n",
    "    n_samples, n_runs, n_chains = mcmc_config['n_samples'], mcmc_config['n_runs'], mcmc_config['n_chains']\n",
    "\n",
    "    step_fn, init_fn, conf, init_state_fn = nutswg_init(model.logpdf)\n",
    "\n",
    "    # warmup_fn = jit(vmap(get_nutswg_warm(model.logpdf, conf, mcmc_config['n_samples'], progress_bar=False)))\n",
    "    # state = jit(vmap(init_state_fn))(init_params_)\n",
    "\n",
    "    # samples, infos, state, conf = warmup_fn(jr.split(jr.key(43), n_chains), state)\n",
    "    # print(\"conf:\", conf,\n",
    "    #         \"\\n\\ninfos:\", infos, '\\n#################\\n')\n",
    "    # jnp.savez(save_path+f\"_{0}.npz\", **samples | {k:infos[k] for k in ['n_evals']})\n",
    "    # pdump(state, save_path+f\"_last_state.p\")\n",
    "    # pdump(conf, save_path+'_conf.p'), pdump(tree.map(jnp.mean, infos), save_path+'_infos.p')\n",
    "\n",
    "    conf = pload(save_path+'_conf.p')\n",
    "    state = pload(save_path+'_last_state.p')\n",
    "    \n",
    "    run_fn = jit(vmap(get_nutswg_run(model.logpdf, step_fn, init_fn, n_samples, progress_bar=False)))\n",
    "    start = 1 ######\n",
    "    end = start + n_runs - 1\n",
    "    key = jr.key(42)\n",
    "    for i_run in tqdm(range(start, end+1)):\n",
    "        print(f\"run {i_run}/{end}\")\n",
    "        key, run_key = jr.split(key, 2)\n",
    "        samples, infos, state = run_fn(jr.split(run_key, n_chains), state, conf)\n",
    "        print(\"infos:\", tree.map(lambda x: jnp.mean(x, 1), infos))\n",
    "        jnp.savez(save_path+f\"_{i_run}.npz\", **samples | {k:infos[k] for k in ['n_evals']})\n",
    "        pdump(state, save_path+f\"_last_state.p\")\n",
    "\n",
    "elif mcmc_config['sampler'] == 'MCLMC':\n",
    "    from montecosmo.samplers import get_mclmc_warmup, get_mclmc_run\n",
    "\n",
    "    config = None\n",
    "    # config = {'L':256., 'step_size': 2.,} # 256, 2 for 32^3\n",
    "    # config = {'L':193, 'step_size': 45,} # 64^3\n",
    "    # config = {'L':550, 'step_size': 30,} # 64^3 norsdb fOc a=.5\n",
    "    # config = {'L':500, 'step_size': 10,} # 64^3 norsdb\n",
    "    # config = {'L':450, 'step_size': 3,} # 64^3 a=.5\n",
    "    # config = {'L':350, 'step_size': 3,} # 64^3 a=.5\n",
    "    config = {'L':350, 'step_size':40, 'sqrt_diag_cov':sqrt_diag_cov} # 64, 128^3 a=.5\n",
    "\n",
    "    warmup_fn = jit(vmap(get_mclmc_warmup(model.logpdf, n_samples=4096, config=config)))\n",
    "    state, config = warmup_fn(jr.split(jr.key(43), mcmc_config['n_chains']), init_params_)\n",
    "    print(config)\n",
    "    pdump(state, save_path+f\"_last_state.p\")\n",
    "    pdump(config, save_path+f\"_conf.p\")\n",
    "\n",
    "    # state = pload(save_path+f\"_last_state.p\")\n",
    "    # config = pload(save_path+f\"_conf.p\")\n",
    "    n_samples, n_runs, n_chains = mcmc_config['n_samples'], mcmc_config['n_runs'], mcmc_config['n_chains']\n",
    "\n",
    "    thinning = 64\n",
    "    run_fn = jit(vmap(get_mclmc_run(model.logpdf, n_samples, thinning=thinning, progress_bar=False)))\n",
    "\n",
    "    start = 1 ######\n",
    "    end = start + n_runs - 1\n",
    "    key = jr.key(42)\n",
    "    for i_run in tqdm(range(start, n_runs + start)):\n",
    "        print(f\"run {i_run}/{n_runs}\")\n",
    "        key, run_key = jr.split(key, 2)\n",
    "        state, samples, info = run_fn(jr.split(run_key, n_chains), state, config)\n",
    "        \n",
    "        info = tree.map(lambda x: jnp.mean(x**2, 1), info)\n",
    "        print(info, \"\\nmean square energy fluctation per dim:\", info.energy_change / model.mesh_shape.astype(float).prod(), '\\n')\n",
    "\n",
    "        jnp.savez(save_path+f\"_{i_run}.npz\", **samples)\n",
    "        pdump(state, save_path+f\"_last_state.p\")"
   ]
  },
  {
   "cell_type": "code",
   "execution_count": 5,
   "metadata": {},
   "outputs": [
    {
     "data": {
      "text/plain": [
       "1600.0"
      ]
     },
     "execution_count": 5,
     "metadata": {},
     "output_type": "execute_result"
    }
   ],
   "source": [
    "1/5 * 2e2 * 40"
   ]
  }
 ],
 "metadata": {
  "kernelspec": {
   "display_name": "Python 3 (ipykernel)",
   "language": "python",
   "name": "python3"
  },
  "language_info": {
   "codemirror_mode": {
    "name": "ipython",
    "version": 3
   },
   "file_extension": ".py",
   "mimetype": "text/x-python",
   "name": "python",
   "nbconvert_exporter": "python",
   "pygments_lexer": "ipython3",
   "version": "3.12.3"
  }
 },
 "nbformat": 4,
 "nbformat_minor": 2
}
