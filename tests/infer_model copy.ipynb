{
 "cells": [
  {
   "cell_type": "markdown",
   "metadata": {},
   "source": [
    "# Model Inference\n",
    "Infer from a cosmological model via MCMC samplers. "
   ]
  },
  {
   "cell_type": "code",
   "execution_count": 1,
   "metadata": {},
   "outputs": [
    {
     "name": "stdout",
     "output_type": "stream",
     "text": [
      "feynmangpu04.cluster.local\n"
     ]
    },
    {
     "name": "stderr",
     "output_type": "stream",
     "text": [
      "/feynman/work/dphp/hs276503/envs/montenvtest3/lib/python3.12/pty.py:95: RuntimeWarning: os.fork() was called. os.fork() is incompatible with multithreaded code, and JAX is multithreaded, so this will likely lead to a deadlock.\n",
      "  pid, fd = os.forkpty()\n"
     ]
    }
   ],
   "source": [
    "import os; os.environ['XLA_PYTHON_CLIENT_MEM_FRACTION']='0.66' # NOTE: jax preallocates GPU (default 75%)\n",
    "import matplotlib.pyplot as plt\n",
    "import numpy as np\n",
    "from jax import numpy as jnp, random as jr, config as jconfig, jit, vmap, grad, debug, tree\n",
    "jconfig.update(\"jax_enable_x64\", True)\n",
    "\n",
    "from functools import partial\n",
    "from getdist import plots\n",
    "from numpyro import infer\n",
    "\n",
    "from montecosmo.model import FieldLevelModel, default_config\n",
    "from montecosmo.utils import pdump, pload\n",
    "from montecosmo.mcbench import sample_and_save\n",
    "from montecosmo.script import from_id, get_mcmc, get_init_mcmc\n",
    "\n",
    "# import mlflow\n",
    "# mlflow.set_tracking_uri(uri=\"http://127.0.0.1:8081\")\n",
    "# mlflow.set_experiment(\"infer\")\n",
    "# !jupyter nbconvert --to script ./src/montecosmo/tests/infer_model.ipynb/\n",
    "\n",
    "%matplotlib inline\n",
    "%load_ext autoreload\n",
    "%autoreload 2\n",
    "!hostname"
   ]
  },
  {
   "cell_type": "markdown",
   "metadata": {},
   "source": [
    "## Config and fiduc"
   ]
  },
  {
   "cell_type": "code",
   "execution_count": 2,
   "metadata": {},
   "outputs": [
    {
     "name": "stdout",
     "output_type": "stream",
     "text": [
      "SLURM_ARRAY_TASK_ID: 217311\n",
      "save path: /feynman/home/dphp/hs276503/scratch/pickles/m32_b160.0_al0.5_ao0.5_lo1_pc7_obfield_stdcosmo_norsdb/sMCLMC_nc4_ns64_mt10_ta0.65_f64_nommss\n"
     ]
    }
   ],
   "source": [
    "################## TO SET #######################\n",
    "# task_id = int(os.environ['SLURM_ARRAY_TASK_ID'])\n",
    "task_id = 217311\n",
    "print(\"SLURM_ARRAY_TASK_ID:\", task_id)\n",
    "model, mcmc_config, save_dir, save_path = from_id(task_id)\n",
    "os.makedirs(save_dir, exist_ok=True)\n",
    "print(\"save path:\", save_path)\n",
    "\n",
    "# import sys\n",
    "# tempstdout, tempstderr = sys.stdout, sys.stderr\n",
    "# sys.stdout = sys.stderr = open(save_path+'.out', 'a')\n",
    "# job_id = int(os.environ['SLURM_ARRAY_JOB_ID'])\n",
    "# print(\"SLURM_ARRAY_JOB_ID:\", job_id)\n",
    "# print(\"SLURM_ARRAY_TASK_ID:\", task_id)\n",
    "# print(\"jax_enable_x64:\", jconfig.read(\"jax_enable_x64\"))"
   ]
  },
  {
   "cell_type": "code",
   "execution_count": 3,
   "metadata": {},
   "outputs": [
    {
     "name": "stdout",
     "output_type": "stream",
     "text": [
      "# CONFIG\n",
      "{'a_lpt': 0.5,\n",
      " 'a_obs': 0.5,\n",
      " 'box_shape': array([160., 160., 160.]),\n",
      " 'gxy_density': 0.001,\n",
      " 'latents': {'Omega_m': {'group': 'cosmo',\n",
      "                         'high': 1.0,\n",
      "                         'label': '{\\\\Omega}_m',\n",
      "                         'loc': 0.3111,\n",
      "                         'low': 0.05,\n",
      "                         'scale': 0.2,\n",
      "                         'scale_est': 0.06},\n",
      "             'b1': {'group': 'bias',\n",
      "                    'label': '{b}_1',\n",
      "                    'loc': 1.0,\n",
      "                    'scale': 0.5},\n",
      "             'b2': {'group': 'bias',\n",
      "                    'label': '{b}_2',\n",
      "                    'loc': 0.0,\n",
      "                    'scale': 2.0},\n",
      "             'bn2': {'group': 'bias',\n",
      "                     'label': '{b}_{\\\\nabla^2}',\n",
      "                     'loc': 0.0,\n",
      "                     'scale': 2.0},\n",
      "             'bs2': {'group': 'bias',\n",
      "                     'label': '{b}_{s^2}',\n",
      "                     'loc': 0.0,\n",
      "                     'scale': 2.0},\n",
      "             'init_mesh': {'group': 'init',\n",
      "                           'label': '{\\\\delta}_L'},\n",
      "             'sigma8': {'group': 'cosmo',\n",
      "                        'label': '{\\\\sigma}_8',\n",
      "                        'loc': 0.8102,\n",
      "                        'low': 0.0,\n",
      "                        'scale': 0.2,\n",
      "                        'scale_est': 0.04}},\n",
      " 'los': None,\n",
      " 'lpt_order': 1,\n",
      " 'mesh_shape': array([32, 32, 32]),\n",
      " 'nbody_steps': 5,\n",
      " 'obs': 'field',\n",
      " 'precond': 7,\n",
      " 'prior_mode': 'detrunc',\n",
      " 'snapshots': None}\n",
      "\n",
      "# INFOS\n",
      "cell_shape:     [5.0, 5.0, 5.0] Mpc/h\n",
      "k_funda:        0.03927 h/Mpc\n",
      "k_nyquist:      0.62832 h/Mpc\n",
      "mean_gxy_count: 0.125 gxy/cell\n",
      "\n",
      "{'sampler': 'MCLMC', 'target_accept_prob': 0.65, 'n_samples': 64, 'max_tree_depth': 10, 'n_runs': 15, 'n_chains': 4, 'mm': 0}\n",
      "Loading truth from /feynman/home/dphp/hs276503/scratch/pickles/m32_b160.0_al0.5_ao0.5_lo1_pc7_obfield_stdcosmo_norsdb/\n",
      "no bias\n",
      "########### detrunc\n",
      "########### detrunc\n",
      "####### truncnorm Omega_m\n",
      "####### truncnorm sigma8\n",
      "########### detrunc\n",
      "####### truncnorm b1\n",
      "####### truncnorm b2\n",
      "####### truncnorm bs2\n",
      "####### truncnorm bn2\n",
      "No fiducial spectral power mesh stored. Will use linear spectral power mesh computed at location of cosmology prior.\n",
      "########### detrunc\n",
      "####### truncnorm Omega_m\n",
      "####### truncnorm sigma8\n",
      "########### detrunc\n",
      "####### truncnorm b1\n",
      "####### truncnorm b2\n",
      "####### truncnorm bs2\n",
      "####### truncnorm bn2\n",
      "No fiducial spectral power mesh stored. Will use linear spectral power mesh computed at location of cosmology prior.\n"
     ]
    },
    {
     "data": {
      "image/svg+xml": [
       "<?xml version=\"1.0\" encoding=\"UTF-8\" standalone=\"no\"?>\n",
       "<!DOCTYPE svg PUBLIC \"-//W3C//DTD SVG 1.1//EN\"\n",
       " \"http://www.w3.org/Graphics/SVG/1.1/DTD/svg11.dtd\">\n",
       "<!-- Generated by graphviz version 2.40.1 (0)\n",
       " -->\n",
       "<!-- Title: %3 Pages: 1 -->\n",
       "<svg width=\"703pt\" height=\"116pt\"\n",
       " viewBox=\"0.00 0.00 703.49 116.00\" xmlns=\"http://www.w3.org/2000/svg\" xmlns:xlink=\"http://www.w3.org/1999/xlink\">\n",
       "<g id=\"graph0\" class=\"graph\" transform=\"scale(1 1) rotate(0) translate(4 112)\">\n",
       "<title>%3</title>\n",
       "<polygon fill=\"#ffffff\" stroke=\"transparent\" points=\"-4,4 -4,-112 699.489,-112 699.489,4 -4,4\"/>\n",
       "<!-- Omega_m_ -->\n",
       "<g id=\"node1\" class=\"node\">\n",
       "<title>Omega_m_</title>\n",
       "<ellipse fill=\"#ffffff\" stroke=\"#000000\" cx=\"62.3945\" cy=\"-90\" rx=\"62.2891\" ry=\"18\"/>\n",
       "<text text-anchor=\"middle\" x=\"62.3945\" y=\"-86.3\" font-family=\"Times,serif\" font-size=\"14.00\" fill=\"#000000\">Omega_m_</text>\n",
       "</g>\n",
       "<!-- obs -->\n",
       "<g id=\"node8\" class=\"node\">\n",
       "<title>obs</title>\n",
       "<ellipse fill=\"#c0c0c0\" stroke=\"#000000\" cx=\"360.3945\" cy=\"-18\" rx=\"27\" ry=\"18\"/>\n",
       "<text text-anchor=\"middle\" x=\"360.3945\" y=\"-14.3\" font-family=\"Times,serif\" font-size=\"14.00\" fill=\"#000000\">obs</text>\n",
       "</g>\n",
       "<!-- Omega_m_&#45;&gt;obs -->\n",
       "<g id=\"edge1\" class=\"edge\">\n",
       "<title>Omega_m_&#45;&gt;obs</title>\n",
       "<path fill=\"none\" stroke=\"#000000\" d=\"M109.627,-78.117C117.879,-76.0623 126.3841,-73.9582 134.3945,-72 201.6508,-55.5584 280.308,-36.8908 324.8486,-26.3722\"/>\n",
       "<polygon fill=\"#000000\" stroke=\"#000000\" points=\"325.6858,-29.7708 334.6145,-24.0674 324.0779,-22.958 325.6858,-29.7708\"/>\n",
       "</g>\n",
       "<!-- sigma8_ -->\n",
       "<g id=\"node2\" class=\"node\">\n",
       "<title>sigma8_</title>\n",
       "<ellipse fill=\"#ffffff\" stroke=\"#000000\" cx=\"192.3945\" cy=\"-90\" rx=\"49.2915\" ry=\"18\"/>\n",
       "<text text-anchor=\"middle\" x=\"192.3945\" y=\"-86.3\" font-family=\"Times,serif\" font-size=\"14.00\" fill=\"#000000\">sigma8_</text>\n",
       "</g>\n",
       "<!-- sigma8_&#45;&gt;obs -->\n",
       "<g id=\"edge2\" class=\"edge\">\n",
       "<title>sigma8_&#45;&gt;obs</title>\n",
       "<path fill=\"none\" stroke=\"#000000\" d=\"M224.7866,-76.1177C254.5124,-63.378 298.3162,-44.605 328.0326,-31.8694\"/>\n",
       "<polygon fill=\"#000000\" stroke=\"#000000\" points=\"329.7168,-34.9555 337.5296,-27.7992 326.9594,-28.5215 329.7168,-34.9555\"/>\n",
       "</g>\n",
       "<!-- b1_ -->\n",
       "<g id=\"node3\" class=\"node\">\n",
       "<title>b1_</title>\n",
       "<ellipse fill=\"#c0c0c0\" stroke=\"#000000\" cx=\"287.3945\" cy=\"-90\" rx=\"27.0966\" ry=\"18\"/>\n",
       "<text text-anchor=\"middle\" x=\"287.3945\" y=\"-86.3\" font-family=\"Times,serif\" font-size=\"14.00\" fill=\"#000000\">b1_</text>\n",
       "</g>\n",
       "<!-- b1_&#45;&gt;obs -->\n",
       "<g id=\"edge3\" class=\"edge\">\n",
       "<title>b1_&#45;&gt;obs</title>\n",
       "<path fill=\"none\" stroke=\"#000000\" d=\"M302.8759,-74.7307C312.9414,-64.803 326.2419,-51.6847 337.5174,-40.5637\"/>\n",
       "<polygon fill=\"#000000\" stroke=\"#000000\" points=\"340.2734,-42.7614 344.9354,-33.2473 335.3579,-37.7776 340.2734,-42.7614\"/>\n",
       "</g>\n",
       "<!-- b2_ -->\n",
       "<g id=\"node4\" class=\"node\">\n",
       "<title>b2_</title>\n",
       "<ellipse fill=\"#c0c0c0\" stroke=\"#000000\" cx=\"360.3945\" cy=\"-90\" rx=\"27.0966\" ry=\"18\"/>\n",
       "<text text-anchor=\"middle\" x=\"360.3945\" y=\"-86.3\" font-family=\"Times,serif\" font-size=\"14.00\" fill=\"#000000\">b2_</text>\n",
       "</g>\n",
       "<!-- b2_&#45;&gt;obs -->\n",
       "<g id=\"edge4\" class=\"edge\">\n",
       "<title>b2_&#45;&gt;obs</title>\n",
       "<path fill=\"none\" stroke=\"#000000\" d=\"M360.3945,-71.8314C360.3945,-64.131 360.3945,-54.9743 360.3945,-46.4166\"/>\n",
       "<polygon fill=\"#000000\" stroke=\"#000000\" points=\"363.8946,-46.4132 360.3945,-36.4133 356.8946,-46.4133 363.8946,-46.4132\"/>\n",
       "</g>\n",
       "<!-- bs2_ -->\n",
       "<g id=\"node5\" class=\"node\">\n",
       "<title>bs2_</title>\n",
       "<ellipse fill=\"#c0c0c0\" stroke=\"#000000\" cx=\"438.3945\" cy=\"-90\" rx=\"32.4942\" ry=\"18\"/>\n",
       "<text text-anchor=\"middle\" x=\"438.3945\" y=\"-86.3\" font-family=\"Times,serif\" font-size=\"14.00\" fill=\"#000000\">bs2_</text>\n",
       "</g>\n",
       "<!-- bs2_&#45;&gt;obs -->\n",
       "<g id=\"edge5\" class=\"edge\">\n",
       "<title>bs2_&#45;&gt;obs</title>\n",
       "<path fill=\"none\" stroke=\"#000000\" d=\"M421.4696,-74.3771C410.4433,-64.1989 395.9066,-50.7805 383.7815,-39.5881\"/>\n",
       "<polygon fill=\"#000000\" stroke=\"#000000\" points=\"385.945,-36.8219 376.223,-32.6109 381.197,-41.9656 385.945,-36.8219\"/>\n",
       "</g>\n",
       "<!-- bn2_ -->\n",
       "<g id=\"node6\" class=\"node\">\n",
       "<title>bn2_</title>\n",
       "<ellipse fill=\"#c0c0c0\" stroke=\"#000000\" cx=\"522.3945\" cy=\"-90\" rx=\"33.2948\" ry=\"18\"/>\n",
       "<text text-anchor=\"middle\" x=\"522.3945\" y=\"-86.3\" font-family=\"Times,serif\" font-size=\"14.00\" fill=\"#000000\">bn2_</text>\n",
       "</g>\n",
       "<!-- bn2_&#45;&gt;obs -->\n",
       "<g id=\"edge6\" class=\"edge\">\n",
       "<title>bn2_&#45;&gt;obs</title>\n",
       "<path fill=\"none\" stroke=\"#000000\" d=\"M496.7251,-78.5914C468.4677,-66.0326 423.0014,-45.8253 392.4301,-32.2381\"/>\n",
       "<polygon fill=\"#000000\" stroke=\"#000000\" points=\"393.6281,-28.9404 383.0684,-28.0773 390.785,-35.3371 393.6281,-28.9404\"/>\n",
       "</g>\n",
       "<!-- init_mesh_ -->\n",
       "<g id=\"node7\" class=\"node\">\n",
       "<title>init_mesh_</title>\n",
       "<ellipse fill=\"#ffffff\" stroke=\"#000000\" cx=\"634.3945\" cy=\"-90\" rx=\"61.1893\" ry=\"18\"/>\n",
       "<text text-anchor=\"middle\" x=\"634.3945\" y=\"-86.3\" font-family=\"Times,serif\" font-size=\"14.00\" fill=\"#000000\">init_mesh_</text>\n",
       "</g>\n",
       "<!-- init_mesh_&#45;&gt;obs -->\n",
       "<g id=\"edge7\" class=\"edge\">\n",
       "<title>init_mesh_&#45;&gt;obs</title>\n",
       "<path fill=\"none\" stroke=\"#000000\" d=\"M588.533,-77.9488C534.2015,-63.6719 444.8708,-40.1982 395.6588,-27.2665\"/>\n",
       "<polygon fill=\"#000000\" stroke=\"#000000\" points=\"396.3546,-23.8306 385.7934,-24.6742 394.5756,-30.6008 396.3546,-23.8306\"/>\n",
       "</g>\n",
       "</g>\n",
       "</svg>\n"
      ],
      "text/plain": [
       "<graphviz.graphs.Digraph at 0x7fffa91f3f80>"
      ]
     },
     "metadata": {},
     "output_type": "display_data"
    },
    {
     "name": "stderr",
     "output_type": "stream",
     "text": [
      "2025-02-10 14:31:31.472414: W external/xla/xla/service/gpu/nvptx_compiler.cc:742] The NVIDIA driver's CUDA version is 11.5 which is older than the ptxas CUDA version (11.8.89). Because the driver is older than the ptxas version, XLA is disabling parallel compilation, which may slow down compilation. You should update your NVIDIA driver or use the NVIDIA-provided CUDA forward compatibility packages.\n"
     ]
    }
   ],
   "source": [
    "print(model)\n",
    "print(mcmc_config)\n",
    "# model.render()\n",
    "# model.prior_mode = 'prior' ###############\n",
    "\n",
    "\n",
    "if not os.path.exists(save_dir+\"truth.p\"):\n",
    "    # Predict and save fiducial\n",
    "    truth = {'Omega_m': 0.31, \n",
    "            'sigma8': 0.81, \n",
    "            'b1': 1.,\n",
    "            'b2':0., \n",
    "            'bs2':0., \n",
    "            'bn2': 0.}\n",
    "    \n",
    "    if model.prior_loc['b1'] == 0:\n",
    "        truth['b1'] = 0.\n",
    "\n",
    "    model.reset()\n",
    "    truth = model.predict(samples=truth, hide_base=False, hide_samp=False, frombase=True)\n",
    "    \n",
    "    print(f\"Saving model and truth at {save_dir}\")\n",
    "    model.save(save_dir+\"model.p\")    \n",
    "    pdump(truth, save_dir+\"truth.p\")\n",
    "else:\n",
    "    print(f\"Loading truth from {save_dir}\")\n",
    "    truth = pload(save_dir+\"truth.p\")\n",
    "\n",
    "model.reset()\n",
    "if model.prior_loc['b1'] == 0:\n",
    "    print('no bias')\n",
    "    model.condition({'obs': truth['obs'], 'b1': truth['b1'], 'b2': truth['b2'], 'bs2': truth['bs2'], 'bn2': truth['bn2']}, frombase=True)\n",
    "    # model.condition({'obs': truth['obs'], 'bn2': truth['bn2']}, frombase=True)\n",
    "else:\n",
    "    model.condition({'obs': truth['obs']})\n",
    "model.block()\n",
    "model.render()\n",
    "model.delta_obs = truth['obs'] - 1"
   ]
  },
  {
   "cell_type": "markdown",
   "metadata": {},
   "source": [
    "## Run"
   ]
  },
  {
   "cell_type": "markdown",
   "metadata": {},
   "source": [
    "### NUTS, HMC"
   ]
  },
  {
   "cell_type": "code",
   "execution_count": 4,
   "metadata": {},
   "outputs": [
    {
     "name": "stdout",
     "output_type": "stream",
     "text": [
      "########### detrunc\n",
      "########### detrunc\n",
      "No fiducial spectral power mesh stored. Will use linear spectral power mesh computed at location of cosmology prior.\n",
      "# Loading init_last_state\n",
      "########### detrunc\n",
      "No fiducial spectral power mesh stored. Will use linear spectral power mesh computed at location of cosmology prior.\n",
      "########### detrunc\n",
      "No fiducial spectral power mesh stored. Will use linear spectral power mesh computed at location of cosmology prior.\n",
      "dict_keys(['init_mesh_']) dict_keys(['Omega_m_', 'b1_', 'b2_', 'bn2_', 'bs2_', 'init_mesh_', 'sigma8_'])\n",
      "########### detrunc\n",
      "No fiducial spectral power mesh stored. Will use linear spectral power mesh computed at location of cosmology prior.\n",
      "########### detrunc\n",
      "No fiducial spectral power mesh stored. Will use linear spectral power mesh computed at location of cosmology prior.\n",
      "MSEs: [4.38945418 4.51155652 4.40378363 4.38508945] [4.38945418 4.51155652 4.40378363 4.38508945]\n",
      "no bias\n",
      "dict_keys(['Omega_m_', 'sigma8_', 'init_mesh_'])\n",
      "no bias\n",
      "########### detrunc\n"
     ]
    },
    {
     "data": {
      "image/png": "[encoded data removed]",
      "text/plain": [
       "<Figure size 1200x400 with 3 Axes>"
      ]
     },
     "metadata": {},
     "output_type": "display_data"
    }
   ],
   "source": [
    "continue_run = False\n",
    "if continue_run:\n",
    "    pass\n",
    "else:\n",
    "    model.reset()\n",
    "    model.condition({'obs': truth['obs']} | model.prior_loc, frombase=True)\n",
    "    model.block()\n",
    "\n",
    "    mcmc = get_init_mcmc(model.model, mcmc_config['n_chains'])    \n",
    "    init_params_ = jit(vmap(model.init_model))(jr.split(jr.key(45), mcmc.num_chains))\n",
    "    # init_params_ = model.predict(45, samples=mcmc.num_chains, hide_samp=False)\n",
    "    \n",
    "    if not os.path.exists(save_path + \"_init_last_state.p\"):\n",
    "        print(\"# Warmupping...\")\n",
    "        init_mesh_ = {k: init_params_[k] for k in ['init_mesh_']} # NOTE: !!!!!!!\n",
    "        mcmc = sample_and_save(mcmc, save_path+'_init', 0, 0, extra_fields=['num_steps'], init_params=init_mesh_)\n",
    "        ils = mcmc.last_state.z\n",
    "    else:\n",
    "        print(\"# Loading init_last_state\")\n",
    "        ils = pload(save_path + \"_init_last_state.p\").z\n",
    "    \n",
    "    # ils = {k: jnp.broadcast_to(v, (mcmc_config['n_chains'], *jnp.shape(v))) for k, v in truth.items()}\n",
    "    # ils = {k+'_': ils[k+'_'] for k in ['Omega_m','sigma8','b1','b2','bs2','bn2','init_mesh']}\n",
    "\n",
    "\n",
    "    ################\n",
    "    from montecosmo.plot import plot_pow, plot_powtranscoh, plot_coh\n",
    "    mesh0 = jnp.fft.irfftn(truth['init_mesh'])\n",
    "    kptcs__ = vmap(lambda x: model.powtranscoh(mesh0, model.reparam(x, fourier=False)['init_mesh']))(init_params_)\n",
    "    kptcs_ = vmap(lambda x: model.powtranscoh(mesh0, model.reparam(x, fourier=False)['init_mesh']))(init_params_ | ils)\n",
    "    kpk0 = model.spectrum(mesh0)\n",
    "    kptc_obs = model.powtranscoh(mesh0, truth['obs'] - 1)\n",
    "    kpkobs = model.spectrum(truth['obs']-1)\n",
    "    \n",
    "    print(ils.keys(), init_params_.keys())\n",
    "\n",
    "    mse__ = jnp.mean((vmap(lambda x: model.reparam(x, fourier=False))(init_params_)['init_mesh']  - mesh0)**2, axis=(1,2,3))\n",
    "    mse_ = jnp.mean((vmap(lambda x: model.reparam(x, fourier=False))(init_params_ | ils)['init_mesh']  - mesh0)**2, axis=(1,2,3))\n",
    "    print(\"MSEs:\", mse_, mse_)\n",
    "\n",
    "    prob = 0.95\n",
    "    plt.figure(figsize=(12, 4))\n",
    "    plot_powtranscoh(*jnp.median(jnp.stack(kptcs__), 1), label='init')\n",
    "    plot_powtranscoh(*kptcs__, fill=prob)\n",
    "    plot_powtranscoh(*jnp.median(jnp.stack(kptcs_), 1), label='warm')\n",
    "    plot_powtranscoh(*kptcs_, fill=prob)\n",
    "    plt.subplot(131)\n",
    "    plot_pow(*kpk0, 'k', label='true')\n",
    "    plot_pow(*kpkobs, ':', c='grey', label='obs')\n",
    "    plt.legend()\n",
    "    plt.subplot(133)\n",
    "    plot_coh(kptc_obs[0], kptc_obs[-1], ':', c='grey', label='obs')\n",
    "    plt.tight_layout()\n",
    "    plt.savefig(save_dir+f'init_glin_{task_id}.png')\n",
    "    # plt.savefig(f'init_glin_{task_id}.png')\n",
    "    ################    \n",
    "    \n",
    "    if model.prior_loc['b1'] == 0:\n",
    "        print('no bias')\n",
    "        init_params_ = {k:v for k,v in init_params_.items() if k in ['Omega_m_', 'sigma8_']} | ils\n",
    "        # init_params_ = {k:v for k,v in init_params_.items() if k in ['Omega_m_', 'sigma8_','b1_','b2_','bs2_']} | ils\n",
    "    else:\n",
    "        init_params_ |= ils\n",
    "        # init_params_ |= mcmc.last_state.z\n",
    "    print(init_params_.keys())\n",
    "\n",
    "model.reset()\n",
    "if model.prior_loc['b1'] == 0:\n",
    "    print('no bias')\n",
    "    model.condition({'obs': truth['obs'], 'b1': truth['b1'], 'b2': truth['b2'], 'bs2': truth['bs2'], 'bn2': truth['bn2']}, frombase=True)\n",
    "    # model.condition({'obs': truth['obs'], 'bn2': truth['bn2']}, frombase=True)\n",
    "else:\n",
    "    model.condition({'obs': truth['obs']})\n",
    "model.block()"
   ]
  },
  {
   "cell_type": "code",
   "execution_count": null,
   "metadata": {},
   "outputs": [
    {
     "name": "stdout",
     "output_type": "stream",
     "text": [
      "########### detrunc\n",
      "####### truncnorm Omega_m\n",
      "####### truncnorm sigma8\n",
      "########### detrunc\n",
      "####### truncnorm b1\n",
      "####### truncnorm b2\n",
      "####### truncnorm bs2\n",
      "####### truncnorm bn2\n",
      "No fiducial spectral power mesh stored. Will use linear spectral power mesh computed at location of cosmology prior.\n",
      "MCLMCAdaptationState(L=Array([1200, 1200, 1200, 1200], dtype=int64, weak_type=True), step_size=Array([40, 40, 40, 40], dtype=int64, weak_type=True), sqrt_diag_cov=Array([1., 1., 1., 1.], dtype=float64, weak_type=True))\n"
     ]
    },
    {
     "name": "stderr",
     "output_type": "stream",
     "text": [
      "  0%|          | 0/15 [00:00<?, ?it/s]"
     ]
    },
    {
     "name": "stdout",
     "output_type": "stream",
     "text": [
      "run 1/15\n",
      "########### detrunc\n",
      "####### truncnorm Omega_m\n",
      "####### truncnorm sigma8\n",
      "########### detrunc\n",
      "####### truncnorm b1\n",
      "####### truncnorm b2\n",
      "####### truncnorm bs2\n",
      "####### truncnorm bn2\n",
      "No fiducial spectral power mesh stored. Will use linear spectral power mesh computed at location of cosmology prior.\n",
      "########### detrunc\n",
      "####### truncnorm Omega_m\n",
      "####### truncnorm sigma8\n",
      "########### detrunc\n",
      "####### truncnorm b1\n",
      "####### truncnorm b2\n",
      "####### truncnorm bs2\n",
      "####### truncnorm bn2\n",
      "No fiducial spectral power mesh stored. Will use linear spectral power mesh computed at location of cosmology prior.\n"
     ]
    },
    {
     "name": "stderr",
     "output_type": "stream",
     "text": [
      "  7%|▋         | 1/15 [05:58<1:23:40, 358.62s/it]"
     ]
    },
    {
     "name": "stdout",
     "output_type": "stream",
     "text": [
      "MCLMCInfo(logdensity=Array([1.65724242e+10, 1.65703721e+10, 1.65714480e+10, 1.65742127e+10],      dtype=float64), kinetic_change=Array([1693.62698178, 1295.94334851, 1637.02028448, 1448.65059258],      dtype=float64), energy_change=Array([1.02366543, 0.97220187, 1.4677173 , 1.01416318], dtype=float64)) \n",
      "mean square energy fluctation per dim: [3.12397896e-05 2.96692465e-05 4.47911774e-05 3.09498040e-05] \n",
      "\n",
      "run 2/15\n"
     ]
    },
    {
     "name": "stderr",
     "output_type": "stream",
     "text": [
      " 13%|█▎        | 2/15 [10:28<1:06:26, 306.64s/it]"
     ]
    },
    {
     "name": "stdout",
     "output_type": "stream",
     "text": [
      "MCLMCInfo(logdensity=Array([1.65717028e+10, 1.65736518e+10, 1.65706486e+10, 1.65745032e+10],      dtype=float64), kinetic_change=Array([1913.0029027 , 1361.17659411, 1882.39568041, 1423.65854722],      dtype=float64), energy_change=Array([2.49579869, 1.17096331, 1.03780539, 3.51483617], dtype=float64)) \n",
      "mean square energy fluctation per dim: [7.61657314e-05 3.57349642e-05 3.16713069e-05 1.07264287e-04] \n",
      "\n",
      "run 3/15\n"
     ]
    },
    {
     "name": "stderr",
     "output_type": "stream",
     "text": [
      " 20%|██        | 3/15 [14:54<57:34, 287.90s/it]  "
     ]
    },
    {
     "name": "stdout",
     "output_type": "stream",
     "text": [
      "MCLMCInfo(logdensity=Array([1.65725670e+10, 1.65710821e+10, 1.65742817e+10, 1.65704256e+10],      dtype=float64), kinetic_change=Array([1380.39823825, 1398.12042958, 1525.7607695 , 1499.54372856],      dtype=float64), energy_change=Array([1.10518544, 1.28586311, 1.00639872, 3.26010195], dtype=float64)) \n",
      "mean square energy fluctation per dim: [3.37275829e-05 3.92414279e-05 3.07128517e-05 9.94904160e-05] \n",
      "\n",
      "run 4/15\n"
     ]
    },
    {
     "name": "stderr",
     "output_type": "stream",
     "text": [
      " 27%|██▋       | 4/15 [19:20<51:10, 279.09s/it]"
     ]
    },
    {
     "name": "stdout",
     "output_type": "stream",
     "text": [
      "MCLMCInfo(logdensity=Array([1.65737412e+10, 1.65717406e+10, 1.65740286e+10, 1.65713496e+10],      dtype=float64), kinetic_change=Array([1285.6308472 , 1487.29745597, 1638.34659629, 1436.74041761],      dtype=float64), energy_change=Array([0.98259403, 1.45473323, 0.89387778, 1.0693964 ], dtype=float64)) \n",
      "mean square energy fluctation per dim: [2.99863901e-05 4.43949351e-05 2.72789848e-05 3.26353881e-05] \n",
      "\n",
      "run 5/15\n"
     ]
    },
    {
     "name": "stderr",
     "output_type": "stream",
     "text": [
      " 33%|███▎      | 5/15 [23:45<45:42, 274.24s/it]"
     ]
    },
    {
     "name": "stdout",
     "output_type": "stream",
     "text": [
      "MCLMCInfo(logdensity=Array([1.65749943e+10, 1.65763824e+10, 1.65694634e+10, 1.65734509e+10],      dtype=float64), kinetic_change=Array([1314.69210556, 1426.40101026, 1512.05797368, 1607.81670914],      dtype=float64), energy_change=Array([2.41599142, 1.52826868, 1.06961695, 0.87264328], dtype=float64)) \n",
      "mean square energy fluctation per dim: [7.37302069e-05 4.66390588e-05 3.26421189e-05 2.66309594e-05] \n",
      "\n",
      "run 6/15\n"
     ]
    },
    {
     "name": "stderr",
     "output_type": "stream",
     "text": [
      " 40%|████      | 6/15 [28:11<40:41, 271.31s/it]"
     ]
    },
    {
     "name": "stdout",
     "output_type": "stream",
     "text": [
      "MCLMCInfo(logdensity=Array([1.65714335e+10, 1.65744593e+10, 1.65734774e+10, 1.65722218e+10],      dtype=float64), kinetic_change=Array([1454.86194888, 1397.28730046, 1444.73641655, 1292.84619008],      dtype=float64), energy_change=Array([60.41667724,  2.34455869,  1.75070507,  1.28631121], dtype=float64)) \n",
      "mean square energy fluctation per dim: [1.84377067e-03 7.15502531e-05 5.34272788e-05 3.92551029e-05] \n",
      "\n",
      "run 7/15\n"
     ]
    },
    {
     "name": "stderr",
     "output_type": "stream",
     "text": [
      " 47%|████▋     | 7/15 [32:36<35:55, 269.45s/it]"
     ]
    },
    {
     "name": "stdout",
     "output_type": "stream",
     "text": [
      "MCLMCInfo(logdensity=Array([1.65725274e+10, 1.65724337e+10, 1.65704248e+10, 1.65725111e+10],      dtype=float64), kinetic_change=Array([1550.68149042, 1801.62193964, 1559.5892428 , 1562.41232716],      dtype=float64), energy_change=Array([ 2.12963904, 84.81268407,  0.95297383,  2.71494123], dtype=float64)) \n",
      "mean square energy fluctation per dim: [6.49914259e-05 2.58827771e-03 2.90824534e-05 8.28534311e-05] \n",
      "\n",
      "run 8/15\n"
     ]
    },
    {
     "name": "stderr",
     "output_type": "stream",
     "text": [
      " 53%|█████▎    | 8/15 [37:02<31:17, 268.22s/it]"
     ]
    },
    {
     "name": "stdout",
     "output_type": "stream",
     "text": [
      "MCLMCInfo(logdensity=Array([1.65739666e+10, 1.65707837e+10, 1.65704169e+10, 1.65719861e+10],      dtype=float64), kinetic_change=Array([1473.93898479, 1423.06413645, 1606.39593752, 1705.84292187],      dtype=float64), energy_change=Array([1.01237815, 1.25458151, 0.99443289, 0.94372094], dtype=float64)) \n",
      "mean square energy fluctation per dim: [3.08953293e-05 3.82867892e-05 3.03476835e-05 2.88000774e-05] \n",
      "\n",
      "run 9/15\n"
     ]
    },
    {
     "name": "stderr",
     "output_type": "stream",
     "text": [
      " 60%|██████    | 9/15 [41:28<26:44, 267.40s/it]"
     ]
    },
    {
     "name": "stdout",
     "output_type": "stream",
     "text": [
      "MCLMCInfo(logdensity=Array([1.65719037e+10, 1.65705717e+10, 1.65706617e+10, 1.65744992e+10],      dtype=float64), kinetic_change=Array([1442.37809336, 1632.69375745, 1602.14512334, 1587.95832578],      dtype=float64), energy_change=Array([0.8859858 , 4.37148395, 1.78256393, 1.30783544], dtype=float64)) \n",
      "mean square energy fluctation per dim: [2.70381410e-05 1.33407103e-04 5.43995340e-05 3.99119703e-05] \n",
      "\n",
      "run 10/15\n"
     ]
    },
    {
     "name": "stderr",
     "output_type": "stream",
     "text": [
      " 67%|██████▋   | 10/15 [45:53<22:14, 266.84s/it]"
     ]
    },
    {
     "name": "stdout",
     "output_type": "stream",
     "text": [
      "MCLMCInfo(logdensity=Array([1.65694950e+10, 1.65721544e+10, 1.65740142e+10, 1.65689374e+10],      dtype=float64), kinetic_change=Array([1483.40705715, 1451.58335277, 1451.39861986, 1447.12072789],      dtype=float64), energy_change=Array([0.88374843, 0.99942284, 3.5178376 , 1.02339069], dtype=float64)) \n",
      "mean square energy fluctation per dim: [2.69698617e-05 3.04999646e-05 1.07355884e-04 3.12314053e-05] \n",
      "\n",
      "run 11/15\n"
     ]
    },
    {
     "name": "stderr",
     "output_type": "stream",
     "text": [
      " 73%|███████▎  | 11/15 [50:19<17:45, 266.47s/it]"
     ]
    },
    {
     "name": "stdout",
     "output_type": "stream",
     "text": [
      "MCLMCInfo(logdensity=Array([1.65727489e+10, 1.65699343e+10, 1.65749278e+10, 1.65709998e+10],      dtype=float64), kinetic_change=Array([1164.29993704, 1694.91315988, 1868.35758278, 1528.13415315],      dtype=float64), energy_change=Array([1.05509715, 2.1360065 , 0.92420414, 1.13347731], dtype=float64)) \n",
      "mean square energy fluctation per dim: [3.21990097e-05 6.51857451e-05 2.82044721e-05 3.45909824e-05] \n",
      "\n",
      "run 12/15\n"
     ]
    },
    {
     "name": "stderr",
     "output_type": "stream",
     "text": [
      " 80%|████████  | 12/15 [54:44<13:18, 266.20s/it]"
     ]
    },
    {
     "name": "stdout",
     "output_type": "stream",
     "text": [
      "MCLMCInfo(logdensity=Array([1.65738832e+10, 1.65702604e+10, 1.65718148e+10, 1.65703163e+10],      dtype=float64), kinetic_change=Array([1790.67021385, 1507.18610027, 1625.96105433, 1175.11098704],      dtype=float64), energy_change=Array([0.9096887 , 3.78640167, 1.01574207, 1.18832529], dtype=float64)) \n",
      "mean square energy fluctation per dim: [2.77614960e-05 1.15551809e-04 3.09979880e-05 3.62648098e-05] \n",
      "\n",
      "run 13/15\n"
     ]
    },
    {
     "name": "stderr",
     "output_type": "stream",
     "text": [
      " 87%|████████▋ | 13/15 [59:10<08:52, 266.03s/it]"
     ]
    },
    {
     "name": "stdout",
     "output_type": "stream",
     "text": [
      "MCLMCInfo(logdensity=Array([1.65716281e+10, 1.65712740e+10, 1.65735035e+10, 1.65721062e+10],      dtype=float64), kinetic_change=Array([1547.00696663, 1388.31134872, 1542.76626518, 1632.8304409 ],      dtype=float64), energy_change=Array([26.40013085,  1.57553849,  1.07238839,  1.44387943], dtype=float64)) \n",
      "mean square energy fluctation per dim: [8.05668056e-04 4.80816190e-05 3.27266963e-05 4.40637032e-05] \n",
      "\n",
      "run 14/15\n"
     ]
    },
    {
     "name": "stderr",
     "output_type": "stream",
     "text": [
      " 93%|█████████▎| 14/15 [1:03:36<04:25, 265.90s/it]"
     ]
    },
    {
     "name": "stdout",
     "output_type": "stream",
     "text": [
      "MCLMCInfo(logdensity=Array([1.65708419e+10, 1.65714392e+10, 1.65705316e+10, 1.65683721e+10],      dtype=float64), kinetic_change=Array([1671.9523473 , 1519.81798933, 1442.36618439, 1647.93278817],      dtype=float64), energy_change=Array([1.1113957 , 1.08082321, 4.26647944, 0.94823314], dtype=float64)) \n",
      "mean square energy fluctation per dim: [3.39171051e-05 3.29841067e-05 1.30202620e-04 2.89377790e-05] \n",
      "\n",
      "run 15/15\n"
     ]
    },
    {
     "ename": "",
     "evalue": "",
     "output_type": "error",
     "traceback": [
      "\u001b[1;31mFailed to restart the Kernel. \n",
      "\u001b[1;31mrequest to http://localhost:8314/api/kernels/5551d87f-64a7-4c58-8b6c-a809833e4608/restart?1739205294762 failed, reason:. \n",
      "\u001b[1;31mView Jupyter <a href='command:jupyter.viewOutput'>log</a> for further details."
     ]
    }
   ],
   "source": [
    "from tqdm import tqdm\n",
    "if mcmc_config['sampler'] in ['NUTS', 'HMC']:\n",
    "    mcmc = get_mcmc(model.model, mcmc_config)\n",
    "    if continue_run:\n",
    "        print(f\"{jnp.result_type(True)=}\") # HACK: why is it working?!!\n",
    "        mcmc.num_warmup = 0\n",
    "        mcmc.post_warmup_state = pload(save_path + \"_last_state.p\")\n",
    "        start = 3 ###############\n",
    "        end = start + mcmc_config['n_runs'] - 1\n",
    "        mcmc_runned = sample_and_save(mcmc, save_path, start, end, rng=44, extra_fields=['num_steps'])\n",
    "\n",
    "    else:\n",
    "        mcmc_runned = sample_and_save(mcmc, save_path, 0, mcmc_config['n_runs'], extra_fields=['num_steps'], init_params=init_params_)\n",
    "\n",
    "elif mcmc_config['sampler'] == 'NUTSWG':\n",
    "    from montecosmo.samplers import nutswg_init, get_nutswg_warm, get_nutswg_run\n",
    "    n_samples, n_runs, n_chains = mcmc_config['n_samples'], mcmc_config['n_runs'], mcmc_config['n_chains']\n",
    "\n",
    "    step_fn, init_fn, conf, init_state_fn = nutswg_init(model.logpdf)\n",
    "\n",
    "    # warmup_fn = jit(vmap(get_nutswg_warm(model.logpdf, conf, mcmc_config['n_samples'], progress_bar=False)))\n",
    "    # state = jit(vmap(init_state_fn))(init_params_)\n",
    "\n",
    "    # samples, infos, state, conf = warmup_fn(jr.split(jr.key(43), n_chains), state)\n",
    "    # print(\"conf:\", conf,\n",
    "    #         \"\\n\\ninfos:\", infos, '\\n#################\\n')\n",
    "    # jnp.savez(save_path+f\"_{0}.npz\", **samples | {k:infos[k] for k in ['n_evals']})\n",
    "    # pdump(state, save_path+f\"_last_state.p\")\n",
    "    # pdump(conf, save_path+'_conf.p'), pdump(tree.map(jnp.mean, infos), save_path+'_infos.p')\n",
    "\n",
    "    conf = pload(save_path+'_conf.p')\n",
    "    state = pload(save_path+'_last_state.p')\n",
    "    \n",
    "    run_fn = jit(vmap(get_nutswg_run(model.logpdf, step_fn, init_fn, n_samples, progress_bar=False)))\n",
    "    start = 1 ######\n",
    "    end = start + n_runs - 1\n",
    "    key = jr.key(42)\n",
    "    for i_run in tqdm(range(start, end+1)):\n",
    "        print(f\"run {i_run}/{end}\")\n",
    "        key, run_key = jr.split(key, 2)\n",
    "        samples, infos, state = run_fn(jr.split(run_key, n_chains), state, conf)\n",
    "        print(\"infos:\", tree.map(lambda x: jnp.mean(x, 1), infos))\n",
    "        jnp.savez(save_path+f\"_{i_run}.npz\", **samples | {k:infos[k] for k in ['n_evals']})\n",
    "        pdump(state, save_path+f\"_last_state.p\")\n",
    "\n",
    "elif mcmc_config['sampler'] == 'MCLMC':\n",
    "    from montecosmo.samplers import get_mclmc_warmup, get_mclmc_run\n",
    "\n",
    "    config = None\n",
    "    # config = {'L':256., 'step_size': 2.,} # 256, 2 for 32^3\n",
    "    # config = {'L':193, 'step_size': 45,} # 64^3\n",
    "    # config = {'L':550, 'step_size': 30,} # 64^3 norsdb fOc a=.5\n",
    "    # config = {'L':500, 'step_size': 10,} # 64^3 norsdb\n",
    "    # config = {'L':450, 'step_size': 3,} # 64^3 a=.5\n",
    "    # config = {'L':350, 'step_size': 3,} # 64^3 a=.5\n",
    "    config = {'L':1200, 'step_size': 40,} # 64, 128^3 a=.5\n",
    "\n",
    "    warmup_fn = jit(vmap(get_mclmc_warmup(model.logpdf, n_samples=4096, config=config)))\n",
    "    state, config = warmup_fn(jr.split(jr.key(43), mcmc_config['n_chains']), init_params_)\n",
    "    print(config)\n",
    "    pdump(state, save_path+f\"_last_state.p\")\n",
    "    pdump(config, save_path+f\"_conf.p\")\n",
    "\n",
    "    # state = pload(save_path+f\"_last_state.p\")\n",
    "    # config = pload(save_path+f\"_conf.p\")\n",
    "    n_samples, n_runs, n_chains = mcmc_config['n_samples'], mcmc_config['n_runs'], mcmc_config['n_chains']\n",
    "\n",
    "    thinning = 64\n",
    "    run_fn = jit(vmap(get_mclmc_run(model.logpdf, n_samples, thinning=thinning, progress_bar=False)))\n",
    "\n",
    "    start = 1 ######\n",
    "    end = start + n_runs - 1\n",
    "    key = jr.key(42)\n",
    "    for i_run in tqdm(range(start, n_runs + start)):\n",
    "        print(f\"run {i_run}/{n_runs}\")\n",
    "        key, run_key = jr.split(key, 2)\n",
    "        state, samples, info = run_fn(jr.split(run_key, n_chains), state, config)\n",
    "        \n",
    "        info = tree.map(lambda x: jnp.mean(x**2, 1), info)\n",
    "        print(info, \"\\nmean square energy fluctation per dim:\", info.energy_change / model.mesh_shape.astype(float).prod(), '\\n')\n",
    "\n",
    "        jnp.savez(save_path+f\"_{i_run}.npz\", **samples)\n",
    "        pdump(state, save_path+f\"_last_state.p\")"
   ]
  },
  {
   "cell_type": "code",
   "execution_count": 5,
   "metadata": {},
   "outputs": [
    {
     "data": {
      "text/plain": [
       "1600.0"
      ]
     },
     "execution_count": 5,
     "metadata": {},
     "output_type": "execute_result"
    }
   ],
   "source": [
    "1/5 * 2e2 * 40"
   ]
  }
 ],
 "metadata": {
  "kernelspec": {
   "display_name": "Python 3 (ipykernel)",
   "language": "python",
   "name": "python3"
  }
 },
 "nbformat": 4,
 "nbformat_minor": 2
}
