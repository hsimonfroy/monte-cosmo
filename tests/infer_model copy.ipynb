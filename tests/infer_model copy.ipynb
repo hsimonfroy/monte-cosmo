{
 "cells": [
  {
   "cell_type": "markdown",
   "metadata": {},
   "source": [
    "# Model Inference\n",
    "Infer from a cosmological model via MCMC samplers. "
   ]
  },
  {
   "cell_type": "code",
   "execution_count": 1,
   "metadata": {},
   "outputs": [],
   "source": [
    "import os; os.environ['XLA_PYTHON_CLIENT_MEM_FRACTION']='1.' # NOTE: jax preallocates GPU (default 75%)\n",
    "import matplotlib.pyplot as plt\n",
    "import numpy as np\n",
    "from jax import numpy as jnp, random as jr, config as jconfig, jit, vmap, grad, debug, tree\n",
    "# jconfig.update(\"jax_enable_x64\", True)\n",
    "\n",
    "from functools import partial\n",
    "from getdist import plots\n",
    "from numpyro import infer\n",
    "\n",
    "from montecosmo.model import FieldLevelModel, default_config\n",
    "from montecosmo.utils import pdump, pload\n",
    "from montecosmo.mcbench import sample_and_save\n",
    "from montecosmo.script import from_id, get_mcmc, get_init_mcmc\n",
    "\n",
    "# import mlflow\n",
    "# mlflow.set_tracking_uri(uri=\"http://127.0.0.1:8081\")\n",
    "# mlflow.set_experiment(\"infer\")\n",
    "# !jupyter nbconvert --to script ./src/montecosmo/tests/infer_model.ipynb\n",
    "\n",
    "%matplotlib inline\n",
    "%load_ext autoreload\n",
    "%autoreload 2"
   ]
  },
  {
   "cell_type": "code",
   "execution_count": 2,
   "metadata": {},
   "outputs": [],
   "source": [
    "@jit\n",
    "def truc(x):\n",
    "    assert jnp.result_type(x) is jnp.dtype(bool)\n",
    "    return x"
   ]
  },
  {
   "cell_type": "code",
   "execution_count": 3,
   "metadata": {},
   "outputs": [
    {
     "name": "stderr",
     "output_type": "stream",
     "text": [
      "2025-02-02 19:02:15.424100: W external/xla/xla/service/gpu/nvptx_compiler.cc:742] The NVIDIA driver's CUDA version is 11.5 which is older than the ptxas CUDA version (11.8.89). Because the driver is older than the ptxas version, XLA is disabling parallel compilation, which may slow down compilation. You should update your NVIDIA driver or use the NVIDIA-provided CUDA forward compatibility packages.\n"
     ]
    },
    {
     "data": {
      "text/plain": [
       "Array(True, dtype=bool)"
      ]
     },
     "execution_count": 3,
     "metadata": {},
     "output_type": "execute_result"
    }
   ],
   "source": [
    "truc(True)"
   ]
  },
  {
   "cell_type": "markdown",
   "metadata": {},
   "source": [
    "## Config and fiduc"
   ]
  },
  {
   "cell_type": "code",
   "execution_count": 4,
   "metadata": {},
   "outputs": [
    {
     "name": "stdout",
     "output_type": "stream",
     "text": [
      "SLURM_ARRAY_TASK_ID: 2030\n",
      "save path: /feynman/home/dphp/hs276503/scratch/pickles/m32_b160.0_al0.5_ao0.5_lo0_pc3_obfield/sNUTS_nc4_ns2_mt10_ta0.65\n"
     ]
    }
   ],
   "source": [
    "################## TO SET #######################\n",
    "# task_id = int(os.environ['SLURM_ARRAY_TASK_ID'])\n",
    "task_id = 2030\n",
    "print(\"SLURM_ARRAY_TASK_ID:\", task_id)\n",
    "model, mcmc_config, save_dir, save_path = from_id(task_id)\n",
    "os.makedirs(save_dir, exist_ok=True)\n",
    "print(\"save path:\", save_path)\n",
    "\n",
    "# import sys\n",
    "# tempstdout, tempstderr = sys.stdout, sys.stderr\n",
    "# sys.stdout = sys.stderr = open(save_path+'.out', 'a')\n",
    "# job_id = int(os.environ['SLURM_ARRAY_JOB_ID'])\n",
    "# print(\"SLURM_ARRAY_JOB_ID:\", job_id)\n",
    "# print(\"SLURM_ARRAY_TASK_ID:\", task_id)\n",
    "# print(\"jax_enable_x64:\", jconfig.read(\"jax_enable_x64\"))"
   ]
  },
  {
   "cell_type": "code",
   "execution_count": 5,
   "metadata": {},
   "outputs": [
    {
     "name": "stdout",
     "output_type": "stream",
     "text": [
      "# CONFIG\n",
      "{'a_lpt': 0.5,\n",
      " 'a_obs': 0.5,\n",
      " 'box_shape': array([160., 160., 160.]),\n",
      " 'gxy_density': 0.001,\n",
      " 'latents': {'Omega_m': {'group': 'cosmo',\n",
      "                         'high': 1.0,\n",
      "                         'label': '{\\\\Omega}_m',\n",
      "                         'loc': 0.3111,\n",
      "                         'low': 0.05,\n",
      "                         'scale': 0.2},\n",
      "             'b1': {'group': 'bias',\n",
      "                    'label': '{b}_1',\n",
      "                    'loc': 1.0,\n",
      "                    'scale': 0.5},\n",
      "             'b2': {'group': 'bias',\n",
      "                    'label': '{b}_2',\n",
      "                    'loc': 0.0,\n",
      "                    'scale': 2.0},\n",
      "             'bn2': {'group': 'bias',\n",
      "                     'label': '{b}_{\\\\nabla^2}',\n",
      "                     'loc': 0.0,\n",
      "                     'scale': 2.0},\n",
      "             'bs2': {'group': 'bias',\n",
      "                     'label': '{b}_{s^2}',\n",
      "                     'loc': 0.0,\n",
      "                     'scale': 2.0},\n",
      "             'init_mesh': {'group': 'init',\n",
      "                           'label': '{\\\\delta}_L'},\n",
      "             'sigma8': {'group': 'cosmo',\n",
      "                        'label': '{\\\\sigma}_8',\n",
      "                        'loc': 0.8102,\n",
      "                        'low': 0.0,\n",
      "                        'scale': 0.2}},\n",
      " 'los': array([0., 0., 1.]),\n",
      " 'lpt_order': 0,\n",
      " 'mesh_shape': array([32, 32, 32]),\n",
      " 'nbody_steps': 5,\n",
      " 'obs': 'field',\n",
      " 'precond': 3,\n",
      " 'snapshots': None}\n",
      "\n",
      "# INFOS\n",
      "cell_shape:     [5.0, 5.0, 5.0] Mpc/h\n",
      "k_funda:        0.03927 h/Mpc\n",
      "k_nyquist:      0.62832 h/Mpc\n",
      "mean_gxy_count: 0.125 gxy/cell\n",
      "\n",
      "{'sampler': 'NUTS', 'target_accept_prob': 0.65, 'n_samples': 2, 'max_tree_depth': 10, 'n_runs': 10, 'n_chains': 4}\n",
      "Loading truth from /feynman/home/dphp/hs276503/scratch/pickles/m32_b160.0_al0.5_ao0.5_lo0_pc3_obfield/\n"
     ]
    }
   ],
   "source": [
    "print(model)\n",
    "print(mcmc_config)\n",
    "# model.render()\n",
    "\n",
    "if not os.path.exists(save_dir+\"truth.p\"):\n",
    "    # Predict and save fiducial\n",
    "    truth = {'Omega_m': 0.31, \n",
    "            'sigma8': 0.81, \n",
    "            'b1': 1.,\n",
    "            'b2':0., \n",
    "            'bs2':0., \n",
    "            'bn2': 0.}\n",
    "\n",
    "    model.reset()\n",
    "    truth = model.predict(samples=truth, hide_base=False, hide_samp=False, frombase=True)\n",
    "    \n",
    "    print(f\"Saving model and truth at {save_dir}\")\n",
    "    model.save(save_dir)    \n",
    "    pdump(truth, save_dir+\"truth.p\")\n",
    "else:\n",
    "    print(f\"Loading truth from {save_dir}\")\n",
    "    truth = pload(save_dir+\"truth.p\")\n",
    "\n",
    "model.condition({'obs': truth['obs']})\n",
    "model.delta_obs = truth['obs'] - 1\n",
    "model.block()\n",
    "# model.condition({'obs': truth['obs'], 'b1': truth['b1'], 'b2': truth['b2'], 'bs2': truth['bs2'], 'bn2': truth['bn2']}, frombase=True)\n",
    "# model.render()"
   ]
  },
  {
   "cell_type": "markdown",
   "metadata": {},
   "source": [
    "## Run"
   ]
  },
  {
   "cell_type": "markdown",
   "metadata": {},
   "source": [
    "### NUTS, HMC"
   ]
  },
  {
   "cell_type": "code",
   "execution_count": 5,
   "metadata": {},
   "outputs": [
    {
     "name": "stdout",
     "output_type": "stream",
     "text": [
      "# Warmupping...\n"
     ]
    }
   ],
   "source": [
    "continue_run = False\n",
    "if continue_run:\n",
    "    model.reset()\n",
    "    model.condition({'obs': truth['obs']})\n",
    "    model.block()\n",
    "else:\n",
    "    model.reset()\n",
    "    model.condition({'obs': truth['obs']} | model.prior_loc, frombase=True)\n",
    "    model.block()\n",
    "\n",
    "    # mcmc = get_init_mcmc(model.model, mcmc_config['n_chains'])    \n",
    "    print(\"# Warmupping...\")\n",
    "    # init_params_ = jit(vmap(model.init_model))(jr.split(jr.key(45), mcmc.num_chains))\n",
    "    # init_params_ = model.predict(45, samples=mcmc.num_chains, hide_samp=False)\n",
    "    \n",
    "    # if not os.path.exists(save_path + \"_init_last_state.p\"):\n",
    "    #     init_mesh_ = {k: init_params_[k] for k in ['init_mesh_']} # NOTE: !!!!!!!\n",
    "    #     mcmc = sample_and_save(mcmc, save_path+'_init', 0, 0, extra_fields=['num_steps'], init_params=init_mesh_)\n",
    "    #     ils = mcmc.last_state.z\n",
    "    # else:\n",
    "    #     ils = pload(save_path + \"_init_last_state.p\").z\n",
    "    \n",
    "    # ils = {k: jnp.broadcast_to(v, (mcmc_config['n_chains'], *jnp.shape(v))) for k, v in truth.items()}\n",
    "    # ils = {k+'_': ils[k+'_'] for k in ['Omega_m','sigma8','b1','b2','bs2','bn2','init_mesh']}\n",
    "\n",
    "\n",
    "    # ################\n",
    "    # from montecosmo.plot import plot_pow, plot_powtranscoh, plot_coh\n",
    "    # mesh0 = jnp.fft.irfftn(truth['init_mesh'])\n",
    "    # kptcs__ = vmap(lambda x: model.powtranscoh(mesh0, model.reparam(x, fourier=False)['init_mesh']))(init_params_)\n",
    "    # kptcs_ = vmap(lambda x: model.powtranscoh(mesh0, model.reparam(x, fourier=False)['init_mesh']))(init_params_ | ils)\n",
    "    # kpk0 = model.spectrum(mesh0)\n",
    "    # kptc_obs = model.powtranscoh(mesh0, truth['obs'] - 1)\n",
    "    # kpkobs = model.spectrum(truth['obs']-1)\n",
    "    \n",
    "    # print(ils.keys(), init_params_.keys())\n",
    "\n",
    "    # mse__ = jnp.mean((vmap(lambda x: model.reparam(x, fourier=False))(init_params_)['init_mesh']  - mesh0)**2, axis=(1,2,3))\n",
    "    # mse_ = jnp.mean((vmap(lambda x: model.reparam(x, fourier=False))(init_params_ | ils)['init_mesh']  - mesh0)**2, axis=(1,2,3))\n",
    "    # print(\"MSEs:\", mse_, mse_)\n",
    "\n",
    "    # prob = 0.95\n",
    "    # plt.figure(figsize=(12, 4))\n",
    "    # plot_powtranscoh(*jnp.median(jnp.stack(kptcs__), 1), label='init')\n",
    "    # plot_powtranscoh(*kptcs__, fill=prob)\n",
    "    # plot_powtranscoh(*jnp.median(jnp.stack(kptcs_), 1), label='warm')\n",
    "    # plot_powtranscoh(*kptcs_, fill=prob)\n",
    "    # plt.subplot(131)\n",
    "    # plot_pow(*kpk0, 'k', label='true')\n",
    "    # plot_pow(*kpkobs, ':', c='grey', label='obs')\n",
    "    # plt.legend()\n",
    "    # plt.subplot(133)\n",
    "    # plot_coh(kptc_obs[0], kptc_obs[-1], ':', c='grey', label='obs')\n",
    "    # plt.tight_layout()\n",
    "    # # plt.savefig(save_dir+f'initpk_{task_id}.png')\n",
    "    # plt.savefig(f'init_glin_{task_id}.png')\n",
    "\n",
    "    # last_state = pload(save_path + \"_init_last_state.p\")\n",
    "    # print(\"mean_acc_prob:\", last_state.mean_accept_prob, \n",
    "    #     \"\\nss:\", last_state.adapt_state.step_size, \n",
    "    #     \"\\nmm_sqrt:\", last_state.adapt_state.mass_matrix_sqrt)\n",
    "    # ################    \n",
    "    \n",
    "    # init_params_ |= ils\n",
    "    # init_params_ |= mcmc.last_state.z\n",
    "    # print(init_params_.keys())\n",
    "    model.reset()\n",
    "    model.condition({'obs': truth['obs']})\n",
    "    # init_params_ = {k:v for k,v in init_params_.items() if k in ['Omega_m_', 'sigma8_']} | ils\n",
    "    # model.condition({'obs': truth['obs'], 'b1': truth['b1'], 'b2': truth['b2'], 'bs2': truth['bs2'], 'bn2': truth['bn2']}, frombase=True)\n",
    "    model.block()"
   ]
  },
  {
   "cell_type": "code",
   "execution_count": null,
   "metadata": {},
   "outputs": [
    {
     "name": "stdout",
     "output_type": "stream",
     "text": [
      "\n",
      "run 1/10\n"
     ]
    },
    {
     "name": "stderr",
     "output_type": "stream",
     "text": [
      "/feynman/work/dphp/hs276503/envs/montenvtest3/lib/python3.12/site-packages/jax/_src/numpy/array_methods.py:66: UserWarning: Explicitly requested dtype <class 'jax.numpy.int64'> requested in astype is not available, and will be truncated to dtype int32. To enable more dtypes, set the jax_enable_x64 configuration option or the JAX_ENABLE_X64 shell environment variable. See https://github.com/google/jax#current-gotchas for more.\n",
      "  return lax_numpy.astype(arr, dtype)\n",
      "/feynman/work/dphp/hs276503/envs/montenvtest3/lib/python3.12/site-packages/jax/_src/numpy/array_methods.py:66: UserWarning: Explicitly requested dtype <class 'jax.numpy.int64'> requested in astype is not available, and will be truncated to dtype int32. To enable more dtypes, set the jax_enable_x64 configuration option or the JAX_ENABLE_X64 shell environment variable. See https://github.com/google/jax#current-gotchas for more.\n",
      "  return lax_numpy.astype(arr, dtype)\n"
     ]
    },
    {
     "name": "stdout",
     "output_type": "stream",
     "text": [
      "True <class 'bool'>\n",
      "jnp.result_type(keep_step)=dtype('bool')\n",
      "stepsize_controller=ConstantStepSize()\n",
      "Traced<ShapedArray(float32[])>with<DynamicJaxprTrace(level=2/0)> Traced<ShapedArray(float32[])>with<DynamicJaxprTrace(level=2/0)> False Traced<ShapedArray(float32[])>with<DynamicJaxprTrace(level=2/0)> diffrax._solution.RESULTS<>\n",
      "Final True\n",
      "True <class 'bool'>\n",
      "jnp.result_type(keep_step)=dtype('bool')\n",
      "stepsize_controller=ConstantStepSize()\n",
      "Traced<ShapedArray(float32[])>with<DynamicJaxprTrace(level=2/0)> Traced<ShapedArray(float32[])>with<DynamicJaxprTrace(level=2/0)> False Traced<ShapedArray(float32[])>with<DynamicJaxprTrace(level=2/0)> diffrax._solution.RESULTS<>\n",
      "Final True\n",
      "True\n",
      "(array(0.13161081, dtype=float32), array(0.26322162, dtype=float32), array(False), array(0.13161081, dtype=float32), diffrax._solution.RESULTS<>)\n",
      "True\n",
      "(array(0.26322162, dtype=float32), array(0.39483243, dtype=float32), array(False), array(0.13161081, dtype=float32), diffrax._solution.RESULTS<>)\n",
      "True\n",
      "(array(0.39483243, dtype=float32), array(0.52644324, dtype=float32), array(False), array(0.13161081, dtype=float32), diffrax._solution.RESULTS<>)\n",
      "True\n",
      "(array(0.52644324, dtype=float32), array(0.65805405, dtype=float32), array(False), array(0.13161081, dtype=float32), diffrax._solution.RESULTS<>)\n",
      "True\n",
      "(array(0.65805405, dtype=float32), array(0.78966486, dtype=float32), array(False), array(0.13161081, dtype=float32), diffrax._solution.RESULTS<>)\n"
     ]
    },
    {
     "name": "stderr",
     "output_type": "stream",
     "text": [
      "/feynman/work/dphp/hs276503/envs/montenvtest3/lib/python3.12/site-packages/jax/_src/numpy/array_methods.py:66: UserWarning: Explicitly requested dtype <class 'jax.numpy.int64'> requested in astype is not available, and will be truncated to dtype int32. To enable more dtypes, set the jax_enable_x64 configuration option or the JAX_ENABLE_X64 shell environment variable. See https://github.com/google/jax#current-gotchas for more.\n",
      "  return lax_numpy.astype(arr, dtype)\n"
     ]
    },
    {
     "name": "stderr",
     "output_type": "stream",
     "text": [
      "Exception ignored in: <bound method IPythonKernel._clean_thread_parent_frames of <ipykernel.ipkernel.IPythonKernel object at 0x7ffff4275ac0>>\n",
      "Traceback (most recent call last):\n",
      "  File \"/feynman/work/dphp/hs276503/envs/montenvtest3/lib/python3.12/site-packages/ipykernel/ipkernel.py\", line 770, in _clean_thread_parent_frames\n",
      "    def _clean_thread_parent_frames(\n",
      "\n",
      "KeyboardInterrupt: \n"
     ]
    },
    {
     "name": "stdout",
     "output_type": "stream",
     "text": [
      "True <class 'bool'>\n",
      "jnp.result_type(keep_step)=dtype('bool')\n",
      "stepsize_controller=ConstantStepSize()\n",
      "Traced<ShapedArray(float32[])>with<DynamicJaxprTrace(level=6/0)> Traced<ShapedArray(float32[])>with<DynamicJaxprTrace(level=6/0)> False Traced<ShapedArray(float32[])>with<DynamicJaxprTrace(level=6/0)> diffrax._solution.RESULTS<>\n",
      "Final True\n",
      "True <class 'bool'>\n",
      "jnp.result_type(keep_step)=dtype('bool')\n",
      "stepsize_controller=ConstantStepSize()\n",
      "Traced<ShapedArray(float32[])>with<DynamicJaxprTrace(level=6/0)> Traced<ShapedArray(float32[])>with<DynamicJaxprTrace(level=6/0)> False Traced<ShapedArray(float32[])>with<DynamicJaxprTrace(level=6/0)> diffrax._solution.RESULTS<>\n",
      "Final True\n"
     ]
    }
   ],
   "source": [
    "if mcmc_config['sampler'] != 'NUTSwG':\n",
    "    # model.reset()\n",
    "    # model.condition({'obs': truth['obs']} | model.prior_loc, frombase=True)\n",
    "    # model.block()\n",
    "    # print(model.reparam(model.prior_loc))\n",
    "    model.reset()\n",
    "    model.condition({'obs': truth['obs']})\n",
    "    model.block()\n",
    "    mcmc = get_mcmc(model.model, mcmc_config)\n",
    "    if True or continue_run:\n",
    "        mcmc.num_warmup = 0\n",
    "        mcmc.post_warmup_state = pload(save_path + \"_last_state.p\")\n",
    "        start = 1\n",
    "        end = start + mcmc_config['n_runs'] - 1\n",
    "        mcmc_runned = sample_and_save(mcmc, save_path, start, end, rng=43, extra_fields=['num_steps'])\n",
    "\n",
    "    else:\n",
    "        # mcmc_runned = sample_and_save(mcmc, save_path, 0, mcmc_config['n_runs'], extra_fields=['num_steps'], init_params=init_params_)\n",
    "        mcmc_runned = sample_and_save(mcmc, save_path, 0, 0, extra_fields=['num_steps'], init_params=init_params_)\n",
    "\n",
    "else:\n",
    "    from montecosmo.samplers import nutswg_init, get_nutswg_warm, get_nutswg_run\n",
    "\n",
    "    step_fn, init_fn, conf, init_state_fn = nutswg_init(model.logpdf)\n",
    "\n",
    "    # warmup_fn = jit(vmap(get_nutswg_warm(model.logpdf, conf, mcmc_config['n_samples'], progress_bar=False)))\n",
    "    # state = jit(vmap(init_state_fn))(init_params_)\n",
    "\n",
    "    # samples, infos, state, conf = warmup_fn(jr.split(jr.key(43), mcmc_config['n_chains']), state)\n",
    "    # print(\"conf:\", conf,\n",
    "    #         \"\\n\\ninfos:\", infos, '\\n#################\\n')\n",
    "    # jnp.savez(save_path+f\"_{0}.npz\", **samples | {k:infos[k] for k in ['n_evals']})\n",
    "    # pdump(state, save_path+f\"_last_state.p\")\n",
    "    # pdump(conf, save_path+'_conf.p'), pdump(tree.map(jnp.mean, infos), save_path+'_infos.p')\n",
    "\n",
    "    conf = pload(save_path+'_conf.p')\n",
    "    state = pload(save_path+'_last_state.p')\n",
    "    \n",
    "    run_fn = jit(vmap(get_nutswg_run(model.logpdf, step_fn, init_fn, mcmc_config['n_samples'], progress_bar=False)))\n",
    "    start = 11\n",
    "    end = start + mcmc_config['n_runs'] - 1\n",
    "    key = jr.key(42)\n",
    "    for i_run in range(start, end+1):\n",
    "        print(f\"run {i_run}/{end}\")\n",
    "        key, run_key = jr.split(key, 2)\n",
    "        samples, infos, state = run_fn(jr.split(run_key, mcmc_config['n_chains']), state, conf)\n",
    "        print(\"infos:\", tree.map(lambda x: jnp.mean(x, 1), infos))\n",
    "        jnp.savez(save_path+f\"_{i_run}.npz\", **samples | {k:infos[k] for k in ['n_evals']})\n",
    "        pdump(state, save_path+f\"_last_state.p\")"
   ]
  },
  {
   "cell_type": "code",
   "execution_count": null,
   "metadata": {},
   "outputs": [
    {
     "name": "stdout",
     "output_type": "stream",
     "text": [
      "\n",
      "run 1/10\n"
     ]
    },
    {
     "name": "stderr",
     "output_type": "stream",
     "text": [
      "/feynman/work/dphp/hs276503/envs/montenvtest3/lib/python3.12/site-packages/jax/_src/numpy/array_methods.py:66: UserWarning: Explicitly requested dtype <class 'jax.numpy.int64'> requested in astype is not available, and will be truncated to dtype int32. To enable more dtypes, set the jax_enable_x64 configuration option or the JAX_ENABLE_X64 shell environment variable. See https://github.com/google/jax#current-gotchas for more.\n",
      "  return lax_numpy.astype(arr, dtype)\n",
      "/feynman/work/dphp/hs276503/envs/montenvtest3/lib/python3.12/site-packages/jax/_src/numpy/array_methods.py:66: UserWarning: Explicitly requested dtype <class 'jax.numpy.int64'> requested in astype is not available, and will be truncated to dtype int32. To enable more dtypes, set the jax_enable_x64 configuration option or the JAX_ENABLE_X64 shell environment variable. See https://github.com/google/jax#current-gotchas for more.\n",
      "  return lax_numpy.astype(arr, dtype)\n"
     ]
    },
    {
     "name": "stdout",
     "output_type": "stream",
     "text": [
      "True <class 'bool'>\n",
      "jnp.result_type(keep_step)=dtype('bool')\n",
      "stepsize_controller=ConstantStepSize()\n",
      "Traced<ShapedArray(float32[])>with<DynamicJaxprTrace(level=2/0)> Traced<ShapedArray(float32[])>with<DynamicJaxprTrace(level=2/0)> False Traced<ShapedArray(float32[])>with<DynamicJaxprTrace(level=2/0)> diffrax._solution.RESULTS<>\n",
      "Final False\n"
     ]
    },
    {
     "ename": "AssertionError",
     "evalue": "",
     "output_type": "error",
     "traceback": [
      "\u001b[0;31m---------------------------------------------------------------------------\u001b[0m\n",
      "\u001b[0;31mAssertionError\u001b[0m                            Traceback (most recent call last)\n",
      "Cell \u001b[0;32mIn[4], line 15\u001b[0m\n",
      "\u001b[1;32m     13\u001b[0m     start \u001b[38;5;241m=\u001b[39m \u001b[38;5;241m1\u001b[39m\n",
      "\u001b[1;32m     14\u001b[0m     end \u001b[38;5;241m=\u001b[39m start \u001b[38;5;241m+\u001b[39m mcmc_config[\u001b[38;5;124m'\u001b[39m\u001b[38;5;124mn_runs\u001b[39m\u001b[38;5;124m'\u001b[39m] \u001b[38;5;241m-\u001b[39m \u001b[38;5;241m1\u001b[39m\n",
      "\u001b[0;32m---> 15\u001b[0m     mcmc_runned \u001b[38;5;241m=\u001b[39m \u001b[43msample_and_save\u001b[49m\u001b[43m(\u001b[49m\u001b[43mmcmc\u001b[49m\u001b[43m,\u001b[49m\u001b[43m \u001b[49m\u001b[43msave_path\u001b[49m\u001b[43m,\u001b[49m\u001b[43m \u001b[49m\u001b[43mstart\u001b[49m\u001b[43m,\u001b[49m\u001b[43m \u001b[49m\u001b[43mend\u001b[49m\u001b[43m,\u001b[49m\u001b[43m \u001b[49m\u001b[43mrng\u001b[49m\u001b[38;5;241;43m=\u001b[39;49m\u001b[38;5;241;43m43\u001b[39;49m\u001b[43m,\u001b[49m\u001b[43m \u001b[49m\u001b[43mextra_fields\u001b[49m\u001b[38;5;241;43m=\u001b[39;49m\u001b[43m[\u001b[49m\u001b[38;5;124;43m'\u001b[39;49m\u001b[38;5;124;43mnum_steps\u001b[39;49m\u001b[38;5;124;43m'\u001b[39;49m\u001b[43m]\u001b[49m\u001b[43m)\u001b[49m\n",
      "\u001b[1;32m     17\u001b[0m \u001b[38;5;28;01melse\u001b[39;00m:\n",
      "\u001b[1;32m     18\u001b[0m     \u001b[38;5;66;03m# mcmc_runned = sample_and_save(mcmc, save_path, 0, mcmc_config['n_runs'], extra_fields=['num_steps'], init_params=init_params_)\u001b[39;00m\n",
      "\u001b[1;32m     19\u001b[0m     mcmc_runned \u001b[38;5;241m=\u001b[39m sample_and_save(mcmc, save_path, \u001b[38;5;241m0\u001b[39m, \u001b[38;5;241m0\u001b[39m, extra_fields\u001b[38;5;241m=\u001b[39m[\u001b[38;5;124m'\u001b[39m\u001b[38;5;124mnum_steps\u001b[39m\u001b[38;5;124m'\u001b[39m], init_params\u001b[38;5;241m=\u001b[39minit_params_)\n",
      "\n",
      "File \u001b[0;32m~/workspace/montecosmo_proj/src/montecosmo/montecosmo/mcbench.py:608\u001b[0m, in \u001b[0;36msample_and_save\u001b[0;34m(mcmc, path, start, end, extra_fields, rng, group_by_chain, init_params)\u001b[0m\n",
      "\u001b[1;32m    605\u001b[0m \u001b[38;5;28mprint\u001b[39m(\u001b[38;5;124mf\u001b[39m\u001b[38;5;124m\"\u001b[39m\u001b[38;5;130;01m\\n\u001b[39;00m\u001b[38;5;124mrun \u001b[39m\u001b[38;5;132;01m{\u001b[39;00mi_run\u001b[38;5;132;01m}\u001b[39;00m\u001b[38;5;124m/\u001b[39m\u001b[38;5;132;01m{\u001b[39;00mend\u001b[38;5;132;01m}\u001b[39;00m\u001b[38;5;124m\"\u001b[39m)\n",
      "\u001b[1;32m    607\u001b[0m \u001b[38;5;66;03m# Run\u001b[39;00m\n",
      "\u001b[0;32m--> 608\u001b[0m \u001b[43mmcmc\u001b[49m\u001b[38;5;241;43m.\u001b[39;49m\u001b[43mrun\u001b[49m\u001b[43m(\u001b[49m\u001b[43mrng_run\u001b[49m\u001b[43m,\u001b[49m\u001b[43m \u001b[49m\u001b[43mextra_fields\u001b[49m\u001b[38;5;241;43m=\u001b[39;49m\u001b[43mextra_fields\u001b[49m\u001b[43m,\u001b[49m\u001b[43m \u001b[49m\u001b[43minit_params\u001b[49m\u001b[38;5;241;43m=\u001b[39;49m\u001b[43minit_params\u001b[49m\u001b[43m)\u001b[49m\n",
      "\u001b[1;32m    609\u001b[0m save_run(mcmc, i_run, path, extra_fields)\n",
      "\u001b[1;32m    611\u001b[0m \u001b[38;5;66;03m# Init next run at last state\u001b[39;00m\n",
      "\n",
      "File \u001b[0;32m/feynman/work/dphp/hs276503/envs/montenvtest3/lib/python3.12/site-packages/numpyro/infer/mcmc.py:653\u001b[0m, in \u001b[0;36mMCMC.run\u001b[0;34m(self, rng_key, extra_fields, init_params, *args, **kwargs)\u001b[0m\n",
      "\u001b[1;32m    651\u001b[0m \u001b[38;5;28;01melse\u001b[39;00m:\n",
      "\u001b[1;32m    652\u001b[0m     \u001b[38;5;28;01massert\u001b[39;00m \u001b[38;5;28mself\u001b[39m\u001b[38;5;241m.\u001b[39mchain_method \u001b[38;5;241m==\u001b[39m \u001b[38;5;124m\"\u001b[39m\u001b[38;5;124mvectorized\u001b[39m\u001b[38;5;124m\"\u001b[39m\n",
      "\u001b[0;32m--> 653\u001b[0m     states, last_state \u001b[38;5;241m=\u001b[39m \u001b[43mpartial_map_fn\u001b[49m\u001b[43m(\u001b[49m\u001b[43mmap_args\u001b[49m\u001b[43m)\u001b[49m\n",
      "\u001b[1;32m    654\u001b[0m     \u001b[38;5;66;03m# swap num_samples x num_chains to num_chains x num_samples\u001b[39;00m\n",
      "\u001b[1;32m    655\u001b[0m     states \u001b[38;5;241m=\u001b[39m tree_map(\u001b[38;5;28;01mlambda\u001b[39;00m x: jnp\u001b[38;5;241m.\u001b[39mswapaxes(x, \u001b[38;5;241m0\u001b[39m, \u001b[38;5;241m1\u001b[39m), states)\n",
      "\n",
      "File \u001b[0;32m/feynman/work/dphp/hs276503/envs/montenvtest3/lib/python3.12/site-packages/numpyro/infer/mcmc.py:426\u001b[0m, in \u001b[0;36mMCMC._single_chain_mcmc\u001b[0;34m(self, init, args, kwargs, collect_fields)\u001b[0m\n",
      "\u001b[1;32m    424\u001b[0m \u001b[38;5;66;03m# Check if _sample_fn is None, then we need to initialize the sampler.\u001b[39;00m\n",
      "\u001b[1;32m    425\u001b[0m \u001b[38;5;28;01mif\u001b[39;00m init_state \u001b[38;5;129;01mis\u001b[39;00m \u001b[38;5;28;01mNone\u001b[39;00m \u001b[38;5;129;01mor\u001b[39;00m (\u001b[38;5;28mgetattr\u001b[39m(\u001b[38;5;28mself\u001b[39m\u001b[38;5;241m.\u001b[39msampler, \u001b[38;5;124m\"\u001b[39m\u001b[38;5;124m_sample_fn\u001b[39m\u001b[38;5;124m\"\u001b[39m, \u001b[38;5;28;01mNone\u001b[39;00m) \u001b[38;5;129;01mis\u001b[39;00m \u001b[38;5;28;01mNone\u001b[39;00m):\n",
      "\u001b[0;32m--> 426\u001b[0m     new_init_state \u001b[38;5;241m=\u001b[39m \u001b[38;5;28;43mself\u001b[39;49m\u001b[38;5;241;43m.\u001b[39;49m\u001b[43msampler\u001b[49m\u001b[38;5;241;43m.\u001b[39;49m\u001b[43minit\u001b[49m\u001b[43m(\u001b[49m\n",
      "\u001b[1;32m    427\u001b[0m \u001b[43m        \u001b[49m\u001b[43mrng_key\u001b[49m\u001b[43m,\u001b[49m\n",
      "\u001b[1;32m    428\u001b[0m \u001b[43m        \u001b[49m\u001b[38;5;28;43mself\u001b[39;49m\u001b[38;5;241;43m.\u001b[39;49m\u001b[43mnum_warmup\u001b[49m\u001b[43m,\u001b[49m\n",
      "\u001b[1;32m    429\u001b[0m \u001b[43m        \u001b[49m\u001b[43minit_params\u001b[49m\u001b[43m,\u001b[49m\n",
      "\u001b[1;32m    430\u001b[0m \u001b[43m        \u001b[49m\u001b[43mmodel_args\u001b[49m\u001b[38;5;241;43m=\u001b[39;49m\u001b[43margs\u001b[49m\u001b[43m,\u001b[49m\n",
      "\u001b[1;32m    431\u001b[0m \u001b[43m        \u001b[49m\u001b[43mmodel_kwargs\u001b[49m\u001b[38;5;241;43m=\u001b[39;49m\u001b[43mkwargs\u001b[49m\u001b[43m,\u001b[49m\n",
      "\u001b[1;32m    432\u001b[0m \u001b[43m    \u001b[49m\u001b[43m)\u001b[49m\n",
      "\u001b[1;32m    433\u001b[0m     init_state \u001b[38;5;241m=\u001b[39m new_init_state \u001b[38;5;28;01mif\u001b[39;00m init_state \u001b[38;5;129;01mis\u001b[39;00m \u001b[38;5;28;01mNone\u001b[39;00m \u001b[38;5;28;01melse\u001b[39;00m init_state\n",
      "\u001b[1;32m    434\u001b[0m sample_fn, postprocess_fn \u001b[38;5;241m=\u001b[39m \u001b[38;5;28mself\u001b[39m\u001b[38;5;241m.\u001b[39m_get_cached_fns()\n",
      "\n",
      "File \u001b[0;32m/feynman/work/dphp/hs276503/envs/montenvtest3/lib/python3.12/site-packages/numpyro/infer/hmc.py:743\u001b[0m, in \u001b[0;36mHMC.init\u001b[0;34m(self, rng_key, num_warmup, init_params, model_args, model_kwargs)\u001b[0m\n",
      "\u001b[1;32m    738\u001b[0m \u001b[38;5;66;03m# vectorized\u001b[39;00m\n",
      "\u001b[1;32m    739\u001b[0m \u001b[38;5;28;01melse\u001b[39;00m:\n",
      "\u001b[1;32m    740\u001b[0m     rng_key, rng_key_init_model \u001b[38;5;241m=\u001b[39m jnp\u001b[38;5;241m.\u001b[39mswapaxes(\n",
      "\u001b[1;32m    741\u001b[0m         vmap(random\u001b[38;5;241m.\u001b[39msplit)(rng_key), \u001b[38;5;241m0\u001b[39m, \u001b[38;5;241m1\u001b[39m\n",
      "\u001b[1;32m    742\u001b[0m     )\n",
      "\u001b[0;32m--> 743\u001b[0m init_params \u001b[38;5;241m=\u001b[39m \u001b[38;5;28;43mself\u001b[39;49m\u001b[38;5;241;43m.\u001b[39;49m\u001b[43m_init_state\u001b[49m\u001b[43m(\u001b[49m\n",
      "\u001b[1;32m    744\u001b[0m \u001b[43m    \u001b[49m\u001b[43mrng_key_init_model\u001b[49m\u001b[43m,\u001b[49m\u001b[43m \u001b[49m\u001b[43mmodel_args\u001b[49m\u001b[43m,\u001b[49m\u001b[43m \u001b[49m\u001b[43mmodel_kwargs\u001b[49m\u001b[43m,\u001b[49m\u001b[43m \u001b[49m\u001b[43minit_params\u001b[49m\n",
      "\u001b[1;32m    745\u001b[0m \u001b[43m\u001b[49m\u001b[43m)\u001b[49m\n",
      "\u001b[1;32m    746\u001b[0m \u001b[38;5;28;01mif\u001b[39;00m \u001b[38;5;28mself\u001b[39m\u001b[38;5;241m.\u001b[39m_potential_fn \u001b[38;5;129;01mand\u001b[39;00m init_params \u001b[38;5;129;01mis\u001b[39;00m \u001b[38;5;28;01mNone\u001b[39;00m:\n",
      "\u001b[1;32m    747\u001b[0m     \u001b[38;5;28;01mraise\u001b[39;00m \u001b[38;5;167;01mValueError\u001b[39;00m(\n",
      "\u001b[1;32m    748\u001b[0m         \u001b[38;5;124m\"\u001b[39m\u001b[38;5;124mValid value of `init_params` must be provided with\u001b[39m\u001b[38;5;124m\"\u001b[39m \u001b[38;5;124m\"\u001b[39m\u001b[38;5;124m `potential_fn`.\u001b[39m\u001b[38;5;124m\"\u001b[39m\n",
      "\u001b[1;32m    749\u001b[0m     )\n",
      "\n",
      "File \u001b[0;32m/feynman/work/dphp/hs276503/envs/montenvtest3/lib/python3.12/site-packages/numpyro/infer/hmc.py:687\u001b[0m, in \u001b[0;36mHMC._init_state\u001b[0;34m(self, rng_key, model_args, model_kwargs, init_params)\u001b[0m\n",
      "\u001b[1;32m    680\u001b[0m \u001b[38;5;28;01mdef\u001b[39;00m \u001b[38;5;21m_init_state\u001b[39m(\u001b[38;5;28mself\u001b[39m, rng_key, model_args, model_kwargs, init_params):\n",
      "\u001b[1;32m    681\u001b[0m     \u001b[38;5;28;01mif\u001b[39;00m \u001b[38;5;28mself\u001b[39m\u001b[38;5;241m.\u001b[39m_model \u001b[38;5;129;01mis\u001b[39;00m \u001b[38;5;129;01mnot\u001b[39;00m \u001b[38;5;28;01mNone\u001b[39;00m:\n",
      "\u001b[1;32m    682\u001b[0m         (\n",
      "\u001b[1;32m    683\u001b[0m             new_init_params,\n",
      "\u001b[1;32m    684\u001b[0m             potential_fn,\n",
      "\u001b[1;32m    685\u001b[0m             postprocess_fn,\n",
      "\u001b[1;32m    686\u001b[0m             model_trace,\n",
      "\u001b[0;32m--> 687\u001b[0m         ) \u001b[38;5;241m=\u001b[39m \u001b[43minitialize_model\u001b[49m\u001b[43m(\u001b[49m\n",
      "\u001b[1;32m    688\u001b[0m \u001b[43m            \u001b[49m\u001b[43mrng_key\u001b[49m\u001b[43m,\u001b[49m\n",
      "\u001b[1;32m    689\u001b[0m \u001b[43m            \u001b[49m\u001b[38;5;28;43mself\u001b[39;49m\u001b[38;5;241;43m.\u001b[39;49m\u001b[43m_model\u001b[49m\u001b[43m,\u001b[49m\n",
      "\u001b[1;32m    690\u001b[0m \u001b[43m            \u001b[49m\u001b[43mdynamic_args\u001b[49m\u001b[38;5;241;43m=\u001b[39;49m\u001b[38;5;28;43;01mTrue\u001b[39;49;00m\u001b[43m,\u001b[49m\n",
      "\u001b[1;32m    691\u001b[0m \u001b[43m            \u001b[49m\u001b[43minit_strategy\u001b[49m\u001b[38;5;241;43m=\u001b[39;49m\u001b[38;5;28;43mself\u001b[39;49m\u001b[38;5;241;43m.\u001b[39;49m\u001b[43m_init_strategy\u001b[49m\u001b[43m,\u001b[49m\n",
      "\u001b[1;32m    692\u001b[0m \u001b[43m            \u001b[49m\u001b[43mmodel_args\u001b[49m\u001b[38;5;241;43m=\u001b[39;49m\u001b[43mmodel_args\u001b[49m\u001b[43m,\u001b[49m\n",
      "\u001b[1;32m    693\u001b[0m \u001b[43m            \u001b[49m\u001b[43mmodel_kwargs\u001b[49m\u001b[38;5;241;43m=\u001b[39;49m\u001b[43mmodel_kwargs\u001b[49m\u001b[43m,\u001b[49m\n",
      "\u001b[1;32m    694\u001b[0m \u001b[43m            \u001b[49m\u001b[43mforward_mode_differentiation\u001b[49m\u001b[38;5;241;43m=\u001b[39;49m\u001b[38;5;28;43mself\u001b[39;49m\u001b[38;5;241;43m.\u001b[39;49m\u001b[43m_forward_mode_differentiation\u001b[49m\u001b[43m,\u001b[49m\n",
      "\u001b[1;32m    695\u001b[0m \u001b[43m        \u001b[49m\u001b[43m)\u001b[49m\n",
      "\u001b[1;32m    696\u001b[0m         \u001b[38;5;28;01mif\u001b[39;00m init_params \u001b[38;5;129;01mis\u001b[39;00m \u001b[38;5;28;01mNone\u001b[39;00m:\n",
      "\u001b[1;32m    697\u001b[0m             init_params \u001b[38;5;241m=\u001b[39m new_init_params\n",
      "\n",
      "File \u001b[0;32m/feynman/work/dphp/hs276503/envs/montenvtest3/lib/python3.12/site-packages/numpyro/infer/util.py:656\u001b[0m, in \u001b[0;36minitialize_model\u001b[0;34m(rng_key, model, init_strategy, dynamic_args, model_args, model_kwargs, forward_mode_differentiation, validate_grad)\u001b[0m\n",
      "\u001b[1;32m    646\u001b[0m model_kwargs \u001b[38;5;241m=\u001b[39m {} \u001b[38;5;28;01mif\u001b[39;00m model_kwargs \u001b[38;5;129;01mis\u001b[39;00m \u001b[38;5;28;01mNone\u001b[39;00m \u001b[38;5;28;01melse\u001b[39;00m model_kwargs\n",
      "\u001b[1;32m    647\u001b[0m substituted_model \u001b[38;5;241m=\u001b[39m substitute(\n",
      "\u001b[1;32m    648\u001b[0m     seed(model, rng_key \u001b[38;5;28;01mif\u001b[39;00m is_prng_key(rng_key) \u001b[38;5;28;01melse\u001b[39;00m rng_key[\u001b[38;5;241m0\u001b[39m]),\n",
      "\u001b[1;32m    649\u001b[0m     substitute_fn\u001b[38;5;241m=\u001b[39minit_strategy,\n",
      "\u001b[1;32m    650\u001b[0m )\n",
      "\u001b[1;32m    651\u001b[0m (\n",
      "\u001b[1;32m    652\u001b[0m     inv_transforms,\n",
      "\u001b[1;32m    653\u001b[0m     replay_model,\n",
      "\u001b[1;32m    654\u001b[0m     has_enumerate_support,\n",
      "\u001b[1;32m    655\u001b[0m     model_trace,\n",
      "\u001b[0;32m--> 656\u001b[0m ) \u001b[38;5;241m=\u001b[39m \u001b[43m_get_model_transforms\u001b[49m\u001b[43m(\u001b[49m\u001b[43msubstituted_model\u001b[49m\u001b[43m,\u001b[49m\u001b[43m \u001b[49m\u001b[43mmodel_args\u001b[49m\u001b[43m,\u001b[49m\u001b[43m \u001b[49m\u001b[43mmodel_kwargs\u001b[49m\u001b[43m)\u001b[49m\n",
      "\u001b[1;32m    657\u001b[0m \u001b[38;5;66;03m# substitute param sites from model_trace to model so\u001b[39;00m\n",
      "\u001b[1;32m    658\u001b[0m \u001b[38;5;66;03m# we don't need to generate again parameters of `numpyro.module`\u001b[39;00m\n",
      "\u001b[1;32m    659\u001b[0m model \u001b[38;5;241m=\u001b[39m substitute(\n",
      "\u001b[1;32m    660\u001b[0m     model,\n",
      "\u001b[1;32m    661\u001b[0m     data\u001b[38;5;241m=\u001b[39m{\n",
      "\u001b[0;32m   (...)\u001b[0m\n",
      "\u001b[1;32m    665\u001b[0m     },\n",
      "\u001b[1;32m    666\u001b[0m )\n",
      "\n",
      "File \u001b[0;32m/feynman/work/dphp/hs276503/envs/montenvtest3/lib/python3.12/site-packages/numpyro/infer/util.py:450\u001b[0m, in \u001b[0;36m_get_model_transforms\u001b[0;34m(model, model_args, model_kwargs)\u001b[0m\n",
      "\u001b[1;32m    448\u001b[0m \u001b[38;5;28;01mdef\u001b[39;00m \u001b[38;5;21m_get_model_transforms\u001b[39m(model, model_args\u001b[38;5;241m=\u001b[39m(), model_kwargs\u001b[38;5;241m=\u001b[39m\u001b[38;5;28;01mNone\u001b[39;00m):\n",
      "\u001b[1;32m    449\u001b[0m     model_kwargs \u001b[38;5;241m=\u001b[39m {} \u001b[38;5;28;01mif\u001b[39;00m model_kwargs \u001b[38;5;129;01mis\u001b[39;00m \u001b[38;5;28;01mNone\u001b[39;00m \u001b[38;5;28;01melse\u001b[39;00m model_kwargs\n",
      "\u001b[0;32m--> 450\u001b[0m     model_trace \u001b[38;5;241m=\u001b[39m \u001b[43mtrace\u001b[49m\u001b[43m(\u001b[49m\u001b[43mmodel\u001b[49m\u001b[43m)\u001b[49m\u001b[38;5;241;43m.\u001b[39;49m\u001b[43mget_trace\u001b[49m\u001b[43m(\u001b[49m\u001b[38;5;241;43m*\u001b[39;49m\u001b[43mmodel_args\u001b[49m\u001b[43m,\u001b[49m\u001b[43m \u001b[49m\u001b[38;5;241;43m*\u001b[39;49m\u001b[38;5;241;43m*\u001b[39;49m\u001b[43mmodel_kwargs\u001b[49m\u001b[43m)\u001b[49m\n",
      "\u001b[1;32m    451\u001b[0m     inv_transforms \u001b[38;5;241m=\u001b[39m {}\n",
      "\u001b[1;32m    452\u001b[0m     \u001b[38;5;66;03m# model code may need to be replayed in the presence of deterministic sites\u001b[39;00m\n",
      "\n",
      "File \u001b[0;32m/feynman/work/dphp/hs276503/envs/montenvtest3/lib/python3.12/site-packages/numpyro/handlers.py:171\u001b[0m, in \u001b[0;36mtrace.get_trace\u001b[0;34m(self, *args, **kwargs)\u001b[0m\n",
      "\u001b[1;32m    163\u001b[0m \u001b[38;5;28;01mdef\u001b[39;00m \u001b[38;5;21mget_trace\u001b[39m(\u001b[38;5;28mself\u001b[39m, \u001b[38;5;241m*\u001b[39margs, \u001b[38;5;241m*\u001b[39m\u001b[38;5;241m*\u001b[39mkwargs):\n",
      "\u001b[1;32m    164\u001b[0m \u001b[38;5;250m    \u001b[39m\u001b[38;5;124;03m\"\"\"\u001b[39;00m\n",
      "\u001b[1;32m    165\u001b[0m \u001b[38;5;124;03m    Run the wrapped callable and return the recorded trace.\u001b[39;00m\n",
      "\u001b[1;32m    166\u001b[0m \n",
      "\u001b[0;32m   (...)\u001b[0m\n",
      "\u001b[1;32m    169\u001b[0m \u001b[38;5;124;03m    :return: `OrderedDict` containing the execution trace.\u001b[39;00m\n",
      "\u001b[1;32m    170\u001b[0m \u001b[38;5;124;03m    \"\"\"\u001b[39;00m\n",
      "\u001b[0;32m--> 171\u001b[0m     \u001b[38;5;28;43mself\u001b[39;49m\u001b[43m(\u001b[49m\u001b[38;5;241;43m*\u001b[39;49m\u001b[43margs\u001b[49m\u001b[43m,\u001b[49m\u001b[43m \u001b[49m\u001b[38;5;241;43m*\u001b[39;49m\u001b[38;5;241;43m*\u001b[39;49m\u001b[43mkwargs\u001b[49m\u001b[43m)\u001b[49m\n",
      "\u001b[1;32m    172\u001b[0m     \u001b[38;5;28;01mreturn\u001b[39;00m \u001b[38;5;28mself\u001b[39m\u001b[38;5;241m.\u001b[39mtrace\n",
      "\n",
      "File \u001b[0;32m/feynman/work/dphp/hs276503/envs/montenvtest3/lib/python3.12/site-packages/numpyro/primitives.py:105\u001b[0m, in \u001b[0;36mMessenger.__call__\u001b[0;34m(self, *args, **kwargs)\u001b[0m\n",
      "\u001b[1;32m    103\u001b[0m     \u001b[38;5;28;01mreturn\u001b[39;00m \u001b[38;5;28mself\u001b[39m\n",
      "\u001b[1;32m    104\u001b[0m \u001b[38;5;28;01mwith\u001b[39;00m \u001b[38;5;28mself\u001b[39m:\n",
      "\u001b[0;32m--> 105\u001b[0m     \u001b[38;5;28;01mreturn\u001b[39;00m \u001b[38;5;28;43mself\u001b[39;49m\u001b[38;5;241;43m.\u001b[39;49m\u001b[43mfn\u001b[49m\u001b[43m(\u001b[49m\u001b[38;5;241;43m*\u001b[39;49m\u001b[43margs\u001b[49m\u001b[43m,\u001b[49m\u001b[43m \u001b[49m\u001b[38;5;241;43m*\u001b[39;49m\u001b[38;5;241;43m*\u001b[39;49m\u001b[43mkwargs\u001b[49m\u001b[43m)\u001b[49m\n",
      "\n",
      "File \u001b[0;32m/feynman/work/dphp/hs276503/envs/montenvtest3/lib/python3.12/site-packages/numpyro/primitives.py:105\u001b[0m, in \u001b[0;36mMessenger.__call__\u001b[0;34m(self, *args, **kwargs)\u001b[0m\n",
      "\u001b[1;32m    103\u001b[0m     \u001b[38;5;28;01mreturn\u001b[39;00m \u001b[38;5;28mself\u001b[39m\n",
      "\u001b[1;32m    104\u001b[0m \u001b[38;5;28;01mwith\u001b[39;00m \u001b[38;5;28mself\u001b[39m:\n",
      "\u001b[0;32m--> 105\u001b[0m     \u001b[38;5;28;01mreturn\u001b[39;00m \u001b[38;5;28;43mself\u001b[39;49m\u001b[38;5;241;43m.\u001b[39;49m\u001b[43mfn\u001b[49m\u001b[43m(\u001b[49m\u001b[38;5;241;43m*\u001b[39;49m\u001b[43margs\u001b[49m\u001b[43m,\u001b[49m\u001b[43m \u001b[49m\u001b[38;5;241;43m*\u001b[39;49m\u001b[38;5;241;43m*\u001b[39;49m\u001b[43mkwargs\u001b[49m\u001b[43m)\u001b[49m\n",
      "\n",
      "    \u001b[0;31m[... skipping similar frames: Messenger.__call__ at line 105 (2 times)]\u001b[0m\n",
      "\n",
      "File \u001b[0;32m/feynman/work/dphp/hs276503/envs/montenvtest3/lib/python3.12/site-packages/numpyro/primitives.py:105\u001b[0m, in \u001b[0;36mMessenger.__call__\u001b[0;34m(self, *args, **kwargs)\u001b[0m\n",
      "\u001b[1;32m    103\u001b[0m     \u001b[38;5;28;01mreturn\u001b[39;00m \u001b[38;5;28mself\u001b[39m\n",
      "\u001b[1;32m    104\u001b[0m \u001b[38;5;28;01mwith\u001b[39;00m \u001b[38;5;28mself\u001b[39m:\n",
      "\u001b[0;32m--> 105\u001b[0m     \u001b[38;5;28;01mreturn\u001b[39;00m \u001b[38;5;28;43mself\u001b[39;49m\u001b[38;5;241;43m.\u001b[39;49m\u001b[43mfn\u001b[49m\u001b[43m(\u001b[49m\u001b[38;5;241;43m*\u001b[39;49m\u001b[43margs\u001b[49m\u001b[43m,\u001b[49m\u001b[43m \u001b[49m\u001b[38;5;241;43m*\u001b[39;49m\u001b[38;5;241;43m*\u001b[39;49m\u001b[43mkwargs\u001b[49m\u001b[43m)\u001b[49m\n",
      "\n",
      "File \u001b[0;32m~/workspace/montecosmo_proj/src/montecosmo/montecosmo/model.py:297\u001b[0m, in \u001b[0;36mFieldLevelModel._model\u001b[0;34m(self, temp_prior, temp_lik)\u001b[0m\n",
      "\u001b[1;32m    295\u001b[0m \u001b[38;5;28;01mdef\u001b[39;00m \u001b[38;5;21m_model\u001b[39m(\u001b[38;5;28mself\u001b[39m, temp_prior\u001b[38;5;241m=\u001b[39m\u001b[38;5;241m1.\u001b[39m, temp_lik\u001b[38;5;241m=\u001b[39m\u001b[38;5;241m1.\u001b[39m):\n",
      "\u001b[1;32m    296\u001b[0m     x \u001b[38;5;241m=\u001b[39m \u001b[38;5;28mself\u001b[39m\u001b[38;5;241m.\u001b[39mprior(temp\u001b[38;5;241m=\u001b[39mtemp_prior)\n",
      "\u001b[0;32m--> 297\u001b[0m     x \u001b[38;5;241m=\u001b[39m \u001b[38;5;28;43mself\u001b[39;49m\u001b[38;5;241;43m.\u001b[39;49m\u001b[43mevolve\u001b[49m\u001b[43m(\u001b[49m\u001b[43mx\u001b[49m\u001b[43m)\u001b[49m\n",
      "\u001b[1;32m    298\u001b[0m     \u001b[38;5;28;01mreturn\u001b[39;00m \u001b[38;5;28mself\u001b[39m\u001b[38;5;241m.\u001b[39mlikelihood(x, temp\u001b[38;5;241m=\u001b[39mtemp_lik)\n",
      "\n",
      "File \u001b[0;32m~/workspace/montecosmo_proj/src/montecosmo/montecosmo/model.py:370\u001b[0m, in \u001b[0;36mFieldLevelModel.evolve\u001b[0;34m(self, params)\u001b[0m\n",
      "\u001b[1;32m    368\u001b[0m \u001b[38;5;28;01melse\u001b[39;00m: \u001b[38;5;66;03m# TODO: lpt_order is None\u001b[39;00m\n",
      "\u001b[1;32m    369\u001b[0m     cosmology\u001b[38;5;241m.\u001b[39m_workspace \u001b[38;5;241m=\u001b[39m {}  \u001b[38;5;66;03m# HACK: temporary fix\u001b[39;00m\n",
      "\u001b[0;32m--> 370\u001b[0m     part \u001b[38;5;241m=\u001b[39m \u001b[43mnbody_bf\u001b[49m\u001b[43m(\u001b[49m\u001b[43mcosmology\u001b[49m\u001b[43m,\u001b[49m\u001b[43m \u001b[49m\u001b[38;5;241;43m*\u001b[39;49m\u001b[38;5;241;43m*\u001b[39;49m\u001b[43minit\u001b[49m\u001b[43m,\u001b[49m\u001b[43m \u001b[49m\u001b[43mpos\u001b[49m\u001b[38;5;241;43m=\u001b[39;49m\u001b[43mpos\u001b[49m\u001b[43m,\u001b[49m\u001b[43m \u001b[49m\u001b[43ma\u001b[49m\u001b[38;5;241;43m=\u001b[39;49m\u001b[38;5;28;43mself\u001b[39;49m\u001b[38;5;241;43m.\u001b[39;49m\u001b[43ma_obs\u001b[49m\u001b[43m,\u001b[49m\u001b[43m \u001b[49m\u001b[43mn_steps\u001b[49m\u001b[38;5;241;43m=\u001b[39;49m\u001b[38;5;28;43mself\u001b[39;49m\u001b[38;5;241;43m.\u001b[39;49m\u001b[43mnbody_steps\u001b[49m\u001b[43m,\u001b[49m\u001b[43m \u001b[49m\n",
      "\u001b[1;32m    371\u001b[0m \u001b[43m                         \u001b[49m\u001b[43mgrad_fd\u001b[49m\u001b[38;5;241;43m=\u001b[39;49m\u001b[38;5;28;43;01mFalse\u001b[39;49;00m\u001b[43m,\u001b[49m\u001b[43m \u001b[49m\u001b[43mlap_fd\u001b[49m\u001b[38;5;241;43m=\u001b[39;49m\u001b[38;5;28;43;01mFalse\u001b[39;49;00m\u001b[43m,\u001b[49m\u001b[43m \u001b[49m\u001b[43msnapshots\u001b[49m\u001b[38;5;241;43m=\u001b[39;49m\u001b[38;5;28;43mself\u001b[39;49m\u001b[38;5;241;43m.\u001b[39;49m\u001b[43msnapshots\u001b[49m\u001b[43m)\u001b[49m\n",
      "\u001b[1;32m    372\u001b[0m     part \u001b[38;5;241m=\u001b[39m deterministic(\u001b[38;5;124m'\u001b[39m\u001b[38;5;124mpm_part\u001b[39m\u001b[38;5;124m'\u001b[39m, part)\n",
      "\u001b[1;32m    373\u001b[0m     pos, vel \u001b[38;5;241m=\u001b[39m tree\u001b[38;5;241m.\u001b[39mmap(\u001b[38;5;28;01mlambda\u001b[39;00m x: x[\u001b[38;5;241m-\u001b[39m\u001b[38;5;241m1\u001b[39m], part)\n",
      "\n",
      "File \u001b[0;32m~/workspace/montecosmo_proj/src/montecosmo/montecosmo/nbody.py:252\u001b[0m, in \u001b[0;36mnbody_bf\u001b[0;34m(cosmo, init_mesh, pos, a, n_steps, grad_fd, lap_fd, snapshots)\u001b[0m\n",
      "\u001b[1;32m    249\u001b[0m \u001b[38;5;28;01melse\u001b[39;00m: \n",
      "\u001b[1;32m    250\u001b[0m     saveat \u001b[38;5;241m=\u001b[39m SaveAt(ts\u001b[38;5;241m=\u001b[39ma2g(cosmo, jnp\u001b[38;5;241m.\u001b[39masarray(snapshots)))   \n",
      "\u001b[0;32m--> 252\u001b[0m sol \u001b[38;5;241m=\u001b[39m \u001b[43mdiffeqsolve\u001b[49m\u001b[43m(\u001b[49m\u001b[43mterms\u001b[49m\u001b[43m,\u001b[49m\u001b[43m \u001b[49m\u001b[43msolver\u001b[49m\u001b[43m,\u001b[49m\u001b[43m \u001b[49m\u001b[38;5;241;43m0.\u001b[39;49m\u001b[43m,\u001b[49m\u001b[43m \u001b[49m\u001b[43mg\u001b[49m\u001b[43m,\u001b[49m\u001b[43m \u001b[49m\u001b[43mdt0\u001b[49m\u001b[38;5;241;43m=\u001b[39;49m\u001b[43mdg\u001b[49m\u001b[43m,\u001b[49m\u001b[43m \u001b[49m\u001b[43my0\u001b[49m\u001b[38;5;241;43m=\u001b[39;49m\u001b[43mstate\u001b[49m\u001b[43m,\u001b[49m\u001b[43m \u001b[49m\u001b[43mmax_steps\u001b[49m\u001b[38;5;241;43m=\u001b[39;49m\u001b[43mn_steps\u001b[49m\u001b[43m,\u001b[49m\u001b[43m \u001b[49m\u001b[43msaveat\u001b[49m\u001b[38;5;241;43m=\u001b[39;49m\u001b[43msaveat\u001b[49m\u001b[43m)\u001b[49m \u001b[38;5;66;03m# cosmo as args may leak\u001b[39;00m\n",
      "\u001b[1;32m    253\u001b[0m states \u001b[38;5;241m=\u001b[39m sol\u001b[38;5;241m.\u001b[39mys\n",
      "\u001b[1;32m    254\u001b[0m \u001b[38;5;66;03m# debug.print(\"bullfrog n_steps: {n}\", n=sol.stats['num_steps'])\u001b[39;00m\n",
      "\n",
      "    \u001b[0;31m[... skipping hidden 16 frame]\u001b[0m\n",
      "\n",
      "File \u001b[0;32m/feynman/work/dphp/hs276503/envs/montenvtest3/lib/python3.12/site-packages/diffrax/_integrate.py:924\u001b[0m, in \u001b[0;36mdiffeqsolve\u001b[0;34m(terms, solver, t0, t1, dt0, y0, args, saveat, stepsize_controller, adjoint, discrete_terminating_event, max_steps, throw, solver_state, controller_state, made_jump)\u001b[0m\n",
      "\u001b[1;32m    903\u001b[0m init_state \u001b[38;5;241m=\u001b[39m State(\n",
      "\u001b[1;32m    904\u001b[0m     y\u001b[38;5;241m=\u001b[39my0,\n",
      "\u001b[1;32m    905\u001b[0m     tprev\u001b[38;5;241m=\u001b[39mtprev,\n",
      "\u001b[0;32m   (...)\u001b[0m\n",
      "\u001b[1;32m    917\u001b[0m     dense_save_index\u001b[38;5;241m=\u001b[39mdense_save_index,\n",
      "\u001b[1;32m    918\u001b[0m )\n",
      "\u001b[1;32m    920\u001b[0m \u001b[38;5;66;03m#\u001b[39;00m\n",
      "\u001b[1;32m    921\u001b[0m \u001b[38;5;66;03m# Main loop\u001b[39;00m\n",
      "\u001b[1;32m    922\u001b[0m \u001b[38;5;66;03m#\u001b[39;00m\n",
      "\u001b[0;32m--> 924\u001b[0m final_state, aux_stats \u001b[38;5;241m=\u001b[39m \u001b[43madjoint\u001b[49m\u001b[38;5;241;43m.\u001b[39;49m\u001b[43mloop\u001b[49m\u001b[43m(\u001b[49m\n",
      "\u001b[1;32m    925\u001b[0m \u001b[43m    \u001b[49m\u001b[43margs\u001b[49m\u001b[38;5;241;43m=\u001b[39;49m\u001b[43margs\u001b[49m\u001b[43m,\u001b[49m\n",
      "\u001b[1;32m    926\u001b[0m \u001b[43m    \u001b[49m\u001b[43mterms\u001b[49m\u001b[38;5;241;43m=\u001b[39;49m\u001b[43mterms\u001b[49m\u001b[43m,\u001b[49m\n",
      "\u001b[1;32m    927\u001b[0m \u001b[43m    \u001b[49m\u001b[43msolver\u001b[49m\u001b[38;5;241;43m=\u001b[39;49m\u001b[43msolver\u001b[49m\u001b[43m,\u001b[49m\n",
      "\u001b[1;32m    928\u001b[0m \u001b[43m    \u001b[49m\u001b[43mstepsize_controller\u001b[49m\u001b[38;5;241;43m=\u001b[39;49m\u001b[43mstepsize_controller\u001b[49m\u001b[43m,\u001b[49m\n",
      "\u001b[1;32m    929\u001b[0m \u001b[43m    \u001b[49m\u001b[43mdiscrete_terminating_event\u001b[49m\u001b[38;5;241;43m=\u001b[39;49m\u001b[43mdiscrete_terminating_event\u001b[49m\u001b[43m,\u001b[49m\n",
      "\u001b[1;32m    930\u001b[0m \u001b[43m    \u001b[49m\u001b[43msaveat\u001b[49m\u001b[38;5;241;43m=\u001b[39;49m\u001b[43msaveat\u001b[49m\u001b[43m,\u001b[49m\n",
      "\u001b[1;32m    931\u001b[0m \u001b[43m    \u001b[49m\u001b[43mt0\u001b[49m\u001b[38;5;241;43m=\u001b[39;49m\u001b[43mt0\u001b[49m\u001b[43m,\u001b[49m\n",
      "\u001b[1;32m    932\u001b[0m \u001b[43m    \u001b[49m\u001b[43mt1\u001b[49m\u001b[38;5;241;43m=\u001b[39;49m\u001b[43mt1\u001b[49m\u001b[43m,\u001b[49m\n",
      "\u001b[1;32m    933\u001b[0m \u001b[43m    \u001b[49m\u001b[43mdt0\u001b[49m\u001b[38;5;241;43m=\u001b[39;49m\u001b[43mdt0\u001b[49m\u001b[43m,\u001b[49m\n",
      "\u001b[1;32m    934\u001b[0m \u001b[43m    \u001b[49m\u001b[43mmax_steps\u001b[49m\u001b[38;5;241;43m=\u001b[39;49m\u001b[43mmax_steps\u001b[49m\u001b[43m,\u001b[49m\n",
      "\u001b[1;32m    935\u001b[0m \u001b[43m    \u001b[49m\u001b[43minit_state\u001b[49m\u001b[38;5;241;43m=\u001b[39;49m\u001b[43minit_state\u001b[49m\u001b[43m,\u001b[49m\n",
      "\u001b[1;32m    936\u001b[0m \u001b[43m    \u001b[49m\u001b[43mthrow\u001b[49m\u001b[38;5;241;43m=\u001b[39;49m\u001b[43mthrow\u001b[49m\u001b[43m,\u001b[49m\n",
      "\u001b[1;32m    937\u001b[0m \u001b[43m    \u001b[49m\u001b[43mpassed_solver_state\u001b[49m\u001b[38;5;241;43m=\u001b[39;49m\u001b[43mpassed_solver_state\u001b[49m\u001b[43m,\u001b[49m\n",
      "\u001b[1;32m    938\u001b[0m \u001b[43m    \u001b[49m\u001b[43mpassed_controller_state\u001b[49m\u001b[38;5;241;43m=\u001b[39;49m\u001b[43mpassed_controller_state\u001b[49m\u001b[43m,\u001b[49m\n",
      "\u001b[1;32m    939\u001b[0m \u001b[43m\u001b[49m\u001b[43m)\u001b[49m\n",
      "\u001b[1;32m    941\u001b[0m \u001b[38;5;66;03m#\u001b[39;00m\n",
      "\u001b[1;32m    942\u001b[0m \u001b[38;5;66;03m# Finish up\u001b[39;00m\n",
      "\u001b[1;32m    943\u001b[0m \u001b[38;5;66;03m#\u001b[39;00m\n",
      "\u001b[1;32m    945\u001b[0m is_save_state \u001b[38;5;241m=\u001b[39m \u001b[38;5;28;01mlambda\u001b[39;00m x: \u001b[38;5;28misinstance\u001b[39m(x, SaveState)\n",
      "\n",
      "    \u001b[0;31m[... skipping hidden 1 frame]\u001b[0m\n",
      "\n",
      "File \u001b[0;32m/feynman/work/dphp/hs276503/envs/montenvtest3/lib/python3.12/site-packages/diffrax/_adjoint.py:288\u001b[0m, in \u001b[0;36mRecursiveCheckpointAdjoint.loop\u001b[0;34m(***failed resolving arguments***)\u001b[0m\n",
      "\u001b[1;32m    284\u001b[0m     outer_while_loop \u001b[38;5;241m=\u001b[39m ft\u001b[38;5;241m.\u001b[39mpartial(\n",
      "\u001b[1;32m    285\u001b[0m         _outer_loop, kind\u001b[38;5;241m=\u001b[39m\u001b[38;5;124m\"\u001b[39m\u001b[38;5;124mcheckpointed\u001b[39m\u001b[38;5;124m\"\u001b[39m, checkpoints\u001b[38;5;241m=\u001b[39m\u001b[38;5;28mself\u001b[39m\u001b[38;5;241m.\u001b[39mcheckpoints\n",
      "\u001b[1;32m    286\u001b[0m     )\n",
      "\u001b[1;32m    287\u001b[0m     msg \u001b[38;5;241m=\u001b[39m \u001b[38;5;28;01mNone\u001b[39;00m\n",
      "\u001b[0;32m--> 288\u001b[0m final_state \u001b[38;5;241m=\u001b[39m \u001b[38;5;28;43mself\u001b[39;49m\u001b[38;5;241;43m.\u001b[39;49m\u001b[43m_loop\u001b[49m\u001b[43m(\u001b[49m\n",
      "\u001b[1;32m    289\u001b[0m \u001b[43m    \u001b[49m\u001b[43mterms\u001b[49m\u001b[38;5;241;43m=\u001b[39;49m\u001b[43mterms\u001b[49m\u001b[43m,\u001b[49m\n",
      "\u001b[1;32m    290\u001b[0m \u001b[43m    \u001b[49m\u001b[43msaveat\u001b[49m\u001b[38;5;241;43m=\u001b[39;49m\u001b[43msaveat\u001b[49m\u001b[43m,\u001b[49m\n",
      "\u001b[1;32m    291\u001b[0m \u001b[43m    \u001b[49m\u001b[43minit_state\u001b[49m\u001b[38;5;241;43m=\u001b[39;49m\u001b[43minit_state\u001b[49m\u001b[43m,\u001b[49m\n",
      "\u001b[1;32m    292\u001b[0m \u001b[43m    \u001b[49m\u001b[43mmax_steps\u001b[49m\u001b[38;5;241;43m=\u001b[39;49m\u001b[43mmax_steps\u001b[49m\u001b[43m,\u001b[49m\n",
      "\u001b[1;32m    293\u001b[0m \u001b[43m    \u001b[49m\u001b[43minner_while_loop\u001b[49m\u001b[38;5;241;43m=\u001b[39;49m\u001b[43minner_while_loop\u001b[49m\u001b[43m,\u001b[49m\n",
      "\u001b[1;32m    294\u001b[0m \u001b[43m    \u001b[49m\u001b[43mouter_while_loop\u001b[49m\u001b[38;5;241;43m=\u001b[39;49m\u001b[43mouter_while_loop\u001b[49m\u001b[43m,\u001b[49m\n",
      "\u001b[1;32m    295\u001b[0m \u001b[43m    \u001b[49m\u001b[38;5;241;43m*\u001b[39;49m\u001b[38;5;241;43m*\u001b[39;49m\u001b[43mkwargs\u001b[49m\u001b[43m,\u001b[49m\n",
      "\u001b[1;32m    296\u001b[0m \u001b[43m\u001b[49m\u001b[43m)\u001b[49m\n",
      "\u001b[1;32m    297\u001b[0m \u001b[38;5;28;01mif\u001b[39;00m msg \u001b[38;5;129;01mis\u001b[39;00m \u001b[38;5;129;01mnot\u001b[39;00m \u001b[38;5;28;01mNone\u001b[39;00m:\n",
      "\u001b[1;32m    298\u001b[0m     final_state \u001b[38;5;241m=\u001b[39m eqxi\u001b[38;5;241m.\u001b[39mnondifferentiable_backward(\n",
      "\u001b[1;32m    299\u001b[0m         final_state, msg\u001b[38;5;241m=\u001b[39mmsg, symbolic\u001b[38;5;241m=\u001b[39m\u001b[38;5;28;01mTrue\u001b[39;00m\n",
      "\u001b[1;32m    300\u001b[0m     )\n",
      "\n",
      "File \u001b[0;32m/feynman/work/dphp/hs276503/envs/montenvtest3/lib/python3.12/site-packages/diffrax/_integrate.py:447\u001b[0m, in \u001b[0;36mloop\u001b[0;34m(solver, stepsize_controller, discrete_terminating_event, saveat, t0, t1, dt0, max_steps, terms, args, init_state, inner_while_loop, outer_while_loop)\u001b[0m\n",
      "\u001b[1;32m    445\u001b[0m static_made_jump \u001b[38;5;241m=\u001b[39m init_state\u001b[38;5;241m.\u001b[39mmade_jump\n",
      "\u001b[1;32m    446\u001b[0m static_result \u001b[38;5;241m=\u001b[39m init_state\u001b[38;5;241m.\u001b[39mresult\n",
      "\u001b[0;32m--> 447\u001b[0m _, traced_jump, traced_result \u001b[38;5;241m=\u001b[39m \u001b[43meqx\u001b[49m\u001b[38;5;241;43m.\u001b[39;49m\u001b[43mfilter_eval_shape\u001b[49m\u001b[43m(\u001b[49m\u001b[43mbody_fun_aux\u001b[49m\u001b[43m,\u001b[49m\u001b[43m \u001b[49m\u001b[43minit_state\u001b[49m\u001b[43m)\u001b[49m\n",
      "\u001b[1;32m    448\u001b[0m \u001b[38;5;28;01mif\u001b[39;00m traced_jump:\n",
      "\u001b[1;32m    449\u001b[0m     static_made_jump \u001b[38;5;241m=\u001b[39m \u001b[38;5;28;01mNone\u001b[39;00m\n",
      "\n",
      "    \u001b[0;31m[... skipping hidden 15 frame]\u001b[0m\n",
      "\n",
      "File \u001b[0;32m/feynman/work/dphp/hs276503/envs/montenvtest3/lib/python3.12/site-packages/diffrax/_integrate.py:281\u001b[0m, in \u001b[0;36mloop.<locals>.body_fun_aux\u001b[0;34m(state)\u001b[0m\n",
      "\u001b[1;32m    279\u001b[0m debug\u001b[38;5;241m.\u001b[39mprint(\u001b[38;5;124m\"\u001b[39m\u001b[38;5;132;01m{x}\u001b[39;00m\u001b[38;5;124m\"\u001b[39m, x\u001b[38;5;241m=\u001b[39m(tprev, tnext, made_jump, controller_state, stepsize_controller_result))\n",
      "\u001b[1;32m    280\u001b[0m \u001b[38;5;28mprint\u001b[39m(\u001b[38;5;124m\"\u001b[39m\u001b[38;5;124mFinal\u001b[39m\u001b[38;5;124m\"\u001b[39m, jnp\u001b[38;5;241m.\u001b[39mresult_type(keep_step) \u001b[38;5;129;01mis\u001b[39;00m jnp\u001b[38;5;241m.\u001b[39mdtype(\u001b[38;5;28mbool\u001b[39m))\n",
      "\u001b[0;32m--> 281\u001b[0m \u001b[38;5;28;01massert\u001b[39;00m jnp\u001b[38;5;241m.\u001b[39mresult_type(keep_step) \u001b[38;5;129;01mis\u001b[39;00m jnp\u001b[38;5;241m.\u001b[39mdtype(\u001b[38;5;28mbool\u001b[39m)\n",
      "\u001b[1;32m    283\u001b[0m \u001b[38;5;66;03m#\u001b[39;00m\n",
      "\u001b[1;32m    284\u001b[0m \u001b[38;5;66;03m# Do some book-keeping.\u001b[39;00m\n",
      "\u001b[1;32m    285\u001b[0m \u001b[38;5;66;03m#\u001b[39;00m\n",
      "\u001b[1;32m    287\u001b[0m tprev \u001b[38;5;241m=\u001b[39m jnp\u001b[38;5;241m.\u001b[39mminimum(tprev, t1)\n",
      "\n",
      "\u001b[0;31mAssertionError\u001b[0m: "
     ]
    }
   ],
   "source": [
    "if mcmc_config['sampler'] != 'NUTSwG':\n",
    "    # model.reset()\n",
    "    # model.condition({'obs': truth['obs']} | model.prior_loc, frombase=True)\n",
    "    # model.block()\n",
    "    # print(model.reparam(model.prior_loc))\n",
    "    model.reset()\n",
    "    model.condition({'obs': truth['obs']})\n",
    "    model.block()\n",
    "    mcmc = get_mcmc(model.model, mcmc_config)\n",
    "    if True or continue_run:\n",
    "        mcmc.num_warmup = 0\n",
    "        mcmc.post_warmup_state = pload(save_path + \"_last_state.p\")\n",
    "        start = 1\n",
    "        end = start + mcmc_config['n_runs'] - 1\n",
    "        mcmc_runned = sample_and_save(mcmc, save_path, start, end, rng=43, extra_fields=['num_steps'])\n",
    "\n",
    "    else:\n",
    "        # mcmc_runned = sample_and_save(mcmc, save_path, 0, mcmc_config['n_runs'], extra_fields=['num_steps'], init_params=init_params_)\n",
    "        mcmc_runned = sample_and_save(mcmc, save_path, 0, 0, extra_fields=['num_steps'], init_params=init_params_)\n",
    "\n",
    "else:\n",
    "    from montecosmo.samplers import nutswg_init, get_nutswg_warm, get_nutswg_run\n",
    "\n",
    "    step_fn, init_fn, conf, init_state_fn = nutswg_init(model.logpdf)\n",
    "\n",
    "    # warmup_fn = jit(vmap(get_nutswg_warm(model.logpdf, conf, mcmc_config['n_samples'], progress_bar=False)))\n",
    "    # state = jit(vmap(init_state_fn))(init_params_)\n",
    "\n",
    "    # samples, infos, state, conf = warmup_fn(jr.split(jr.key(43), mcmc_config['n_chains']), state)\n",
    "    # print(\"conf:\", conf,\n",
    "    #         \"\\n\\ninfos:\", infos, '\\n#################\\n')\n",
    "    # jnp.savez(save_path+f\"_{0}.npz\", **samples | {k:infos[k] for k in ['n_evals']})\n",
    "    # pdump(state, save_path+f\"_last_state.p\")\n",
    "    # pdump(conf, save_path+'_conf.p'), pdump(tree.map(jnp.mean, infos), save_path+'_infos.p')\n",
    "\n",
    "    conf = pload(save_path+'_conf.p')\n",
    "    state = pload(save_path+'_last_state.p')\n",
    "    \n",
    "    run_fn = jit(vmap(get_nutswg_run(model.logpdf, step_fn, init_fn, mcmc_config['n_samples'], progress_bar=False)))\n",
    "    start = 11\n",
    "    end = start + mcmc_config['n_runs'] - 1\n",
    "    key = jr.key(42)\n",
    "    for i_run in range(start, end+1):\n",
    "        print(f\"run {i_run}/{end}\")\n",
    "        key, run_key = jr.split(key, 2)\n",
    "        samples, infos, state = run_fn(jr.split(run_key, mcmc_config['n_chains']), state, conf)\n",
    "        print(\"infos:\", tree.map(lambda x: jnp.mean(x, 1), infos))\n",
    "        jnp.savez(save_path+f\"_{i_run}.npz\", **samples | {k:infos[k] for k in ['n_evals']})\n",
    "        pdump(state, save_path+f\"_last_state.p\")"
   ]
  },
  {
   "cell_type": "code",
   "execution_count": 45,
   "metadata": {},
   "outputs": [
    {
     "data": {
      "text/plain": [
       "HMCState(i=<class 'jaxlib.xla_extension.ArrayImpl'>, z={'Omega_m_': <class 'jaxlib.xla_extension.ArrayImpl'>, 'b1_': <class 'jaxlib.xla_extension.ArrayImpl'>, 'b2_': <class 'jaxlib.xla_extension.ArrayImpl'>, 'bn2_': <class 'jaxlib.xla_extension.ArrayImpl'>, 'bs2_': <class 'jaxlib.xla_extension.ArrayImpl'>, 'init_mesh_': <class 'jaxlib.xla_extension.ArrayImpl'>, 'sigma8_': <class 'jaxlib.xla_extension.ArrayImpl'>}, z_grad={'Omega_m_': <class 'jaxlib.xla_extension.ArrayImpl'>, 'b1_': <class 'jaxlib.xla_extension.ArrayImpl'>, 'b2_': <class 'jaxlib.xla_extension.ArrayImpl'>, 'bn2_': <class 'jaxlib.xla_extension.ArrayImpl'>, 'bs2_': <class 'jaxlib.xla_extension.ArrayImpl'>, 'init_mesh_': <class 'jaxlib.xla_extension.ArrayImpl'>, 'sigma8_': <class 'jaxlib.xla_extension.ArrayImpl'>}, potential_energy=<class 'jaxlib.xla_extension.ArrayImpl'>, energy=<class 'jaxlib.xla_extension.ArrayImpl'>, r=None, trajectory_length=None, num_steps=<class 'jaxlib.xla_extension.ArrayImpl'>, accept_prob=<class 'jaxlib.xla_extension.ArrayImpl'>, mean_accept_prob=<class 'jaxlib.xla_extension.ArrayImpl'>, diverging=<class 'jaxlib.xla_extension.ArrayImpl'>, adapt_state=HMCAdaptState(step_size=<class 'jaxlib.xla_extension.ArrayImpl'>, inverse_mass_matrix={('Omega_m_', 'b1_', 'b2_', 'bn2_', 'bs2_', 'init_mesh_', 'sigma8_'): <class 'jaxlib.xla_extension.ArrayImpl'>}, mass_matrix_sqrt={('Omega_m_', 'b1_', 'b2_', 'bn2_', 'bs2_', 'init_mesh_', 'sigma8_'): <class 'jaxlib.xla_extension.ArrayImpl'>}, mass_matrix_sqrt_inv={('Omega_m_', 'b1_', 'b2_', 'bn2_', 'bs2_', 'init_mesh_', 'sigma8_'): <class 'jaxlib.xla_extension.ArrayImpl'>}, ss_state=(<class 'jaxlib.xla_extension.ArrayImpl'>, <class 'jaxlib.xla_extension.ArrayImpl'>, <class 'jaxlib.xla_extension.ArrayImpl'>, <class 'jaxlib.xla_extension.ArrayImpl'>, <class 'jaxlib.xla_extension.ArrayImpl'>), mm_state={('Omega_m_', 'b1_', 'b2_', 'bn2_', 'bs2_', 'init_mesh_', 'sigma8_'): (<class 'jaxlib.xla_extension.ArrayImpl'>, <class 'jaxlib.xla_extension.ArrayImpl'>, <class 'jaxlib.xla_extension.ArrayImpl'>)}, window_idx=<class 'jaxlib.xla_extension.ArrayImpl'>, rng_key=<class 'jax._src.prng.PRNGKeyArray'>), rng_key=<class 'jax._src.prng.PRNGKeyArray'>)"
      ]
     },
     "execution_count": 45,
     "metadata": {},
     "output_type": "execute_result"
    }
   ],
   "source": [
    "def truc(x):\n",
    "    try:\n",
    "        return type(x)\n",
    "    except:\n",
    "        return type(x)\n",
    "tree.map(truc, mcmc.post_warmup_state)"
   ]
  },
  {
   "cell_type": "code",
   "execution_count": 41,
   "metadata": {},
   "outputs": [
    {
     "data": {
      "text/plain": [
       "'0.5.0'"
      ]
     },
     "execution_count": 41,
     "metadata": {},
     "output_type": "execute_result"
    }
   ],
   "source": [
    "import diffrax\n",
    "diffrax.__version__"
   ]
  },
  {
   "cell_type": "code",
   "execution_count": 60,
   "metadata": {},
   "outputs": [
    {
     "data": {
      "text/plain": [
       "(numpy.ndarray, dtype('bool'), dtype('bool'), False)"
      ]
     },
     "execution_count": 60,
     "metadata": {},
     "output_type": "execute_result"
    }
   ],
   "source": [
    "aa = np.array([0,1,2]).astype(bool)\n",
    "# aa = True\n",
    "type(aa), jnp.result_type(aa), jnp.dtype(bool), jnp.result_type(aa) is jnp.dtype(bool)"
   ]
  },
  {
   "cell_type": "code",
   "execution_count": 106,
   "metadata": {},
   "outputs": [
    {
     "name": "stderr",
     "output_type": "stream",
     "text": [
      "/feynman/work/dphp/hs276503/envs/montenvtest3/lib/python3.12/site-packages/jax/_src/numpy/array_methods.py:66: UserWarning: Explicitly requested dtype <class 'jax.numpy.int64'> requested in astype is not available, and will be truncated to dtype int32. To enable more dtypes, set the jax_enable_x64 configuration option or the JAX_ENABLE_X64 shell environment variable. See https://github.com/google/jax#current-gotchas for more.\n",
      "  return lax_numpy.astype(arr, dtype)\n",
      "/feynman/work/dphp/hs276503/envs/montenvtest3/lib/python3.12/site-packages/jax/_src/numpy/array_methods.py:66: UserWarning: Explicitly requested dtype <class 'jax.numpy.int64'> requested in astype is not available, and will be truncated to dtype int32. To enable more dtypes, set the jax_enable_x64 configuration option or the JAX_ENABLE_X64 shell environment variable. See https://github.com/google/jax#current-gotchas for more.\n",
      "  return lax_numpy.astype(arr, dtype)\n"
     ]
    },
    {
     "data": {
      "image/png": "[encoded data removed]",
      "text/plain": [
       "<Figure size 800x400 with 2 Axes>"
      ]
     },
     "metadata": {},
     "output_type": "display_data"
    }
   ],
   "source": [
    "from montecosmo.bricks import Planck18\n",
    "from montecosmo.plot import plot_pow\n",
    "import jax_cosmo as jc\n",
    "\n",
    "n = 10\n",
    "log = True\n",
    "ks = jnp.linspace(0, 0.5, 100)\n",
    "pk_fn = jit(partial(jc.power.linear_matter_power, k=ks, a=1))\n",
    "Oms = np.linspace(0.29, 0.33, n)\n",
    "\n",
    "plt.figure(figsize=(8, 4))\n",
    "plt.subplot(121)\n",
    "plt.title(\"$\\\\Omega_m \\\\in [0.29, 0.33]$, fixed $\\\\Omega_c$\")\n",
    "for i_c, Om in enumerate(Oms):\n",
    "    cmap = plt.get_cmap('viridis_r', n)\n",
    "    cosmo = Planck18(Omega_b=Om - Planck18().Omega_c)\n",
    "    pk = pk_fn(cosmo)\n",
    "    plot_pow(ks, pk, log=log, color=cmap(i_c))\n",
    "\n",
    "plt.subplot(122)\n",
    "plt.title(\"$\\\\Omega_m \\\\in [0.29, 0.33]$, fixed $\\\\Omega_b$\")\n",
    "for i_c, Om in enumerate(Oms):\n",
    "    cmap = plt.get_cmap('viridis_r', n)\n",
    "    cosmo = Planck18(Omega_c=Om - Planck18().Omega_b)\n",
    "    pk = pk_fn(cosmo)\n",
    "    plot_pow(ks, pk, log=log, color=cmap(i_c))\n",
    "plt.tight_layout()"
   ]
  }
 ],
 "metadata": {
  "kernelspec": {
   "display_name": "Python 3 (ipykernel)",
   "language": "python",
   "name": "python3"
  },
  "language_info": {
   "codemirror_mode": {
    "name": "ipython",
    "version": 3
   },
   "file_extension": ".py",
   "mimetype": "text/x-python",
   "name": "python",
   "nbconvert_exporter": "python",
   "pygments_lexer": "ipython3",
   "version": "3.12.3"
  }
 },
 "nbformat": 4,
 "nbformat_minor": 2
}
