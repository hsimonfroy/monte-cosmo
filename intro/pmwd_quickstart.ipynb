{
 "cells": [
  {
   "cell_type": "markdown",
   "id": "29237420",
   "metadata": {
    "slideshow": {
     "slide_type": "slide"
    }
   },
   "source": [
    "# Quickstart"
   ]
  },
  {
   "cell_type": "code",
   "execution_count": 1,
   "id": "3cb2b7b8",
   "metadata": {
    "cell_style": "center",
    "slideshow": {
     "slide_type": "subslide"
    },
    "tags": []
   },
   "outputs": [
    {
     "name": "stdout",
     "output_type": "stream",
     "text": [
      "NVIDIA A100-PCIE-40GB\n"
     ]
    },
    {
     "name": "stderr",
     "output_type": "stream",
     "text": [
      "/feynman/work/dphp/hs276503/envs/montenvtest3/lib/python3.12/pty.py:95: RuntimeWarning: os.fork() was called. os.fork() is incompatible with multithreaded code, and JAX is multithreaded, so this will likely lead to a deadlock.\n",
      "  pid, fd = os.forkpty()\n"
     ]
    }
   ],
   "source": [
    "import os\n",
    "\n",
    "# uncomment to disable NVIDIA GPUs\n",
    "#os.environ['CUDA_VISIBLE_DEVICES'] = ''\n",
    "# or pick the device (cpu, gpu, and tpu)\n",
    "#os.environ['JAX_PLATFORMS'] = 'cpu'\n",
    "\n",
    "# change JAX GPU memory preallocation fraction\n",
    "os.environ['XLA_PYTHON_CLIENT_MEM_FRACTION'] = '.95'\n",
    "\n",
    "# you do not want this\n",
    "#os.environ['XLA_FLAGS'] = '--xla_gpu_deterministic_ops=true'\n",
    "\n",
    "%matplotlib inline\n",
    "%load_ext autoreload \n",
    "%autoreload 2\n",
    "\n",
    "import jax\n",
    "from jax import random as jr, numpy as jnp, jit\n",
    "from functools import partial\n",
    "#jax.print_environment_info()\n",
    "\n",
    "!nvidia-smi --query-gpu=gpu_name --format=csv,noheader"
   ]
  },
  {
   "cell_type": "code",
   "execution_count": 2,
   "id": "aaaee7c1",
   "metadata": {
    "slideshow": {
     "slide_type": "subslide"
    },
    "tags": []
   },
   "outputs": [],
   "source": [
    "import matplotlib.pyplot as plt\n",
    "\n",
    "from pmwd import (\n",
    "    Configuration,\n",
    "    Cosmology, SimpleLCDM,\n",
    "    boltzmann, linear_power, growth,\n",
    "    white_noise, linear_modes,\n",
    "    lpt,\n",
    "    nbody,\n",
    "    scatter,\n",
    ")\n",
    "from pmwd.pm_util import fftinv\n",
    "from pmwd.spec_util import powspec\n",
    "from pmwd.vis_util import simshow"
   ]
  },
  {
   "cell_type": "markdown",
   "id": "2532461b",
   "metadata": {},
   "source": [
    "# Simply"
   ]
  },
  {
   "cell_type": "code",
   "execution_count": 3,
   "id": "5429ebe9",
   "metadata": {},
   "outputs": [],
   "source": [
    "def run(mesh_length):\n",
    "    ptcl_spacing = 640 / mesh_length \n",
    "    ptcl_grid_shape = (mesh_length,) * 3\n",
    "\n",
    "    conf = Configuration(ptcl_spacing, ptcl_grid_shape, mesh_shape=1, a_start=0.1, lpt_order=1)\n",
    "    cosmo = Cosmology(conf, A_s_1e9=2.105, n_s=0.9665, Omega_m=0.3111, Omega_b=0.0490, h=0.6766)\n",
    "    cosmo = boltzmann(cosmo, conf)\n",
    "\n",
    "    seed = 0\n",
    "    modes = white_noise(seed, conf)\n",
    "    modes = linear_modes(modes, cosmo, conf)\n",
    "    ptcl, obsvbl = lpt(modes, cosmo, conf)\n",
    "    ptcl, obsvbl = nbody(ptcl, obsvbl, cosmo, conf)\n",
    "    dens = scatter(ptcl, conf)\n",
    "\n",
    "    dens_lin = fftinv(modes, shape=conf.ptcl_grid_shape, norm=conf.ptcl_spacing)\n",
    "    dens_lin *= growth(conf.a_stop, cosmo, conf)\n",
    "    return dens, dens_lin, conf"
   ]
  },
  {
   "cell_type": "code",
   "execution_count": 4,
   "id": "e54020a4",
   "metadata": {},
   "outputs": [
    {
     "name": "stderr",
     "output_type": "stream",
     "text": [
      "2024-12-08 12:41:03.613453: W external/xla/xla/service/gpu/nvptx_compiler.cc:742] The NVIDIA driver's CUDA version is 11.5 which is older than the ptxas CUDA version (11.8.89). Because the driver is older than the ptxas version, XLA is disabling parallel compilation, which may slow down compilation. You should update your NVIDIA driver or use the NVIDIA-provided CUDA forward compatibility packages.\n"
     ]
    }
   ],
   "source": [
    "denses = []\n",
    "sizes = [64,128,256]\n",
    "for s in sizes:\n",
    "    dens, dl, conf = run(s)\n",
    "    denses.append([dens, dl, conf])\n",
    "\n",
    "jrun = jit(partial(run, 256))"
   ]
  },
  {
   "cell_type": "code",
   "execution_count": 5,
   "id": "6f6cb2ae",
   "metadata": {},
   "outputs": [
    {
     "name": "stdout",
     "output_type": "stream",
     "text": [
      "CPU times: user 37.1 s, sys: 519 ms, total: 37.6 s\n",
      "Wall time: 37.8 s\n"
     ]
    }
   ],
   "source": [
    "%%time\n",
    "from jax import block_until_ready\n",
    "res = block_until_ready(jrun())"
   ]
  },
  {
   "cell_type": "code",
   "execution_count": 6,
   "id": "acb17ae9",
   "metadata": {},
   "outputs": [
    {
     "name": "stdout",
     "output_type": "stream",
     "text": [
      "CPU times: user 141 ms, sys: 84.4 ms, total: 226 ms\n",
      "Wall time: 1.09 s\n"
     ]
    }
   ],
   "source": [
    "%%time\n",
    "from jax import block_until_ready\n",
    "res = block_until_ready(jrun())"
   ]
  },
  {
   "cell_type": "code",
   "execution_count": 7,
   "id": "c7cbed9a",
   "metadata": {},
   "outputs": [],
   "source": [
    "from jax_cosmo import Cosmology as Cosmo, background\n",
    "import jax_cosmo as jc\n",
    "\n",
    "from jax.experimental.ode import odeint\n",
    "from jaxpm.painting import cic_paint\n",
    "from jaxpm.pm import linear_field\n",
    "from montecosmo.bricks import lpt as mylpt, get_ode_fn, make_ode_fn\n",
    "from diffrax import diffeqsolve, ODETerm, SaveAt, PIDController, Euler, Heun, Dopri5\n",
    "\n",
    "\n",
    "# Planck 2018 paper VI Table 2 final column (best fit)\n",
    "Planck18 = partial(Cosmo,\n",
    "    # Omega_m = 0.3111\n",
    "    Omega_c=0.2607,\n",
    "    Omega_b=0.0490,\n",
    "    Omega_k=0.0,\n",
    "    h=0.6766,\n",
    "    n_s=0.9665,\n",
    "    sigma8=0.8102,\n",
    "    w0=-1.0,\n",
    "    wa=0.0,)\n",
    "\n",
    "def nbody_diffrax(cosmo:Cosmology, mesh_shape, particles, a_lpt, a_obs, \n",
    "          grad_fd, lap_fd, trace_meshes=2, tol=1e-5):\n",
    "    terms = ODETerm(get_ode_fn(cosmo, mesh_shape, grad_fd, lap_fd))\n",
    "    solver = Dopri5()\n",
    "    controller = PIDController(rtol=tol, atol=tol, pcoeff=0.4, icoeff=1, dcoeff=0)\n",
    "    if trace_meshes < 2: \n",
    "        saveat = SaveAt(t1=True)\n",
    "    else: \n",
    "        saveat = SaveAt(ts=jnp.linspace(a_lpt, a_obs, trace_meshes))      \n",
    "    sol = diffeqsolve(terms, solver, a_lpt, a_obs, dt0=None, y0=particles,\n",
    "                            stepsize_controller=controller, max_steps=100, saveat=saveat)\n",
    "    particles = sol.ys\n",
    "    # debug.print(\"n_solvsteps: {n}\", n=sol.stats['num_steps'])\n",
    "    return particles\n",
    "\n",
    "def nbody_odeint(cosmo:Cosmology, mesh_shape, particles, a_lpt, a_obs, \n",
    "          grad_fd, lap_fd, trace_meshes=2, tol=1e-5):\n",
    "    ode_fn = make_ode_fn(mesh_shape, grad_fd, lap_fd)\n",
    "    return odeint(ode_fn, particles, \n",
    "                     jnp.linspace(a_lpt, a_obs, 2), cosmo, rtol=tol, atol=tol)\n",
    "\n",
    "def run_jpm(mesh_length, a_lpt=0.1, a_obs=1., lpt_order=1, grad_fd=True, lap_fd=False, tol=1e-5):\n",
    "    # Initial power spectrum\n",
    "    mesh_shape = (mesh_length,) * 3\n",
    "    box_shape = jnp.ones(3) * 640\n",
    "    cosmo = Planck18()\n",
    "    k = jnp.logspace(-4, 1, 128)\n",
    "    pk = jc.power.linear_matter_power(cosmo, k)\n",
    "    pk_fn = lambda x: jc.scipy.interpolate.interp(x.reshape([-1]), k, pk).reshape(x.shape)\n",
    "\n",
    "    # JaxPM init to FastPM init\n",
    "    init_mesh = linear_field(mesh_shape, box_shape, pk_fn, seed=jr.key(0)) # XXX\n",
    "\n",
    "    x_part = jnp.indices(mesh_shape).reshape(3,-1).T\n",
    "    cosmo._workspace = {}  # FIX ME: this a temporary fix\n",
    "    dx, p_part, f = mylpt(cosmo, init_mesh, x_part, a_lpt, lpt_order, grad_fd, lap_fd)\n",
    "\n",
    "    if a_obs == a_lpt:\n",
    "        pos = x_part + dx\n",
    "    else:\n",
    "        res = nbody_diffrax(cosmo, mesh_shape, jnp.stack([x_part + dx, p_part]), a_lpt, a_obs, \n",
    "                    grad_fd, lap_fd, trace_meshes=2, tol=tol)  \n",
    "        pos, p = res[-1]\n",
    "\n",
    "    return cic_paint(jnp.zeros(mesh_shape), pos), init_mesh, box_shape"
   ]
  },
  {
   "cell_type": "code",
   "execution_count": 8,
   "id": "c989ed28",
   "metadata": {},
   "outputs": [],
   "source": [
    "denses_jpm = []\n",
    "sizes = [64,128,256]\n",
    "for s in sizes:\n",
    "    dens, dl, conf = run_jpm(s)\n",
    "    denses_jpm.append([dens, dl, conf])\n",
    "\n",
    "jpmrun = jit(partial(run_jpm, 256))"
   ]
  },
  {
   "cell_type": "code",
   "execution_count": 9,
   "id": "1b32b5bf",
   "metadata": {},
   "outputs": [
    {
     "name": "stdout",
     "output_type": "stream",
     "text": [
      "CPU times: user 6.59 s, sys: 134 ms, total: 6.72 s\n",
      "Wall time: 7.18 s\n"
     ]
    }
   ],
   "source": [
    "%%time\n",
    "from jax import block_until_ready\n",
    "res = block_until_ready(jpmrun())"
   ]
  },
  {
   "cell_type": "code",
   "execution_count": 10,
   "id": "f103e948",
   "metadata": {},
   "outputs": [
    {
     "name": "stdout",
     "output_type": "stream",
     "text": [
      "CPU times: user 2.09 s, sys: 0 ns, total: 2.09 s\n",
      "Wall time: 2.09 s\n"
     ]
    }
   ],
   "source": [
    "%%time\n",
    "from jax import block_until_ready\n",
    "res = block_until_ready(jpmrun())"
   ]
  },
  {
   "cell_type": "code",
   "execution_count": 19,
   "id": "51b4fa84",
   "metadata": {},
   "outputs": [
    {
     "data": {
      "image/jpeg": "[encoded data removed]",
      "text/plain": [
       "<Figure size 800x400 with 2 Axes>"
      ]
     },
     "metadata": {},
     "output_type": "display_data"
    },
    {
     "data": {
      "text/plain": [
       "(None, None)"
      ]
     },
     "execution_count": 19,
     "metadata": {},
     "output_type": "execute_result"
    }
   ],
   "source": [
    "from montecosmo.metrics import power_spectrum\n",
    "from jaxpm.painting import compensate_cic\n",
    "from montecosmo.plot import plot_pk, plot_trans\n",
    "\n",
    "plt.figure(figsize=(8,4))\n",
    "i_color = 0\n",
    "plt.subplot(121)\n",
    "for dens, dens_jpm, lab in zip(denses, denses_jpm, sizes):\n",
    "    dens, dl, conf = dens\n",
    "    dens_jpm, dl_jpm, conf_jpm = dens_jpm\n",
    "    deconv = 4\n",
    "    ks, pk = power_spectrum(compensate_cic(dens), box_shape=conf_jpm)\n",
    "    # ks, pk_lin = power_spectrum(dl, box_shape=3*(640.,))\n",
    "    k, P, _, _ = powspec(dens, conf.cell_size, deconv=deconv)\n",
    "\n",
    "    ksjpm, pkjpm = power_spectrum(compensate_cic(dens_jpm), box_shape=conf_jpm)\n",
    "    kjpm, Pjpm, _, _ = powspec(dens_jpm, conf.cell_size, deconv=deconv)\n",
    "\n",
    "    log = False\n",
    "    plot_pk(ks, pk, f'C{i_color}-', log=log, label=lab)\n",
    "    plot_pk(ksjpm, pkjpm, f'C{i_color+1}-', log=log, label=lab)\n",
    "    plot_pk(k, P, f'C{i_color}+-', log=log, label=lab)\n",
    "    plot_pk(kjpm, Pjpm, f'C{i_color+1}+-', log=log, label=lab)\n",
    "\n",
    "    # plot_pk(ks, pk_lin, ':k', label='lin')\n",
    "    plt.xlim(*plt.xlim())\n",
    "    i_color += 2\n",
    "\n",
    "plt.legend()\n",
    "\n",
    "plt.subplot(122)\n",
    "for dens, lab in zip(denses, [64,128,256]):\n",
    "    ks, pk = power_spectrum(compensate_cic(dens[0]), box_shape=3*(640.,))\n",
    "    ks, pk_lin = power_spectrum(dens[1], box_shape=3*(640.,))\n",
    "    plot_trans(ks, (pk/pk_lin)**.5, label=lab)\n",
    "    plt.xlim(*plt.xlim())\n",
    "\n",
    "plt.legend()\n",
    "plt.tight_layout(), plt.show()"
   ]
  },
  {
   "cell_type": "markdown",
   "id": "c6c7edc8",
   "metadata": {
    "slideshow": {
     "slide_type": "slide"
    }
   },
   "source": [
    "## Simulate Forward"
   ]
  },
  {
   "cell_type": "markdown",
   "id": "0e49bfa5",
   "metadata": {
    "slideshow": {
     "slide_type": "subslide"
    }
   },
   "source": [
    "`Configuration` stores static configuration and parameters for which we do not need derivatives."
   ]
  },
  {
   "cell_type": "code",
   "execution_count": 20,
   "id": "e03a1c7f-3ca4-479c-8052-3bfef6fd55d1",
   "metadata": {
    "cell_style": "center",
    "slideshow": {
     "slide_type": "-"
    },
    "tags": []
   },
   "outputs": [],
   "source": [
    "if jax.default_backend() == 'gpu':\n",
    "    ptcl_spacing = 1.  # Lagrangian space Cartesian particle grid spacing, in Mpc/h by default\n",
    "    ptcl_grid_shape = (256,) * 3\n",
    "else:\n",
    "    ptcl_spacing = 4.\n",
    "    ptcl_grid_shape = (64,) * 3\n",
    "\n",
    "conf = Configuration(ptcl_spacing, ptcl_grid_shape, mesh_shape=2)  # 2x mesh shape"
   ]
  },
  {
   "cell_type": "code",
   "execution_count": 21,
   "id": "5c0f1402",
   "metadata": {
    "slideshow": {
     "slide_type": "subslide"
    },
    "tags": []
   },
   "outputs": [
    {
     "name": "stdout",
     "output_type": "stream",
     "text": [
      "Configuration(ptcl_spacing=1.0,\n",
      "              ptcl_grid_shape=(256, 256, 256),\n",
      "              mesh_shape=(512, 512, 512),\n",
      "              cosmo_dtype=dtype('float64'),\n",
      "              pmid_dtype=dtype('int16'),\n",
      "              float_dtype=dtype('float32'),\n",
      "              k_pivot_Mpc=0.05,\n",
      "              T_cmb=2.7255,\n",
      "              M=1.98847e+40,\n",
      "              L=3.0856775815e+22,\n",
      "              T=3.0856775815e+17,\n",
      "              transfer_fit=True,\n",
      "              transfer_fit_nowiggle=False,\n",
      "              transfer_lgk_min=-4,\n",
      "              transfer_lgk_max=3,\n",
      "              transfer_lgk_maxstep=0.0078125,\n",
      "              growth_rtol=1.4901161193847656e-08,\n",
      "              growth_atol=1.4901161193847656e-08,\n",
      "              growth_inistep=(1, None),\n",
      "              lpt_order=2,\n",
      "              a_start=0.015625,\n",
      "              a_stop=1,\n",
      "              a_lpt_maxstep=0.0078125,\n",
      "              a_nbody_maxstep=0.015625,\n",
      "              symp_splits=((0, 0.5), (1, 0.5)),\n",
      "              chunk_size=16777216)\n",
      "Simulating 16777216 particles with a (512, 512, 512) mesh for 63 time steps.\n"
     ]
    }
   ],
   "source": [
    "print(conf)  # with other default parameters\n",
    "print(f'Simulating {conf.ptcl_num} particles with a {conf.mesh_shape} mesh for {conf.a_nbody_num} time steps.')"
   ]
  },
  {
   "cell_type": "markdown",
   "id": "3249f227",
   "metadata": {
    "slideshow": {
     "slide_type": "subslide"
    }
   },
   "source": [
    "`Cosmology` stores interesting parameters, whose derivatives we need."
   ]
  },
  {
   "cell_type": "code",
   "execution_count": 22,
   "id": "e36a1ae7",
   "metadata": {
    "tags": []
   },
   "outputs": [
    {
     "name": "stdout",
     "output_type": "stream",
     "text": [
      "Cosmology(A_s_1e9=Array(2., dtype=float64),\n",
      "          n_s=Array(0.96, dtype=float64),\n",
      "          Omega_m=Array(0.3, dtype=float64),\n",
      "          Omega_b=Array(0.05, dtype=float64),\n",
      "          h=Array(0.7, dtype=float64),\n",
      "          Omega_k_=None,\n",
      "          w_0_=None,\n",
      "          w_a_=None,\n",
      "          transfer=None,\n",
      "          growth=None,\n",
      "          varlin=None)\n"
     ]
    }
   ],
   "source": [
    "cosmo = Cosmology(conf, A_s_1e9=2.0, n_s=0.96, Omega_m=0.3, Omega_b=0.05, h=0.7)\n",
    "# or simply use the predefined SimpleLCDM\n",
    "#cosmo = SimpleLCDM(conf)\n",
    "\n",
    "print(cosmo)"
   ]
  },
  {
   "cell_type": "markdown",
   "id": "bf4e3d4f",
   "metadata": {
    "slideshow": {
     "slide_type": "subslide"
    }
   },
   "source": [
    "``boltzmann`` computes the transfer and growth functions and caches them in ``Cosmology``.\n",
    "\n",
    "The first run is slower because it includes the **JIT compilation** time. JAX uses **asynchronous dispatch** to hide Python overheads. To measure the true cost, use ``jax.block_until_ready()`` to wait for the computation to complete."
   ]
  },
  {
   "cell_type": "code",
   "execution_count": 23,
   "id": "8c5e7168",
   "metadata": {
    "tags": []
   },
   "outputs": [
    {
     "name": "stdout",
     "output_type": "stream",
     "text": [
      "CPU times: user 1.19 s, sys: 26.2 ms, total: 1.22 s\n",
      "Wall time: 1.58 s\n",
      "19.7 ms ± 314 µs per loop (mean ± std. dev. of 7 runs, 1 loop each)\n"
     ]
    }
   ],
   "source": [
    "%time cosmo = jax.block_until_ready(boltzmann(cosmo, conf))\n",
    "%timeit jax.block_until_ready(boltzmann(cosmo, conf))"
   ]
  },
  {
   "cell_type": "markdown",
   "id": "cf681169",
   "metadata": {
    "slideshow": {
     "slide_type": "subslide"
    }
   },
   "source": [
    "Generate a white noise field, and scale it with the linear power spectrum:"
   ]
  },
  {
   "cell_type": "code",
   "execution_count": 24,
   "id": "daaa93ce",
   "metadata": {
    "tags": []
   },
   "outputs": [],
   "source": [
    "seed = 0\n",
    "modes = white_noise(seed, conf)\n",
    "\n",
    "modes = linear_modes(modes, cosmo, conf)"
   ]
  },
  {
   "cell_type": "markdown",
   "id": "737cfc42",
   "metadata": {
    "slideshow": {
     "slide_type": "subslide"
    }
   },
   "source": [
    "Solve LPT at some early time:"
   ]
  },
  {
   "cell_type": "code",
   "execution_count": 25,
   "id": "db10419a",
   "metadata": {
    "tags": []
   },
   "outputs": [
    {
     "name": "stdout",
     "output_type": "stream",
     "text": [
      "CPU times: user 945 ms, sys: 8.87 ms, total: 954 ms\n",
      "Wall time: 1.04 s\n",
      "14.6 ms ± 34.5 µs per loop (mean ± std. dev. of 7 runs, 100 loops each)\n"
     ]
    },
    {
     "data": {
      "text/plain": [
       "(Array(0.105, dtype=float32), Array(0.007, dtype=float32))"
      ]
     },
     "execution_count": 25,
     "metadata": {},
     "output_type": "execute_result"
    }
   ],
   "source": [
    "%time ptcl, obsvbl = jax.block_until_ready(lpt(modes, cosmo, conf))\n",
    "%timeit jax.block_until_ready(lpt(modes, cosmo, conf))\n",
    "ptcl.disp.std(), ptcl.vel.std()"
   ]
  },
  {
   "cell_type": "markdown",
   "id": "2f9435ac",
   "metadata": {
    "slideshow": {
     "slide_type": "subslide"
    }
   },
   "source": [
    "Finally, N-body time integration from the LPT initial conditions:"
   ]
  },
  {
   "cell_type": "code",
   "execution_count": 26,
   "id": "440cab3f",
   "metadata": {
    "tags": []
   },
   "outputs": [
    {
     "name": "stdout",
     "output_type": "stream",
     "text": [
      "CPU times: user 2.94 s, sys: 915 ms, total: 3.85 s\n",
      "Wall time: 4.3 s\n",
      "CPU times: user 882 ms, sys: 816 ms, total: 1.7 s\n",
      "Wall time: 1.97 s\n"
     ]
    },
    {
     "data": {
      "text/plain": [
       "(Array(5.318, dtype=float32), Array(3.286, dtype=float32))"
      ]
     },
     "execution_count": 26,
     "metadata": {},
     "output_type": "execute_result"
    }
   ],
   "source": [
    "%time jax.block_until_ready(nbody(ptcl, obsvbl, cosmo, conf))\n",
    "%time ptcl, obsvbl = jax.block_until_ready(nbody(ptcl, obsvbl, cosmo, conf))\n",
    "ptcl.disp.std(), ptcl.vel.std()"
   ]
  },
  {
   "cell_type": "markdown",
   "id": "1d4b6c54",
   "metadata": {
    "slideshow": {
     "slide_type": "subslide"
    }
   },
   "source": [
    "Scatter the particles to mesh to get the density field, and plot a slab's 2D projection:"
   ]
  },
  {
   "cell_type": "code",
   "execution_count": 27,
   "id": "ac0a4dcf",
   "metadata": {
    "slideshow": {
     "slide_type": ""
    },
    "tags": []
   },
   "outputs": [
    {
     "data": {
      "image/jpeg": "[encoded data removed]",
      "text/plain": [
       "<Figure size 604.8x470.4 with 2 Axes>"
      ]
     },
     "metadata": {},
     "output_type": "display_data"
    }
   ],
   "source": [
    "dens = scatter(ptcl, conf)\n",
    "simshow(dens[:16].mean(axis=0), norm='CosmicWebNorm');"
   ]
  },
  {
   "cell_type": "markdown",
   "id": "5dbd7441-3cef-4721-be9f-1dffe9d07543",
   "metadata": {
    "slideshow": {
     "slide_type": "subslide"
    }
   },
   "source": [
    "Measure and plot the matter density power spectra:"
   ]
  },
  {
   "cell_type": "code",
   "execution_count": 37,
   "id": "7f424b83-c1d4-425a-a0a0-feadf1918d68",
   "metadata": {
    "tags": []
   },
   "outputs": [
    {
     "data": {
      "image/jpeg": "[encoded data removed]",
      "text/plain": [
       "<Figure size 480x360 with 1 Axes>"
      ]
     },
     "metadata": {},
     "output_type": "display_data"
    }
   ],
   "source": [
    "from montecosmo.metrics import power_spectrum\n",
    "k, P, _, _ = powspec(dens, conf.cell_size)\n",
    "ks, pk = power_spectrum(dens, box_shape=jnp.array(dens.shape)*conf.cell_size)\n",
    "\n",
    "dens_lin = fftinv(modes, shape=conf.ptcl_grid_shape, norm=conf.ptcl_spacing)\n",
    "dens_lin *= growth(conf.a_stop, cosmo, conf)\n",
    "k_lin, P_lin, _, _ = powspec(dens_lin, conf.ptcl_spacing)\n",
    "\n",
    "P_linth = linear_power(k, conf.a_stop, cosmo, conf)\n",
    "\n",
    "plt.figure(figsize=(4, 3), dpi=120)\n",
    "plt.loglog(k, P_linth, ls='--', label='linear theory')\n",
    "plt.loglog(k_lin, P_lin, ls=':', label='linear')\n",
    "plt.loglog(k, P, ls='-', label='nonlinear')\n",
    "plt.loglog(ks, pk, ls='-', label='nonlinear2')\n",
    "plt.legend();"
   ]
  },
  {
   "cell_type": "markdown",
   "id": "48748218",
   "metadata": {
    "slideshow": {
     "slide_type": "subslide"
    }
   },
   "source": [
    "We can combine all steps together:"
   ]
  },
  {
   "cell_type": "code",
   "execution_count": 12,
   "id": "07ff8ab8",
   "metadata": {
    "cell_style": "center",
    "tags": []
   },
   "outputs": [
    {
     "name": "stdout",
     "output_type": "stream",
     "text": [
      "Simulating 16777216 particles with a (512, 512, 512) mesh for 63 time steps.\n",
      "CPU times: user 711 ms, sys: 545 ms, total: 1.26 s\n",
      "Wall time: 1.43 s\n"
     ]
    }
   ],
   "source": [
    "cosmo = SimpleLCDM(conf)\n",
    "modes = white_noise(seed, conf)\n",
    "\n",
    "def model(modes, cosmo, conf):\n",
    "    cosmo = boltzmann(cosmo, conf)\n",
    "    modes = linear_modes(modes, cosmo, conf)\n",
    "    ptcl, obsvbl = lpt(modes, cosmo, conf)\n",
    "    ptcl, obsvbl = nbody(ptcl, obsvbl, cosmo, conf)\n",
    "    return ptcl, obsvbl\n",
    "\n",
    "print(f'Simulating {conf.ptcl_num} particles with a {conf.mesh_shape} mesh for {conf.a_nbody_num} time steps.')\n",
    "%time jax.block_until_ready(model(modes, cosmo, conf));"
   ]
  },
  {
   "cell_type": "markdown",
   "id": "8adba199",
   "metadata": {
    "slideshow": {
     "slide_type": "slide"
    }
   },
   "source": [
    "## Simulate Forward and Differentiate Backward"
   ]
  },
  {
   "cell_type": "markdown",
   "id": "a3aaa69a",
   "metadata": {
    "slideshow": {
     "slide_type": "subslide"
    }
   },
   "source": [
    "For the gradient, we use the same ``Configuration`` and ``Cosmology`` as before, but different white noise ``modes``."
   ]
  },
  {
   "cell_type": "code",
   "execution_count": 13,
   "id": "9a1e9378",
   "metadata": {
    "tags": []
   },
   "outputs": [],
   "source": [
    "seed = 1  # change the seed for a different realization, to be compared to the previous one in the objective\n",
    "modes = white_noise(seed, conf, real=True)  # this time we want real modes to look at their gradients"
   ]
  },
  {
   "cell_type": "markdown",
   "id": "33099d1d",
   "metadata": {
    "slideshow": {
     "slide_type": "subslide"
    }
   },
   "source": [
    "Define a simple MSE objective function between this and the previous realizations of density fields, and differentiate it with respect to the modes and cosmological parameters:"
   ]
  },
  {
   "cell_type": "code",
   "execution_count": 14,
   "id": "a8119a3f-3900-4d13-bfe7-e6d747dfb563",
   "metadata": {
    "tags": []
   },
   "outputs": [
    {
     "name": "stdout",
     "output_type": "stream",
     "text": [
      "Simulating 16777216 particles with a (512, 512, 512) mesh for 63 time steps, and then differentiating backward.\n",
      "CPU times: user 20.4 s, sys: 2.32 s, total: 22.7 s\n",
      "Wall time: 19.3 s\n",
      "CPU times: user 3.39 s, sys: 1.9 s, total: 5.29 s\n",
      "Wall time: 5.27 s\n"
     ]
    }
   ],
   "source": [
    "def obj(tgt_dens, modes, cosmo, conf):\n",
    "    cosmo = boltzmann(cosmo, conf)\n",
    "    modes = linear_modes(modes, cosmo, conf)\n",
    "    ptcl, obsvbl = lpt(modes, cosmo, conf)\n",
    "    ptcl, obsvbl = nbody(ptcl, obsvbl, cosmo, conf)\n",
    "    dens = scatter(ptcl, conf)\n",
    "    return (dens - tgt_dens).var()\n",
    "\n",
    "obj_grad = jax.grad(obj, argnums=(1, 2))\n",
    "\n",
    "print(f'Simulating {conf.ptcl_num} particles with a {conf.mesh_shape} mesh for {conf.a_nbody_num} time steps, '\n",
    "      'and then differentiating backward.')\n",
    "%time jax.block_until_ready(obj_grad(dens, modes, cosmo, conf))\n",
    "%time modes_grad, cosmo_grad = jax.block_until_ready(obj_grad(dens, modes, cosmo, conf))"
   ]
  },
  {
   "cell_type": "markdown",
   "id": "5767210d",
   "metadata": {
    "slideshow": {
     "slide_type": "subslide"
    }
   },
   "source": [
    "A slice of the mode gradients:"
   ]
  },
  {
   "cell_type": "code",
   "execution_count": 15,
   "id": "d7393d2b",
   "metadata": {
    "slideshow": {
     "slide_type": ""
    },
    "tags": []
   },
   "outputs": [
    {
     "data": {
      "image/jpeg": "[encoded data removed]",
      "text/plain": [
       "<Figure size 648x504 with 2 Axes>"
      ]
     },
     "metadata": {},
     "output_type": "display_data"
    }
   ],
   "source": [
    "simshow(modes_grad[..., 0], cmap='RdBu_r', vmin=-0.04, vmax=0.04);"
   ]
  },
  {
   "cell_type": "markdown",
   "id": "c39ebbe8",
   "metadata": {
    "slideshow": {
     "slide_type": "subslide"
    }
   },
   "source": [
    "Cosmological parameter gradients:"
   ]
  },
  {
   "cell_type": "code",
   "execution_count": 16,
   "id": "65e1656e",
   "metadata": {
    "slideshow": {
     "slide_type": ""
    },
    "tags": []
   },
   "outputs": [
    {
     "name": "stdout",
     "output_type": "stream",
     "text": [
      "Cosmology(A_s_1e9=Array(51.601, dtype=float64),\n",
      "          n_s=Array(121.798, dtype=float64),\n",
      "          Omega_m=Array(569.083, dtype=float64),\n",
      "          Omega_b=Array(-1422.57, dtype=float64),\n",
      "          h=Array(361.472, dtype=float64),\n",
      "          Omega_k_=None,\n",
      "          w_0_=None,\n",
      "          w_a_=None,\n",
      "          transfer=None,\n",
      "          growth=None,\n",
      "          varlin=None)\n"
     ]
    }
   ],
   "source": [
    "print(cosmo_grad)"
   ]
  }
 ],
 "metadata": {
  "celltoolbar": "Slideshow",
  "kernelspec": {
   "display_name": "Python 3 (ipykernel)",
   "language": "python",
   "name": "python3"
  },
  "language_info": {
   "codemirror_mode": {
    "name": "ipython",
    "version": 3
   },
   "file_extension": ".py",
   "mimetype": "text/x-python",
   "name": "python",
   "nbconvert_exporter": "python",
   "pygments_lexer": "ipython3",
   "version": "3.12.3"
  }
 },
 "nbformat": 4,
 "nbformat_minor": 5
}
